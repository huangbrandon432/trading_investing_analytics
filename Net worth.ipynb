{
 "cells": [
  {
   "cell_type": "markdown",
   "id": "7e2a3e34-9f52-48b9-92a3-ab2230ab7aaa",
   "metadata": {},
   "source": [
    "### Assets"
   ]
  },
  {
   "cell_type": "code",
   "execution_count": 1,
   "id": "865c57fa-667f-4208-b6fb-9fde9148aef4",
   "metadata": {},
   "outputs": [],
   "source": [
    "from IPython.display import Markdown\n",
    "def printmd(string):\n",
    "    display(Markdown(string))"
   ]
  },
  {
   "cell_type": "code",
   "execution_count": 4,
   "id": "985e07d8-a748-4433-8b9e-13e86eee9df9",
   "metadata": {},
   "outputs": [
    {
     "data": {
      "text/markdown": [
       "net worth: 32710"
      ],
      "text/plain": [
       "<IPython.core.display.Markdown object>"
      ]
     },
     "metadata": {},
     "output_type": "display_data"
    },
    {
     "data": {
      "text/markdown": [
       "net worth at rh peak: 58876"
      ],
      "text/plain": [
       "<IPython.core.display.Markdown object>"
      ]
     },
     "metadata": {},
     "output_type": "display_data"
    }
   ],
   "source": [
    "schwab_checking = 4990\n",
    "voyager = 12000\n",
    "crypto_com = 5720\n",
    "rh = 10000\n",
    "grandp = 20484\n",
    "grandp_ath = 32178\n",
    "rh_ath = 36166\n",
    "\n",
    "net_worth = schwab_checking + voyager + crypto_com + rh\n",
    "net_worth_at_rh_peak = schwab_checking + voyager + crypto_com + rh_ath\n",
    "\n",
    "printmd(f'net worth: {net_worth}')\n",
    "\n",
    "printmd(f'net worth at rh peak: {net_worth_at_rh_peak}')"
   ]
  },
  {
   "cell_type": "code",
   "execution_count": null,
   "id": "215b9753-3b9c-4407-b7d7-d4a8c7673435",
   "metadata": {},
   "outputs": [],
   "source": []
  }
 ],
 "metadata": {
  "kernelspec": {
   "display_name": "Python 3 (ipykernel)",
   "language": "python",
   "name": "python3"
  },
  "language_info": {
   "codemirror_mode": {
    "name": "ipython",
    "version": 3
   },
   "file_extension": ".py",
   "mimetype": "text/x-python",
   "name": "python",
   "nbconvert_exporter": "python",
   "pygments_lexer": "ipython3",
   "version": "3.8.8"
  }
 },
 "nbformat": 4,
 "nbformat_minor": 5
}
