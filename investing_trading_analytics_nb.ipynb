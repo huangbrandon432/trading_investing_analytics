{
 "cells": [
  {
   "cell_type": "markdown",
   "metadata": {},
   "source": [
    "#### Libraries"
   ]
  },
  {
   "cell_type": "code",
   "execution_count": 2,
   "metadata": {},
   "outputs": [],
   "source": [
    "import sys\n",
    "import robin_stocks.robinhood as r\n",
    "import pandas as pd\n",
    "import numpy as np\n",
    "from datetime import date, timedelta, datetime\n",
    "import getpass\n",
    "import matplotlib.pyplot as plt\n",
    "import seaborn as sns\n",
    "from scipy import stats\n",
    "import plotly.graph_objects as go\n",
    "import plotly.express as px\n",
    "from plotly.offline import init_notebook_mode\n",
    "import importlib\n",
    "import yfinance as yf\n",
    "import datapackage\n",
    "import time\n",
    "import webbrowser\n",
    "\n",
    "\n",
    "from IPython.display import Markdown\n",
    "def printmd(string):\n",
    "    display(Markdown(string))\n",
    "\n",
    "    \n",
    "pd.set_option('display.max_columns', 100) \n",
    "pd.set_option('display.max_rows', 1000)\n"
   ]
  },
  {
   "cell_type": "code",
   "execution_count": 3,
   "metadata": {
    "tags": []
   },
   "outputs": [
    {
     "name": "stdout",
     "output_type": "stream",
     "text": [
      "    def update_layout(self, dict1=None, overwrite=False, **kwargs):\n",
      "        \"\"\"\n",
      "        Update the properties of the figure's layout with a dict and/or with\n",
      "        keyword arguments.\n",
      "\n",
      "        This recursively updates the structure of the original\n",
      "        layout with the values in the input dict / keyword arguments.\n",
      "\n",
      "        Parameters\n",
      "        ----------\n",
      "        dict1 : dict\n",
      "            Dictionary of properties to be updated\n",
      "        overwrite: bool\n",
      "            If True, overwrite existing properties. If False, apply updates\n",
      "            to existing properties recursively, preserving existing\n",
      "            properties that are not specified in the update operation.\n",
      "        kwargs :\n",
      "            Keyword/value pair of properties to be updated\n",
      "\n",
      "        Returns\n",
      "        -------\n",
      "        BaseFigure\n",
      "            The Figure object that the update_layout method was called on\n",
      "        \"\"\"\n",
      "        self.layout.update(dict1, overwrite=overwrite, **kwargs)\n",
      "        return self\n",
      "\n"
     ]
    }
   ],
   "source": [
    "import inspect\n",
    "lines = inspect.getsource(go.Figure.update_layout)\n",
    "print(lines)"
   ]
  },
  {
   "cell_type": "code",
   "execution_count": 6,
   "metadata": {},
   "outputs": [
    {
     "data": {
      "application/javascript": "(function(root) {\n  function now() {\n    return new Date();\n  }\n\n  var force = true;\n\n  if (typeof root._bokeh_onload_callbacks === \"undefined\" || force === true) {\n    root._bokeh_onload_callbacks = [];\n    root._bokeh_is_loading = undefined;\n  }\n\n  if (typeof (root._bokeh_timeout) === \"undefined\" || force === true) {\n    root._bokeh_timeout = Date.now() + 5000;\n    root._bokeh_failed_load = false;\n  }\n\n  function run_callbacks() {\n    try {\n      root._bokeh_onload_callbacks.forEach(function(callback) {\n        if (callback != null)\n          callback();\n      });\n    } finally {\n      delete root._bokeh_onload_callbacks\n    }\n    console.debug(\"Bokeh: all callbacks have finished\");\n  }\n\n  function load_libs(css_urls, js_urls, js_modules, callback) {\n    if (css_urls == null) css_urls = [];\n    if (js_urls == null) js_urls = [];\n    if (js_modules == null) js_modules = [];\n\n    root._bokeh_onload_callbacks.push(callback);\n    if (root._bokeh_is_loading > 0) {\n      console.debug(\"Bokeh: BokehJS is being loaded, scheduling callback at\", now());\n      return null;\n    }\n    if (js_urls.length === 0 && js_modules.length === 0) {\n      run_callbacks();\n      return null;\n    }\n    console.debug(\"Bokeh: BokehJS not loaded, scheduling load and callback at\", now());\n\n    function on_load() {\n      root._bokeh_is_loading--;\n      if (root._bokeh_is_loading === 0) {\n        console.debug(\"Bokeh: all BokehJS libraries/stylesheets loaded\");\n        run_callbacks()\n      }\n    }\n\n    function on_error() {\n      console.error(\"failed to load \" + url);\n    }\n\n    for (var i = 0; i < css_urls.length; i++) {\n      var url = css_urls[i];\n      const element = document.createElement(\"link\");\n      element.onload = on_load;\n      element.onerror = on_error;\n      element.rel = \"stylesheet\";\n      element.type = \"text/css\";\n      element.href = url;\n      console.debug(\"Bokeh: injecting link tag for BokehJS stylesheet: \", url);\n      document.body.appendChild(element);\n    }\n\n    var skip = [];\n    if (window.requirejs) {\n      window.requirejs.config({'packages': {}, 'paths': {'plotly': 'https://cdn.plot.ly/plotly-2.10.1.min', 'gridstack': 'https://cdn.jsdelivr.net/npm/gridstack@4.2.5/dist/gridstack-h5', 'notyf': 'https://cdn.jsdelivr.net/npm/notyf@3/notyf.min'}, 'shim': {'gridstack': {'exports': 'GridStack'}}});\n      require([\"plotly\"], function(Plotly) {\n\twindow.Plotly = Plotly\n\ton_load()\n      })\n      require([\"gridstack\"], function(GridStack) {\n\twindow.GridStack = GridStack\n\ton_load()\n      })\n      require([\"notyf\"], function() {\n\ton_load()\n      })\n      root._bokeh_is_loading = css_urls.length + 3;\n    } else {\n      root._bokeh_is_loading = css_urls.length + js_urls.length + js_modules.length;\n    }    if (((window['Plotly'] !== undefined) && (!(window['Plotly'] instanceof HTMLElement))) || window.requirejs) {\n      var urls = ['https://cdn.plot.ly/plotly-2.10.1.min.js'];\n      for (var i = 0; i < urls.length; i++) {\n        skip.push(urls[i])\n      }\n    }    if (((window['GridStack'] !== undefined) && (!(window['GridStack'] instanceof HTMLElement))) || window.requirejs) {\n      var urls = ['https://cdn.jsdelivr.net/npm/gridstack@4.2.5/dist/gridstack-h5.js'];\n      for (var i = 0; i < urls.length; i++) {\n        skip.push(urls[i])\n      }\n    }    if (((window['Notyf'] !== undefined) && (!(window['Notyf'] instanceof HTMLElement))) || window.requirejs) {\n      var urls = ['https://cdn.jsdelivr.net/npm/notyf@3/notyf.min.js'];\n      for (var i = 0; i < urls.length; i++) {\n        skip.push(urls[i])\n      }\n    }    for (var i = 0; i < js_urls.length; i++) {\n      var url = js_urls[i];\n      if (skip.indexOf(url) >= 0) {\n\tif (!window.requirejs) {\n\t  on_load();\n\t}\n\tcontinue;\n      }\n      var element = document.createElement('script');\n      element.onload = on_load;\n      element.onerror = on_error;\n      element.async = false;\n      element.src = url;\n      console.debug(\"Bokeh: injecting script tag for BokehJS library: \", url);\n      document.head.appendChild(element);\n    }\n    for (var i = 0; i < js_modules.length; i++) {\n      var url = js_modules[i];\n      if (skip.indexOf(url) >= 0) {\n\tif (!window.requirejs) {\n\t  on_load();\n\t}\n\tcontinue;\n      }\n      var element = document.createElement('script');\n      element.onload = on_load;\n      element.onerror = on_error;\n      element.async = false;\n      element.src = url;\n      element.type = \"module\";\n      console.debug(\"Bokeh: injecting script tag for BokehJS library: \", url);\n      document.head.appendChild(element);\n    }\n    if (!js_urls.length && !js_modules.length) {\n      on_load()\n    }\n  };\n\n  function inject_raw_css(css) {\n    const element = document.createElement(\"style\");\n    element.appendChild(document.createTextNode(css));\n    document.body.appendChild(element);\n  }\n\n  var js_urls = [\"https://cdn.jsdelivr.net/npm/jquery@3.5.1/dist/jquery.slim.min.js\", \"https://cdn.plot.ly/plotly-2.10.1.min.js\", \"https://cdn.bokeh.org/bokeh/release/bokeh-2.4.3.min.js\", \"https://cdn.bokeh.org/bokeh/release/bokeh-gl-2.4.3.min.js\", \"https://cdn.bokeh.org/bokeh/release/bokeh-widgets-2.4.3.min.js\", \"https://cdn.bokeh.org/bokeh/release/bokeh-tables-2.4.3.min.js\", \"https://cdn.bokeh.org/bokeh/release/bokeh-mathjax-2.4.3.min.js\", \"https://cdn.jsdelivr.net/npm/notyf@3/notyf.min.js\", \"https://unpkg.com/@holoviz/panel@0.13.1/dist/panel.min.js\"];\n  var js_modules = [];\n  var css_urls = [\"https://cdn.jsdelivr.net/npm/notyf@3/notyf.min.css\", \"https://cdnjs.cloudflare.com/ajax/libs/font-awesome/5.15.1/css/all.min.css\", \"https://unpkg.com/@holoviz/panel@0.13.1/dist/css/debugger.css\", \"https://unpkg.com/@holoviz/panel@0.13.1/dist/css/alerts.css\", \"https://unpkg.com/@holoviz/panel@0.13.1/dist/css/card.css\", \"https://unpkg.com/@holoviz/panel@0.13.1/dist/css/widgets.css\", \"https://unpkg.com/@holoviz/panel@0.13.1/dist/css/markdown.css\", \"https://unpkg.com/@holoviz/panel@0.13.1/dist/css/json.css\", \"https://unpkg.com/@holoviz/panel@0.13.1/dist/css/loading.css\", \"https://unpkg.com/@holoviz/panel@0.13.1/dist/css/dataframe.css\"];\n  var inline_js = [    function(Bokeh) {\n      inject_raw_css(\"\\n    .bk.pn-loading.arcs:before {\\n      background-image: url(\\\"data:image/svg+xml;base64,PHN2ZyB4bWxucz0iaHR0cDovL3d3dy53My5vcmcvMjAwMC9zdmciIHhtbG5zOnhsaW5rPSJodHRwOi8vd3d3LnczLm9yZy8xOTk5L3hsaW5rIiBzdHlsZT0ibWFyZ2luOiBhdXRvOyBiYWNrZ3JvdW5kOiBub25lOyBkaXNwbGF5OiBibG9jazsgc2hhcGUtcmVuZGVyaW5nOiBhdXRvOyIgdmlld0JveD0iMCAwIDEwMCAxMDAiIHByZXNlcnZlQXNwZWN0UmF0aW89InhNaWRZTWlkIj4gIDxjaXJjbGUgY3g9IjUwIiBjeT0iNTAiIHI9IjMyIiBzdHJva2Utd2lkdGg9IjgiIHN0cm9rZT0iI2MzYzNjMyIgc3Ryb2tlLWRhc2hhcnJheT0iNTAuMjY1NDgyNDU3NDM2NjkgNTAuMjY1NDgyNDU3NDM2NjkiIGZpbGw9Im5vbmUiIHN0cm9rZS1saW5lY2FwPSJyb3VuZCI+ICAgIDxhbmltYXRlVHJhbnNmb3JtIGF0dHJpYnV0ZU5hbWU9InRyYW5zZm9ybSIgdHlwZT0icm90YXRlIiByZXBlYXRDb3VudD0iaW5kZWZpbml0ZSIgZHVyPSIxcyIga2V5VGltZXM9IjA7MSIgdmFsdWVzPSIwIDUwIDUwOzM2MCA1MCA1MCI+PC9hbmltYXRlVHJhbnNmb3JtPiAgPC9jaXJjbGU+PC9zdmc+\\\");\\n      background-size: auto calc(min(50%, 400px));\\n    }\\n    \");\n    },    function(Bokeh) {\n      inject_raw_css(\"\\n.bk-root .bk-tabs-header.bk-above .bk-headers, .bk-root .bk-tabs-header.bk-below .bk-headers{\\nfont-size:16px;\\n}\\n\");\n    },    function(Bokeh) {\n      inject_raw_css(\"\\n.bk-root .bk-tabs-header.bk-above .bk-headers, .bk-root .bk-tabs-header.bk-below .bk-headers{\\nfont-size:16px;\\n}\\n\");\n    },    function(Bokeh) {\n      inject_raw_css(\"\\n.bk-root .bk-tabs-header.bk-above .bk-headers, .bk-root .bk-tabs-header.bk-below .bk-headers{\\nfont-size:16px;\\n}\\n\");\n    },    function(Bokeh) {\n      Bokeh.set_log_level(\"info\");\n    },\nfunction(Bokeh) {} // ensure no trailing comma for IE\n  ];\n\n  function run_inline_js() {\n    if ((root.Bokeh !== undefined) || (force === true)) {\n      for (var i = 0; i < inline_js.length; i++) {\n        inline_js[i].call(root, root.Bokeh);\n      }} else if (Date.now() < root._bokeh_timeout) {\n      setTimeout(run_inline_js, 100);\n    } else if (!root._bokeh_failed_load) {\n      console.log(\"Bokeh: BokehJS failed to load within specified timeout.\");\n      root._bokeh_failed_load = true;\n    }\n  }\n\n  if (root._bokeh_is_loading === 0) {\n    console.debug(\"Bokeh: BokehJS loaded, going straight to plotting\");\n    run_inline_js();\n  } else {\n    load_libs(css_urls, js_urls, js_modules, function() {\n      console.debug(\"Bokeh: BokehJS plotting callback run at\", now());\n      run_inline_js();\n    });\n  }\n}(window));",
      "application/vnd.holoviews_load.v0+json": ""
     },
     "metadata": {},
     "output_type": "display_data"
    },
    {
     "data": {
      "application/javascript": "\nif ((window.PyViz === undefined) || (window.PyViz instanceof HTMLElement)) {\n  window.PyViz = {comms: {}, comm_status:{}, kernels:{}, receivers: {}, plot_index: []}\n}\n\n\n    function JupyterCommManager() {\n    }\n\n    JupyterCommManager.prototype.register_target = function(plot_id, comm_id, msg_handler) {\n      if (window.comm_manager || ((window.Jupyter !== undefined) && (Jupyter.notebook.kernel != null))) {\n        var comm_manager = window.comm_manager || Jupyter.notebook.kernel.comm_manager;\n        comm_manager.register_target(comm_id, function(comm) {\n          comm.on_msg(msg_handler);\n        });\n      } else if ((plot_id in window.PyViz.kernels) && (window.PyViz.kernels[plot_id])) {\n        window.PyViz.kernels[plot_id].registerCommTarget(comm_id, function(comm) {\n          comm.onMsg = msg_handler;\n        });\n      } else if (typeof google != 'undefined' && google.colab.kernel != null) {\n        google.colab.kernel.comms.registerTarget(comm_id, (comm) => {\n          var messages = comm.messages[Symbol.asyncIterator]();\n          function processIteratorResult(result) {\n            var message = result.value;\n            console.log(message)\n            var content = {data: message.data, comm_id};\n            var buffers = []\n            for (var buffer of message.buffers || []) {\n              buffers.push(new DataView(buffer))\n            }\n            var metadata = message.metadata || {};\n            var msg = {content, buffers, metadata}\n            msg_handler(msg);\n            return messages.next().then(processIteratorResult);\n          }\n          return messages.next().then(processIteratorResult);\n        })\n      }\n    }\n\n    JupyterCommManager.prototype.get_client_comm = function(plot_id, comm_id, msg_handler) {\n      if (comm_id in window.PyViz.comms) {\n        return window.PyViz.comms[comm_id];\n      } else if (window.comm_manager || ((window.Jupyter !== undefined) && (Jupyter.notebook.kernel != null))) {\n        var comm_manager = window.comm_manager || Jupyter.notebook.kernel.comm_manager;\n        var comm = comm_manager.new_comm(comm_id, {}, {}, {}, comm_id);\n        if (msg_handler) {\n          comm.on_msg(msg_handler);\n        }\n      } else if ((plot_id in window.PyViz.kernels) && (window.PyViz.kernels[plot_id])) {\n        var comm = window.PyViz.kernels[plot_id].connectToComm(comm_id);\n        comm.open();\n        if (msg_handler) {\n          comm.onMsg = msg_handler;\n        }\n      } else if (typeof google != 'undefined' && google.colab.kernel != null) {\n        var comm_promise = google.colab.kernel.comms.open(comm_id)\n        comm_promise.then((comm) => {\n          window.PyViz.comms[comm_id] = comm;\n          if (msg_handler) {\n            var messages = comm.messages[Symbol.asyncIterator]();\n            function processIteratorResult(result) {\n              var message = result.value;\n              var content = {data: message.data};\n              var metadata = message.metadata || {comm_id};\n              var msg = {content, metadata}\n              msg_handler(msg);\n              return messages.next().then(processIteratorResult);\n            }\n            return messages.next().then(processIteratorResult);\n          }\n        }) \n        var sendClosure = (data, metadata, buffers, disposeOnDone) => {\n          return comm_promise.then((comm) => {\n            comm.send(data, metadata, buffers, disposeOnDone);\n          });\n        };\n        var comm = {\n          send: sendClosure\n        };\n      }\n      window.PyViz.comms[comm_id] = comm;\n      return comm;\n    }\n    window.PyViz.comm_manager = new JupyterCommManager();\n    \n\n\nvar JS_MIME_TYPE = 'application/javascript';\nvar HTML_MIME_TYPE = 'text/html';\nvar EXEC_MIME_TYPE = 'application/vnd.holoviews_exec.v0+json';\nvar CLASS_NAME = 'output';\n\n/**\n * Render data to the DOM node\n */\nfunction render(props, node) {\n  var div = document.createElement(\"div\");\n  var script = document.createElement(\"script\");\n  node.appendChild(div);\n  node.appendChild(script);\n}\n\n/**\n * Handle when a new output is added\n */\nfunction handle_add_output(event, handle) {\n  var output_area = handle.output_area;\n  var output = handle.output;\n  if ((output.data == undefined) || (!output.data.hasOwnProperty(EXEC_MIME_TYPE))) {\n    return\n  }\n  var id = output.metadata[EXEC_MIME_TYPE][\"id\"];\n  var toinsert = output_area.element.find(\".\" + CLASS_NAME.split(' ')[0]);\n  if (id !== undefined) {\n    var nchildren = toinsert.length;\n    var html_node = toinsert[nchildren-1].children[0];\n    html_node.innerHTML = output.data[HTML_MIME_TYPE];\n    var scripts = [];\n    var nodelist = html_node.querySelectorAll(\"script\");\n    for (var i in nodelist) {\n      if (nodelist.hasOwnProperty(i)) {\n        scripts.push(nodelist[i])\n      }\n    }\n\n    scripts.forEach( function (oldScript) {\n      var newScript = document.createElement(\"script\");\n      var attrs = [];\n      var nodemap = oldScript.attributes;\n      for (var j in nodemap) {\n        if (nodemap.hasOwnProperty(j)) {\n          attrs.push(nodemap[j])\n        }\n      }\n      attrs.forEach(function(attr) { newScript.setAttribute(attr.name, attr.value) });\n      newScript.appendChild(document.createTextNode(oldScript.innerHTML));\n      oldScript.parentNode.replaceChild(newScript, oldScript);\n    });\n    if (JS_MIME_TYPE in output.data) {\n      toinsert[nchildren-1].children[1].textContent = output.data[JS_MIME_TYPE];\n    }\n    output_area._hv_plot_id = id;\n    if ((window.Bokeh !== undefined) && (id in Bokeh.index)) {\n      window.PyViz.plot_index[id] = Bokeh.index[id];\n    } else {\n      window.PyViz.plot_index[id] = null;\n    }\n  } else if (output.metadata[EXEC_MIME_TYPE][\"server_id\"] !== undefined) {\n    var bk_div = document.createElement(\"div\");\n    bk_div.innerHTML = output.data[HTML_MIME_TYPE];\n    var script_attrs = bk_div.children[0].attributes;\n    for (var i = 0; i < script_attrs.length; i++) {\n      toinsert[toinsert.length - 1].childNodes[1].setAttribute(script_attrs[i].name, script_attrs[i].value);\n    }\n    // store reference to server id on output_area\n    output_area._bokeh_server_id = output.metadata[EXEC_MIME_TYPE][\"server_id\"];\n  }\n}\n\n/**\n * Handle when an output is cleared or removed\n */\nfunction handle_clear_output(event, handle) {\n  var id = handle.cell.output_area._hv_plot_id;\n  var server_id = handle.cell.output_area._bokeh_server_id;\n  if (((id === undefined) || !(id in PyViz.plot_index)) && (server_id !== undefined)) { return; }\n  var comm = window.PyViz.comm_manager.get_client_comm(\"hv-extension-comm\", \"hv-extension-comm\", function () {});\n  if (server_id !== null) {\n    comm.send({event_type: 'server_delete', 'id': server_id});\n    return;\n  } else if (comm !== null) {\n    comm.send({event_type: 'delete', 'id': id});\n  }\n  delete PyViz.plot_index[id];\n  if ((window.Bokeh !== undefined) & (id in window.Bokeh.index)) {\n    var doc = window.Bokeh.index[id].model.document\n    doc.clear();\n    const i = window.Bokeh.documents.indexOf(doc);\n    if (i > -1) {\n      window.Bokeh.documents.splice(i, 1);\n    }\n  }\n}\n\n/**\n * Handle kernel restart event\n */\nfunction handle_kernel_cleanup(event, handle) {\n  delete PyViz.comms[\"hv-extension-comm\"];\n  window.PyViz.plot_index = {}\n}\n\n/**\n * Handle update_display_data messages\n */\nfunction handle_update_output(event, handle) {\n  handle_clear_output(event, {cell: {output_area: handle.output_area}})\n  handle_add_output(event, handle)\n}\n\nfunction register_renderer(events, OutputArea) {\n  function append_mime(data, metadata, element) {\n    // create a DOM node to render to\n    var toinsert = this.create_output_subarea(\n    metadata,\n    CLASS_NAME,\n    EXEC_MIME_TYPE\n    );\n    this.keyboard_manager.register_events(toinsert);\n    // Render to node\n    var props = {data: data, metadata: metadata[EXEC_MIME_TYPE]};\n    render(props, toinsert[0]);\n    element.append(toinsert);\n    return toinsert\n  }\n\n  events.on('output_added.OutputArea', handle_add_output);\n  events.on('output_updated.OutputArea', handle_update_output);\n  events.on('clear_output.CodeCell', handle_clear_output);\n  events.on('delete.Cell', handle_clear_output);\n  events.on('kernel_ready.Kernel', handle_kernel_cleanup);\n\n  OutputArea.prototype.register_mime_type(EXEC_MIME_TYPE, append_mime, {\n    safe: true,\n    index: 0\n  });\n}\n\nif (window.Jupyter !== undefined) {\n  try {\n    var events = require('base/js/events');\n    var OutputArea = require('notebook/js/outputarea').OutputArea;\n    if (OutputArea.prototype.mime_types().indexOf(EXEC_MIME_TYPE) == -1) {\n      register_renderer(events, OutputArea);\n    }\n  } catch(err) {\n  }\n}\n",
      "application/vnd.holoviews_load.v0+json": ""
     },
     "metadata": {},
     "output_type": "display_data"
    },
    {
     "data": {
      "text/html": [
       "<style>.bk-root, .bk-root .bk:before, .bk-root .bk:after {\n",
       "  font-family: var(--jp-ui-font-size1);\n",
       "  font-size: var(--jp-ui-font-size1);\n",
       "  color: var(--jp-ui-font-color1);\n",
       "}\n",
       "</style>"
      ]
     },
     "metadata": {},
     "output_type": "display_data"
    },
    {
     "ename": "ModuleNotFoundError",
     "evalue": "No module named 'bokeh.core.serialization'",
     "output_type": "error",
     "traceback": [
      "\u001b[0;31m---------------------------------------------------------------------------\u001b[0m",
      "\u001b[0;31mModuleNotFoundError\u001b[0m                       Traceback (most recent call last)",
      "\u001b[0;32m~/opt/anaconda3/lib/python3.9/site-packages/IPython/core/formatters.py\u001b[0m in \u001b[0;36m__call__\u001b[0;34m(self, obj, include, exclude)\u001b[0m\n\u001b[1;32m    968\u001b[0m \u001b[0;34m\u001b[0m\u001b[0m\n\u001b[1;32m    969\u001b[0m             \u001b[0;32mif\u001b[0m \u001b[0mmethod\u001b[0m \u001b[0;32mis\u001b[0m \u001b[0;32mnot\u001b[0m \u001b[0;32mNone\u001b[0m\u001b[0;34m:\u001b[0m\u001b[0;34m\u001b[0m\u001b[0;34m\u001b[0m\u001b[0m\n\u001b[0;32m--> 970\u001b[0;31m                 \u001b[0;32mreturn\u001b[0m \u001b[0mmethod\u001b[0m\u001b[0;34m(\u001b[0m\u001b[0minclude\u001b[0m\u001b[0;34m=\u001b[0m\u001b[0minclude\u001b[0m\u001b[0;34m,\u001b[0m \u001b[0mexclude\u001b[0m\u001b[0;34m=\u001b[0m\u001b[0mexclude\u001b[0m\u001b[0;34m)\u001b[0m\u001b[0;34m\u001b[0m\u001b[0;34m\u001b[0m\u001b[0m\n\u001b[0m\u001b[1;32m    971\u001b[0m             \u001b[0;32mreturn\u001b[0m \u001b[0;32mNone\u001b[0m\u001b[0;34m\u001b[0m\u001b[0;34m\u001b[0m\u001b[0m\n\u001b[1;32m    972\u001b[0m         \u001b[0;32melse\u001b[0m\u001b[0;34m:\u001b[0m\u001b[0;34m\u001b[0m\u001b[0;34m\u001b[0m\u001b[0m\n",
      "\u001b[0;32m~/opt/anaconda3/lib/python3.9/site-packages/panel/viewable.py\u001b[0m in \u001b[0;36m_repr_mimebundle_\u001b[0;34m(self, include, exclude)\u001b[0m\n\u001b[1;32m    608\u001b[0m \u001b[0;34m\u001b[0m\u001b[0m\n\u001b[1;32m    609\u001b[0m         \u001b[0;32mif\u001b[0m \u001b[0mconfig\u001b[0m\u001b[0;34m.\u001b[0m\u001b[0mcomms\u001b[0m \u001b[0;32min\u001b[0m \u001b[0;34m(\u001b[0m\u001b[0;34m'vscode'\u001b[0m\u001b[0;34m,\u001b[0m \u001b[0;34m'ipywidgets'\u001b[0m\u001b[0;34m)\u001b[0m\u001b[0;34m:\u001b[0m\u001b[0;34m\u001b[0m\u001b[0;34m\u001b[0m\u001b[0m\n\u001b[0;32m--> 610\u001b[0;31m             \u001b[0mwidget\u001b[0m \u001b[0;34m=\u001b[0m \u001b[0mipywidget\u001b[0m\u001b[0;34m(\u001b[0m\u001b[0mself\u001b[0m\u001b[0;34m)\u001b[0m\u001b[0;34m\u001b[0m\u001b[0;34m\u001b[0m\u001b[0m\n\u001b[0m\u001b[1;32m    611\u001b[0m             \u001b[0;32mif\u001b[0m \u001b[0mhasattr\u001b[0m\u001b[0;34m(\u001b[0m\u001b[0mwidget\u001b[0m\u001b[0;34m,\u001b[0m \u001b[0;34m'_repr_mimebundle_'\u001b[0m\u001b[0;34m)\u001b[0m\u001b[0;34m:\u001b[0m\u001b[0;34m\u001b[0m\u001b[0;34m\u001b[0m\u001b[0m\n\u001b[1;32m    612\u001b[0m                 \u001b[0;32mreturn\u001b[0m \u001b[0mwidget\u001b[0m\u001b[0;34m.\u001b[0m\u001b[0m_repr_mimebundle_\u001b[0m\u001b[0;34m(\u001b[0m\u001b[0minclude\u001b[0m\u001b[0;34m,\u001b[0m \u001b[0mexclude\u001b[0m\u001b[0;34m)\u001b[0m\u001b[0;34m\u001b[0m\u001b[0;34m\u001b[0m\u001b[0m\n",
      "\u001b[0;32m~/opt/anaconda3/lib/python3.9/site-packages/panel/io/notebook.py\u001b[0m in \u001b[0;36mipywidget\u001b[0;34m(obj, **kwargs)\u001b[0m\n\u001b[1;32m    378\u001b[0m     \u001b[0mReturns\u001b[0m \u001b[0man\u001b[0m \u001b[0mipywidget\u001b[0m \u001b[0mmodel\u001b[0m \u001b[0mwhich\u001b[0m \u001b[0mrenders\u001b[0m \u001b[0mthe\u001b[0m \u001b[0mPanel\u001b[0m \u001b[0mobject\u001b[0m\u001b[0;34m.\u001b[0m\u001b[0;34m\u001b[0m\u001b[0;34m\u001b[0m\u001b[0m\n\u001b[1;32m    379\u001b[0m     \"\"\"\n\u001b[0;32m--> 380\u001b[0;31m     \u001b[0;32mfrom\u001b[0m \u001b[0mjupyter_bokeh\u001b[0m\u001b[0;34m.\u001b[0m\u001b[0mwidgets\u001b[0m \u001b[0;32mimport\u001b[0m \u001b[0mBokehModel\u001b[0m\u001b[0;34m\u001b[0m\u001b[0;34m\u001b[0m\u001b[0m\n\u001b[0m\u001b[1;32m    381\u001b[0m     \u001b[0;32mfrom\u001b[0m \u001b[0;34m.\u001b[0m\u001b[0;34m.\u001b[0m\u001b[0mpane\u001b[0m \u001b[0;32mimport\u001b[0m \u001b[0mpanel\u001b[0m\u001b[0;34m\u001b[0m\u001b[0;34m\u001b[0m\u001b[0m\n\u001b[1;32m    382\u001b[0m     \u001b[0mmodel\u001b[0m \u001b[0;34m=\u001b[0m \u001b[0mpanel\u001b[0m\u001b[0;34m(\u001b[0m\u001b[0mobj\u001b[0m\u001b[0;34m,\u001b[0m \u001b[0;34m**\u001b[0m\u001b[0mkwargs\u001b[0m\u001b[0;34m)\u001b[0m\u001b[0;34m.\u001b[0m\u001b[0mget_root\u001b[0m\u001b[0;34m(\u001b[0m\u001b[0;34m)\u001b[0m\u001b[0;34m\u001b[0m\u001b[0;34m\u001b[0m\u001b[0m\n",
      "\u001b[0;32m~/opt/anaconda3/lib/python3.9/site-packages/jupyter_bokeh/__init__.py\u001b[0m in \u001b[0;36m<module>\u001b[0;34m\u001b[0m\n\u001b[1;32m      7\u001b[0m \u001b[0mHERE\u001b[0m \u001b[0;34m=\u001b[0m \u001b[0mPath\u001b[0m\u001b[0;34m(\u001b[0m\u001b[0m__file__\u001b[0m\u001b[0;34m)\u001b[0m\u001b[0;34m.\u001b[0m\u001b[0mparent\u001b[0m\u001b[0;34m.\u001b[0m\u001b[0mresolve\u001b[0m\u001b[0;34m(\u001b[0m\u001b[0;34m)\u001b[0m\u001b[0;34m\u001b[0m\u001b[0;34m\u001b[0m\u001b[0m\n\u001b[1;32m      8\u001b[0m \u001b[0;34m\u001b[0m\u001b[0m\n\u001b[0;32m----> 9\u001b[0;31m \u001b[0;32mfrom\u001b[0m \u001b[0;34m.\u001b[0m\u001b[0mwidgets\u001b[0m \u001b[0;32mimport\u001b[0m \u001b[0mBokehModel\u001b[0m\u001b[0;34m\u001b[0m\u001b[0;34m\u001b[0m\u001b[0m\n\u001b[0m\u001b[1;32m     10\u001b[0m \u001b[0;32mwith\u001b[0m \u001b[0;34m(\u001b[0m\u001b[0mHERE\u001b[0m \u001b[0;34m/\u001b[0m \u001b[0;34m\"labextension\"\u001b[0m \u001b[0;34m/\u001b[0m \u001b[0;34m\"package.json\"\u001b[0m\u001b[0;34m)\u001b[0m\u001b[0;34m.\u001b[0m\u001b[0mopen\u001b[0m\u001b[0;34m(\u001b[0m\u001b[0;34m)\u001b[0m \u001b[0;32mas\u001b[0m \u001b[0mfid\u001b[0m\u001b[0;34m:\u001b[0m\u001b[0;34m\u001b[0m\u001b[0;34m\u001b[0m\u001b[0m\n\u001b[1;32m     11\u001b[0m     \u001b[0mdata\u001b[0m \u001b[0;34m=\u001b[0m \u001b[0mjson\u001b[0m\u001b[0;34m.\u001b[0m\u001b[0mload\u001b[0m\u001b[0;34m(\u001b[0m\u001b[0mfid\u001b[0m\u001b[0;34m)\u001b[0m\u001b[0;34m\u001b[0m\u001b[0;34m\u001b[0m\u001b[0m\n",
      "\u001b[0;32m~/opt/anaconda3/lib/python3.9/site-packages/jupyter_bokeh/widgets.py\u001b[0m in \u001b[0;36m<module>\u001b[0;34m\u001b[0m\n\u001b[1;32m     31\u001b[0m \u001b[0;32mfrom\u001b[0m \u001b[0mbokeh\u001b[0m\u001b[0;34m.\u001b[0m\u001b[0mmodels\u001b[0m \u001b[0;32mimport\u001b[0m \u001b[0mColumnDataSource\u001b[0m\u001b[0;34m,\u001b[0m \u001b[0mLayoutDOM\u001b[0m\u001b[0;34m\u001b[0m\u001b[0;34m\u001b[0m\u001b[0m\n\u001b[1;32m     32\u001b[0m \u001b[0;32mfrom\u001b[0m \u001b[0mbokeh\u001b[0m\u001b[0;34m.\u001b[0m\u001b[0mprotocol\u001b[0m \u001b[0;32mimport\u001b[0m \u001b[0mProtocol\u001b[0m\u001b[0;34m\u001b[0m\u001b[0;34m\u001b[0m\u001b[0m\n\u001b[0;32m---> 33\u001b[0;31m \u001b[0;32mfrom\u001b[0m \u001b[0mbokeh\u001b[0m\u001b[0;34m.\u001b[0m\u001b[0mcore\u001b[0m\u001b[0;34m.\u001b[0m\u001b[0mserialization\u001b[0m \u001b[0;32mimport\u001b[0m \u001b[0mDeserializer\u001b[0m\u001b[0;34m,\u001b[0m \u001b[0mSerialized\u001b[0m\u001b[0;34m\u001b[0m\u001b[0;34m\u001b[0m\u001b[0m\n\u001b[0m\u001b[1;32m     34\u001b[0m \u001b[0;32mfrom\u001b[0m \u001b[0mbokeh\u001b[0m\u001b[0;34m.\u001b[0m\u001b[0mmodel\u001b[0m \u001b[0;32mimport\u001b[0m \u001b[0mModel\u001b[0m\u001b[0;34m\u001b[0m\u001b[0;34m\u001b[0m\u001b[0m\n\u001b[1;32m     35\u001b[0m \u001b[0;34m\u001b[0m\u001b[0m\n",
      "\u001b[0;31mModuleNotFoundError\u001b[0m: No module named 'bokeh.core.serialization'"
     ]
    },
    {
     "data": {
      "text/plain": [
       "Tabs\n",
       "    [0] Column(name='Get Info')\n",
       "        [0] TextInput(name='Ticker', value='TSLA')\n",
       "        [1] Button(button_type='primary', name='Get Ticker Stats a...)\n",
       "        [2] Spacer(height=5)\n",
       "        [3] TextInput(name='Options Chain Ticker', value='TSLA')\n",
       "        [4] Button(button_type='primary', name='Get Options Chain')\n",
       "        [5] Spacer(height=5)\n",
       "        [6] Button(button_type='primary', name='Swaggy Stocks')\n",
       "        [7] Spacer(height=5)\n",
       "        [8] Button(button_type='primary', name='Top Shorted Stocks')\n",
       "    [1] Column(name='Charts and Info')\n",
       "        [0] Column(margin=5, name='Line, Candlestick Charts,..., width=300)\n",
       "            [0] StaticText(value='<b>Line, Candlestick Char...)\n",
       "            [1] TextInput(name='Ticker', value='TSLA')\n",
       "            [2] TextInput(name='Start date', value='2021-01-01')\n",
       "            [3] TextInput(name='End date', value='2022-12-31')\n",
       "            [4] Select(name='Moving average', options=OrderedDict([('yes', ...]), value='yes')\n",
       "            [5] IntSlider(end=365, name='Moving average days', start=1, value=10)\n",
       "        [1] ParamMethod(method)\n",
       "        [2] ParamMethod(method)\n",
       "    [2] Column(name='Analyze Trades')\n",
       "        [0] Markdown(str)\n",
       "        [1] FileInput(accept='.csv,.xlsx,.xls')\n",
       "        [2] Divider()\n",
       "        [3] Number(font_size='30pt', format='${value}', name='Total Realized Gain')\n",
       "        [4] Number(font_size='30pt', format='${value}', name='Total Realized Loss')\n",
       "        [5] DataFrame(None, max_rows=10, width=1000)\n",
       "        [6] Spacer(height=500)\n",
       "        [7] DataFrame(None, max_rows=10, width=1000)\n",
       "    [3] Column(name='Examine Charts')\n",
       "        [0] Markdown(str)\n",
       "        [1] FileInput(accept='.csv,.xlsx,.xls')\n",
       "        [2] Select()\n",
       "        [3] TextInput(name='Optional Start Date', placeholder='Enter start d...)\n",
       "        [4] TextInput(name='Optional End Date', placeholder='Enter end date (...)\n",
       "        [5] Divider()\n",
       "        [6] Plotly(None)\n",
       "        [7] Spacer(height=150)\n",
       "        [8] Plotly(None)"
      ]
     },
     "execution_count": 6,
     "metadata": {},
     "output_type": "execute_result"
    }
   ],
   "source": [
    "import panel as pn\n",
    "from panel.interact import interact, interactive, fixed, interact_manual\n",
    "from panel import widgets\n",
    "import pandas as pd\n",
    "import numpy as np\n",
    "import tickers_graphing_module as tg\n",
    "import analysis_module as am\n",
    "import analytics_functions as af\n",
    "import plotly.graph_objects as go\n",
    "import plotly.express as px\n",
    "import matplotlib.pyplot as plt\n",
    "import importlib\n",
    "import bokeh\n",
    "import param\n",
    "import io\n",
    "importlib.reload(am)\n",
    "importlib.reload(tg)\n",
    "importlib.reload(af)\n",
    "\n",
    "raw_css = \"\"\"\n",
    ".bk-root .bk-tabs-header.bk-above .bk-headers, .bk-root .bk-tabs-header.bk-below .bk-headers{\n",
    "font-size:16px;\n",
    "}\n",
    "\"\"\"\n",
    "\n",
    "\n",
    "pn.extension('plotly', raw_css=[raw_css])\n",
    "\n",
    "button = pn.widgets.Button(name='Get Ticker Stats and Financials', button_type='primary')\n",
    "text = pn.widgets.TextInput(name = 'Ticker', value='TSLA')\n",
    "def b(event):\n",
    "    af.get_share_stats_and_financials(text.value)\n",
    "    \n",
    "    \n",
    "button2 = pn.widgets.Button(name='Swaggy Stocks', button_type='primary')\n",
    "def c(event):\n",
    "    af.swaggy_stocks()\n",
    "\n",
    "\n",
    "button3 = pn.widgets.Button(name='Get Options Chain', button_type='primary')\n",
    "text3 = pn.widgets.TextInput(name = 'Options Chain Ticker', value='TSLA')\n",
    "def d(event):\n",
    "    af.get_options_chain(text3.value)\n",
    "    \n",
    "    \n",
    "button4 = pn.widgets.Button(name='Top Shorted Stocks', button_type='primary')\n",
    "def e(event):\n",
    "    af.get_top_shorted_stocks()\n",
    "\n",
    "\n",
    "\n",
    "button.on_click(b)\n",
    "button2.on_click(c)\n",
    "button3.on_click(d)\n",
    "button4.on_click(e)\n",
    "actions = pn.Column(text, button, pn.Spacer(height = 5), text3, button3, pn.Spacer(height = 5), button2, pn.Spacer(height = 5), button4, name = 'Get Info')\n",
    "\n",
    "\n",
    "\n",
    "\n",
    "class Charts(param.Parameterized):\n",
    "\n",
    "    ticker = param.String(default=\"TSLA\", doc=\"Ticker symbol\")\n",
    "\n",
    "    start_date = param.String(default=\"2021-01-01\", doc=\"Start Date\")\n",
    "    \n",
    "    end_date = param.String(default=\"2022-12-31\", doc=\"End Date\")\n",
    "    \n",
    "    moving_average = param.ObjectSelector(default=\"yes\", objects=[\"yes\", \"no\"])\n",
    "    \n",
    "    moving_average_days = param.Integer(10, bounds=(1, 365))\n",
    "\n",
    "    @param.depends('ticker', 'start_date', 'end_date', 'moving_average', 'moving_average_days')\n",
    "    def linechart(self):\n",
    "        return pn.panel(tg.line_chart(self.ticker, start = self.start_date, end = self.end_date, moving_avg = self.moving_average, moving_avg_days = self.moving_average_days))\n",
    "    \n",
    "    def candlestick(self):\n",
    "        return pn.panel(tg.candlestick_chart(self.ticker, start = self.start_date, end = self.end_date, moving_avg = self.moving_average, moving_avg_days = self.moving_average_days))\n",
    "        \n",
    "    \n",
    "charts_class = Charts(name='Line, Candlestick Charts, and Info')\n",
    "\n",
    "charts_and_info = pn.Column(charts_class.param, charts_class.linechart, charts_class.candlestick, name = 'Charts and Info')\n",
    "\n",
    "\n",
    "\n",
    "class Analyze_trades(param.Parameterized):\n",
    "    \n",
    "    \n",
    "    file_input = param.Parameter()\n",
    "    data = param.DataFrame()\n",
    "    \n",
    "    def __init__(self, **params):\n",
    "        super().__init__(file_input=pn.widgets.FileInput(accept='.csv,.xlsx,.xls'), **params)\n",
    "        self.df_pane = pn.pane.DataFrame(width=1000, max_rows = 10)\n",
    "        self.df_pane2 = pn.pane.DataFrame(width=1000, max_rows = 10)\n",
    "        self.total_gain = pn.indicators.Number(name='Total Realized Gain', format='${value}', font_size = '30pt')\n",
    "        self.total_loss = pn.indicators.Number(name='Total Realized Loss', format='${value}', font_size = '30pt')\n",
    "\n",
    "    @param.depends(\"file_input.value\", watch=True)\n",
    "    def parse_file_input(self):\n",
    "        value = self.file_input.value\n",
    "        if value:\n",
    "            string_io = io.StringIO(value.decode(\"utf8\"))\n",
    "            self.data = af.preprocess_rh_stock_orders(string_io)\n",
    "            \n",
    "        else:\n",
    "            print(\"error\")\n",
    "\n",
    "    @param.depends('data', watch=True)\n",
    "    def get_df(self):\n",
    "        self.df_pane.object = self.data\n",
    "\n",
    "        trades = af.Stocks(self.data)\n",
    "        trades.examine_trades()\n",
    "        \n",
    "        self.df_pane2.object = trades.trades_df\n",
    "        self.total_gain.value = round(trades.total_gain)\n",
    "        self.total_loss.value = round(trades.total_loss)\n",
    "\n",
    "    def view(self):\n",
    "        return pn.Column(\n",
    "            \"## Upload and process data\",\n",
    "            \n",
    "            self.file_input,\n",
    "            pn.layout.Divider(),\n",
    "            self.total_gain,\n",
    "            self.total_loss,\n",
    "            self.df_pane,\n",
    "            pn.Spacer(height = 500),\n",
    "            self.df_pane2,\n",
    "            name = \"Analyze Trades\"\n",
    "        )\n",
    "\n",
    "analyze_trades_view = Analyze_trades().view()\n",
    "\n",
    "\n",
    "\n",
    "class ExamineCharts(param.Parameterized):\n",
    "    \n",
    "    file_input = param.Parameter()\n",
    "    select_stock=pn.widgets.Select(name = 'Select Stock', options = [])\n",
    "    data = param.DataFrame()\n",
    "    chart = pn.pane.Plotly()\n",
    "    chart2 = pn.pane.Plotly()\n",
    "    start_date_input = pn.widgets.TextInput(name='Optional Start Date', placeholder='Enter start date (optional)')\n",
    "    end_date_input = pn.widgets.TextInput(name='Optional End Date', placeholder='Enter end date (optional)')\n",
    "    \n",
    "    def __init__(self, **params):\n",
    "        super().__init__(file_input=pn.widgets.FileInput(accept='.csv,.xlsx,.xls'), **params)\n",
    "        \n",
    "    \n",
    "    @param.depends(\"file_input.value\", watch=True)\n",
    "    def parse_file_input(self):\n",
    "        value = self.file_input.value\n",
    "        if value:\n",
    "            string_io = io.StringIO(value.decode(\"utf8\"))\n",
    "            self.data = af.preprocess_rh_stock_orders(string_io)\n",
    "            \n",
    "        else:\n",
    "            print(\"error\")\n",
    "    \n",
    "    @param.depends('data', watch = True)\n",
    "    def refresh_symbols(self):\n",
    "        self.select_stock.options = sorted(list(self.data.symbol.unique()))\n",
    "        \n",
    "        \n",
    "    @param.depends('data', 'select_stock.value', 'start_date_input.value', 'end_date_input.value', watch = True)\n",
    "    def plotting(self):\n",
    "        trades = af.Stocks(self.data)\n",
    "        trades.examine_trades()\n",
    "        \n",
    "        if self.select_stock.value:\n",
    "            self.chart.object = tg.plot_buysell_points_line(self.select_stock.value, tradesdf = trades.trades_df, start_date = self.start_date_input.value,\n",
    "                                                      end_date= self.end_date_input.value)\n",
    "            \n",
    "            self.chart2.object = tg.plot_buysell_points_candlestick(self.select_stock.value, tradesdf = trades.trades_df, start_date = self.start_date_input.value,\n",
    "                                                      end_date= self.end_date_input.value)\n",
    "        else:\n",
    "            print('select stock')\n",
    "    \n",
    "    \n",
    "    def view(self):\n",
    "        return pn.Column(\n",
    "            \"## Examine Charts\",\n",
    "            self.file_input,\n",
    "            self.select_stock,\n",
    "            self.start_date_input,\n",
    "            self.end_date_input,\n",
    "            pn.layout.Divider(),\n",
    "            self.chart2,\n",
    "            pn.Spacer(height = 150),\n",
    "            self.chart,\n",
    "            name = \"Examine Charts\"\n",
    "        )\n",
    "\n",
    "examine_charts_view = ExamineCharts().view()\n",
    "\n",
    "\n",
    "\n",
    "tabs = pn.Tabs(actions, charts_and_info, analyze_trades_view, examine_charts_view)\n",
    "tabs\n"
   ]
  },
  {
   "cell_type": "code",
   "execution_count": 94,
   "metadata": {
    "tags": []
   },
   "outputs": [
    {
     "data": {
      "application/vnd.plotly.v1+json": {
       "config": {
        "plotlyServerURL": "https://plot.ly"
       },
       "data": [
        {
         "mode": "lines",
         "name": "LTC-USD Norm Close",
         "type": "scatter",
         "x": [
          "2022-01-10T00:00:00",
          "2022-01-11T00:00:00",
          "2022-01-12T00:00:00",
          "2022-01-13T00:00:00",
          "2022-01-14T00:00:00",
          "2022-01-15T00:00:00",
          "2022-01-16T00:00:00",
          "2022-01-17T00:00:00",
          "2022-01-18T00:00:00",
          "2022-01-19T00:00:00",
          "2022-01-20T00:00:00",
          "2022-01-21T00:00:00",
          "2022-01-22T00:00:00",
          "2022-01-23T00:00:00",
          "2022-01-24T00:00:00",
          "2022-01-25T00:00:00",
          "2022-01-26T00:00:00",
          "2022-01-27T00:00:00",
          "2022-01-28T00:00:00",
          "2022-01-29T00:00:00",
          "2022-01-30T00:00:00",
          "2022-01-31T00:00:00",
          "2022-02-01T00:00:00",
          "2022-02-02T00:00:00",
          "2022-02-03T00:00:00",
          "2022-02-04T00:00:00",
          "2022-02-05T00:00:00",
          "2022-02-06T00:00:00",
          "2022-02-07T00:00:00",
          "2022-02-08T00:00:00",
          "2022-02-09T00:00:00",
          "2022-02-10T00:00:00",
          "2022-02-11T00:00:00",
          "2022-02-12T00:00:00",
          "2022-02-13T00:00:00",
          "2022-02-14T00:00:00",
          "2022-02-15T00:00:00",
          "2022-02-16T00:00:00",
          "2022-02-17T00:00:00",
          "2022-02-18T00:00:00",
          "2022-02-19T00:00:00",
          "2022-02-20T00:00:00",
          "2022-02-21T00:00:00",
          "2022-02-22T00:00:00",
          "2022-02-23T00:00:00",
          "2022-02-24T00:00:00",
          "2022-02-25T00:00:00",
          "2022-02-26T00:00:00",
          "2022-02-27T00:00:00",
          "2022-02-28T00:00:00",
          "2022-03-01T00:00:00",
          "2022-03-02T00:00:00",
          "2022-03-03T00:00:00",
          "2022-03-04T00:00:00",
          "2022-03-05T00:00:00",
          "2022-03-06T00:00:00",
          "2022-03-07T00:00:00",
          "2022-03-08T00:00:00",
          "2022-03-09T00:00:00",
          "2022-03-10T00:00:00",
          "2022-03-11T00:00:00",
          "2022-03-12T00:00:00",
          "2022-03-13T00:00:00",
          "2022-03-14T00:00:00",
          "2022-03-15T00:00:00",
          "2022-03-16T00:00:00",
          "2022-03-17T00:00:00",
          "2022-03-18T00:00:00",
          "2022-03-19T00:00:00",
          "2022-03-20T00:00:00",
          "2022-03-21T00:00:00",
          "2022-03-22T00:00:00",
          "2022-03-23T00:00:00",
          "2022-03-24T00:00:00",
          "2022-03-25T00:00:00",
          "2022-03-26T00:00:00",
          "2022-03-27T00:00:00",
          "2022-03-28T00:00:00",
          "2022-03-29T00:00:00",
          "2022-03-30T00:00:00",
          "2022-03-31T00:00:00",
          "2022-04-01T00:00:00",
          "2022-04-02T00:00:00",
          "2022-04-03T00:00:00",
          "2022-04-04T00:00:00",
          "2022-04-05T00:00:00",
          "2022-04-06T00:00:00",
          "2022-04-07T00:00:00",
          "2022-04-08T00:00:00",
          "2022-04-09T00:00:00",
          "2022-04-10T00:00:00",
          "2022-04-11T00:00:00",
          "2022-04-12T00:00:00",
          "2022-04-13T00:00:00",
          "2022-04-14T00:00:00",
          "2022-04-15T00:00:00",
          "2022-04-16T00:00:00",
          "2022-04-17T00:00:00",
          "2022-04-18T00:00:00",
          "2022-04-19T00:00:00",
          "2022-04-20T00:00:00",
          "2022-04-21T00:00:00",
          "2022-04-22T00:00:00",
          "2022-04-23T00:00:00",
          "2022-04-24T00:00:00",
          "2022-04-25T00:00:00",
          "2022-04-26T00:00:00",
          "2022-04-27T00:00:00",
          "2022-04-28T00:00:00",
          "2022-04-29T00:00:00",
          "2022-04-30T00:00:00",
          "2022-05-01T00:00:00",
          "2022-05-02T00:00:00",
          "2022-05-03T00:00:00",
          "2022-05-04T00:00:00",
          "2022-05-05T00:00:00",
          "2022-05-06T00:00:00",
          "2022-05-07T00:00:00",
          "2022-05-08T00:00:00",
          "2022-05-09T00:00:00",
          "2022-05-10T00:00:00",
          "2022-05-11T00:00:00",
          "2022-05-12T00:00:00",
          "2022-05-13T00:00:00",
          "2022-05-14T00:00:00",
          "2022-05-15T00:00:00",
          "2022-05-16T00:00:00",
          "2022-05-17T00:00:00",
          "2022-05-18T00:00:00",
          "2022-05-19T00:00:00",
          "2022-05-20T00:00:00",
          "2022-05-21T00:00:00",
          "2022-05-22T00:00:00",
          "2022-05-23T00:00:00",
          "2022-05-24T00:00:00",
          "2022-05-25T00:00:00",
          "2022-05-26T00:00:00",
          "2022-05-27T00:00:00",
          "2022-05-28T00:00:00",
          "2022-05-29T00:00:00",
          "2022-05-30T00:00:00",
          "2022-05-31T00:00:00",
          "2022-06-01T00:00:00",
          "2022-06-02T00:00:00",
          "2022-06-03T00:00:00",
          "2022-06-04T00:00:00",
          "2022-06-05T00:00:00",
          "2022-06-06T00:00:00",
          "2022-06-07T00:00:00",
          "2022-06-08T00:00:00",
          "2022-06-09T00:00:00",
          "2022-06-10T00:00:00",
          "2022-06-11T00:00:00",
          "2022-06-12T00:00:00",
          "2022-06-13T00:00:00",
          "2022-06-14T00:00:00",
          "2022-06-15T00:00:00",
          "2022-06-16T00:00:00",
          "2022-06-17T00:00:00",
          "2022-06-18T00:00:00",
          "2022-06-19T00:00:00",
          "2022-06-20T00:00:00",
          "2022-06-21T00:00:00",
          "2022-06-22T00:00:00",
          "2022-06-23T00:00:00",
          "2022-06-24T00:00:00",
          "2022-06-25T00:00:00",
          "2022-06-26T00:00:00",
          "2022-06-27T00:00:00",
          "2022-06-28T00:00:00",
          "2022-06-29T00:00:00",
          "2022-06-30T00:00:00",
          "2022-07-01T00:00:00",
          "2022-07-02T00:00:00",
          "2022-07-03T00:00:00",
          "2022-07-04T00:00:00",
          "2022-07-05T00:00:00",
          "2022-07-06T00:00:00",
          "2022-07-07T00:00:00",
          "2022-07-08T00:00:00",
          "2022-07-09T00:00:00",
          "2022-07-10T00:00:00",
          "2022-07-11T00:00:00",
          "2022-07-12T00:00:00",
          "2022-07-13T00:00:00",
          "2022-07-14T00:00:00",
          "2022-07-15T00:00:00",
          "2022-07-16T00:00:00",
          "2022-07-17T00:00:00",
          "2022-07-18T00:00:00",
          "2022-07-19T00:00:00",
          "2022-07-20T00:00:00",
          "2022-07-21T00:00:00",
          "2022-07-22T00:00:00",
          "2022-07-23T00:00:00",
          "2022-07-24T00:00:00",
          "2022-07-25T00:00:00",
          "2022-07-26T00:00:00"
         ],
         "y": [
          0.770839366018076,
          0.8143134883966523,
          0.9083662732880992,
          0.8612977092518767,
          0.9359366370092669,
          0.9655812234337461,
          0.9526233510221682,
          1,
          0.9097833513741849,
          0.8638832008870819,
          0.8034247696491275,
          0.6560261900361697,
          0.6009967702475557,
          0.6347802272267251,
          0.611729756844523,
          0.5976551469229348,
          0.5904186709612693,
          0.5873857662081651,
          0.6102637484489268,
          0.6230992598850665,
          0.6044236519963743,
          0.6116937807464512,
          0.6653475900062483,
          0.6021735617921166,
          0.6181468789326856,
          0.7162490517552429,
          0.7254649875474123,
          0.7764838820392322,
          0.8656428615430648,
          0.8368873282818949,
          0.8939190889809999,
          0.8470117485545318,
          0.7634324436113384,
          0.7694538286207109,
          0.7650294021877833,
          0.7520719521961436,
          0.8163218135896014,
          0.7830849680104901,
          0.673656519787734,
          0.6634566975561247,
          0.668180619725251,
          0.623176421927115,
          0.5550602212424427,
          0.5926390509632055,
          0.5782726192676294,
          0.5622579753764377,
          0.608728040763524,
          0.599291108940342,
          0.5518775686212389,
          0.6475615281041265,
          0.6389746460032913,
          0.6187407309625015,
          0.6279756756518907,
          0.5360627997641488,
          0.569148419005377,
          0.5379279245980411,
          0.5127850674551839,
          0.5289189745756,
          0.5872803724335789,
          0.5477241949820032,
          0.5690392234513469,
          0.5770402090978695,
          0.5427345706717357,
          0.5755753271554417,
          0.5877092694775193,
          0.628040939532346,
          0.6183612570513328,
          0.6350234707078174,
          0.6743103554487772,
          0.6600612860927035,
          0.6723306140049811,
          0.7347964551926851,
          0.7306204116834315,
          0.7685088752189103,
          0.7453107690683001,
          0.7528219587964552,
          0.7944965018348866,
          0.7810342600170728,
          0.8006215909390924,
          0.8108471103836101,
          0.7420684848324841,
          0.7528389964006301,
          0.7532109371562338,
          0.7903322860839032,
          0.7526408110462813,
          0.7374283426177716,
          0.6382114035782489,
          0.6545342732176959,
          0.6236380565162676,
          0.6411268755885278,
          0.6263299275725814,
          0.5472801612236098,
          0.5677755542061586,
          0.6199504712622436,
          0.5916077830873617,
          0.6257353715095353,
          0.6563846133537503,
          0.6066653642051905,
          0.6268131759819063,
          0.6506760303086305,
          0.6337668417949327,
          0.5877961471781468,
          0.574901426547333,
          0.5740132182239002,
          0.5658763541639166,
          0.5664707694203166,
          0.5084979275021781,
          0.528191004215399,
          0.5538869498640335,
          0.5267076061990126,
          0.48783948042347597,
          0.518012795803962,
          0.529616460296926,
          0.51715683220248,
          0.5811232498173914,
          0.4947874435673364,
          0.49361403138228127,
          0.4731201872728393,
          0.46763450114845423,
          0.3198101222377696,
          0.34075447721132435,
          0.21305847876019748,
          0.19473136732053753,
          0.2275807834129771,
          0.23669583124323468,
          0.2605044046078975,
          0.2206488722267691,
          0.27378282334926207,
          0.21330608724731806,
          0.26573023206695356,
          0.23400114405399935,
          0.2436673090969894,
          0.26275259392243316,
          0.23727208244229128,
          0.24934949089597028,
          0.23081588650984328,
          0.18942890584435584,
          0.1685349596500955,
          0.1754499388371131,
          0.1886767519426917,
          0.23827019035298466,
          0.23172268131055787,
          0.18148998072709033,
          0.19517990689160528,
          0.1786426591335111,
          0.18868372187167234,
          0.1837051860847832,
          0.19486541524759968,
          0.19014290114493404,
          0.1683758129383707,
          0.15609620614092984,
          0.12326741822214009,
          0.08297140745043166,
          0.04548068748844945,
          0,
          0.026130791773371704,
          0.06636220749619381,
          0.012913694326372205,
          0.040460789749276166,
          0.03642213832492894,
          0.10171794668708363,
          0.08863672765354524,
          0.09419271149598261,
          0.08125254552014854,
          0.11500305374413672,
          0.11712039848280839,
          0.14459782981756739,
          0.12527658825496563,
          0.11650465101952812,
          0.08776946431871584,
          0.09340704561255292,
          0.09549154720102788,
          0.07211553185310347,
          0.06630384314139627,
          0.07079532873951651,
          0.08252990821166759,
          0.06026091471517456,
          0.06515626897589566,
          0.08159861305453617,
          0.07626542052784892,
          0.10021796868812208,
          0.0818315776504651,
          0.05051621476533692,
          0.0391455500699633,
          0.05779275021781028,
          0.07307122176166715,
          0.07841655886157826,
          0.1091187088030555,
          0.11462027087678539,
          0.14142675854300324,
          0.13550161487622217,
          0.12861360016192763,
          0.13656857723684557,
          0.11881676655138122,
          0.12112564353037464,
          0.14012943650940324,
          0.10211576066390333,
          0.09679953533806795
         ]
        },
        {
         "mode": "lines",
         "name": "CRO-USD Norm Close",
         "type": "scatter",
         "x": [
          "2022-01-10T00:00:00",
          "2022-01-11T00:00:00",
          "2022-01-12T00:00:00",
          "2022-01-13T00:00:00",
          "2022-01-14T00:00:00",
          "2022-01-15T00:00:00",
          "2022-01-16T00:00:00",
          "2022-01-17T00:00:00",
          "2022-01-18T00:00:00",
          "2022-01-19T00:00:00",
          "2022-01-20T00:00:00",
          "2022-01-21T00:00:00",
          "2022-01-22T00:00:00",
          "2022-01-23T00:00:00",
          "2022-01-24T00:00:00",
          "2022-01-25T00:00:00",
          "2022-01-26T00:00:00",
          "2022-01-27T00:00:00",
          "2022-01-28T00:00:00",
          "2022-01-29T00:00:00",
          "2022-01-30T00:00:00",
          "2022-01-31T00:00:00",
          "2022-02-01T00:00:00",
          "2022-02-02T00:00:00",
          "2022-02-03T00:00:00",
          "2022-02-04T00:00:00",
          "2022-02-05T00:00:00",
          "2022-02-06T00:00:00",
          "2022-02-07T00:00:00",
          "2022-02-08T00:00:00",
          "2022-02-09T00:00:00",
          "2022-02-10T00:00:00",
          "2022-02-11T00:00:00",
          "2022-02-12T00:00:00",
          "2022-02-13T00:00:00",
          "2022-02-14T00:00:00",
          "2022-02-15T00:00:00",
          "2022-02-16T00:00:00",
          "2022-02-17T00:00:00",
          "2022-02-18T00:00:00",
          "2022-02-19T00:00:00",
          "2022-02-20T00:00:00",
          "2022-02-21T00:00:00",
          "2022-02-22T00:00:00",
          "2022-02-23T00:00:00",
          "2022-02-24T00:00:00",
          "2022-02-25T00:00:00",
          "2022-02-26T00:00:00",
          "2022-02-27T00:00:00",
          "2022-02-28T00:00:00",
          "2022-03-01T00:00:00",
          "2022-03-02T00:00:00",
          "2022-03-03T00:00:00",
          "2022-03-04T00:00:00",
          "2022-03-05T00:00:00",
          "2022-03-06T00:00:00",
          "2022-03-07T00:00:00",
          "2022-03-08T00:00:00",
          "2022-03-09T00:00:00",
          "2022-03-10T00:00:00",
          "2022-03-11T00:00:00",
          "2022-03-12T00:00:00",
          "2022-03-13T00:00:00",
          "2022-03-14T00:00:00",
          "2022-03-15T00:00:00",
          "2022-03-16T00:00:00",
          "2022-03-17T00:00:00",
          "2022-03-18T00:00:00",
          "2022-03-19T00:00:00",
          "2022-03-20T00:00:00",
          "2022-03-21T00:00:00",
          "2022-03-22T00:00:00",
          "2022-03-23T00:00:00",
          "2022-03-24T00:00:00",
          "2022-03-25T00:00:00",
          "2022-03-26T00:00:00",
          "2022-03-27T00:00:00",
          "2022-03-28T00:00:00",
          "2022-03-29T00:00:00",
          "2022-03-30T00:00:00",
          "2022-03-31T00:00:00",
          "2022-04-01T00:00:00",
          "2022-04-02T00:00:00",
          "2022-04-03T00:00:00",
          "2022-04-04T00:00:00",
          "2022-04-05T00:00:00",
          "2022-04-06T00:00:00",
          "2022-04-07T00:00:00",
          "2022-04-08T00:00:00",
          "2022-04-09T00:00:00",
          "2022-04-10T00:00:00",
          "2022-04-11T00:00:00",
          "2022-04-12T00:00:00",
          "2022-04-13T00:00:00",
          "2022-04-14T00:00:00",
          "2022-04-15T00:00:00",
          "2022-04-16T00:00:00",
          "2022-04-17T00:00:00",
          "2022-04-18T00:00:00",
          "2022-04-19T00:00:00",
          "2022-04-20T00:00:00",
          "2022-04-21T00:00:00",
          "2022-04-22T00:00:00",
          "2022-04-23T00:00:00",
          "2022-04-24T00:00:00",
          "2022-04-25T00:00:00",
          "2022-04-26T00:00:00",
          "2022-04-27T00:00:00",
          "2022-04-28T00:00:00",
          "2022-04-29T00:00:00",
          "2022-04-30T00:00:00",
          "2022-05-01T00:00:00",
          "2022-05-02T00:00:00",
          "2022-05-03T00:00:00",
          "2022-05-04T00:00:00",
          "2022-05-05T00:00:00",
          "2022-05-06T00:00:00",
          "2022-05-07T00:00:00",
          "2022-05-08T00:00:00",
          "2022-05-09T00:00:00",
          "2022-05-10T00:00:00",
          "2022-05-11T00:00:00",
          "2022-05-12T00:00:00",
          "2022-05-13T00:00:00",
          "2022-05-14T00:00:00",
          "2022-05-15T00:00:00",
          "2022-05-16T00:00:00",
          "2022-05-17T00:00:00",
          "2022-05-18T00:00:00",
          "2022-05-19T00:00:00",
          "2022-05-20T00:00:00",
          "2022-05-21T00:00:00",
          "2022-05-22T00:00:00",
          "2022-05-23T00:00:00",
          "2022-05-24T00:00:00",
          "2022-05-25T00:00:00",
          "2022-05-26T00:00:00",
          "2022-05-27T00:00:00",
          "2022-05-28T00:00:00",
          "2022-05-29T00:00:00",
          "2022-05-30T00:00:00",
          "2022-05-31T00:00:00",
          "2022-06-01T00:00:00",
          "2022-06-02T00:00:00",
          "2022-06-03T00:00:00",
          "2022-06-04T00:00:00",
          "2022-06-05T00:00:00",
          "2022-06-06T00:00:00",
          "2022-06-07T00:00:00",
          "2022-06-08T00:00:00",
          "2022-06-09T00:00:00",
          "2022-06-10T00:00:00",
          "2022-06-11T00:00:00",
          "2022-06-12T00:00:00",
          "2022-06-13T00:00:00",
          "2022-06-14T00:00:00",
          "2022-06-15T00:00:00",
          "2022-06-16T00:00:00",
          "2022-06-17T00:00:00",
          "2022-06-18T00:00:00",
          "2022-06-19T00:00:00",
          "2022-06-20T00:00:00",
          "2022-06-21T00:00:00",
          "2022-06-22T00:00:00",
          "2022-06-23T00:00:00",
          "2022-06-24T00:00:00",
          "2022-06-25T00:00:00",
          "2022-06-26T00:00:00",
          "2022-06-27T00:00:00",
          "2022-06-28T00:00:00",
          "2022-06-29T00:00:00",
          "2022-06-30T00:00:00",
          "2022-07-01T00:00:00",
          "2022-07-02T00:00:00",
          "2022-07-03T00:00:00",
          "2022-07-04T00:00:00",
          "2022-07-05T00:00:00",
          "2022-07-06T00:00:00",
          "2022-07-07T00:00:00",
          "2022-07-08T00:00:00",
          "2022-07-09T00:00:00",
          "2022-07-10T00:00:00",
          "2022-07-11T00:00:00",
          "2022-07-12T00:00:00",
          "2022-07-13T00:00:00",
          "2022-07-14T00:00:00",
          "2022-07-15T00:00:00",
          "2022-07-16T00:00:00",
          "2022-07-17T00:00:00",
          "2022-07-18T00:00:00",
          "2022-07-19T00:00:00",
          "2022-07-20T00:00:00",
          "2022-07-21T00:00:00",
          "2022-07-22T00:00:00",
          "2022-07-23T00:00:00",
          "2022-07-24T00:00:00",
          "2022-07-25T00:00:00",
          "2022-07-26T00:00:00"
         ],
         "y": [
          0.8291362290362256,
          0.8634148158767234,
          0.9313299664068271,
          0.8566081578723898,
          0.8580126611289827,
          0.884648769178652,
          0.8756924403034069,
          0.8287636087048229,
          0.8292587313486668,
          0.7994019155139463,
          0.805389919126194,
          0.629295511261794,
          0.5651012315061776,
          0.6650203120448737,
          0.6564512862468874,
          0.6990465163633176,
          0.717464085254889,
          0.7199813361116107,
          0.7711652420689888,
          0.7975513051481834,
          0.7782881269728799,
          0.7903499661694195,
          0.8100813851454076,
          0.7263370658066425,
          0.7238369082958427,
          0.8079562585660764,
          0.8382690430556913,
          0.8702166526809251,
          0.952237831263474,
          0.933413382300169,
          1,
          0.9862639625334311,
          0.9146060997312728,
          0.9300504491112281,
          0.9757414741002024,
          0.8921172464738125,
          0.9535172755105861,
          0.9148609659018795,
          0.7920559405312269,
          0.8056791911341051,
          0.8094881583837292,
          0.7303789116323324,
          0.6847565522209936,
          0.7289671035270548,
          0.7176136155074633,
          0.7056301573373096,
          0.7629564914081283,
          0.7529388410674941,
          0.7059585833341704,
          0.8142212620404451,
          0.8149075525743656,
          0.8325432104627347,
          0.793426110999002,
          0.7096646983143149,
          0.7422839157276131,
          0.6984214404613742,
          0.6680548192369538,
          0.6874307112274611,
          0.7408157141904904,
          0.6931932872093013,
          0.6769399988860105,
          0.6905828264833637,
          0.6627432446129023,
          0.6684248828713168,
          0.6818986032216209,
          0.7338398758906208,
          0.722366296158654,
          0.7342442723138017,
          0.7632310076216965,
          0.7328079929654308,
          0.7322957039271779,
          0.7619368075802415,
          0.8038824905516347,
          0.8409358241649874,
          0.8557674428372762,
          0.860490684948268,
          0.9278812742943288,
          0.9179395943800147,
          0.9169591375895643,
          0.9006249845913348,
          0.8671429914998955,
          0.9171012899449671,
          0.9131623694372436,
          0.9155742843759331,
          0.9237658686423847,
          0.8934163407638863,
          0.8171012716828454,
          0.8379111785186315,
          0.8067870444856153,
          0.8302147168960237,
          0.8197656421920755,
          0.7259938840154389,
          0.7601720291865229,
          0.7747291316452437,
          0.745460575275096,
          0.7368645215369767,
          0.7398769680860292,
          0.7314255503518654,
          0.7471322168480856,
          0.7608730755147863,
          0.7610397721617695,
          0.7380263577202663,
          0.7310456251717781,
          0.732910918283397,
          0.7138928177814626,
          0.7268616269906853,
          0.6682729420186767,
          0.6937128810962386,
          0.69319818145792,
          0.6457154231835809,
          0.5976469621417085,
          0.507064062609858,
          0.41563314319420946,
          0.4518995985072542,
          0.5032991435978024,
          0.43578605193930037,
          0.42582231138195864,
          0.4049021743795216,
          0.36729988138751946,
          0.2531986927973279,
          0.30342661320734904,
          0.2149100362229184,
          0.1736384081638989,
          0.18489141798983347,
          0.20190203650050267,
          0.23749936767403573,
          0.21362810832725357,
          0.23467082069061865,
          0.19276188110810902,
          0.2202926505004278,
          0.19821312443901046,
          0.20285553839930676,
          0.21844941803183635,
          0.19277660037820854,
          0.20337023803762544,
          0.18974950760754336,
          0.155867939293055,
          0.15098778903231758,
          0.15321584092961504,
          0.16631697747275975,
          0.2039021405945964,
          0.2025172873809652,
          0.17720229774015375,
          0.1911833763558484,
          0.1759767632763342,
          0.17878080249241438,
          0.1771851678699883,
          0.1841144012352499,
          0.17571937693293144,
          0.17097162705460284,
          0.1659836207030369,
          0.14468845276913117,
          0.11420656103246732,
          0.08566107510936728,
          0.02437618874998516,
          0.029454866535849,
          0.037014070051672676,
          0.006005188268778255,
          0.02022157432272639,
          0,
          0.019731364189622916,
          0.020057361324296016,
          0.02392518739219641,
          0.019111237322663385,
          0.03553114924445037,
          0.05031126873351273,
          0.05511789569223942,
          0.043585475404117925,
          0.043590369652736626,
          0.03291827791844684,
          0.02547918437712012,
          0.020025493921909342,
          0.01469925481412356,
          0.015566943003005032,
          0.016415017673168286,
          0.02931024879401514,
          0.02340555698101561,
          0.03185449106662661,
          0.041438306443880954,
          0.04004118108445957,
          0.04437962202886694,
          0.031239276710407493,
          0.01674101480784139,
          0.008711214677632462,
          0.02322662471248572,
          0.029057793223474498,
          0.03265355020211603,
          0.039511743913919664,
          0.03451394906511633,
          0.06285110070373086,
          0.07072894171917787,
          0.06207412047339072,
          0.06820920721390332,
          0.060248054399208155,
          0.04878915741309741,
          0.05464728081573245,
          0.03444776713603363,
          0.03383498164200215
         ]
        },
        {
         "mode": "lines",
         "name": "ETH-USD Norm Close",
         "type": "scatter",
         "x": [
          "2022-01-10T00:00:00",
          "2022-01-11T00:00:00",
          "2022-01-12T00:00:00",
          "2022-01-13T00:00:00",
          "2022-01-14T00:00:00",
          "2022-01-15T00:00:00",
          "2022-01-16T00:00:00",
          "2022-01-17T00:00:00",
          "2022-01-18T00:00:00",
          "2022-01-19T00:00:00",
          "2022-01-20T00:00:00",
          "2022-01-21T00:00:00",
          "2022-01-22T00:00:00",
          "2022-01-23T00:00:00",
          "2022-01-24T00:00:00",
          "2022-01-25T00:00:00",
          "2022-01-26T00:00:00",
          "2022-01-27T00:00:00",
          "2022-01-28T00:00:00",
          "2022-01-29T00:00:00",
          "2022-01-30T00:00:00",
          "2022-01-31T00:00:00",
          "2022-02-01T00:00:00",
          "2022-02-02T00:00:00",
          "2022-02-03T00:00:00",
          "2022-02-04T00:00:00",
          "2022-02-05T00:00:00",
          "2022-02-06T00:00:00",
          "2022-02-07T00:00:00",
          "2022-02-08T00:00:00",
          "2022-02-09T00:00:00",
          "2022-02-10T00:00:00",
          "2022-02-11T00:00:00",
          "2022-02-12T00:00:00",
          "2022-02-13T00:00:00",
          "2022-02-14T00:00:00",
          "2022-02-15T00:00:00",
          "2022-02-16T00:00:00",
          "2022-02-17T00:00:00",
          "2022-02-18T00:00:00",
          "2022-02-19T00:00:00",
          "2022-02-20T00:00:00",
          "2022-02-21T00:00:00",
          "2022-02-22T00:00:00",
          "2022-02-23T00:00:00",
          "2022-02-24T00:00:00",
          "2022-02-25T00:00:00",
          "2022-02-26T00:00:00",
          "2022-02-27T00:00:00",
          "2022-02-28T00:00:00",
          "2022-03-01T00:00:00",
          "2022-03-02T00:00:00",
          "2022-03-03T00:00:00",
          "2022-03-04T00:00:00",
          "2022-03-05T00:00:00",
          "2022-03-06T00:00:00",
          "2022-03-07T00:00:00",
          "2022-03-08T00:00:00",
          "2022-03-09T00:00:00",
          "2022-03-10T00:00:00",
          "2022-03-11T00:00:00",
          "2022-03-12T00:00:00",
          "2022-03-13T00:00:00",
          "2022-03-14T00:00:00",
          "2022-03-15T00:00:00",
          "2022-03-16T00:00:00",
          "2022-03-17T00:00:00",
          "2022-03-18T00:00:00",
          "2022-03-19T00:00:00",
          "2022-03-20T00:00:00",
          "2022-03-21T00:00:00",
          "2022-03-22T00:00:00",
          "2022-03-23T00:00:00",
          "2022-03-24T00:00:00",
          "2022-03-25T00:00:00",
          "2022-03-26T00:00:00",
          "2022-03-27T00:00:00",
          "2022-03-28T00:00:00",
          "2022-03-29T00:00:00",
          "2022-03-30T00:00:00",
          "2022-03-31T00:00:00",
          "2022-04-01T00:00:00",
          "2022-04-02T00:00:00",
          "2022-04-03T00:00:00",
          "2022-04-04T00:00:00",
          "2022-04-05T00:00:00",
          "2022-04-06T00:00:00",
          "2022-04-07T00:00:00",
          "2022-04-08T00:00:00",
          "2022-04-09T00:00:00",
          "2022-04-10T00:00:00",
          "2022-04-11T00:00:00",
          "2022-04-12T00:00:00",
          "2022-04-13T00:00:00",
          "2022-04-14T00:00:00",
          "2022-04-15T00:00:00",
          "2022-04-16T00:00:00",
          "2022-04-17T00:00:00",
          "2022-04-18T00:00:00",
          "2022-04-19T00:00:00",
          "2022-04-20T00:00:00",
          "2022-04-21T00:00:00",
          "2022-04-22T00:00:00",
          "2022-04-23T00:00:00",
          "2022-04-24T00:00:00",
          "2022-04-25T00:00:00",
          "2022-04-26T00:00:00",
          "2022-04-27T00:00:00",
          "2022-04-28T00:00:00",
          "2022-04-29T00:00:00",
          "2022-04-30T00:00:00",
          "2022-05-01T00:00:00",
          "2022-05-02T00:00:00",
          "2022-05-03T00:00:00",
          "2022-05-04T00:00:00",
          "2022-05-05T00:00:00",
          "2022-05-06T00:00:00",
          "2022-05-07T00:00:00",
          "2022-05-08T00:00:00",
          "2022-05-09T00:00:00",
          "2022-05-10T00:00:00",
          "2022-05-11T00:00:00",
          "2022-05-12T00:00:00",
          "2022-05-13T00:00:00",
          "2022-05-14T00:00:00",
          "2022-05-15T00:00:00",
          "2022-05-16T00:00:00",
          "2022-05-17T00:00:00",
          "2022-05-18T00:00:00",
          "2022-05-19T00:00:00",
          "2022-05-20T00:00:00",
          "2022-05-21T00:00:00",
          "2022-05-22T00:00:00",
          "2022-05-23T00:00:00",
          "2022-05-24T00:00:00",
          "2022-05-25T00:00:00",
          "2022-05-26T00:00:00",
          "2022-05-27T00:00:00",
          "2022-05-28T00:00:00",
          "2022-05-29T00:00:00",
          "2022-05-30T00:00:00",
          "2022-05-31T00:00:00",
          "2022-06-01T00:00:00",
          "2022-06-02T00:00:00",
          "2022-06-03T00:00:00",
          "2022-06-04T00:00:00",
          "2022-06-05T00:00:00",
          "2022-06-06T00:00:00",
          "2022-06-07T00:00:00",
          "2022-06-08T00:00:00",
          "2022-06-09T00:00:00",
          "2022-06-10T00:00:00",
          "2022-06-11T00:00:00",
          "2022-06-12T00:00:00",
          "2022-06-13T00:00:00",
          "2022-06-14T00:00:00",
          "2022-06-15T00:00:00",
          "2022-06-16T00:00:00",
          "2022-06-17T00:00:00",
          "2022-06-18T00:00:00",
          "2022-06-19T00:00:00",
          "2022-06-20T00:00:00",
          "2022-06-21T00:00:00",
          "2022-06-22T00:00:00",
          "2022-06-23T00:00:00",
          "2022-06-24T00:00:00",
          "2022-06-25T00:00:00",
          "2022-06-26T00:00:00",
          "2022-06-27T00:00:00",
          "2022-06-28T00:00:00",
          "2022-06-29T00:00:00",
          "2022-06-30T00:00:00",
          "2022-07-01T00:00:00",
          "2022-07-02T00:00:00",
          "2022-07-03T00:00:00",
          "2022-07-04T00:00:00",
          "2022-07-05T00:00:00",
          "2022-07-06T00:00:00",
          "2022-07-07T00:00:00",
          "2022-07-08T00:00:00",
          "2022-07-09T00:00:00",
          "2022-07-10T00:00:00",
          "2022-07-11T00:00:00",
          "2022-07-12T00:00:00",
          "2022-07-13T00:00:00",
          "2022-07-14T00:00:00",
          "2022-07-15T00:00:00",
          "2022-07-16T00:00:00",
          "2022-07-17T00:00:00",
          "2022-07-18T00:00:00",
          "2022-07-19T00:00:00",
          "2022-07-20T00:00:00",
          "2022-07-21T00:00:00",
          "2022-07-22T00:00:00",
          "2022-07-23T00:00:00",
          "2022-07-24T00:00:00",
          "2022-07-25T00:00:00",
          "2022-07-26T00:00:00"
         ],
         "y": [
          0.8261362618148078,
          0.8874259475381252,
          0.9404652100243641,
          0.8914497555272398,
          0.91584994956002,
          0.9239668733021016,
          0.932029161676021,
          0.8772224546826287,
          0.8581334748318581,
          0.8311687004787038,
          0.7937236848592387,
          0.6184947381724262,
          0.5580998755283721,
          0.6094434144942854,
          0.5720059281305034,
          0.5781670794444346,
          0.5829493151502452,
          0.5651456178561511,
          0.6142089506971065,
          0.633975177443682,
          0.6364984433867181,
          0.6700317210920442,
          0.7110875939850804,
          0.6678868485115446,
          0.6664273312560471,
          0.7867913640113017,
          0.7990724487907448,
          0.8160058413510053,
          0.8496112261588351,
          0.8417581159524198,
          0.8879579184108135,
          0.823915903619639,
          0.7645695380939193,
          0.7606075086129738,
          0.7472042751499884,
          0.7669795756149513,
          0.8644010975434621,
          0.8438225799433805,
          0.7464208464432677,
          0.7085612391166358,
          0.6998524000431581,
          0.6464549187384568,
          0.6247751992302591,
          0.6506660893593783,
          0.6313161918405118,
          0.6343636098137959,
          0.7001823358883492,
          0.70673626337375,
          0.6437478617336174,
          0.7613343713731521,
          0.7824019044769606,
          0.7735585040903767,
          0.7278327551532627,
          0.6419110129336927,
          0.6607608906520647,
          0.6173503878375106,
          0.5947083715356586,
          0.6259342219608648,
          0.6864419269112466,
          0.63831009813878,
          0.6191397444092803,
          0.6251460633371123,
          0.6030799385661001,
          0.6314492086909137,
          0.643094650538647,
          0.7031556196518304,
          0.720077525270728,
          0.7716703984344554,
          0.7720318027072453,
          0.738108837755858,
          0.7529425332697176,
          0.7826573199966727,
          0.8055642116523002,
          0.8360066333707857,
          0.8354568046480798,
          0.8498912565528959,
          0.9085654912155184,
          0.9263801928063802,
          0.9522197295505838,
          0.9455655085183272,
          0.9046374399140661,
          0.9710258796686423,
          0.9692494579720206,
          1,
          0.9993704383901881,
          0.9560963309382015,
          0.8611647724756668,
          0.8855135165946123,
          0.8692234892795827,
          0.8968379032577039,
          0.8770492818019169,
          0.7857892007740943,
          0.8052911313404085,
          0.8400720453239956,
          0.8011526469955048,
          0.8094584778320976,
          0.8179172104764091,
          0.7906725987870321,
          0.8160574843226779,
          0.8344426718249147,
          0.8240201548521745,
          0.7883309037406622,
          0.7793774603864019,
          0.7688121771424394,
          0.7627306621866952,
          0.7969948568667983,
          0.7174853376795157,
          0.7493655576467205,
          0.7683483556865753,
          0.720373000291831,
          0.6866013926854584,
          0.7251785959960432,
          0.7369033846152064,
          0.7076711459544043,
          0.7698127959169425,
          0.6941240844020874,
          0.6726811503322321,
          0.6493983750659624,
          0.6024929462095736,
          0.4949372391894187,
          0.5337165740564196,
          0.42640884982921257,
          0.3827558181056349,
          0.40359906626611347,
          0.4201480806708586,
          0.455508264697451,
          0.40688380058679446,
          0.43364456106961186,
          0.36494565337396684,
          0.40514816235845635,
          0.3826032541491327,
          0.3878233450315926,
          0.41496708400059956,
          0.38689956327662495,
          0.38958852110914916,
          0.37608427013241524,
          0.3203691294821786,
          0.28913768037966947,
          0.3021927822962294,
          0.32357871603940686,
          0.39649130410786776,
          0.3750958622661674,
          0.3281407692809457,
          0.33232438089548866,
          0.30896838844414665,
          0.3194582343378993,
          0.32087981572822416,
          0.34226396368639983,
          0.32437633449722275,
          0.3162804540594863,
          0.3147992660616701,
          0.26546193588409234,
          0.21193554020804733,
          0.17854671803002622,
          0.08340434040836414,
          0.0862036790597813,
          0.09472163219590815,
          0.02929544097052685,
          0.03672411352003587,
          0,
          0.05298904331612166,
          0.052983492903278334,
          0.05186935612001431,
          0.022847212651446937,
          0.059208498097137484,
          0.09220632988869082,
          0.09877053770396652,
          0.08152583937988471,
          0.07909384152977679,
          0.05967999360206325,
          0.04163656673759692,
          0.029124681312790404,
          0.02614686069011565,
          0.02881390645802359,
          0.031682070228698005,
          0.06224201590608354,
          0.0557110623034083,
          0.07644214385999214,
          0.09645616034167763,
          0.09049096273334568,
          0.08830530668456249,
          0.06909894766827036,
          0.04096154000692933,
          0.017616214001138414,
          0.0474262747711607,
          0.07824202208393435,
          0.09469108079304009,
          0.14193822202273984,
          0.13640653578970152,
          0.2313308063188506,
          0.21719877951730665,
          0.2081941275715093,
          0.23055254190929714,
          0.21499647222999346,
          0.21969849240410316,
          0.2395384672448057,
          0.17861269554617257,
          0.17719854688261183
         ]
        }
       ],
       "layout": {
        "autosize": true,
        "template": {
         "data": {
          "bar": [
           {
            "error_x": {
             "color": "#2a3f5f"
            },
            "error_y": {
             "color": "#2a3f5f"
            },
            "marker": {
             "line": {
              "color": "#E5ECF6",
              "width": 0.5
             },
             "pattern": {
              "fillmode": "overlay",
              "size": 10,
              "solidity": 0.2
             }
            },
            "type": "bar"
           }
          ],
          "barpolar": [
           {
            "marker": {
             "line": {
              "color": "#E5ECF6",
              "width": 0.5
             },
             "pattern": {
              "fillmode": "overlay",
              "size": 10,
              "solidity": 0.2
             }
            },
            "type": "barpolar"
           }
          ],
          "carpet": [
           {
            "aaxis": {
             "endlinecolor": "#2a3f5f",
             "gridcolor": "white",
             "linecolor": "white",
             "minorgridcolor": "white",
             "startlinecolor": "#2a3f5f"
            },
            "baxis": {
             "endlinecolor": "#2a3f5f",
             "gridcolor": "white",
             "linecolor": "white",
             "minorgridcolor": "white",
             "startlinecolor": "#2a3f5f"
            },
            "type": "carpet"
           }
          ],
          "choropleth": [
           {
            "colorbar": {
             "outlinewidth": 0,
             "ticks": ""
            },
            "type": "choropleth"
           }
          ],
          "contour": [
           {
            "colorbar": {
             "outlinewidth": 0,
             "ticks": ""
            },
            "colorscale": [
             [
              0,
              "#0d0887"
             ],
             [
              0.1111111111111111,
              "#46039f"
             ],
             [
              0.2222222222222222,
              "#7201a8"
             ],
             [
              0.3333333333333333,
              "#9c179e"
             ],
             [
              0.4444444444444444,
              "#bd3786"
             ],
             [
              0.5555555555555556,
              "#d8576b"
             ],
             [
              0.6666666666666666,
              "#ed7953"
             ],
             [
              0.7777777777777778,
              "#fb9f3a"
             ],
             [
              0.8888888888888888,
              "#fdca26"
             ],
             [
              1,
              "#f0f921"
             ]
            ],
            "type": "contour"
           }
          ],
          "contourcarpet": [
           {
            "colorbar": {
             "outlinewidth": 0,
             "ticks": ""
            },
            "type": "contourcarpet"
           }
          ],
          "heatmap": [
           {
            "colorbar": {
             "outlinewidth": 0,
             "ticks": ""
            },
            "colorscale": [
             [
              0,
              "#0d0887"
             ],
             [
              0.1111111111111111,
              "#46039f"
             ],
             [
              0.2222222222222222,
              "#7201a8"
             ],
             [
              0.3333333333333333,
              "#9c179e"
             ],
             [
              0.4444444444444444,
              "#bd3786"
             ],
             [
              0.5555555555555556,
              "#d8576b"
             ],
             [
              0.6666666666666666,
              "#ed7953"
             ],
             [
              0.7777777777777778,
              "#fb9f3a"
             ],
             [
              0.8888888888888888,
              "#fdca26"
             ],
             [
              1,
              "#f0f921"
             ]
            ],
            "type": "heatmap"
           }
          ],
          "heatmapgl": [
           {
            "colorbar": {
             "outlinewidth": 0,
             "ticks": ""
            },
            "colorscale": [
             [
              0,
              "#0d0887"
             ],
             [
              0.1111111111111111,
              "#46039f"
             ],
             [
              0.2222222222222222,
              "#7201a8"
             ],
             [
              0.3333333333333333,
              "#9c179e"
             ],
             [
              0.4444444444444444,
              "#bd3786"
             ],
             [
              0.5555555555555556,
              "#d8576b"
             ],
             [
              0.6666666666666666,
              "#ed7953"
             ],
             [
              0.7777777777777778,
              "#fb9f3a"
             ],
             [
              0.8888888888888888,
              "#fdca26"
             ],
             [
              1,
              "#f0f921"
             ]
            ],
            "type": "heatmapgl"
           }
          ],
          "histogram": [
           {
            "marker": {
             "pattern": {
              "fillmode": "overlay",
              "size": 10,
              "solidity": 0.2
             }
            },
            "type": "histogram"
           }
          ],
          "histogram2d": [
           {
            "colorbar": {
             "outlinewidth": 0,
             "ticks": ""
            },
            "colorscale": [
             [
              0,
              "#0d0887"
             ],
             [
              0.1111111111111111,
              "#46039f"
             ],
             [
              0.2222222222222222,
              "#7201a8"
             ],
             [
              0.3333333333333333,
              "#9c179e"
             ],
             [
              0.4444444444444444,
              "#bd3786"
             ],
             [
              0.5555555555555556,
              "#d8576b"
             ],
             [
              0.6666666666666666,
              "#ed7953"
             ],
             [
              0.7777777777777778,
              "#fb9f3a"
             ],
             [
              0.8888888888888888,
              "#fdca26"
             ],
             [
              1,
              "#f0f921"
             ]
            ],
            "type": "histogram2d"
           }
          ],
          "histogram2dcontour": [
           {
            "colorbar": {
             "outlinewidth": 0,
             "ticks": ""
            },
            "colorscale": [
             [
              0,
              "#0d0887"
             ],
             [
              0.1111111111111111,
              "#46039f"
             ],
             [
              0.2222222222222222,
              "#7201a8"
             ],
             [
              0.3333333333333333,
              "#9c179e"
             ],
             [
              0.4444444444444444,
              "#bd3786"
             ],
             [
              0.5555555555555556,
              "#d8576b"
             ],
             [
              0.6666666666666666,
              "#ed7953"
             ],
             [
              0.7777777777777778,
              "#fb9f3a"
             ],
             [
              0.8888888888888888,
              "#fdca26"
             ],
             [
              1,
              "#f0f921"
             ]
            ],
            "type": "histogram2dcontour"
           }
          ],
          "mesh3d": [
           {
            "colorbar": {
             "outlinewidth": 0,
             "ticks": ""
            },
            "type": "mesh3d"
           }
          ],
          "parcoords": [
           {
            "line": {
             "colorbar": {
              "outlinewidth": 0,
              "ticks": ""
             }
            },
            "type": "parcoords"
           }
          ],
          "pie": [
           {
            "automargin": true,
            "type": "pie"
           }
          ],
          "scatter": [
           {
            "marker": {
             "colorbar": {
              "outlinewidth": 0,
              "ticks": ""
             }
            },
            "type": "scatter"
           }
          ],
          "scatter3d": [
           {
            "line": {
             "colorbar": {
              "outlinewidth": 0,
              "ticks": ""
             }
            },
            "marker": {
             "colorbar": {
              "outlinewidth": 0,
              "ticks": ""
             }
            },
            "type": "scatter3d"
           }
          ],
          "scattercarpet": [
           {
            "marker": {
             "colorbar": {
              "outlinewidth": 0,
              "ticks": ""
             }
            },
            "type": "scattercarpet"
           }
          ],
          "scattergeo": [
           {
            "marker": {
             "colorbar": {
              "outlinewidth": 0,
              "ticks": ""
             }
            },
            "type": "scattergeo"
           }
          ],
          "scattergl": [
           {
            "marker": {
             "colorbar": {
              "outlinewidth": 0,
              "ticks": ""
             }
            },
            "type": "scattergl"
           }
          ],
          "scattermapbox": [
           {
            "marker": {
             "colorbar": {
              "outlinewidth": 0,
              "ticks": ""
             }
            },
            "type": "scattermapbox"
           }
          ],
          "scatterpolar": [
           {
            "marker": {
             "colorbar": {
              "outlinewidth": 0,
              "ticks": ""
             }
            },
            "type": "scatterpolar"
           }
          ],
          "scatterpolargl": [
           {
            "marker": {
             "colorbar": {
              "outlinewidth": 0,
              "ticks": ""
             }
            },
            "type": "scatterpolargl"
           }
          ],
          "scatterternary": [
           {
            "marker": {
             "colorbar": {
              "outlinewidth": 0,
              "ticks": ""
             }
            },
            "type": "scatterternary"
           }
          ],
          "surface": [
           {
            "colorbar": {
             "outlinewidth": 0,
             "ticks": ""
            },
            "colorscale": [
             [
              0,
              "#0d0887"
             ],
             [
              0.1111111111111111,
              "#46039f"
             ],
             [
              0.2222222222222222,
              "#7201a8"
             ],
             [
              0.3333333333333333,
              "#9c179e"
             ],
             [
              0.4444444444444444,
              "#bd3786"
             ],
             [
              0.5555555555555556,
              "#d8576b"
             ],
             [
              0.6666666666666666,
              "#ed7953"
             ],
             [
              0.7777777777777778,
              "#fb9f3a"
             ],
             [
              0.8888888888888888,
              "#fdca26"
             ],
             [
              1,
              "#f0f921"
             ]
            ],
            "type": "surface"
           }
          ],
          "table": [
           {
            "cells": {
             "fill": {
              "color": "#EBF0F8"
             },
             "line": {
              "color": "white"
             }
            },
            "header": {
             "fill": {
              "color": "#C8D4E3"
             },
             "line": {
              "color": "white"
             }
            },
            "type": "table"
           }
          ]
         },
         "layout": {
          "annotationdefaults": {
           "arrowcolor": "#2a3f5f",
           "arrowhead": 0,
           "arrowwidth": 1
          },
          "autotypenumbers": "strict",
          "coloraxis": {
           "colorbar": {
            "outlinewidth": 0,
            "ticks": ""
           }
          },
          "colorscale": {
           "diverging": [
            [
             0,
             "#8e0152"
            ],
            [
             0.1,
             "#c51b7d"
            ],
            [
             0.2,
             "#de77ae"
            ],
            [
             0.3,
             "#f1b6da"
            ],
            [
             0.4,
             "#fde0ef"
            ],
            [
             0.5,
             "#f7f7f7"
            ],
            [
             0.6,
             "#e6f5d0"
            ],
            [
             0.7,
             "#b8e186"
            ],
            [
             0.8,
             "#7fbc41"
            ],
            [
             0.9,
             "#4d9221"
            ],
            [
             1,
             "#276419"
            ]
           ],
           "sequential": [
            [
             0,
             "#0d0887"
            ],
            [
             0.1111111111111111,
             "#46039f"
            ],
            [
             0.2222222222222222,
             "#7201a8"
            ],
            [
             0.3333333333333333,
             "#9c179e"
            ],
            [
             0.4444444444444444,
             "#bd3786"
            ],
            [
             0.5555555555555556,
             "#d8576b"
            ],
            [
             0.6666666666666666,
             "#ed7953"
            ],
            [
             0.7777777777777778,
             "#fb9f3a"
            ],
            [
             0.8888888888888888,
             "#fdca26"
            ],
            [
             1,
             "#f0f921"
            ]
           ],
           "sequentialminus": [
            [
             0,
             "#0d0887"
            ],
            [
             0.1111111111111111,
             "#46039f"
            ],
            [
             0.2222222222222222,
             "#7201a8"
            ],
            [
             0.3333333333333333,
             "#9c179e"
            ],
            [
             0.4444444444444444,
             "#bd3786"
            ],
            [
             0.5555555555555556,
             "#d8576b"
            ],
            [
             0.6666666666666666,
             "#ed7953"
            ],
            [
             0.7777777777777778,
             "#fb9f3a"
            ],
            [
             0.8888888888888888,
             "#fdca26"
            ],
            [
             1,
             "#f0f921"
            ]
           ]
          },
          "colorway": [
           "#636efa",
           "#EF553B",
           "#00cc96",
           "#ab63fa",
           "#FFA15A",
           "#19d3f3",
           "#FF6692",
           "#B6E880",
           "#FF97FF",
           "#FECB52"
          ],
          "font": {
           "color": "#2a3f5f"
          },
          "geo": {
           "bgcolor": "white",
           "lakecolor": "white",
           "landcolor": "#E5ECF6",
           "showlakes": true,
           "showland": true,
           "subunitcolor": "white"
          },
          "hoverlabel": {
           "align": "left"
          },
          "hovermode": "closest",
          "mapbox": {
           "style": "light"
          },
          "paper_bgcolor": "white",
          "plot_bgcolor": "#E5ECF6",
          "polar": {
           "angularaxis": {
            "gridcolor": "white",
            "linecolor": "white",
            "ticks": ""
           },
           "bgcolor": "#E5ECF6",
           "radialaxis": {
            "gridcolor": "white",
            "linecolor": "white",
            "ticks": ""
           }
          },
          "scene": {
           "xaxis": {
            "backgroundcolor": "#E5ECF6",
            "gridcolor": "white",
            "gridwidth": 2,
            "linecolor": "white",
            "showbackground": true,
            "ticks": "",
            "zerolinecolor": "white"
           },
           "yaxis": {
            "backgroundcolor": "#E5ECF6",
            "gridcolor": "white",
            "gridwidth": 2,
            "linecolor": "white",
            "showbackground": true,
            "ticks": "",
            "zerolinecolor": "white"
           },
           "zaxis": {
            "backgroundcolor": "#E5ECF6",
            "gridcolor": "white",
            "gridwidth": 2,
            "linecolor": "white",
            "showbackground": true,
            "ticks": "",
            "zerolinecolor": "white"
           }
          },
          "shapedefaults": {
           "line": {
            "color": "#2a3f5f"
           }
          },
          "ternary": {
           "aaxis": {
            "gridcolor": "white",
            "linecolor": "white",
            "ticks": ""
           },
           "baxis": {
            "gridcolor": "white",
            "linecolor": "white",
            "ticks": ""
           },
           "bgcolor": "#E5ECF6",
           "caxis": {
            "gridcolor": "white",
            "linecolor": "white",
            "ticks": ""
           }
          },
          "title": {
           "x": 0.05
          },
          "xaxis": {
           "automargin": true,
           "gridcolor": "white",
           "linecolor": "white",
           "ticks": "",
           "title": {
            "standoff": 15
           },
           "zerolinecolor": "white",
           "zerolinewidth": 2
          },
          "yaxis": {
           "automargin": true,
           "gridcolor": "white",
           "linecolor": "white",
           "ticks": "",
           "title": {
            "standoff": 15
           },
           "zerolinecolor": "white",
           "zerolinewidth": 2
          }
         }
        },
        "title": {
         "text": "LTC-USD, CRO-USD, ETH-USD Comparison"
        },
        "xaxis": {
         "autorange": true,
         "range": [
          "2022-01-10",
          "2022-07-26"
         ],
         "rangeselector": {
          "buttons": [
           {
            "count": 7,
            "label": "1w",
            "step": "day",
            "stepmode": "backward"
           },
           {
            "count": 1,
            "label": "1m",
            "step": "month",
            "stepmode": "backward"
           },
           {
            "count": 3,
            "label": "3m",
            "step": "month",
            "stepmode": "backward"
           },
           {
            "count": 6,
            "label": "6m",
            "step": "month",
            "stepmode": "backward"
           },
           {
            "count": 1,
            "label": "YTD",
            "step": "year",
            "stepmode": "todate"
           },
           {
            "count": 1,
            "label": "1y",
            "step": "year",
            "stepmode": "backward"
           },
           {
            "step": "all"
           }
          ]
         },
         "rangeslider": {
          "autorange": true,
          "range": [
           "2022-01-10",
           "2022-07-26"
          ],
          "thickness": 0.1,
          "visible": true,
          "yaxis": {
           "_template": null,
           "rangemode": "match"
          }
         },
         "type": "date"
        },
        "yaxis": {
         "autorange": true,
         "range": [
          -0.055555555555555566,
          1.0555555555555556
         ],
         "title": {
          "text": "Norm Price"
         },
         "type": "linear"
        }
       }
      },
      "image/png": "[encoded data removed]",
      "text/html": [
       "<div>                            <div id=\"207a046c-e817-4cf3-a6fb-dffb07d11aea\" class=\"plotly-graph-div\" style=\"height:600px; width:100%;\"></div>            <script type=\"text/javascript\">                require([\"plotly\"], function(Plotly) {                    window.PLOTLYENV=window.PLOTLYENV || {};                                    if (document.getElementById(\"207a046c-e817-4cf3-a6fb-dffb07d11aea\")) {                    Plotly.newPlot(                        \"207a046c-e817-4cf3-a6fb-dffb07d11aea\",                        [{\"mode\":\"lines\",\"name\":\"LTC-USD Norm Close\",\"x\":[\"2022-01-10T00:00:00\",\"2022-01-11T00:00:00\",\"2022-01-12T00:00:00\",\"2022-01-13T00:00:00\",\"2022-01-14T00:00:00\",\"2022-01-15T00:00:00\",\"2022-01-16T00:00:00\",\"2022-01-17T00:00:00\",\"2022-01-18T00:00:00\",\"2022-01-19T00:00:00\",\"2022-01-20T00:00:00\",\"2022-01-21T00:00:00\",\"2022-01-22T00:00:00\",\"2022-01-23T00:00:00\",\"2022-01-24T00:00:00\",\"2022-01-25T00:00:00\",\"2022-01-26T00:00:00\",\"2022-01-27T00:00:00\",\"2022-01-28T00:00:00\",\"2022-01-29T00:00:00\",\"2022-01-30T00:00:00\",\"2022-01-31T00:00:00\",\"2022-02-01T00:00:00\",\"2022-02-02T00:00:00\",\"2022-02-03T00:00:00\",\"2022-02-04T00:00:00\",\"2022-02-05T00:00:00\",\"2022-02-06T00:00:00\",\"2022-02-07T00:00:00\",\"2022-02-08T00:00:00\",\"2022-02-09T00:00:00\",\"2022-02-10T00:00:00\",\"2022-02-11T00:00:00\",\"2022-02-12T00:00:00\",\"2022-02-13T00:00:00\",\"2022-02-14T00:00:00\",\"2022-02-15T00:00:00\",\"2022-02-16T00:00:00\",\"2022-02-17T00:00:00\",\"2022-02-18T00:00:00\",\"2022-02-19T00:00:00\",\"2022-02-20T00:00:00\",\"2022-02-21T00:00:00\",\"2022-02-22T00:00:00\",\"2022-02-23T00:00:00\",\"2022-02-24T00:00:00\",\"2022-02-25T00:00:00\",\"2022-02-26T00:00:00\",\"2022-02-27T00:00:00\",\"2022-02-28T00:00:00\",\"2022-03-01T00:00:00\",\"2022-03-02T00:00:00\",\"2022-03-03T00:00:00\",\"2022-03-04T00:00:00\",\"2022-03-05T00:00:00\",\"2022-03-06T00:00:00\",\"2022-03-07T00:00:00\",\"2022-03-08T00:00:00\",\"2022-03-09T00:00:00\",\"2022-03-10T00:00:00\",\"2022-03-11T00:00:00\",\"2022-03-12T00:00:00\",\"2022-03-13T00:00:00\",\"2022-03-14T00:00:00\",\"2022-03-15T00:00:00\",\"2022-03-16T00:00:00\",\"2022-03-17T00:00:00\",\"2022-03-18T00:00:00\",\"2022-03-19T00:00:00\",\"2022-03-20T00:00:00\",\"2022-03-21T00:00:00\",\"2022-03-22T00:00:00\",\"2022-03-23T00:00:00\",\"2022-03-24T00:00:00\",\"2022-03-25T00:00:00\",\"2022-03-26T00:00:00\",\"2022-03-27T00:00:00\",\"2022-03-28T00:00:00\",\"2022-03-29T00:00:00\",\"2022-03-30T00:00:00\",\"2022-03-31T00:00:00\",\"2022-04-01T00:00:00\",\"2022-04-02T00:00:00\",\"2022-04-03T00:00:00\",\"2022-04-04T00:00:00\",\"2022-04-05T00:00:00\",\"2022-04-06T00:00:00\",\"2022-04-07T00:00:00\",\"2022-04-08T00:00:00\",\"2022-04-09T00:00:00\",\"2022-04-10T00:00:00\",\"2022-04-11T00:00:00\",\"2022-04-12T00:00:00\",\"2022-04-13T00:00:00\",\"2022-04-14T00:00:00\",\"2022-04-15T00:00:00\",\"2022-04-16T00:00:00\",\"2022-04-17T00:00:00\",\"2022-04-18T00:00:00\",\"2022-04-19T00:00:00\",\"2022-04-20T00:00:00\",\"2022-04-21T00:00:00\",\"2022-04-22T00:00:00\",\"2022-04-23T00:00:00\",\"2022-04-24T00:00:00\",\"2022-04-25T00:00:00\",\"2022-04-26T00:00:00\",\"2022-04-27T00:00:00\",\"2022-04-28T00:00:00\",\"2022-04-29T00:00:00\",\"2022-04-30T00:00:00\",\"2022-05-01T00:00:00\",\"2022-05-02T00:00:00\",\"2022-05-03T00:00:00\",\"2022-05-04T00:00:00\",\"2022-05-05T00:00:00\",\"2022-05-06T00:00:00\",\"2022-05-07T00:00:00\",\"2022-05-08T00:00:00\",\"2022-05-09T00:00:00\",\"2022-05-10T00:00:00\",\"2022-05-11T00:00:00\",\"2022-05-12T00:00:00\",\"2022-05-13T00:00:00\",\"2022-05-14T00:00:00\",\"2022-05-15T00:00:00\",\"2022-05-16T00:00:00\",\"2022-05-17T00:00:00\",\"2022-05-18T00:00:00\",\"2022-05-19T00:00:00\",\"2022-05-20T00:00:00\",\"2022-05-21T00:00:00\",\"2022-05-22T00:00:00\",\"2022-05-23T00:00:00\",\"2022-05-24T00:00:00\",\"2022-05-25T00:00:00\",\"2022-05-26T00:00:00\",\"2022-05-27T00:00:00\",\"2022-05-28T00:00:00\",\"2022-05-29T00:00:00\",\"2022-05-30T00:00:00\",\"2022-05-31T00:00:00\",\"2022-06-01T00:00:00\",\"2022-06-02T00:00:00\",\"2022-06-03T00:00:00\",\"2022-06-04T00:00:00\",\"2022-06-05T00:00:00\",\"2022-06-06T00:00:00\",\"2022-06-07T00:00:00\",\"2022-06-08T00:00:00\",\"2022-06-09T00:00:00\",\"2022-06-10T00:00:00\",\"2022-06-11T00:00:00\",\"2022-06-12T00:00:00\",\"2022-06-13T00:00:00\",\"2022-06-14T00:00:00\",\"2022-06-15T00:00:00\",\"2022-06-16T00:00:00\",\"2022-06-17T00:00:00\",\"2022-06-18T00:00:00\",\"2022-06-19T00:00:00\",\"2022-06-20T00:00:00\",\"2022-06-21T00:00:00\",\"2022-06-22T00:00:00\",\"2022-06-23T00:00:00\",\"2022-06-24T00:00:00\",\"2022-06-25T00:00:00\",\"2022-06-26T00:00:00\",\"2022-06-27T00:00:00\",\"2022-06-28T00:00:00\",\"2022-06-29T00:00:00\",\"2022-06-30T00:00:00\",\"2022-07-01T00:00:00\",\"2022-07-02T00:00:00\",\"2022-07-03T00:00:00\",\"2022-07-04T00:00:00\",\"2022-07-05T00:00:00\",\"2022-07-06T00:00:00\",\"2022-07-07T00:00:00\",\"2022-07-08T00:00:00\",\"2022-07-09T00:00:00\",\"2022-07-10T00:00:00\",\"2022-07-11T00:00:00\",\"2022-07-12T00:00:00\",\"2022-07-13T00:00:00\",\"2022-07-14T00:00:00\",\"2022-07-15T00:00:00\",\"2022-07-16T00:00:00\",\"2022-07-17T00:00:00\",\"2022-07-18T00:00:00\",\"2022-07-19T00:00:00\",\"2022-07-20T00:00:00\",\"2022-07-21T00:00:00\",\"2022-07-22T00:00:00\",\"2022-07-23T00:00:00\",\"2022-07-24T00:00:00\",\"2022-07-25T00:00:00\",\"2022-07-26T00:00:00\"],\"y\":[0.770839366018076,0.8143134883966523,0.9083662732880992,0.8612977092518767,0.9359366370092669,0.9655812234337461,0.9526233510221682,1.0,0.9097833513741849,0.8638832008870819,0.8034247696491275,0.6560261900361697,0.6009967702475557,0.6347802272267251,0.611729756844523,0.5976551469229348,0.5904186709612693,0.5873857662081651,0.6102637484489268,0.6230992598850665,0.6044236519963743,0.6116937807464512,0.6653475900062483,0.6021735617921166,0.6181468789326856,0.7162490517552429,0.7254649875474123,0.7764838820392322,0.8656428615430648,0.8368873282818949,0.8939190889809999,0.8470117485545318,0.7634324436113384,0.7694538286207109,0.7650294021877833,0.7520719521961436,0.8163218135896014,0.7830849680104901,0.673656519787734,0.6634566975561247,0.668180619725251,0.623176421927115,0.5550602212424427,0.5926390509632055,0.5782726192676294,0.5622579753764377,0.608728040763524,0.599291108940342,0.5518775686212389,0.6475615281041265,0.6389746460032913,0.6187407309625015,0.6279756756518907,0.5360627997641488,0.569148419005377,0.5379279245980411,0.5127850674551839,0.5289189745756,0.5872803724335789,0.5477241949820032,0.5690392234513469,0.5770402090978695,0.5427345706717357,0.5755753271554417,0.5877092694775193,0.628040939532346,0.6183612570513328,0.6350234707078174,0.6743103554487772,0.6600612860927035,0.6723306140049811,0.7347964551926851,0.7306204116834315,0.7685088752189103,0.7453107690683001,0.7528219587964552,0.7944965018348866,0.7810342600170728,0.8006215909390924,0.8108471103836101,0.7420684848324841,0.7528389964006301,0.7532109371562338,0.7903322860839032,0.7526408110462813,0.7374283426177716,0.6382114035782489,0.6545342732176959,0.6236380565162676,0.6411268755885278,0.6263299275725814,0.5472801612236098,0.5677755542061586,0.6199504712622436,0.5916077830873617,0.6257353715095353,0.6563846133537503,0.6066653642051905,0.6268131759819063,0.6506760303086305,0.6337668417949327,0.5877961471781468,0.574901426547333,0.5740132182239002,0.5658763541639166,0.5664707694203166,0.5084979275021781,0.528191004215399,0.5538869498640335,0.5267076061990126,0.48783948042347597,0.518012795803962,0.529616460296926,0.51715683220248,0.5811232498173914,0.4947874435673364,0.49361403138228127,0.4731201872728393,0.46763450114845423,0.3198101222377696,0.34075447721132435,0.21305847876019748,0.19473136732053753,0.2275807834129771,0.23669583124323468,0.2605044046078975,0.2206488722267691,0.27378282334926207,0.21330608724731806,0.26573023206695356,0.23400114405399935,0.2436673090969894,0.26275259392243316,0.23727208244229128,0.24934949089597028,0.23081588650984328,0.18942890584435584,0.1685349596500955,0.1754499388371131,0.1886767519426917,0.23827019035298466,0.23172268131055787,0.18148998072709033,0.19517990689160528,0.1786426591335111,0.18868372187167234,0.1837051860847832,0.19486541524759968,0.19014290114493404,0.1683758129383707,0.15609620614092984,0.12326741822214009,0.08297140745043166,0.04548068748844945,0.0,0.026130791773371704,0.06636220749619381,0.012913694326372205,0.040460789749276166,0.03642213832492894,0.10171794668708363,0.08863672765354524,0.09419271149598261,0.08125254552014854,0.11500305374413672,0.11712039848280839,0.14459782981756739,0.12527658825496563,0.11650465101952812,0.08776946431871584,0.09340704561255292,0.09549154720102788,0.07211553185310347,0.06630384314139627,0.07079532873951651,0.08252990821166759,0.06026091471517456,0.06515626897589566,0.08159861305453617,0.07626542052784892,0.10021796868812208,0.0818315776504651,0.05051621476533692,0.0391455500699633,0.05779275021781028,0.07307122176166715,0.07841655886157826,0.1091187088030555,0.11462027087678539,0.14142675854300324,0.13550161487622217,0.12861360016192763,0.13656857723684557,0.11881676655138122,0.12112564353037464,0.14012943650940324,0.10211576066390333,0.09679953533806795],\"type\":\"scatter\"},{\"mode\":\"lines\",\"name\":\"CRO-USD Norm Close\",\"x\":[\"2022-01-10T00:00:00\",\"2022-01-11T00:00:00\",\"2022-01-12T00:00:00\",\"2022-01-13T00:00:00\",\"2022-01-14T00:00:00\",\"2022-01-15T00:00:00\",\"2022-01-16T00:00:00\",\"2022-01-17T00:00:00\",\"2022-01-18T00:00:00\",\"2022-01-19T00:00:00\",\"2022-01-20T00:00:00\",\"2022-01-21T00:00:00\",\"2022-01-22T00:00:00\",\"2022-01-23T00:00:00\",\"2022-01-24T00:00:00\",\"2022-01-25T00:00:00\",\"2022-01-26T00:00:00\",\"2022-01-27T00:00:00\",\"2022-01-28T00:00:00\",\"2022-01-29T00:00:00\",\"2022-01-30T00:00:00\",\"2022-01-31T00:00:00\",\"2022-02-01T00:00:00\",\"2022-02-02T00:00:00\",\"2022-02-03T00:00:00\",\"2022-02-04T00:00:00\",\"2022-02-05T00:00:00\",\"2022-02-06T00:00:00\",\"2022-02-07T00:00:00\",\"2022-02-08T00:00:00\",\"2022-02-09T00:00:00\",\"2022-02-10T00:00:00\",\"2022-02-11T00:00:00\",\"2022-02-12T00:00:00\",\"2022-02-13T00:00:00\",\"2022-02-14T00:00:00\",\"2022-02-15T00:00:00\",\"2022-02-16T00:00:00\",\"2022-02-17T00:00:00\",\"2022-02-18T00:00:00\",\"2022-02-19T00:00:00\",\"2022-02-20T00:00:00\",\"2022-02-21T00:00:00\",\"2022-02-22T00:00:00\",\"2022-02-23T00:00:00\",\"2022-02-24T00:00:00\",\"2022-02-25T00:00:00\",\"2022-02-26T00:00:00\",\"2022-02-27T00:00:00\",\"2022-02-28T00:00:00\",\"2022-03-01T00:00:00\",\"2022-03-02T00:00:00\",\"2022-03-03T00:00:00\",\"2022-03-04T00:00:00\",\"2022-03-05T00:00:00\",\"2022-03-06T00:00:00\",\"2022-03-07T00:00:00\",\"2022-03-08T00:00:00\",\"2022-03-09T00:00:00\",\"2022-03-10T00:00:00\",\"2022-03-11T00:00:00\",\"2022-03-12T00:00:00\",\"2022-03-13T00:00:00\",\"2022-03-14T00:00:00\",\"2022-03-15T00:00:00\",\"2022-03-16T00:00:00\",\"2022-03-17T00:00:00\",\"2022-03-18T00:00:00\",\"2022-03-19T00:00:00\",\"2022-03-20T00:00:00\",\"2022-03-21T00:00:00\",\"2022-03-22T00:00:00\",\"2022-03-23T00:00:00\",\"2022-03-24T00:00:00\",\"2022-03-25T00:00:00\",\"2022-03-26T00:00:00\",\"2022-03-27T00:00:00\",\"2022-03-28T00:00:00\",\"2022-03-29T00:00:00\",\"2022-03-30T00:00:00\",\"2022-03-31T00:00:00\",\"2022-04-01T00:00:00\",\"2022-04-02T00:00:00\",\"2022-04-03T00:00:00\",\"2022-04-04T00:00:00\",\"2022-04-05T00:00:00\",\"2022-04-06T00:00:00\",\"2022-04-07T00:00:00\",\"2022-04-08T00:00:00\",\"2022-04-09T00:00:00\",\"2022-04-10T00:00:00\",\"2022-04-11T00:00:00\",\"2022-04-12T00:00:00\",\"2022-04-13T00:00:00\",\"2022-04-14T00:00:00\",\"2022-04-15T00:00:00\",\"2022-04-16T00:00:00\",\"2022-04-17T00:00:00\",\"2022-04-18T00:00:00\",\"2022-04-19T00:00:00\",\"2022-04-20T00:00:00\",\"2022-04-21T00:00:00\",\"2022-04-22T00:00:00\",\"2022-04-23T00:00:00\",\"2022-04-24T00:00:00\",\"2022-04-25T00:00:00\",\"2022-04-26T00:00:00\",\"2022-04-27T00:00:00\",\"2022-04-28T00:00:00\",\"2022-04-29T00:00:00\",\"2022-04-30T00:00:00\",\"2022-05-01T00:00:00\",\"2022-05-02T00:00:00\",\"2022-05-03T00:00:00\",\"2022-05-04T00:00:00\",\"2022-05-05T00:00:00\",\"2022-05-06T00:00:00\",\"2022-05-07T00:00:00\",\"2022-05-08T00:00:00\",\"2022-05-09T00:00:00\",\"2022-05-10T00:00:00\",\"2022-05-11T00:00:00\",\"2022-05-12T00:00:00\",\"2022-05-13T00:00:00\",\"2022-05-14T00:00:00\",\"2022-05-15T00:00:00\",\"2022-05-16T00:00:00\",\"2022-05-17T00:00:00\",\"2022-05-18T00:00:00\",\"2022-05-19T00:00:00\",\"2022-05-20T00:00:00\",\"2022-05-21T00:00:00\",\"2022-05-22T00:00:00\",\"2022-05-23T00:00:00\",\"2022-05-24T00:00:00\",\"2022-05-25T00:00:00\",\"2022-05-26T00:00:00\",\"2022-05-27T00:00:00\",\"2022-05-28T00:00:00\",\"2022-05-29T00:00:00\",\"2022-05-30T00:00:00\",\"2022-05-31T00:00:00\",\"2022-06-01T00:00:00\",\"2022-06-02T00:00:00\",\"2022-06-03T00:00:00\",\"2022-06-04T00:00:00\",\"2022-06-05T00:00:00\",\"2022-06-06T00:00:00\",\"2022-06-07T00:00:00\",\"2022-06-08T00:00:00\",\"2022-06-09T00:00:00\",\"2022-06-10T00:00:00\",\"2022-06-11T00:00:00\",\"2022-06-12T00:00:00\",\"2022-06-13T00:00:00\",\"2022-06-14T00:00:00\",\"2022-06-15T00:00:00\",\"2022-06-16T00:00:00\",\"2022-06-17T00:00:00\",\"2022-06-18T00:00:00\",\"2022-06-19T00:00:00\",\"2022-06-20T00:00:00\",\"2022-06-21T00:00:00\",\"2022-06-22T00:00:00\",\"2022-06-23T00:00:00\",\"2022-06-24T00:00:00\",\"2022-06-25T00:00:00\",\"2022-06-26T00:00:00\",\"2022-06-27T00:00:00\",\"2022-06-28T00:00:00\",\"2022-06-29T00:00:00\",\"2022-06-30T00:00:00\",\"2022-07-01T00:00:00\",\"2022-07-02T00:00:00\",\"2022-07-03T00:00:00\",\"2022-07-04T00:00:00\",\"2022-07-05T00:00:00\",\"2022-07-06T00:00:00\",\"2022-07-07T00:00:00\",\"2022-07-08T00:00:00\",\"2022-07-09T00:00:00\",\"2022-07-10T00:00:00\",\"2022-07-11T00:00:00\",\"2022-07-12T00:00:00\",\"2022-07-13T00:00:00\",\"2022-07-14T00:00:00\",\"2022-07-15T00:00:00\",\"2022-07-16T00:00:00\",\"2022-07-17T00:00:00\",\"2022-07-18T00:00:00\",\"2022-07-19T00:00:00\",\"2022-07-20T00:00:00\",\"2022-07-21T00:00:00\",\"2022-07-22T00:00:00\",\"2022-07-23T00:00:00\",\"2022-07-24T00:00:00\",\"2022-07-25T00:00:00\",\"2022-07-26T00:00:00\"],\"y\":[0.8291362290362256,0.8634148158767234,0.9313299664068271,0.8566081578723898,0.8580126611289827,0.884648769178652,0.8756924403034069,0.8287636087048229,0.8292587313486668,0.7994019155139463,0.805389919126194,0.629295511261794,0.5651012315061776,0.6650203120448737,0.6564512862468874,0.6990465163633176,0.717464085254889,0.7199813361116107,0.7711652420689888,0.7975513051481834,0.7782881269728799,0.7903499661694195,0.8100813851454076,0.7263370658066425,0.7238369082958427,0.8079562585660764,0.8382690430556913,0.8702166526809251,0.952237831263474,0.933413382300169,1.0,0.9862639625334311,0.9146060997312728,0.9300504491112281,0.9757414741002024,0.8921172464738125,0.9535172755105861,0.9148609659018795,0.7920559405312269,0.8056791911341051,0.8094881583837292,0.7303789116323324,0.6847565522209936,0.7289671035270548,0.7176136155074633,0.7056301573373096,0.7629564914081283,0.7529388410674941,0.7059585833341704,0.8142212620404451,0.8149075525743656,0.8325432104627347,0.793426110999002,0.7096646983143149,0.7422839157276131,0.6984214404613742,0.6680548192369538,0.6874307112274611,0.7408157141904904,0.6931932872093013,0.6769399988860105,0.6905828264833637,0.6627432446129023,0.6684248828713168,0.6818986032216209,0.7338398758906208,0.722366296158654,0.7342442723138017,0.7632310076216965,0.7328079929654308,0.7322957039271779,0.7619368075802415,0.8038824905516347,0.8409358241649874,0.8557674428372762,0.860490684948268,0.9278812742943288,0.9179395943800147,0.9169591375895643,0.9006249845913348,0.8671429914998955,0.9171012899449671,0.9131623694372436,0.9155742843759331,0.9237658686423847,0.8934163407638863,0.8171012716828454,0.8379111785186315,0.8067870444856153,0.8302147168960237,0.8197656421920755,0.7259938840154389,0.7601720291865229,0.7747291316452437,0.745460575275096,0.7368645215369767,0.7398769680860292,0.7314255503518654,0.7471322168480856,0.7608730755147863,0.7610397721617695,0.7380263577202663,0.7310456251717781,0.732910918283397,0.7138928177814626,0.7268616269906853,0.6682729420186767,0.6937128810962386,0.69319818145792,0.6457154231835809,0.5976469621417085,0.507064062609858,0.41563314319420946,0.4518995985072542,0.5032991435978024,0.43578605193930037,0.42582231138195864,0.4049021743795216,0.36729988138751946,0.2531986927973279,0.30342661320734904,0.2149100362229184,0.1736384081638989,0.18489141798983347,0.20190203650050267,0.23749936767403573,0.21362810832725357,0.23467082069061865,0.19276188110810902,0.2202926505004278,0.19821312443901046,0.20285553839930676,0.21844941803183635,0.19277660037820854,0.20337023803762544,0.18974950760754336,0.155867939293055,0.15098778903231758,0.15321584092961504,0.16631697747275975,0.2039021405945964,0.2025172873809652,0.17720229774015375,0.1911833763558484,0.1759767632763342,0.17878080249241438,0.1771851678699883,0.1841144012352499,0.17571937693293144,0.17097162705460284,0.1659836207030369,0.14468845276913117,0.11420656103246732,0.08566107510936728,0.02437618874998516,0.029454866535849,0.037014070051672676,0.006005188268778255,0.02022157432272639,0.0,0.019731364189622916,0.020057361324296016,0.02392518739219641,0.019111237322663385,0.03553114924445037,0.05031126873351273,0.05511789569223942,0.043585475404117925,0.043590369652736626,0.03291827791844684,0.02547918437712012,0.020025493921909342,0.01469925481412356,0.015566943003005032,0.016415017673168286,0.02931024879401514,0.02340555698101561,0.03185449106662661,0.041438306443880954,0.04004118108445957,0.04437962202886694,0.031239276710407493,0.01674101480784139,0.008711214677632462,0.02322662471248572,0.029057793223474498,0.03265355020211603,0.039511743913919664,0.03451394906511633,0.06285110070373086,0.07072894171917787,0.06207412047339072,0.06820920721390332,0.060248054399208155,0.04878915741309741,0.05464728081573245,0.03444776713603363,0.03383498164200215],\"type\":\"scatter\"},{\"mode\":\"lines\",\"name\":\"ETH-USD Norm Close\",\"x\":[\"2022-01-10T00:00:00\",\"2022-01-11T00:00:00\",\"2022-01-12T00:00:00\",\"2022-01-13T00:00:00\",\"2022-01-14T00:00:00\",\"2022-01-15T00:00:00\",\"2022-01-16T00:00:00\",\"2022-01-17T00:00:00\",\"2022-01-18T00:00:00\",\"2022-01-19T00:00:00\",\"2022-01-20T00:00:00\",\"2022-01-21T00:00:00\",\"2022-01-22T00:00:00\",\"2022-01-23T00:00:00\",\"2022-01-24T00:00:00\",\"2022-01-25T00:00:00\",\"2022-01-26T00:00:00\",\"2022-01-27T00:00:00\",\"2022-01-28T00:00:00\",\"2022-01-29T00:00:00\",\"2022-01-30T00:00:00\",\"2022-01-31T00:00:00\",\"2022-02-01T00:00:00\",\"2022-02-02T00:00:00\",\"2022-02-03T00:00:00\",\"2022-02-04T00:00:00\",\"2022-02-05T00:00:00\",\"2022-02-06T00:00:00\",\"2022-02-07T00:00:00\",\"2022-02-08T00:00:00\",\"2022-02-09T00:00:00\",\"2022-02-10T00:00:00\",\"2022-02-11T00:00:00\",\"2022-02-12T00:00:00\",\"2022-02-13T00:00:00\",\"2022-02-14T00:00:00\",\"2022-02-15T00:00:00\",\"2022-02-16T00:00:00\",\"2022-02-17T00:00:00\",\"2022-02-18T00:00:00\",\"2022-02-19T00:00:00\",\"2022-02-20T00:00:00\",\"2022-02-21T00:00:00\",\"2022-02-22T00:00:00\",\"2022-02-23T00:00:00\",\"2022-02-24T00:00:00\",\"2022-02-25T00:00:00\",\"2022-02-26T00:00:00\",\"2022-02-27T00:00:00\",\"2022-02-28T00:00:00\",\"2022-03-01T00:00:00\",\"2022-03-02T00:00:00\",\"2022-03-03T00:00:00\",\"2022-03-04T00:00:00\",\"2022-03-05T00:00:00\",\"2022-03-06T00:00:00\",\"2022-03-07T00:00:00\",\"2022-03-08T00:00:00\",\"2022-03-09T00:00:00\",\"2022-03-10T00:00:00\",\"2022-03-11T00:00:00\",\"2022-03-12T00:00:00\",\"2022-03-13T00:00:00\",\"2022-03-14T00:00:00\",\"2022-03-15T00:00:00\",\"2022-03-16T00:00:00\",\"2022-03-17T00:00:00\",\"2022-03-18T00:00:00\",\"2022-03-19T00:00:00\",\"2022-03-20T00:00:00\",\"2022-03-21T00:00:00\",\"2022-03-22T00:00:00\",\"2022-03-23T00:00:00\",\"2022-03-24T00:00:00\",\"2022-03-25T00:00:00\",\"2022-03-26T00:00:00\",\"2022-03-27T00:00:00\",\"2022-03-28T00:00:00\",\"2022-03-29T00:00:00\",\"2022-03-30T00:00:00\",\"2022-03-31T00:00:00\",\"2022-04-01T00:00:00\",\"2022-04-02T00:00:00\",\"2022-04-03T00:00:00\",\"2022-04-04T00:00:00\",\"2022-04-05T00:00:00\",\"2022-04-06T00:00:00\",\"2022-04-07T00:00:00\",\"2022-04-08T00:00:00\",\"2022-04-09T00:00:00\",\"2022-04-10T00:00:00\",\"2022-04-11T00:00:00\",\"2022-04-12T00:00:00\",\"2022-04-13T00:00:00\",\"2022-04-14T00:00:00\",\"2022-04-15T00:00:00\",\"2022-04-16T00:00:00\",\"2022-04-17T00:00:00\",\"2022-04-18T00:00:00\",\"2022-04-19T00:00:00\",\"2022-04-20T00:00:00\",\"2022-04-21T00:00:00\",\"2022-04-22T00:00:00\",\"2022-04-23T00:00:00\",\"2022-04-24T00:00:00\",\"2022-04-25T00:00:00\",\"2022-04-26T00:00:00\",\"2022-04-27T00:00:00\",\"2022-04-28T00:00:00\",\"2022-04-29T00:00:00\",\"2022-04-30T00:00:00\",\"2022-05-01T00:00:00\",\"2022-05-02T00:00:00\",\"2022-05-03T00:00:00\",\"2022-05-04T00:00:00\",\"2022-05-05T00:00:00\",\"2022-05-06T00:00:00\",\"2022-05-07T00:00:00\",\"2022-05-08T00:00:00\",\"2022-05-09T00:00:00\",\"2022-05-10T00:00:00\",\"2022-05-11T00:00:00\",\"2022-05-12T00:00:00\",\"2022-05-13T00:00:00\",\"2022-05-14T00:00:00\",\"2022-05-15T00:00:00\",\"2022-05-16T00:00:00\",\"2022-05-17T00:00:00\",\"2022-05-18T00:00:00\",\"2022-05-19T00:00:00\",\"2022-05-20T00:00:00\",\"2022-05-21T00:00:00\",\"2022-05-22T00:00:00\",\"2022-05-23T00:00:00\",\"2022-05-24T00:00:00\",\"2022-05-25T00:00:00\",\"2022-05-26T00:00:00\",\"2022-05-27T00:00:00\",\"2022-05-28T00:00:00\",\"2022-05-29T00:00:00\",\"2022-05-30T00:00:00\",\"2022-05-31T00:00:00\",\"2022-06-01T00:00:00\",\"2022-06-02T00:00:00\",\"2022-06-03T00:00:00\",\"2022-06-04T00:00:00\",\"2022-06-05T00:00:00\",\"2022-06-06T00:00:00\",\"2022-06-07T00:00:00\",\"2022-06-08T00:00:00\",\"2022-06-09T00:00:00\",\"2022-06-10T00:00:00\",\"2022-06-11T00:00:00\",\"2022-06-12T00:00:00\",\"2022-06-13T00:00:00\",\"2022-06-14T00:00:00\",\"2022-06-15T00:00:00\",\"2022-06-16T00:00:00\",\"2022-06-17T00:00:00\",\"2022-06-18T00:00:00\",\"2022-06-19T00:00:00\",\"2022-06-20T00:00:00\",\"2022-06-21T00:00:00\",\"2022-06-22T00:00:00\",\"2022-06-23T00:00:00\",\"2022-06-24T00:00:00\",\"2022-06-25T00:00:00\",\"2022-06-26T00:00:00\",\"2022-06-27T00:00:00\",\"2022-06-28T00:00:00\",\"2022-06-29T00:00:00\",\"2022-06-30T00:00:00\",\"2022-07-01T00:00:00\",\"2022-07-02T00:00:00\",\"2022-07-03T00:00:00\",\"2022-07-04T00:00:00\",\"2022-07-05T00:00:00\",\"2022-07-06T00:00:00\",\"2022-07-07T00:00:00\",\"2022-07-08T00:00:00\",\"2022-07-09T00:00:00\",\"2022-07-10T00:00:00\",\"2022-07-11T00:00:00\",\"2022-07-12T00:00:00\",\"2022-07-13T00:00:00\",\"2022-07-14T00:00:00\",\"2022-07-15T00:00:00\",\"2022-07-16T00:00:00\",\"2022-07-17T00:00:00\",\"2022-07-18T00:00:00\",\"2022-07-19T00:00:00\",\"2022-07-20T00:00:00\",\"2022-07-21T00:00:00\",\"2022-07-22T00:00:00\",\"2022-07-23T00:00:00\",\"2022-07-24T00:00:00\",\"2022-07-25T00:00:00\",\"2022-07-26T00:00:00\"],\"y\":[0.8261362618148078,0.8874259475381252,0.9404652100243641,0.8914497555272398,0.91584994956002,0.9239668733021016,0.932029161676021,0.8772224546826287,0.8581334748318581,0.8311687004787038,0.7937236848592387,0.6184947381724262,0.5580998755283721,0.6094434144942854,0.5720059281305034,0.5781670794444346,0.5829493151502452,0.5651456178561511,0.6142089506971065,0.633975177443682,0.6364984433867181,0.6700317210920442,0.7110875939850804,0.6678868485115446,0.6664273312560471,0.7867913640113017,0.7990724487907448,0.8160058413510053,0.8496112261588351,0.8417581159524198,0.8879579184108135,0.823915903619639,0.7645695380939193,0.7606075086129738,0.7472042751499884,0.7669795756149513,0.8644010975434621,0.8438225799433805,0.7464208464432677,0.7085612391166358,0.6998524000431581,0.6464549187384568,0.6247751992302591,0.6506660893593783,0.6313161918405118,0.6343636098137959,0.7001823358883492,0.70673626337375,0.6437478617336174,0.7613343713731521,0.7824019044769606,0.7735585040903767,0.7278327551532627,0.6419110129336927,0.6607608906520647,0.6173503878375106,0.5947083715356586,0.6259342219608648,0.6864419269112466,0.63831009813878,0.6191397444092803,0.6251460633371123,0.6030799385661001,0.6314492086909137,0.643094650538647,0.7031556196518304,0.720077525270728,0.7716703984344554,0.7720318027072453,0.738108837755858,0.7529425332697176,0.7826573199966727,0.8055642116523002,0.8360066333707857,0.8354568046480798,0.8498912565528959,0.9085654912155184,0.9263801928063802,0.9522197295505838,0.9455655085183272,0.9046374399140661,0.9710258796686423,0.9692494579720206,1.0,0.9993704383901881,0.9560963309382015,0.8611647724756668,0.8855135165946123,0.8692234892795827,0.8968379032577039,0.8770492818019169,0.7857892007740943,0.8052911313404085,0.8400720453239956,0.8011526469955048,0.8094584778320976,0.8179172104764091,0.7906725987870321,0.8160574843226779,0.8344426718249147,0.8240201548521745,0.7883309037406622,0.7793774603864019,0.7688121771424394,0.7627306621866952,0.7969948568667983,0.7174853376795157,0.7493655576467205,0.7683483556865753,0.720373000291831,0.6866013926854584,0.7251785959960432,0.7369033846152064,0.7076711459544043,0.7698127959169425,0.6941240844020874,0.6726811503322321,0.6493983750659624,0.6024929462095736,0.4949372391894187,0.5337165740564196,0.42640884982921257,0.3827558181056349,0.40359906626611347,0.4201480806708586,0.455508264697451,0.40688380058679446,0.43364456106961186,0.36494565337396684,0.40514816235845635,0.3826032541491327,0.3878233450315926,0.41496708400059956,0.38689956327662495,0.38958852110914916,0.37608427013241524,0.3203691294821786,0.28913768037966947,0.3021927822962294,0.32357871603940686,0.39649130410786776,0.3750958622661674,0.3281407692809457,0.33232438089548866,0.30896838844414665,0.3194582343378993,0.32087981572822416,0.34226396368639983,0.32437633449722275,0.3162804540594863,0.3147992660616701,0.26546193588409234,0.21193554020804733,0.17854671803002622,0.08340434040836414,0.0862036790597813,0.09472163219590815,0.02929544097052685,0.03672411352003587,0.0,0.05298904331612166,0.052983492903278334,0.05186935612001431,0.022847212651446937,0.059208498097137484,0.09220632988869082,0.09877053770396652,0.08152583937988471,0.07909384152977679,0.05967999360206325,0.04163656673759692,0.029124681312790404,0.02614686069011565,0.02881390645802359,0.031682070228698005,0.06224201590608354,0.0557110623034083,0.07644214385999214,0.09645616034167763,0.09049096273334568,0.08830530668456249,0.06909894766827036,0.04096154000692933,0.017616214001138414,0.0474262747711607,0.07824202208393435,0.09469108079304009,0.14193822202273984,0.13640653578970152,0.2313308063188506,0.21719877951730665,0.2081941275715093,0.23055254190929714,0.21499647222999346,0.21969849240410316,0.2395384672448057,0.17861269554617257,0.17719854688261183],\"type\":\"scatter\"}],                        {\"template\":{\"data\":{\"bar\":[{\"error_x\":{\"color\":\"#2a3f5f\"},\"error_y\":{\"color\":\"#2a3f5f\"},\"marker\":{\"line\":{\"color\":\"#E5ECF6\",\"width\":0.5},\"pattern\":{\"fillmode\":\"overlay\",\"size\":10,\"solidity\":0.2}},\"type\":\"bar\"}],\"barpolar\":[{\"marker\":{\"line\":{\"color\":\"#E5ECF6\",\"width\":0.5},\"pattern\":{\"fillmode\":\"overlay\",\"size\":10,\"solidity\":0.2}},\"type\":\"barpolar\"}],\"carpet\":[{\"aaxis\":{\"endlinecolor\":\"#2a3f5f\",\"gridcolor\":\"white\",\"linecolor\":\"white\",\"minorgridcolor\":\"white\",\"startlinecolor\":\"#2a3f5f\"},\"baxis\":{\"endlinecolor\":\"#2a3f5f\",\"gridcolor\":\"white\",\"linecolor\":\"white\",\"minorgridcolor\":\"white\",\"startlinecolor\":\"#2a3f5f\"},\"type\":\"carpet\"}],\"choropleth\":[{\"colorbar\":{\"outlinewidth\":0,\"ticks\":\"\"},\"type\":\"choropleth\"}],\"contour\":[{\"colorbar\":{\"outlinewidth\":0,\"ticks\":\"\"},\"colorscale\":[[0.0,\"#0d0887\"],[0.1111111111111111,\"#46039f\"],[0.2222222222222222,\"#7201a8\"],[0.3333333333333333,\"#9c179e\"],[0.4444444444444444,\"#bd3786\"],[0.5555555555555556,\"#d8576b\"],[0.6666666666666666,\"#ed7953\"],[0.7777777777777778,\"#fb9f3a\"],[0.8888888888888888,\"#fdca26\"],[1.0,\"#f0f921\"]],\"type\":\"contour\"}],\"contourcarpet\":[{\"colorbar\":{\"outlinewidth\":0,\"ticks\":\"\"},\"type\":\"contourcarpet\"}],\"heatmap\":[{\"colorbar\":{\"outlinewidth\":0,\"ticks\":\"\"},\"colorscale\":[[0.0,\"#0d0887\"],[0.1111111111111111,\"#46039f\"],[0.2222222222222222,\"#7201a8\"],[0.3333333333333333,\"#9c179e\"],[0.4444444444444444,\"#bd3786\"],[0.5555555555555556,\"#d8576b\"],[0.6666666666666666,\"#ed7953\"],[0.7777777777777778,\"#fb9f3a\"],[0.8888888888888888,\"#fdca26\"],[1.0,\"#f0f921\"]],\"type\":\"heatmap\"}],\"heatmapgl\":[{\"colorbar\":{\"outlinewidth\":0,\"ticks\":\"\"},\"colorscale\":[[0.0,\"#0d0887\"],[0.1111111111111111,\"#46039f\"],[0.2222222222222222,\"#7201a8\"],[0.3333333333333333,\"#9c179e\"],[0.4444444444444444,\"#bd3786\"],[0.5555555555555556,\"#d8576b\"],[0.6666666666666666,\"#ed7953\"],[0.7777777777777778,\"#fb9f3a\"],[0.8888888888888888,\"#fdca26\"],[1.0,\"#f0f921\"]],\"type\":\"heatmapgl\"}],\"histogram\":[{\"marker\":{\"pattern\":{\"fillmode\":\"overlay\",\"size\":10,\"solidity\":0.2}},\"type\":\"histogram\"}],\"histogram2d\":[{\"colorbar\":{\"outlinewidth\":0,\"ticks\":\"\"},\"colorscale\":[[0.0,\"#0d0887\"],[0.1111111111111111,\"#46039f\"],[0.2222222222222222,\"#7201a8\"],[0.3333333333333333,\"#9c179e\"],[0.4444444444444444,\"#bd3786\"],[0.5555555555555556,\"#d8576b\"],[0.6666666666666666,\"#ed7953\"],[0.7777777777777778,\"#fb9f3a\"],[0.8888888888888888,\"#fdca26\"],[1.0,\"#f0f921\"]],\"type\":\"histogram2d\"}],\"histogram2dcontour\":[{\"colorbar\":{\"outlinewidth\":0,\"ticks\":\"\"},\"colorscale\":[[0.0,\"#0d0887\"],[0.1111111111111111,\"#46039f\"],[0.2222222222222222,\"#7201a8\"],[0.3333333333333333,\"#9c179e\"],[0.4444444444444444,\"#bd3786\"],[0.5555555555555556,\"#d8576b\"],[0.6666666666666666,\"#ed7953\"],[0.7777777777777778,\"#fb9f3a\"],[0.8888888888888888,\"#fdca26\"],[1.0,\"#f0f921\"]],\"type\":\"histogram2dcontour\"}],\"mesh3d\":[{\"colorbar\":{\"outlinewidth\":0,\"ticks\":\"\"},\"type\":\"mesh3d\"}],\"parcoords\":[{\"line\":{\"colorbar\":{\"outlinewidth\":0,\"ticks\":\"\"}},\"type\":\"parcoords\"}],\"pie\":[{\"automargin\":true,\"type\":\"pie\"}],\"scatter\":[{\"marker\":{\"colorbar\":{\"outlinewidth\":0,\"ticks\":\"\"}},\"type\":\"scatter\"}],\"scatter3d\":[{\"line\":{\"colorbar\":{\"outlinewidth\":0,\"ticks\":\"\"}},\"marker\":{\"colorbar\":{\"outlinewidth\":0,\"ticks\":\"\"}},\"type\":\"scatter3d\"}],\"scattercarpet\":[{\"marker\":{\"colorbar\":{\"outlinewidth\":0,\"ticks\":\"\"}},\"type\":\"scattercarpet\"}],\"scattergeo\":[{\"marker\":{\"colorbar\":{\"outlinewidth\":0,\"ticks\":\"\"}},\"type\":\"scattergeo\"}],\"scattergl\":[{\"marker\":{\"colorbar\":{\"outlinewidth\":0,\"ticks\":\"\"}},\"type\":\"scattergl\"}],\"scattermapbox\":[{\"marker\":{\"colorbar\":{\"outlinewidth\":0,\"ticks\":\"\"}},\"type\":\"scattermapbox\"}],\"scatterpolar\":[{\"marker\":{\"colorbar\":{\"outlinewidth\":0,\"ticks\":\"\"}},\"type\":\"scatterpolar\"}],\"scatterpolargl\":[{\"marker\":{\"colorbar\":{\"outlinewidth\":0,\"ticks\":\"\"}},\"type\":\"scatterpolargl\"}],\"scatterternary\":[{\"marker\":{\"colorbar\":{\"outlinewidth\":0,\"ticks\":\"\"}},\"type\":\"scatterternary\"}],\"surface\":[{\"colorbar\":{\"outlinewidth\":0,\"ticks\":\"\"},\"colorscale\":[[0.0,\"#0d0887\"],[0.1111111111111111,\"#46039f\"],[0.2222222222222222,\"#7201a8\"],[0.3333333333333333,\"#9c179e\"],[0.4444444444444444,\"#bd3786\"],[0.5555555555555556,\"#d8576b\"],[0.6666666666666666,\"#ed7953\"],[0.7777777777777778,\"#fb9f3a\"],[0.8888888888888888,\"#fdca26\"],[1.0,\"#f0f921\"]],\"type\":\"surface\"}],\"table\":[{\"cells\":{\"fill\":{\"color\":\"#EBF0F8\"},\"line\":{\"color\":\"white\"}},\"header\":{\"fill\":{\"color\":\"#C8D4E3\"},\"line\":{\"color\":\"white\"}},\"type\":\"table\"}]},\"layout\":{\"annotationdefaults\":{\"arrowcolor\":\"#2a3f5f\",\"arrowhead\":0,\"arrowwidth\":1},\"autotypenumbers\":\"strict\",\"coloraxis\":{\"colorbar\":{\"outlinewidth\":0,\"ticks\":\"\"}},\"colorscale\":{\"diverging\":[[0,\"#8e0152\"],[0.1,\"#c51b7d\"],[0.2,\"#de77ae\"],[0.3,\"#f1b6da\"],[0.4,\"#fde0ef\"],[0.5,\"#f7f7f7\"],[0.6,\"#e6f5d0\"],[0.7,\"#b8e186\"],[0.8,\"#7fbc41\"],[0.9,\"#4d9221\"],[1,\"#276419\"]],\"sequential\":[[0.0,\"#0d0887\"],[0.1111111111111111,\"#46039f\"],[0.2222222222222222,\"#7201a8\"],[0.3333333333333333,\"#9c179e\"],[0.4444444444444444,\"#bd3786\"],[0.5555555555555556,\"#d8576b\"],[0.6666666666666666,\"#ed7953\"],[0.7777777777777778,\"#fb9f3a\"],[0.8888888888888888,\"#fdca26\"],[1.0,\"#f0f921\"]],\"sequentialminus\":[[0.0,\"#0d0887\"],[0.1111111111111111,\"#46039f\"],[0.2222222222222222,\"#7201a8\"],[0.3333333333333333,\"#9c179e\"],[0.4444444444444444,\"#bd3786\"],[0.5555555555555556,\"#d8576b\"],[0.6666666666666666,\"#ed7953\"],[0.7777777777777778,\"#fb9f3a\"],[0.8888888888888888,\"#fdca26\"],[1.0,\"#f0f921\"]]},\"colorway\":[\"#636efa\",\"#EF553B\",\"#00cc96\",\"#ab63fa\",\"#FFA15A\",\"#19d3f3\",\"#FF6692\",\"#B6E880\",\"#FF97FF\",\"#FECB52\"],\"font\":{\"color\":\"#2a3f5f\"},\"geo\":{\"bgcolor\":\"white\",\"lakecolor\":\"white\",\"landcolor\":\"#E5ECF6\",\"showlakes\":true,\"showland\":true,\"subunitcolor\":\"white\"},\"hoverlabel\":{\"align\":\"left\"},\"hovermode\":\"closest\",\"mapbox\":{\"style\":\"light\"},\"paper_bgcolor\":\"white\",\"plot_bgcolor\":\"#E5ECF6\",\"polar\":{\"angularaxis\":{\"gridcolor\":\"white\",\"linecolor\":\"white\",\"ticks\":\"\"},\"bgcolor\":\"#E5ECF6\",\"radialaxis\":{\"gridcolor\":\"white\",\"linecolor\":\"white\",\"ticks\":\"\"}},\"scene\":{\"xaxis\":{\"backgroundcolor\":\"#E5ECF6\",\"gridcolor\":\"white\",\"gridwidth\":2,\"linecolor\":\"white\",\"showbackground\":true,\"ticks\":\"\",\"zerolinecolor\":\"white\"},\"yaxis\":{\"backgroundcolor\":\"#E5ECF6\",\"gridcolor\":\"white\",\"gridwidth\":2,\"linecolor\":\"white\",\"showbackground\":true,\"ticks\":\"\",\"zerolinecolor\":\"white\"},\"zaxis\":{\"backgroundcolor\":\"#E5ECF6\",\"gridcolor\":\"white\",\"gridwidth\":2,\"linecolor\":\"white\",\"showbackground\":true,\"ticks\":\"\",\"zerolinecolor\":\"white\"}},\"shapedefaults\":{\"line\":{\"color\":\"#2a3f5f\"}},\"ternary\":{\"aaxis\":{\"gridcolor\":\"white\",\"linecolor\":\"white\",\"ticks\":\"\"},\"baxis\":{\"gridcolor\":\"white\",\"linecolor\":\"white\",\"ticks\":\"\"},\"bgcolor\":\"#E5ECF6\",\"caxis\":{\"gridcolor\":\"white\",\"linecolor\":\"white\",\"ticks\":\"\"}},\"title\":{\"x\":0.05},\"xaxis\":{\"automargin\":true,\"gridcolor\":\"white\",\"linecolor\":\"white\",\"ticks\":\"\",\"title\":{\"standoff\":15},\"zerolinecolor\":\"white\",\"zerolinewidth\":2},\"yaxis\":{\"automargin\":true,\"gridcolor\":\"white\",\"linecolor\":\"white\",\"ticks\":\"\",\"title\":{\"standoff\":15},\"zerolinecolor\":\"white\",\"zerolinewidth\":2}}},\"title\":{\"text\":\"LTC-USD, CRO-USD, ETH-USD Comparison\"},\"yaxis\":{\"title\":{\"text\":\"Norm Price\"}},\"xaxis\":{\"rangeslider\":{\"visible\":true,\"thickness\":0.1},\"rangeselector\":{\"buttons\":[{\"count\":7,\"label\":\"1w\",\"step\":\"day\",\"stepmode\":\"backward\"},{\"count\":1,\"label\":\"1m\",\"step\":\"month\",\"stepmode\":\"backward\"},{\"count\":3,\"label\":\"3m\",\"step\":\"month\",\"stepmode\":\"backward\"},{\"count\":6,\"label\":\"6m\",\"step\":\"month\",\"stepmode\":\"backward\"},{\"count\":1,\"label\":\"YTD\",\"step\":\"year\",\"stepmode\":\"todate\"},{\"count\":1,\"label\":\"1y\",\"step\":\"year\",\"stepmode\":\"backward\"},{\"step\":\"all\"}]},\"type\":\"date\"},\"height\":600},                        {\"responsive\": true}                    ).then(function(){\n",
       "                            \n",
       "var gd = document.getElementById('207a046c-e817-4cf3-a6fb-dffb07d11aea');\n",
       "var x = new MutationObserver(function (mutations, observer) {{\n",
       "        var display = window.getComputedStyle(gd).display;\n",
       "        if (!display || display === 'none') {{\n",
       "            console.log([gd, 'removed!']);\n",
       "            Plotly.purge(gd);\n",
       "            observer.disconnect();\n",
       "        }}\n",
       "}});\n",
       "\n",
       "// Listen for the removal of the full notebook cells\n",
       "var notebookContainer = gd.closest('#notebook-container');\n",
       "if (notebookContainer) {{\n",
       "    x.observe(notebookContainer, {childList: true});\n",
       "}}\n",
       "\n",
       "// Listen for the clearing of the current output cell\n",
       "var outputEl = gd.closest('.output');\n",
       "if (outputEl) {{\n",
       "    x.observe(outputEl, {childList: true});\n",
       "}}\n",
       "\n",
       "                        })                };                });            </script>        </div>"
      ]
     },
     "metadata": {},
     "output_type": "display_data"
    },
    {
     "data": {
      "text/markdown": [
       "Given Timeframe:"
      ],
      "text/plain": [
       "<IPython.core.display.Markdown object>"
      ]
     },
     "metadata": {},
     "output_type": "display_data"
    },
    {
     "data": {
      "text/markdown": [
       "LTC-USD Return: -57.59%"
      ],
      "text/plain": [
       "<IPython.core.display.Markdown object>"
      ]
     },
     "metadata": {},
     "output_type": "display_data"
    },
    {
     "data": {
      "text/markdown": [
       "CRO-USD Return: -72.94%"
      ],
      "text/plain": [
       "<IPython.core.display.Markdown object>"
      ]
     },
     "metadata": {},
     "output_type": "display_data"
    },
    {
     "data": {
      "text/markdown": [
       "ETH-USD Return: -53.24%"
      ],
      "text/plain": [
       "<IPython.core.display.Markdown object>"
      ]
     },
     "metadata": {},
     "output_type": "display_data"
    },
    {
     "name": "stdout",
     "output_type": "stream",
     "text": [
      "\n",
      "\n"
     ]
    },
    {
     "data": {
      "text/markdown": [
       "Last 90 Days Close Pearson Correlation Matrix: "
      ],
      "text/plain": [
       "<IPython.core.display.Markdown object>"
      ]
     },
     "metadata": {},
     "output_type": "display_data"
    },
    {
     "data": {
      "text/html": [
       "<div>\n",
       "<style scoped>\n",
       "    .dataframe tbody tr th:only-of-type {\n",
       "        vertical-align: middle;\n",
       "    }\n",
       "\n",
       "    .dataframe tbody tr th {\n",
       "        vertical-align: top;\n",
       "    }\n",
       "\n",
       "    .dataframe thead th {\n",
       "        text-align: right;\n",
       "    }\n",
       "</style>\n",
       "<table border=\"1\" class=\"dataframe\">\n",
       "  <thead>\n",
       "    <tr style=\"text-align: right;\">\n",
       "      <th></th>\n",
       "      <th>LTC-USD</th>\n",
       "      <th>CRO-USD</th>\n",
       "      <th>ETH-USD</th>\n",
       "    </tr>\n",
       "  </thead>\n",
       "  <tbody>\n",
       "    <tr>\n",
       "      <th>LTC-USD</th>\n",
       "      <td>1.000000</td>\n",
       "      <td>0.963071</td>\n",
       "      <td>0.960145</td>\n",
       "    </tr>\n",
       "    <tr>\n",
       "      <th>CRO-USD</th>\n",
       "      <td>0.963071</td>\n",
       "      <td>1.000000</td>\n",
       "      <td>0.956059</td>\n",
       "    </tr>\n",
       "    <tr>\n",
       "      <th>ETH-USD</th>\n",
       "      <td>0.960145</td>\n",
       "      <td>0.956059</td>\n",
       "      <td>1.000000</td>\n",
       "    </tr>\n",
       "  </tbody>\n",
       "</table>\n",
       "</div>"
      ],
      "text/plain": [
       "          LTC-USD   CRO-USD   ETH-USD\n",
       "LTC-USD  1.000000  0.963071  0.960145\n",
       "CRO-USD  0.963071  1.000000  0.956059\n",
       "ETH-USD  0.960145  0.956059  1.000000"
      ]
     },
     "metadata": {},
     "output_type": "display_data"
    },
    {
     "data": {
      "application/vnd.plotly.v1+json": {
       "config": {
        "plotlyServerURL": "https://plot.ly"
       },
       "data": [
        {
         "coloraxis": "coloraxis",
         "hovertemplate": "x: %{x}<br>y: %{y}<br>color: %{z}<extra></extra>",
         "name": "0",
         "type": "heatmap",
         "x": [
          "LTC-USD",
          "CRO-USD",
          "ETH-USD"
         ],
         "xaxis": "x",
         "y": [
          "LTC-USD",
          "CRO-USD",
          "ETH-USD"
         ],
         "yaxis": "y",
         "z": [
          [
           1,
           0.9630706800392846,
           0.9601446938823863
          ],
          [
           0.9630706800392846,
           1,
           0.9560585056441618
          ],
          [
           0.9601446938823863,
           0.9560585056441618,
           1
          ]
         ]
        }
       ],
       "layout": {
        "coloraxis": {
         "colorscale": [
          [
           0,
           "rgb(247,251,255)"
          ],
          [
           0.125,
           "rgb(222,235,247)"
          ],
          [
           0.25,
           "rgb(198,219,239)"
          ],
          [
           0.375,
           "rgb(158,202,225)"
          ],
          [
           0.5,
           "rgb(107,174,214)"
          ],
          [
           0.625,
           "rgb(66,146,198)"
          ],
          [
           0.75,
           "rgb(33,113,181)"
          ],
          [
           0.875,
           "rgb(8,81,156)"
          ],
          [
           1,
           "rgb(8,48,107)"
          ]
         ]
        },
        "height": 400,
        "template": {
         "data": {
          "bar": [
           {
            "error_x": {
             "color": "#2a3f5f"
            },
            "error_y": {
             "color": "#2a3f5f"
            },
            "marker": {
             "line": {
              "color": "#E5ECF6",
              "width": 0.5
             },
             "pattern": {
              "fillmode": "overlay",
              "size": 10,
              "solidity": 0.2
             }
            },
            "type": "bar"
           }
          ],
          "barpolar": [
           {
            "marker": {
             "line": {
              "color": "#E5ECF6",
              "width": 0.5
             },
             "pattern": {
              "fillmode": "overlay",
              "size": 10,
              "solidity": 0.2
             }
            },
            "type": "barpolar"
           }
          ],
          "carpet": [
           {
            "aaxis": {
             "endlinecolor": "#2a3f5f",
             "gridcolor": "white",
             "linecolor": "white",
             "minorgridcolor": "white",
             "startlinecolor": "#2a3f5f"
            },
            "baxis": {
             "endlinecolor": "#2a3f5f",
             "gridcolor": "white",
             "linecolor": "white",
             "minorgridcolor": "white",
             "startlinecolor": "#2a3f5f"
            },
            "type": "carpet"
           }
          ],
          "choropleth": [
           {
            "colorbar": {
             "outlinewidth": 0,
             "ticks": ""
            },
            "type": "choropleth"
           }
          ],
          "contour": [
           {
            "colorbar": {
             "outlinewidth": 0,
             "ticks": ""
            },
            "colorscale": [
             [
              0,
              "#0d0887"
             ],
             [
              0.1111111111111111,
              "#46039f"
             ],
             [
              0.2222222222222222,
              "#7201a8"
             ],
             [
              0.3333333333333333,
              "#9c179e"
             ],
             [
              0.4444444444444444,
              "#bd3786"
             ],
             [
              0.5555555555555556,
              "#d8576b"
             ],
             [
              0.6666666666666666,
              "#ed7953"
             ],
             [
              0.7777777777777778,
              "#fb9f3a"
             ],
             [
              0.8888888888888888,
              "#fdca26"
             ],
             [
              1,
              "#f0f921"
             ]
            ],
            "type": "contour"
           }
          ],
          "contourcarpet": [
           {
            "colorbar": {
             "outlinewidth": 0,
             "ticks": ""
            },
            "type": "contourcarpet"
           }
          ],
          "heatmap": [
           {
            "colorbar": {
             "outlinewidth": 0,
             "ticks": ""
            },
            "colorscale": [
             [
              0,
              "#0d0887"
             ],
             [
              0.1111111111111111,
              "#46039f"
             ],
             [
              0.2222222222222222,
              "#7201a8"
             ],
             [
              0.3333333333333333,
              "#9c179e"
             ],
             [
              0.4444444444444444,
              "#bd3786"
             ],
             [
              0.5555555555555556,
              "#d8576b"
             ],
             [
              0.6666666666666666,
              "#ed7953"
             ],
             [
              0.7777777777777778,
              "#fb9f3a"
             ],
             [
              0.8888888888888888,
              "#fdca26"
             ],
             [
              1,
              "#f0f921"
             ]
            ],
            "type": "heatmap"
           }
          ],
          "heatmapgl": [
           {
            "colorbar": {
             "outlinewidth": 0,
             "ticks": ""
            },
            "colorscale": [
             [
              0,
              "#0d0887"
             ],
             [
              0.1111111111111111,
              "#46039f"
             ],
             [
              0.2222222222222222,
              "#7201a8"
             ],
             [
              0.3333333333333333,
              "#9c179e"
             ],
             [
              0.4444444444444444,
              "#bd3786"
             ],
             [
              0.5555555555555556,
              "#d8576b"
             ],
             [
              0.6666666666666666,
              "#ed7953"
             ],
             [
              0.7777777777777778,
              "#fb9f3a"
             ],
             [
              0.8888888888888888,
              "#fdca26"
             ],
             [
              1,
              "#f0f921"
             ]
            ],
            "type": "heatmapgl"
           }
          ],
          "histogram": [
           {
            "marker": {
             "pattern": {
              "fillmode": "overlay",
              "size": 10,
              "solidity": 0.2
             }
            },
            "type": "histogram"
           }
          ],
          "histogram2d": [
           {
            "colorbar": {
             "outlinewidth": 0,
             "ticks": ""
            },
            "colorscale": [
             [
              0,
              "#0d0887"
             ],
             [
              0.1111111111111111,
              "#46039f"
             ],
             [
              0.2222222222222222,
              "#7201a8"
             ],
             [
              0.3333333333333333,
              "#9c179e"
             ],
             [
              0.4444444444444444,
              "#bd3786"
             ],
             [
              0.5555555555555556,
              "#d8576b"
             ],
             [
              0.6666666666666666,
              "#ed7953"
             ],
             [
              0.7777777777777778,
              "#fb9f3a"
             ],
             [
              0.8888888888888888,
              "#fdca26"
             ],
             [
              1,
              "#f0f921"
             ]
            ],
            "type": "histogram2d"
           }
          ],
          "histogram2dcontour": [
           {
            "colorbar": {
             "outlinewidth": 0,
             "ticks": ""
            },
            "colorscale": [
             [
              0,
              "#0d0887"
             ],
             [
              0.1111111111111111,
              "#46039f"
             ],
             [
              0.2222222222222222,
              "#7201a8"
             ],
             [
              0.3333333333333333,
              "#9c179e"
             ],
             [
              0.4444444444444444,
              "#bd3786"
             ],
             [
              0.5555555555555556,
              "#d8576b"
             ],
             [
              0.6666666666666666,
              "#ed7953"
             ],
             [
              0.7777777777777778,
              "#fb9f3a"
             ],
             [
              0.8888888888888888,
              "#fdca26"
             ],
             [
              1,
              "#f0f921"
             ]
            ],
            "type": "histogram2dcontour"
           }
          ],
          "mesh3d": [
           {
            "colorbar": {
             "outlinewidth": 0,
             "ticks": ""
            },
            "type": "mesh3d"
           }
          ],
          "parcoords": [
           {
            "line": {
             "colorbar": {
              "outlinewidth": 0,
              "ticks": ""
             }
            },
            "type": "parcoords"
           }
          ],
          "pie": [
           {
            "automargin": true,
            "type": "pie"
           }
          ],
          "scatter": [
           {
            "marker": {
             "colorbar": {
              "outlinewidth": 0,
              "ticks": ""
             }
            },
            "type": "scatter"
           }
          ],
          "scatter3d": [
           {
            "line": {
             "colorbar": {
              "outlinewidth": 0,
              "ticks": ""
             }
            },
            "marker": {
             "colorbar": {
              "outlinewidth": 0,
              "ticks": ""
             }
            },
            "type": "scatter3d"
           }
          ],
          "scattercarpet": [
           {
            "marker": {
             "colorbar": {
              "outlinewidth": 0,
              "ticks": ""
             }
            },
            "type": "scattercarpet"
           }
          ],
          "scattergeo": [
           {
            "marker": {
             "colorbar": {
              "outlinewidth": 0,
              "ticks": ""
             }
            },
            "type": "scattergeo"
           }
          ],
          "scattergl": [
           {
            "marker": {
             "colorbar": {
              "outlinewidth": 0,
              "ticks": ""
             }
            },
            "type": "scattergl"
           }
          ],
          "scattermapbox": [
           {
            "marker": {
             "colorbar": {
              "outlinewidth": 0,
              "ticks": ""
             }
            },
            "type": "scattermapbox"
           }
          ],
          "scatterpolar": [
           {
            "marker": {
             "colorbar": {
              "outlinewidth": 0,
              "ticks": ""
             }
            },
            "type": "scatterpolar"
           }
          ],
          "scatterpolargl": [
           {
            "marker": {
             "colorbar": {
              "outlinewidth": 0,
              "ticks": ""
             }
            },
            "type": "scatterpolargl"
           }
          ],
          "scatterternary": [
           {
            "marker": {
             "colorbar": {
              "outlinewidth": 0,
              "ticks": ""
             }
            },
            "type": "scatterternary"
           }
          ],
          "surface": [
           {
            "colorbar": {
             "outlinewidth": 0,
             "ticks": ""
            },
            "colorscale": [
             [
              0,
              "#0d0887"
             ],
             [
              0.1111111111111111,
              "#46039f"
             ],
             [
              0.2222222222222222,
              "#7201a8"
             ],
             [
              0.3333333333333333,
              "#9c179e"
             ],
             [
              0.4444444444444444,
              "#bd3786"
             ],
             [
              0.5555555555555556,
              "#d8576b"
             ],
             [
              0.6666666666666666,
              "#ed7953"
             ],
             [
              0.7777777777777778,
              "#fb9f3a"
             ],
             [
              0.8888888888888888,
              "#fdca26"
             ],
             [
              1,
              "#f0f921"
             ]
            ],
            "type": "surface"
           }
          ],
          "table": [
           {
            "cells": {
             "fill": {
              "color": "#EBF0F8"
             },
             "line": {
              "color": "white"
             }
            },
            "header": {
             "fill": {
              "color": "#C8D4E3"
             },
             "line": {
              "color": "white"
             }
            },
            "type": "table"
           }
          ]
         },
         "layout": {
          "annotationdefaults": {
           "arrowcolor": "#2a3f5f",
           "arrowhead": 0,
           "arrowwidth": 1
          },
          "autotypenumbers": "strict",
          "coloraxis": {
           "colorbar": {
            "outlinewidth": 0,
            "ticks": ""
           }
          },
          "colorscale": {
           "diverging": [
            [
             0,
             "#8e0152"
            ],
            [
             0.1,
             "#c51b7d"
            ],
            [
             0.2,
             "#de77ae"
            ],
            [
             0.3,
             "#f1b6da"
            ],
            [
             0.4,
             "#fde0ef"
            ],
            [
             0.5,
             "#f7f7f7"
            ],
            [
             0.6,
             "#e6f5d0"
            ],
            [
             0.7,
             "#b8e186"
            ],
            [
             0.8,
             "#7fbc41"
            ],
            [
             0.9,
             "#4d9221"
            ],
            [
             1,
             "#276419"
            ]
           ],
           "sequential": [
            [
             0,
             "#0d0887"
            ],
            [
             0.1111111111111111,
             "#46039f"
            ],
            [
             0.2222222222222222,
             "#7201a8"
            ],
            [
             0.3333333333333333,
             "#9c179e"
            ],
            [
             0.4444444444444444,
             "#bd3786"
            ],
            [
             0.5555555555555556,
             "#d8576b"
            ],
            [
             0.6666666666666666,
             "#ed7953"
            ],
            [
             0.7777777777777778,
             "#fb9f3a"
            ],
            [
             0.8888888888888888,
             "#fdca26"
            ],
            [
             1,
             "#f0f921"
            ]
           ],
           "sequentialminus": [
            [
             0,
             "#0d0887"
            ],
            [
             0.1111111111111111,
             "#46039f"
            ],
            [
             0.2222222222222222,
             "#7201a8"
            ],
            [
             0.3333333333333333,
             "#9c179e"
            ],
            [
             0.4444444444444444,
             "#bd3786"
            ],
            [
             0.5555555555555556,
             "#d8576b"
            ],
            [
             0.6666666666666666,
             "#ed7953"
            ],
            [
             0.7777777777777778,
             "#fb9f3a"
            ],
            [
             0.8888888888888888,
             "#fdca26"
            ],
            [
             1,
             "#f0f921"
            ]
           ]
          },
          "colorway": [
           "#636efa",
           "#EF553B",
           "#00cc96",
           "#ab63fa",
           "#FFA15A",
           "#19d3f3",
           "#FF6692",
           "#B6E880",
           "#FF97FF",
           "#FECB52"
          ],
          "font": {
           "color": "#2a3f5f"
          },
          "geo": {
           "bgcolor": "white",
           "lakecolor": "white",
           "landcolor": "#E5ECF6",
           "showlakes": true,
           "showland": true,
           "subunitcolor": "white"
          },
          "hoverlabel": {
           "align": "left"
          },
          "hovermode": "closest",
          "mapbox": {
           "style": "light"
          },
          "paper_bgcolor": "white",
          "plot_bgcolor": "#E5ECF6",
          "polar": {
           "angularaxis": {
            "gridcolor": "white",
            "linecolor": "white",
            "ticks": ""
           },
           "bgcolor": "#E5ECF6",
           "radialaxis": {
            "gridcolor": "white",
            "linecolor": "white",
            "ticks": ""
           }
          },
          "scene": {
           "xaxis": {
            "backgroundcolor": "#E5ECF6",
            "gridcolor": "white",
            "gridwidth": 2,
            "linecolor": "white",
            "showbackground": true,
            "ticks": "",
            "zerolinecolor": "white"
           },
           "yaxis": {
            "backgroundcolor": "#E5ECF6",
            "gridcolor": "white",
            "gridwidth": 2,
            "linecolor": "white",
            "showbackground": true,
            "ticks": "",
            "zerolinecolor": "white"
           },
           "zaxis": {
            "backgroundcolor": "#E5ECF6",
            "gridcolor": "white",
            "gridwidth": 2,
            "linecolor": "white",
            "showbackground": true,
            "ticks": "",
            "zerolinecolor": "white"
           }
          },
          "shapedefaults": {
           "line": {
            "color": "#2a3f5f"
           }
          },
          "ternary": {
           "aaxis": {
            "gridcolor": "white",
            "linecolor": "white",
            "ticks": ""
           },
           "baxis": {
            "gridcolor": "white",
            "linecolor": "white",
            "ticks": ""
           },
           "bgcolor": "#E5ECF6",
           "caxis": {
            "gridcolor": "white",
            "linecolor": "white",
            "ticks": ""
           }
          },
          "title": {
           "x": 0.05
          },
          "xaxis": {
           "automargin": true,
           "gridcolor": "white",
           "linecolor": "white",
           "ticks": "",
           "title": {
            "standoff": 15
           },
           "zerolinecolor": "white",
           "zerolinewidth": 2
          },
          "yaxis": {
           "automargin": true,
           "gridcolor": "white",
           "linecolor": "white",
           "ticks": "",
           "title": {
            "standoff": 15
           },
           "zerolinecolor": "white",
           "zerolinewidth": 2
          }
         }
        },
        "title": {
         "text": "Last 90 Days Close Pearson Correlation Heatmap"
        },
        "width": 500,
        "xaxis": {
         "anchor": "y",
         "autorange": true,
         "constrain": "domain",
         "domain": [
          0.16049382716049387,
          0.8395061728395061
         ],
         "range": [
          -0.5,
          2.5
         ],
         "scaleanchor": "y",
         "type": "category"
        },
        "yaxis": {
         "anchor": "x",
         "autorange": true,
         "constrain": "domain",
         "domain": [
          0,
          1
         ],
         "range": [
          2.5,
          -0.5
         ],
         "type": "category"
        }
       }
      },
      "image/png": "[encoded data removed]",
      "text/html": [
       "<div>                            <div id=\"f33f09c7-60f7-4da2-906b-3085ecaead84\" class=\"plotly-graph-div\" style=\"height:400px; width:500px;\"></div>            <script type=\"text/javascript\">                require([\"plotly\"], function(Plotly) {                    window.PLOTLYENV=window.PLOTLYENV || {};                                    if (document.getElementById(\"f33f09c7-60f7-4da2-906b-3085ecaead84\")) {                    Plotly.newPlot(                        \"f33f09c7-60f7-4da2-906b-3085ecaead84\",                        [{\"coloraxis\":\"coloraxis\",\"name\":\"0\",\"x\":[\"LTC-USD\",\"CRO-USD\",\"ETH-USD\"],\"y\":[\"LTC-USD\",\"CRO-USD\",\"ETH-USD\"],\"z\":[[1.0,0.9630706800392846,0.9601446938823863],[0.9630706800392846,1.0,0.9560585056441618],[0.9601446938823863,0.9560585056441618,1.0]],\"type\":\"heatmap\",\"xaxis\":\"x\",\"yaxis\":\"y\",\"hovertemplate\":\"x: %{x}<br>y: %{y}<br>color: %{z}<extra></extra>\"}],                        {\"template\":{\"data\":{\"bar\":[{\"error_x\":{\"color\":\"#2a3f5f\"},\"error_y\":{\"color\":\"#2a3f5f\"},\"marker\":{\"line\":{\"color\":\"#E5ECF6\",\"width\":0.5},\"pattern\":{\"fillmode\":\"overlay\",\"size\":10,\"solidity\":0.2}},\"type\":\"bar\"}],\"barpolar\":[{\"marker\":{\"line\":{\"color\":\"#E5ECF6\",\"width\":0.5},\"pattern\":{\"fillmode\":\"overlay\",\"size\":10,\"solidity\":0.2}},\"type\":\"barpolar\"}],\"carpet\":[{\"aaxis\":{\"endlinecolor\":\"#2a3f5f\",\"gridcolor\":\"white\",\"linecolor\":\"white\",\"minorgridcolor\":\"white\",\"startlinecolor\":\"#2a3f5f\"},\"baxis\":{\"endlinecolor\":\"#2a3f5f\",\"gridcolor\":\"white\",\"linecolor\":\"white\",\"minorgridcolor\":\"white\",\"startlinecolor\":\"#2a3f5f\"},\"type\":\"carpet\"}],\"choropleth\":[{\"colorbar\":{\"outlinewidth\":0,\"ticks\":\"\"},\"type\":\"choropleth\"}],\"contour\":[{\"colorbar\":{\"outlinewidth\":0,\"ticks\":\"\"},\"colorscale\":[[0.0,\"#0d0887\"],[0.1111111111111111,\"#46039f\"],[0.2222222222222222,\"#7201a8\"],[0.3333333333333333,\"#9c179e\"],[0.4444444444444444,\"#bd3786\"],[0.5555555555555556,\"#d8576b\"],[0.6666666666666666,\"#ed7953\"],[0.7777777777777778,\"#fb9f3a\"],[0.8888888888888888,\"#fdca26\"],[1.0,\"#f0f921\"]],\"type\":\"contour\"}],\"contourcarpet\":[{\"colorbar\":{\"outlinewidth\":0,\"ticks\":\"\"},\"type\":\"contourcarpet\"}],\"heatmap\":[{\"colorbar\":{\"outlinewidth\":0,\"ticks\":\"\"},\"colorscale\":[[0.0,\"#0d0887\"],[0.1111111111111111,\"#46039f\"],[0.2222222222222222,\"#7201a8\"],[0.3333333333333333,\"#9c179e\"],[0.4444444444444444,\"#bd3786\"],[0.5555555555555556,\"#d8576b\"],[0.6666666666666666,\"#ed7953\"],[0.7777777777777778,\"#fb9f3a\"],[0.8888888888888888,\"#fdca26\"],[1.0,\"#f0f921\"]],\"type\":\"heatmap\"}],\"heatmapgl\":[{\"colorbar\":{\"outlinewidth\":0,\"ticks\":\"\"},\"colorscale\":[[0.0,\"#0d0887\"],[0.1111111111111111,\"#46039f\"],[0.2222222222222222,\"#7201a8\"],[0.3333333333333333,\"#9c179e\"],[0.4444444444444444,\"#bd3786\"],[0.5555555555555556,\"#d8576b\"],[0.6666666666666666,\"#ed7953\"],[0.7777777777777778,\"#fb9f3a\"],[0.8888888888888888,\"#fdca26\"],[1.0,\"#f0f921\"]],\"type\":\"heatmapgl\"}],\"histogram\":[{\"marker\":{\"pattern\":{\"fillmode\":\"overlay\",\"size\":10,\"solidity\":0.2}},\"type\":\"histogram\"}],\"histogram2d\":[{\"colorbar\":{\"outlinewidth\":0,\"ticks\":\"\"},\"colorscale\":[[0.0,\"#0d0887\"],[0.1111111111111111,\"#46039f\"],[0.2222222222222222,\"#7201a8\"],[0.3333333333333333,\"#9c179e\"],[0.4444444444444444,\"#bd3786\"],[0.5555555555555556,\"#d8576b\"],[0.6666666666666666,\"#ed7953\"],[0.7777777777777778,\"#fb9f3a\"],[0.8888888888888888,\"#fdca26\"],[1.0,\"#f0f921\"]],\"type\":\"histogram2d\"}],\"histogram2dcontour\":[{\"colorbar\":{\"outlinewidth\":0,\"ticks\":\"\"},\"colorscale\":[[0.0,\"#0d0887\"],[0.1111111111111111,\"#46039f\"],[0.2222222222222222,\"#7201a8\"],[0.3333333333333333,\"#9c179e\"],[0.4444444444444444,\"#bd3786\"],[0.5555555555555556,\"#d8576b\"],[0.6666666666666666,\"#ed7953\"],[0.7777777777777778,\"#fb9f3a\"],[0.8888888888888888,\"#fdca26\"],[1.0,\"#f0f921\"]],\"type\":\"histogram2dcontour\"}],\"mesh3d\":[{\"colorbar\":{\"outlinewidth\":0,\"ticks\":\"\"},\"type\":\"mesh3d\"}],\"parcoords\":[{\"line\":{\"colorbar\":{\"outlinewidth\":0,\"ticks\":\"\"}},\"type\":\"parcoords\"}],\"pie\":[{\"automargin\":true,\"type\":\"pie\"}],\"scatter\":[{\"marker\":{\"colorbar\":{\"outlinewidth\":0,\"ticks\":\"\"}},\"type\":\"scatter\"}],\"scatter3d\":[{\"line\":{\"colorbar\":{\"outlinewidth\":0,\"ticks\":\"\"}},\"marker\":{\"colorbar\":{\"outlinewidth\":0,\"ticks\":\"\"}},\"type\":\"scatter3d\"}],\"scattercarpet\":[{\"marker\":{\"colorbar\":{\"outlinewidth\":0,\"ticks\":\"\"}},\"type\":\"scattercarpet\"}],\"scattergeo\":[{\"marker\":{\"colorbar\":{\"outlinewidth\":0,\"ticks\":\"\"}},\"type\":\"scattergeo\"}],\"scattergl\":[{\"marker\":{\"colorbar\":{\"outlinewidth\":0,\"ticks\":\"\"}},\"type\":\"scattergl\"}],\"scattermapbox\":[{\"marker\":{\"colorbar\":{\"outlinewidth\":0,\"ticks\":\"\"}},\"type\":\"scattermapbox\"}],\"scatterpolar\":[{\"marker\":{\"colorbar\":{\"outlinewidth\":0,\"ticks\":\"\"}},\"type\":\"scatterpolar\"}],\"scatterpolargl\":[{\"marker\":{\"colorbar\":{\"outlinewidth\":0,\"ticks\":\"\"}},\"type\":\"scatterpolargl\"}],\"scatterternary\":[{\"marker\":{\"colorbar\":{\"outlinewidth\":0,\"ticks\":\"\"}},\"type\":\"scatterternary\"}],\"surface\":[{\"colorbar\":{\"outlinewidth\":0,\"ticks\":\"\"},\"colorscale\":[[0.0,\"#0d0887\"],[0.1111111111111111,\"#46039f\"],[0.2222222222222222,\"#7201a8\"],[0.3333333333333333,\"#9c179e\"],[0.4444444444444444,\"#bd3786\"],[0.5555555555555556,\"#d8576b\"],[0.6666666666666666,\"#ed7953\"],[0.7777777777777778,\"#fb9f3a\"],[0.8888888888888888,\"#fdca26\"],[1.0,\"#f0f921\"]],\"type\":\"surface\"}],\"table\":[{\"cells\":{\"fill\":{\"color\":\"#EBF0F8\"},\"line\":{\"color\":\"white\"}},\"header\":{\"fill\":{\"color\":\"#C8D4E3\"},\"line\":{\"color\":\"white\"}},\"type\":\"table\"}]},\"layout\":{\"annotationdefaults\":{\"arrowcolor\":\"#2a3f5f\",\"arrowhead\":0,\"arrowwidth\":1},\"autotypenumbers\":\"strict\",\"coloraxis\":{\"colorbar\":{\"outlinewidth\":0,\"ticks\":\"\"}},\"colorscale\":{\"diverging\":[[0,\"#8e0152\"],[0.1,\"#c51b7d\"],[0.2,\"#de77ae\"],[0.3,\"#f1b6da\"],[0.4,\"#fde0ef\"],[0.5,\"#f7f7f7\"],[0.6,\"#e6f5d0\"],[0.7,\"#b8e186\"],[0.8,\"#7fbc41\"],[0.9,\"#4d9221\"],[1,\"#276419\"]],\"sequential\":[[0.0,\"#0d0887\"],[0.1111111111111111,\"#46039f\"],[0.2222222222222222,\"#7201a8\"],[0.3333333333333333,\"#9c179e\"],[0.4444444444444444,\"#bd3786\"],[0.5555555555555556,\"#d8576b\"],[0.6666666666666666,\"#ed7953\"],[0.7777777777777778,\"#fb9f3a\"],[0.8888888888888888,\"#fdca26\"],[1.0,\"#f0f921\"]],\"sequentialminus\":[[0.0,\"#0d0887\"],[0.1111111111111111,\"#46039f\"],[0.2222222222222222,\"#7201a8\"],[0.3333333333333333,\"#9c179e\"],[0.4444444444444444,\"#bd3786\"],[0.5555555555555556,\"#d8576b\"],[0.6666666666666666,\"#ed7953\"],[0.7777777777777778,\"#fb9f3a\"],[0.8888888888888888,\"#fdca26\"],[1.0,\"#f0f921\"]]},\"colorway\":[\"#636efa\",\"#EF553B\",\"#00cc96\",\"#ab63fa\",\"#FFA15A\",\"#19d3f3\",\"#FF6692\",\"#B6E880\",\"#FF97FF\",\"#FECB52\"],\"font\":{\"color\":\"#2a3f5f\"},\"geo\":{\"bgcolor\":\"white\",\"lakecolor\":\"white\",\"landcolor\":\"#E5ECF6\",\"showlakes\":true,\"showland\":true,\"subunitcolor\":\"white\"},\"hoverlabel\":{\"align\":\"left\"},\"hovermode\":\"closest\",\"mapbox\":{\"style\":\"light\"},\"paper_bgcolor\":\"white\",\"plot_bgcolor\":\"#E5ECF6\",\"polar\":{\"angularaxis\":{\"gridcolor\":\"white\",\"linecolor\":\"white\",\"ticks\":\"\"},\"bgcolor\":\"#E5ECF6\",\"radialaxis\":{\"gridcolor\":\"white\",\"linecolor\":\"white\",\"ticks\":\"\"}},\"scene\":{\"xaxis\":{\"backgroundcolor\":\"#E5ECF6\",\"gridcolor\":\"white\",\"gridwidth\":2,\"linecolor\":\"white\",\"showbackground\":true,\"ticks\":\"\",\"zerolinecolor\":\"white\"},\"yaxis\":{\"backgroundcolor\":\"#E5ECF6\",\"gridcolor\":\"white\",\"gridwidth\":2,\"linecolor\":\"white\",\"showbackground\":true,\"ticks\":\"\",\"zerolinecolor\":\"white\"},\"zaxis\":{\"backgroundcolor\":\"#E5ECF6\",\"gridcolor\":\"white\",\"gridwidth\":2,\"linecolor\":\"white\",\"showbackground\":true,\"ticks\":\"\",\"zerolinecolor\":\"white\"}},\"shapedefaults\":{\"line\":{\"color\":\"#2a3f5f\"}},\"ternary\":{\"aaxis\":{\"gridcolor\":\"white\",\"linecolor\":\"white\",\"ticks\":\"\"},\"baxis\":{\"gridcolor\":\"white\",\"linecolor\":\"white\",\"ticks\":\"\"},\"bgcolor\":\"#E5ECF6\",\"caxis\":{\"gridcolor\":\"white\",\"linecolor\":\"white\",\"ticks\":\"\"}},\"title\":{\"x\":0.05},\"xaxis\":{\"automargin\":true,\"gridcolor\":\"white\",\"linecolor\":\"white\",\"ticks\":\"\",\"title\":{\"standoff\":15},\"zerolinecolor\":\"white\",\"zerolinewidth\":2},\"yaxis\":{\"automargin\":true,\"gridcolor\":\"white\",\"linecolor\":\"white\",\"ticks\":\"\",\"title\":{\"standoff\":15},\"zerolinecolor\":\"white\",\"zerolinewidth\":2}}},\"xaxis\":{\"anchor\":\"y\",\"domain\":[0.0,1.0],\"scaleanchor\":\"y\",\"constrain\":\"domain\"},\"yaxis\":{\"anchor\":\"x\",\"domain\":[0.0,1.0],\"autorange\":\"reversed\",\"constrain\":\"domain\"},\"coloraxis\":{\"colorscale\":[[0.0,\"rgb(247,251,255)\"],[0.125,\"rgb(222,235,247)\"],[0.25,\"rgb(198,219,239)\"],[0.375,\"rgb(158,202,225)\"],[0.5,\"rgb(107,174,214)\"],[0.625,\"rgb(66,146,198)\"],[0.75,\"rgb(33,113,181)\"],[0.875,\"rgb(8,81,156)\"],[1.0,\"rgb(8,48,107)\"]]},\"title\":{\"text\":\"Last 90 Days Close Pearson Correlation Heatmap\"},\"height\":400,\"width\":500},                        {\"responsive\": true}                    ).then(function(){\n",
       "                            \n",
       "var gd = document.getElementById('f33f09c7-60f7-4da2-906b-3085ecaead84');\n",
       "var x = new MutationObserver(function (mutations, observer) {{\n",
       "        var display = window.getComputedStyle(gd).display;\n",
       "        if (!display || display === 'none') {{\n",
       "            console.log([gd, 'removed!']);\n",
       "            Plotly.purge(gd);\n",
       "            observer.disconnect();\n",
       "        }}\n",
       "}});\n",
       "\n",
       "// Listen for the removal of the full notebook cells\n",
       "var notebookContainer = gd.closest('#notebook-container');\n",
       "if (notebookContainer) {{\n",
       "    x.observe(notebookContainer, {childList: true});\n",
       "}}\n",
       "\n",
       "// Listen for the clearing of the current output cell\n",
       "var outputEl = gd.closest('.output');\n",
       "if (outputEl) {{\n",
       "    x.observe(outputEl, {childList: true});\n",
       "}}\n",
       "\n",
       "                        })                };                });            </script>        </div>"
      ]
     },
     "metadata": {},
     "output_type": "display_data"
    }
   ],
   "source": [
    "tg.compare_charts(['LTC-USD', 'CRO-USD', 'ETH-USD'], start = '2022-01-10', end = '2022-12-31')"
   ]
  },
  {
   "cell_type": "markdown",
   "metadata": {},
   "source": [
    "# Stocks trade history"
   ]
  },
  {
   "cell_type": "markdown",
   "metadata": {},
   "source": [
    "#### Examine stock trades"
   ]
  },
  {
   "cell_type": "code",
   "execution_count": 25,
   "metadata": {},
   "outputs": [
    {
     "name": "stdout",
     "output_type": "stream",
     "text": [
      "\n",
      "Total runtime:  0.06 s\n",
      "- AABA: No data found, symbol may be delisted\n",
      "- WORK: No data found, symbol may be delisted\n",
      "- IPOE: No data found, symbol may be delisted\n",
      "- APTI: No data found for this date range, symbol may be delisted\n",
      "- MZOR: No data found for this date range, symbol may be delisted\n",
      "\n",
      "Total runtime:  14.32 s\n"
     ]
    }
   ],
   "source": [
    "stocks.examine_trades()\n",
    "stocks.add_price_diff()"
   ]
  },
  {
   "cell_type": "markdown",
   "metadata": {},
   "source": [
    "### Analyzing hold time"
   ]
  },
  {
   "cell_type": "code",
   "execution_count": 159,
   "metadata": {},
   "outputs": [
    {
     "name": "stdout",
     "output_type": "stream",
     "text": [
      "\n",
      "Total runtime:  0.18 s\n"
     ]
    }
   ],
   "source": [
    "stocks.add_hold_time()"
   ]
  },
  {
   "cell_type": "code",
   "execution_count": 28,
   "metadata": {},
   "outputs": [
    {
     "data": {
      "application/vnd.plotly.v1+json": {
       "config": {
        "plotlyServerURL": "https://plot.ly"
       },
       "data": [
        {
         "mode": "markers",
         "text": [
          "SCTY",
          "SCTY",
          "FB",
          "APTI",
          "AABA",
          "TWTR",
          "APTI",
          "NFLX",
          "SNAP",
          "RAD",
          "SHOP",
          "AMD",
          "FB",
          "BAC",
          "EBAY",
          "AABA",
          "MSFT",
          "PYPL",
          "MSFT",
          "ORCL",
          "ORCL",
          "SONY",
          "AMD",
          "APRN",
          "PYPL",
          "AMD",
          "MAR",
          "APRN",
          "LUV",
          "NVCR",
          "PSI",
          "FSLR",
          "NVCR",
          "BAC",
          "NVCR",
          "PYPL",
          "PSI",
          "DAL",
          "NVDA",
          "AMZN",
          "ARKW",
          "RJZ",
          "RJZ",
          "PYPL",
          "PYPL",
          "SOXL",
          "SQ",
          "MZOR",
          "AABA",
          "MSFT",
          "BAC",
          "PYPL",
          "PYPL",
          "MSFT",
          "SQ",
          "MZOR",
          "ARKW",
          "MZOR",
          "MZOR",
          "NVDA",
          "MSFT",
          "APTI",
          "SHOP",
          "AYX",
          "APTI",
          "SHOP",
          "OKTA",
          "MSFT",
          "SQ",
          "ARKW",
          "AAPL",
          "F",
          "AAPL",
          "AAPL",
          "SBUX",
          "SBUX",
          "ZS",
          "OKTA",
          "SBUX",
          "AYX",
          "EVBG",
          "AYX",
          "TVIXF",
          "UVXY",
          "EVBG",
          "BA",
          "MSFT",
          "RCL",
          "CWST",
          "CLX",
          "EVBG",
          "SMAR",
          "KO",
          "AYX",
          "DIS",
          "DAL",
          "SPOT",
          "RCL",
          "RPD",
          "SQ",
          "WORK",
          "WK",
          "WORK",
          "BA",
          "UAL",
          "LUV",
          "DAL",
          "RCL",
          "BA",
          "LUV",
          "DAL",
          "SOXL",
          "RCL",
          "UAL",
          "DFS",
          "WORK",
          "TVIXF",
          "WORK",
          "SE",
          "DAL",
          "SOXL",
          "BA",
          "RCL",
          "AMZN",
          "SE",
          "MSFT",
          "MSFT",
          "SOXL",
          "MSFT",
          "SOXL",
          "LI",
          "SOXL",
          "SE",
          "SNOW",
          "TSLA",
          "DFS",
          "SE",
          "BA",
          "DAL",
          "WORK",
          "DFS",
          "MRNA",
          "DFS",
          "AYX",
          "DDOG",
          "DAL",
          "PLTR",
          "TSM",
          "PLTR",
          "ROKU",
          "TSM",
          "PLTR",
          "GME",
          "NIO",
          "TSM",
          "GME",
          "PLTR",
          "NIO",
          "TSM",
          "ABNB",
          "UPST",
          "DFS",
          "NIO",
          "DFS",
          "NIO",
          "PLTR",
          "TSM",
          "DFS",
          "NIO",
          "PLTR",
          "ABNB",
          "TSM",
          "PLTR",
          "NIO",
          "DFS",
          "NIO",
          "PLTR",
          "TSM",
          "ABNB",
          "UPST",
          "APPN",
          "DFS",
          "PLTR",
          "DFS",
          "DFS",
          "NIO",
          "PLTR",
          "TSM",
          "NIO",
          "DFS",
          "UPST",
          "NIO",
          "DFS",
          "AFRM",
          "NIO",
          "AFRM",
          "ABNB",
          "TAN",
          "SOXL",
          "NIO",
          "TSM",
          "WFC",
          "WFC",
          "WFC",
          "PLTR",
          "WFC",
          "WFC",
          "WFC",
          "WFC",
          "WFC",
          "WFC",
          "DFS",
          "SOXL",
          "PENN",
          "NIO",
          "TSM",
          "ABNB",
          "WEBL",
          "TECL",
          "BMBL",
          "PLTR",
          "ABNB",
          "NIO",
          "TSM",
          "CRSP",
          "PLTR",
          "IPOF",
          "XPEV",
          "NIO",
          "UPST",
          "UPST",
          "UPST",
          "UPST",
          "UPST",
          "UPST",
          "TSM",
          "EXPI",
          "TSM",
          "EXPI",
          "TSM",
          "NIO",
          "NIO",
          "NCLH",
          "OPK",
          "OPEN",
          "TAP",
          "TAP",
          "PTON",
          "TME",
          "CRSP",
          "DISCA",
          "POSH",
          "IPOE",
          "WEBL",
          "SPCE",
          "AFRM"
         ],
         "type": "scatter",
         "x": [
          4,
          2,
          6,
          1,
          21,
          112,
          52,
          89,
          66,
          0,
          14,
          12,
          133,
          12,
          56,
          26,
          58,
          44,
          18.2,
          1,
          1,
          278,
          0,
          0,
          13,
          1,
          35,
          11,
          24.5,
          21.58,
          31,
          1,
          8,
          11,
          8.04,
          12,
          26.18,
          19,
          2,
          28,
          44.88,
          70,
          77,
          7,
          4,
          112,
          90.13,
          19,
          168,
          69,
          19,
          69.35,
          2,
          2,
          1,
          1,
          2,
          13.32,
          54,
          60,
          159,
          278,
          121,
          42,
          284,
          74.25,
          49.33,
          174,
          80.83,
          412,
          333,
          0,
          383,
          285,
          40,
          40,
          124,
          168,
          76,
          225,
          192.56,
          4,
          5.75,
          6.67,
          0,
          4.5,
          24,
          6.47,
          17.86,
          19.5,
          13.2,
          174.87,
          28,
          25,
          28,
          23.53,
          26.2,
          13.32,
          188.58,
          260.49,
          0,
          289.33,
          2,
          51,
          42.67,
          59.38,
          39.03,
          33.66,
          42.43,
          9,
          38,
          48,
          7,
          9,
          8.68,
          8.28,
          0,
          0,
          0,
          1,
          1,
          1,
          1,
          2,
          27,
          40,
          43,
          44,
          49,
          71,
          4.8,
          57.12,
          34,
          1,
          0,
          116,
          13.95,
          0,
          0,
          138.81,
          50.8,
          4,
          64,
          19,
          19,
          42.31,
          53,
          9,
          59,
          7,
          15,
          63,
          1.73,
          105,
          21,
          1,
          67,
          107,
          29,
          21,
          21,
          100,
          113,
          100,
          113,
          73,
          29,
          100,
          113,
          73,
          21,
          29,
          73,
          113,
          100,
          113,
          73,
          29,
          21,
          21,
          9,
          100,
          73,
          100,
          100,
          113,
          73,
          29,
          113,
          100,
          22,
          117,
          104,
          25,
          117,
          26,
          27,
          35.76,
          11,
          122.89,
          41,
          35,
          35,
          35,
          80.7,
          36,
          37,
          38,
          38,
          38,
          44,
          95.95,
          1,
          9.93,
          78.52,
          52.42,
          21.5,
          5,
          5,
          20,
          62.4,
          2,
          1.97,
          2,
          20,
          23.42,
          13,
          100,
          1.32,
          55.45,
          30,
          26.73,
          22.4,
          21,
          21,
          14,
          14,
          15,
          12,
          11.25,
          1,
          4.31,
          5,
          6,
          5,
          5.5,
          1.91,
          0.71,
          1.29,
          25.67,
          1,
          6.17,
          52.78,
          48.77,
          36.09,
          77.26
         ],
         "y": [
          3.45,
          0.25,
          0.06,
          6.25,
          6.49,
          -26.74,
          -26.4,
          2.64,
          -22.05,
          0,
          4.57,
          0.84,
          17.63,
          -3.26,
          0.04,
          2.78,
          2.19,
          8.08,
          3.82,
          10.89,
          11.12,
          16.65,
          0.87,
          -0.37,
          1.8,
          1.51,
          -7.96,
          -27.68,
          1.44,
          3.79,
          6.41,
          9.15,
          8.66,
          0.27,
          -7.06,
          -0.62,
          -1.85,
          -8.4,
          1.07,
          1.29,
          2.15,
          1.86,
          1.37,
          0.97,
          0.77,
          43.9,
          9.18,
          4.27,
          12.88,
          4.15,
          -0.93,
          -1.87,
          -2.29,
          -3.05,
          -3.38,
          -3.34,
          -1.33,
          8.77,
          -24.41,
          -2.33,
          3.18,
          36.93,
          3.53,
          35.52,
          36.78,
          8.61,
          20.9,
          6.18,
          10.82,
          -0.57,
          16.1,
          -0.1,
          12.62,
          16.07,
          9.12,
          9.11,
          9.62,
          62.97,
          1.69,
          20.75,
          37.79,
          3.84,
          -47.14,
          -43.9,
          0.16,
          17.58,
          12.27,
          41.61,
          13.65,
          3.34,
          2.46,
          0.63,
          17.91,
          29.08,
          9.85,
          6.7,
          26.72,
          27.81,
          -7.27,
          15.94,
          -4.05,
          -23.34,
          1.35,
          20.62,
          37.09,
          12.34,
          33.59,
          35.47,
          35.79,
          1.61,
          16.74,
          29.77,
          15.62,
          13.42,
          -6.86,
          -19.3,
          16.7,
          -0.16,
          -0.06,
          1.18,
          2.05,
          2.29,
          0.71,
          0.77,
          1.39,
          4.51,
          4.6,
          13.9,
          9.27,
          30.96,
          -24.76,
          30.92,
          -4.52,
          -9.66,
          -0.11,
          16.91,
          6.83,
          -0.09,
          0.34,
          25.1,
          27.32,
          -2.91,
          32.49,
          -10.93,
          -12.16,
          -1.74,
          21.63,
          7.76,
          18.78,
          2.01,
          14.78,
          63.98,
          176.76,
          68.47,
          4.16,
          -62.09,
          68.98,
          75.03,
          8.43,
          7.65,
          26.19,
          31.59,
          70.75,
          31.44,
          70.96,
          46.21,
          8.49,
          31.35,
          71.18,
          45.98,
          8.25,
          8.57,
          46.83,
          70.87,
          31.49,
          70.81,
          46.81,
          8.59,
          8.42,
          25.28,
          2.48,
          31.42,
          46.48,
          31.48,
          31.48,
          70.69,
          46.2,
          8.78,
          70.36,
          31.76,
          28.24,
          74.44,
          35.63,
          8.15,
          73.64,
          21.37,
          18.2,
          1.46,
          21.59,
          73.47,
          19.52,
          2.47,
          2.35,
          2.17,
          16.35,
          7.44,
          9.11,
          10.53,
          10.53,
          11.11,
          11.53,
          37.6,
          8.92,
          11.18,
          15.57,
          8.17,
          5.7,
          9.4,
          8.07,
          -21.48,
          -8.28,
          -9.51,
          -11.27,
          -9.03,
          -30,
          -7.11,
          -20.32,
          -36.16,
          4.07,
          66.98,
          70.01,
          56.23,
          57.4,
          60.14,
          56.06,
          -5.85,
          -7.85,
          -4.21,
          -5.88,
          -4.19,
          1.53,
          0.89,
          6.74,
          3.16,
          0.53,
          0.7,
          0.55,
          0.47,
          -1.67,
          -11.47,
          -1.35,
          -1.86,
          -25.44,
          -2.03,
          -46.19,
          -41.74
         ]
        }
       ],
       "layout": {
        "height": 500,
        "template": {
         "data": {
          "bar": [
           {
            "error_x": {
             "color": "#2a3f5f"
            },
            "error_y": {
             "color": "#2a3f5f"
            },
            "marker": {
             "line": {
              "color": "#E5ECF6",
              "width": 0.5
             }
            },
            "type": "bar"
           }
          ],
          "barpolar": [
           {
            "marker": {
             "line": {
              "color": "#E5ECF6",
              "width": 0.5
             }
            },
            "type": "barpolar"
           }
          ],
          "carpet": [
           {
            "aaxis": {
             "endlinecolor": "#2a3f5f",
             "gridcolor": "white",
             "linecolor": "white",
             "minorgridcolor": "white",
             "startlinecolor": "#2a3f5f"
            },
            "baxis": {
             "endlinecolor": "#2a3f5f",
             "gridcolor": "white",
             "linecolor": "white",
             "minorgridcolor": "white",
             "startlinecolor": "#2a3f5f"
            },
            "type": "carpet"
           }
          ],
          "choropleth": [
           {
            "colorbar": {
             "outlinewidth": 0,
             "ticks": ""
            },
            "type": "choropleth"
           }
          ],
          "contour": [
           {
            "colorbar": {
             "outlinewidth": 0,
             "ticks": ""
            },
            "colorscale": [
             [
              0,
              "#0d0887"
             ],
             [
              0.1111111111111111,
              "#46039f"
             ],
             [
              0.2222222222222222,
              "#7201a8"
             ],
             [
              0.3333333333333333,
              "#9c179e"
             ],
             [
              0.4444444444444444,
              "#bd3786"
             ],
             [
              0.5555555555555556,
              "#d8576b"
             ],
             [
              0.6666666666666666,
              "#ed7953"
             ],
             [
              0.7777777777777778,
              "#fb9f3a"
             ],
             [
              0.8888888888888888,
              "#fdca26"
             ],
             [
              1,
              "#f0f921"
             ]
            ],
            "type": "contour"
           }
          ],
          "contourcarpet": [
           {
            "colorbar": {
             "outlinewidth": 0,
             "ticks": ""
            },
            "type": "contourcarpet"
           }
          ],
          "heatmap": [
           {
            "colorbar": {
             "outlinewidth": 0,
             "ticks": ""
            },
            "colorscale": [
             [
              0,
              "#0d0887"
             ],
             [
              0.1111111111111111,
              "#46039f"
             ],
             [
              0.2222222222222222,
              "#7201a8"
             ],
             [
              0.3333333333333333,
              "#9c179e"
             ],
             [
              0.4444444444444444,
              "#bd3786"
             ],
             [
              0.5555555555555556,
              "#d8576b"
             ],
             [
              0.6666666666666666,
              "#ed7953"
             ],
             [
              0.7777777777777778,
              "#fb9f3a"
             ],
             [
              0.8888888888888888,
              "#fdca26"
             ],
             [
              1,
              "#f0f921"
             ]
            ],
            "type": "heatmap"
           }
          ],
          "heatmapgl": [
           {
            "colorbar": {
             "outlinewidth": 0,
             "ticks": ""
            },
            "colorscale": [
             [
              0,
              "#0d0887"
             ],
             [
              0.1111111111111111,
              "#46039f"
             ],
             [
              0.2222222222222222,
              "#7201a8"
             ],
             [
              0.3333333333333333,
              "#9c179e"
             ],
             [
              0.4444444444444444,
              "#bd3786"
             ],
             [
              0.5555555555555556,
              "#d8576b"
             ],
             [
              0.6666666666666666,
              "#ed7953"
             ],
             [
              0.7777777777777778,
              "#fb9f3a"
             ],
             [
              0.8888888888888888,
              "#fdca26"
             ],
             [
              1,
              "#f0f921"
             ]
            ],
            "type": "heatmapgl"
           }
          ],
          "histogram": [
           {
            "marker": {
             "colorbar": {
              "outlinewidth": 0,
              "ticks": ""
             }
            },
            "type": "histogram"
           }
          ],
          "histogram2d": [
           {
            "colorbar": {
             "outlinewidth": 0,
             "ticks": ""
            },
            "colorscale": [
             [
              0,
              "#0d0887"
             ],
             [
              0.1111111111111111,
              "#46039f"
             ],
             [
              0.2222222222222222,
              "#7201a8"
             ],
             [
              0.3333333333333333,
              "#9c179e"
             ],
             [
              0.4444444444444444,
              "#bd3786"
             ],
             [
              0.5555555555555556,
              "#d8576b"
             ],
             [
              0.6666666666666666,
              "#ed7953"
             ],
             [
              0.7777777777777778,
              "#fb9f3a"
             ],
             [
              0.8888888888888888,
              "#fdca26"
             ],
             [
              1,
              "#f0f921"
             ]
            ],
            "type": "histogram2d"
           }
          ],
          "histogram2dcontour": [
           {
            "colorbar": {
             "outlinewidth": 0,
             "ticks": ""
            },
            "colorscale": [
             [
              0,
              "#0d0887"
             ],
             [
              0.1111111111111111,
              "#46039f"
             ],
             [
              0.2222222222222222,
              "#7201a8"
             ],
             [
              0.3333333333333333,
              "#9c179e"
             ],
             [
              0.4444444444444444,
              "#bd3786"
             ],
             [
              0.5555555555555556,
              "#d8576b"
             ],
             [
              0.6666666666666666,
              "#ed7953"
             ],
             [
              0.7777777777777778,
              "#fb9f3a"
             ],
             [
              0.8888888888888888,
              "#fdca26"
             ],
             [
              1,
              "#f0f921"
             ]
            ],
            "type": "histogram2dcontour"
           }
          ],
          "mesh3d": [
           {
            "colorbar": {
             "outlinewidth": 0,
             "ticks": ""
            },
            "type": "mesh3d"
           }
          ],
          "parcoords": [
           {
            "line": {
             "colorbar": {
              "outlinewidth": 0,
              "ticks": ""
             }
            },
            "type": "parcoords"
           }
          ],
          "pie": [
           {
            "automargin": true,
            "type": "pie"
           }
          ],
          "scatter": [
           {
            "marker": {
             "colorbar": {
              "outlinewidth": 0,
              "ticks": ""
             }
            },
            "type": "scatter"
           }
          ],
          "scatter3d": [
           {
            "line": {
             "colorbar": {
              "outlinewidth": 0,
              "ticks": ""
             }
            },
            "marker": {
             "colorbar": {
              "outlinewidth": 0,
              "ticks": ""
             }
            },
            "type": "scatter3d"
           }
          ],
          "scattercarpet": [
           {
            "marker": {
             "colorbar": {
              "outlinewidth": 0,
              "ticks": ""
             }
            },
            "type": "scattercarpet"
           }
          ],
          "scattergeo": [
           {
            "marker": {
             "colorbar": {
              "outlinewidth": 0,
              "ticks": ""
             }
            },
            "type": "scattergeo"
           }
          ],
          "scattergl": [
           {
            "marker": {
             "colorbar": {
              "outlinewidth": 0,
              "ticks": ""
             }
            },
            "type": "scattergl"
           }
          ],
          "scattermapbox": [
           {
            "marker": {
             "colorbar": {
              "outlinewidth": 0,
              "ticks": ""
             }
            },
            "type": "scattermapbox"
           }
          ],
          "scatterpolar": [
           {
            "marker": {
             "colorbar": {
              "outlinewidth": 0,
              "ticks": ""
             }
            },
            "type": "scatterpolar"
           }
          ],
          "scatterpolargl": [
           {
            "marker": {
             "colorbar": {
              "outlinewidth": 0,
              "ticks": ""
             }
            },
            "type": "scatterpolargl"
           }
          ],
          "scatterternary": [
           {
            "marker": {
             "colorbar": {
              "outlinewidth": 0,
              "ticks": ""
             }
            },
            "type": "scatterternary"
           }
          ],
          "surface": [
           {
            "colorbar": {
             "outlinewidth": 0,
             "ticks": ""
            },
            "colorscale": [
             [
              0,
              "#0d0887"
             ],
             [
              0.1111111111111111,
              "#46039f"
             ],
             [
              0.2222222222222222,
              "#7201a8"
             ],
             [
              0.3333333333333333,
              "#9c179e"
             ],
             [
              0.4444444444444444,
              "#bd3786"
             ],
             [
              0.5555555555555556,
              "#d8576b"
             ],
             [
              0.6666666666666666,
              "#ed7953"
             ],
             [
              0.7777777777777778,
              "#fb9f3a"
             ],
             [
              0.8888888888888888,
              "#fdca26"
             ],
             [
              1,
              "#f0f921"
             ]
            ],
            "type": "surface"
           }
          ],
          "table": [
           {
            "cells": {
             "fill": {
              "color": "#EBF0F8"
             },
             "line": {
              "color": "white"
             }
            },
            "header": {
             "fill": {
              "color": "#C8D4E3"
             },
             "line": {
              "color": "white"
             }
            },
            "type": "table"
           }
          ]
         },
         "layout": {
          "annotationdefaults": {
           "arrowcolor": "#2a3f5f",
           "arrowhead": 0,
           "arrowwidth": 1
          },
          "coloraxis": {
           "colorbar": {
            "outlinewidth": 0,
            "ticks": ""
           }
          },
          "colorscale": {
           "diverging": [
            [
             0,
             "#8e0152"
            ],
            [
             0.1,
             "#c51b7d"
            ],
            [
             0.2,
             "#de77ae"
            ],
            [
             0.3,
             "#f1b6da"
            ],
            [
             0.4,
             "#fde0ef"
            ],
            [
             0.5,
             "#f7f7f7"
            ],
            [
             0.6,
             "#e6f5d0"
            ],
            [
             0.7,
             "#b8e186"
            ],
            [
             0.8,
             "#7fbc41"
            ],
            [
             0.9,
             "#4d9221"
            ],
            [
             1,
             "#276419"
            ]
           ],
           "sequential": [
            [
             0,
             "#0d0887"
            ],
            [
             0.1111111111111111,
             "#46039f"
            ],
            [
             0.2222222222222222,
             "#7201a8"
            ],
            [
             0.3333333333333333,
             "#9c179e"
            ],
            [
             0.4444444444444444,
             "#bd3786"
            ],
            [
             0.5555555555555556,
             "#d8576b"
            ],
            [
             0.6666666666666666,
             "#ed7953"
            ],
            [
             0.7777777777777778,
             "#fb9f3a"
            ],
            [
             0.8888888888888888,
             "#fdca26"
            ],
            [
             1,
             "#f0f921"
            ]
           ],
           "sequentialminus": [
            [
             0,
             "#0d0887"
            ],
            [
             0.1111111111111111,
             "#46039f"
            ],
            [
             0.2222222222222222,
             "#7201a8"
            ],
            [
             0.3333333333333333,
             "#9c179e"
            ],
            [
             0.4444444444444444,
             "#bd3786"
            ],
            [
             0.5555555555555556,
             "#d8576b"
            ],
            [
             0.6666666666666666,
             "#ed7953"
            ],
            [
             0.7777777777777778,
             "#fb9f3a"
            ],
            [
             0.8888888888888888,
             "#fdca26"
            ],
            [
             1,
             "#f0f921"
            ]
           ]
          },
          "colorway": [
           "#636efa",
           "#EF553B",
           "#00cc96",
           "#ab63fa",
           "#FFA15A",
           "#19d3f3",
           "#FF6692",
           "#B6E880",
           "#FF97FF",
           "#FECB52"
          ],
          "font": {
           "color": "#2a3f5f"
          },
          "geo": {
           "bgcolor": "white",
           "lakecolor": "white",
           "landcolor": "#E5ECF6",
           "showlakes": true,
           "showland": true,
           "subunitcolor": "white"
          },
          "hoverlabel": {
           "align": "left"
          },
          "hovermode": "closest",
          "mapbox": {
           "style": "light"
          },
          "paper_bgcolor": "white",
          "plot_bgcolor": "#E5ECF6",
          "polar": {
           "angularaxis": {
            "gridcolor": "white",
            "linecolor": "white",
            "ticks": ""
           },
           "bgcolor": "#E5ECF6",
           "radialaxis": {
            "gridcolor": "white",
            "linecolor": "white",
            "ticks": ""
           }
          },
          "scene": {
           "xaxis": {
            "backgroundcolor": "#E5ECF6",
            "gridcolor": "white",
            "gridwidth": 2,
            "linecolor": "white",
            "showbackground": true,
            "ticks": "",
            "zerolinecolor": "white"
           },
           "yaxis": {
            "backgroundcolor": "#E5ECF6",
            "gridcolor": "white",
            "gridwidth": 2,
            "linecolor": "white",
            "showbackground": true,
            "ticks": "",
            "zerolinecolor": "white"
           },
           "zaxis": {
            "backgroundcolor": "#E5ECF6",
            "gridcolor": "white",
            "gridwidth": 2,
            "linecolor": "white",
            "showbackground": true,
            "ticks": "",
            "zerolinecolor": "white"
           }
          },
          "shapedefaults": {
           "line": {
            "color": "#2a3f5f"
           }
          },
          "ternary": {
           "aaxis": {
            "gridcolor": "white",
            "linecolor": "white",
            "ticks": ""
           },
           "baxis": {
            "gridcolor": "white",
            "linecolor": "white",
            "ticks": ""
           },
           "bgcolor": "#E5ECF6",
           "caxis": {
            "gridcolor": "white",
            "linecolor": "white",
            "ticks": ""
           }
          },
          "title": {
           "x": 0.05
          },
          "xaxis": {
           "automargin": true,
           "gridcolor": "white",
           "linecolor": "white",
           "ticks": "",
           "title": {
            "standoff": 15
           },
           "zerolinecolor": "white",
           "zerolinewidth": 2
          },
          "yaxis": {
           "automargin": true,
           "gridcolor": "white",
           "linecolor": "white",
           "ticks": "",
           "title": {
            "standoff": 15
           },
           "zerolinecolor": "white",
           "zerolinewidth": 2
          }
         }
        },
        "title": {
         "text": "Correlation between days held and perc gain"
        },
        "width": 1000,
        "xaxis": {
         "autorange": true,
         "range": [
          -25.182364729458914,
          437.1823647294589
         ],
         "title": {
          "text": "Days held"
         },
         "type": "linear"
        },
        "yaxis": {
         "autorange": true,
         "range": [
          -78.90742424242424,
          193.57742424242423
         ],
         "title": {
          "text": "perc gain"
         },
         "type": "linear"
        }
       }
      },
      "image/png": "[encoded data removed]",
      "text/html": [
       "<div>                            <div id=\"fc7a9efc-732d-4594-ac38-f122b08c9f5d\" class=\"plotly-graph-div\" style=\"height:500px; width:1000px;\"></div>            <script type=\"text/javascript\">                require([\"plotly\"], function(Plotly) {                    window.PLOTLYENV=window.PLOTLYENV || {};                                    if (document.getElementById(\"fc7a9efc-732d-4594-ac38-f122b08c9f5d\")) {                    Plotly.newPlot(                        \"fc7a9efc-732d-4594-ac38-f122b08c9f5d\",                        [{\"mode\": \"markers\", \"text\": [\"SCTY\", \"SCTY\", \"FB\", \"APTI\", \"AABA\", \"TWTR\", \"APTI\", \"NFLX\", \"SNAP\", \"RAD\", \"SHOP\", \"AMD\", \"FB\", \"BAC\", \"EBAY\", \"AABA\", \"MSFT\", \"PYPL\", \"MSFT\", \"ORCL\", \"ORCL\", \"SONY\", \"AMD\", \"APRN\", \"PYPL\", \"AMD\", \"MAR\", \"APRN\", \"LUV\", \"NVCR\", \"PSI\", \"FSLR\", \"NVCR\", \"BAC\", \"NVCR\", \"PYPL\", \"PSI\", \"DAL\", \"NVDA\", \"AMZN\", \"ARKW\", \"RJZ\", \"RJZ\", \"PYPL\", \"PYPL\", \"SOXL\", \"SQ\", \"MZOR\", \"AABA\", \"MSFT\", \"BAC\", \"PYPL\", \"PYPL\", \"MSFT\", \"SQ\", \"MZOR\", \"ARKW\", \"MZOR\", \"MZOR\", \"NVDA\", \"MSFT\", \"APTI\", \"SHOP\", \"AYX\", \"APTI\", \"SHOP\", \"OKTA\", \"MSFT\", \"SQ\", \"ARKW\", \"AAPL\", \"F\", \"AAPL\", \"AAPL\", \"SBUX\", \"SBUX\", \"ZS\", \"OKTA\", \"SBUX\", \"AYX\", \"EVBG\", \"AYX\", \"TVIXF\", \"UVXY\", \"EVBG\", \"BA\", \"MSFT\", \"RCL\", \"CWST\", \"CLX\", \"EVBG\", \"SMAR\", \"KO\", \"AYX\", \"DIS\", \"DAL\", \"SPOT\", \"RCL\", \"RPD\", \"SQ\", \"WORK\", \"WK\", \"WORK\", \"BA\", \"UAL\", \"LUV\", \"DAL\", \"RCL\", \"BA\", \"LUV\", \"DAL\", \"SOXL\", \"RCL\", \"UAL\", \"DFS\", \"WORK\", \"TVIXF\", \"WORK\", \"SE\", \"DAL\", \"SOXL\", \"BA\", \"RCL\", \"AMZN\", \"SE\", \"MSFT\", \"MSFT\", \"SOXL\", \"MSFT\", \"SOXL\", \"LI\", \"SOXL\", \"SE\", \"SNOW\", \"TSLA\", \"DFS\", \"SE\", \"BA\", \"DAL\", \"WORK\", \"DFS\", \"MRNA\", \"DFS\", \"AYX\", \"DDOG\", \"DAL\", \"PLTR\", \"TSM\", \"PLTR\", \"ROKU\", \"TSM\", \"PLTR\", \"GME\", \"NIO\", \"TSM\", \"GME\", \"PLTR\", \"NIO\", \"TSM\", \"ABNB\", \"UPST\", \"DFS\", \"NIO\", \"DFS\", \"NIO\", \"PLTR\", \"TSM\", \"DFS\", \"NIO\", \"PLTR\", \"ABNB\", \"TSM\", \"PLTR\", \"NIO\", \"DFS\", \"NIO\", \"PLTR\", \"TSM\", \"ABNB\", \"UPST\", \"APPN\", \"DFS\", \"PLTR\", \"DFS\", \"DFS\", \"NIO\", \"PLTR\", \"TSM\", \"NIO\", \"DFS\", \"UPST\", \"NIO\", \"DFS\", \"AFRM\", \"NIO\", \"AFRM\", \"ABNB\", \"TAN\", \"SOXL\", \"NIO\", \"TSM\", \"WFC\", \"WFC\", \"WFC\", \"PLTR\", \"WFC\", \"WFC\", \"WFC\", \"WFC\", \"WFC\", \"WFC\", \"DFS\", \"SOXL\", \"PENN\", \"NIO\", \"TSM\", \"ABNB\", \"WEBL\", \"TECL\", \"BMBL\", \"PLTR\", \"ABNB\", \"NIO\", \"TSM\", \"CRSP\", \"PLTR\", \"IPOF\", \"XPEV\", \"NIO\", \"UPST\", \"UPST\", \"UPST\", \"UPST\", \"UPST\", \"UPST\", \"TSM\", \"EXPI\", \"TSM\", \"EXPI\", \"TSM\", \"NIO\", \"NIO\", \"NCLH\", \"OPK\", \"OPEN\", \"TAP\", \"TAP\", \"PTON\", \"TME\", \"CRSP\", \"DISCA\", \"POSH\", \"IPOE\", \"WEBL\", \"SPCE\", \"AFRM\"], \"type\": \"scatter\", \"x\": [4.0, 2.0, 6.0, 1.0, 21.0, 112.0, 52.0, 89.0, 66.0, 0.0, 14.0, 12.0, 133.0, 12.0, 56.0, 26.0, 58.0, 44.0, 18.2, 1.0, 1.0, 278.0, 0.0, 0.0, 13.0, 1.0, 35.0, 11.0, 24.5, 21.58, 31.0, 1.0, 8.0, 11.0, 8.04, 12.0, 26.18, 19.0, 2.0, 28.0, 44.88, 70.0, 77.0, 7.0, 4.0, 112.0, 90.13, 19.0, 168.0, 69.0, 19.0, 69.35, 2.0, 2.0, 1.0, 1.0, 2.0, 13.32, 54.0, 60.0, 159.0, 278.0, 121.0, 42.0, 284.0, 74.25, 49.33, 174.0, 80.83, 412.0, 333.0, 0.0, 383.0, 285.0, 40.0, 40.0, 124.0, 168.0, 76.0, 225.0, 192.56, 4.0, 5.75, 6.67, 0.0, 4.5, 24.0, 6.47, 17.86, 19.5, 13.2, 174.87, 28.0, 25.0, 28.0, 23.53, 26.2, 13.32, 188.58, 260.49, 0.0, 289.33, 2.0, 51.0, 42.67, 59.38, 39.03, 33.66, 42.43, 9.0, 38.0, 48.0, 7.0, 9.0, 8.68, 8.28, 0.0, 0.0, 0.0, 1.0, 1.0, 1.0, 1.0, 2.0, 27.0, 40.0, 43.0, 44.0, 49.0, 71.0, 4.8, 57.12, 34.0, 1.0, 0.0, 116.0, 13.95, 0.0, 0.0, 138.81, 50.8, 4.0, 64.0, 19.0, 19.0, 42.31, 53.0, 9.0, 59.0, 7.0, 15.0, 63.0, 1.73, 105.0, 21.0, 1.0, 67.0, 107.0, 29.0, 21.0, 21.0, 100.0, 113.0, 100.0, 113.0, 73.0, 29.0, 100.0, 113.0, 73.0, 21.0, 29.0, 73.0, 113.0, 100.0, 113.0, 73.0, 29.0, 21.0, 21.0, 9.0, 100.0, 73.0, 100.0, 100.0, 113.0, 73.0, 29.0, 113.0, 100.0, 22.0, 117.0, 104.0, 25.0, 117.0, 26.0, 27.0, 35.76, 11.0, 122.89, 41.0, 35.0, 35.0, 35.0, 80.7, 36.0, 37.0, 38.0, 38.0, 38.0, 44.0, 95.95, 1.0, 9.93, 78.52, 52.42, 21.5, 5.0, 5.0, 20.0, 62.4, 2.0, 1.97, 2.0, 20.0, 23.42, 13.0, 100.0, 1.32, 55.45, 30.0, 26.73, 22.4, 21.0, 21.0, 14.0, 14.0, 15.0, 12.0, 11.25, 1.0, 4.31, 5.0, 6.0, 5.0, 5.5, 1.91, 0.71, 1.29, 25.67, 1.0, 6.17, 52.78, 48.77, 36.09, 77.26], \"y\": [3.45, 0.25, 0.06, 6.25, 6.49, -26.74, -26.4, 2.64, -22.05, 0.0, 4.57, 0.84, 17.63, -3.26, 0.04, 2.78, 2.19, 8.08, 3.82, 10.89, 11.12, 16.65, 0.87, -0.37, 1.8, 1.51, -7.96, -27.68, 1.44, 3.79, 6.41, 9.15, 8.66, 0.27, -7.06, -0.62, -1.85, -8.4, 1.07, 1.29, 2.15, 1.86, 1.37, 0.97, 0.77, 43.9, 9.18, 4.27, 12.88, 4.15, -0.93, -1.87, -2.29, -3.05, -3.38, -3.34, -1.33, 8.77, -24.41, -2.33, 3.18, 36.93, 3.53, 35.52, 36.78, 8.61, 20.9, 6.18, 10.82, -0.57, 16.1, -0.1, 12.62, 16.07, 9.12, 9.11, 9.62, 62.97, 1.69, 20.75, 37.79, 3.84, -47.14, -43.9, 0.16, 17.58, 12.27, 41.61, 13.65, 3.34, 2.46, 0.63, 17.91, 29.08, 9.85, 6.7, 26.72, 27.81, -7.27, 15.94, -4.05, -23.34, 1.35, 20.62, 37.09, 12.34, 33.59, 35.47, 35.79, 1.61, 16.74, 29.77, 15.62, 13.42, -6.86, -19.3, 16.7, -0.16, -0.06, 1.18, 2.05, 2.29, 0.71, 0.77, 1.39, 4.51, 4.6, 13.9, 9.27, 30.96, -24.76, 30.92, -4.52, -9.66, -0.11, 16.91, 6.83, -0.09, 0.34, 25.1, 27.32, -2.91, 32.49, -10.93, -12.16, -1.74, 21.63, 7.76, 18.78, 2.01, 14.78, 63.98, 176.76, 68.47, 4.16, -62.09, 68.98, 75.03, 8.43, 7.65, 26.19, 31.59, 70.75, 31.44, 70.96, 46.21, 8.49, 31.35, 71.18, 45.98, 8.25, 8.57, 46.83, 70.87, 31.49, 70.81, 46.81, 8.59, 8.42, 25.28, 2.48, 31.42, 46.48, 31.48, 31.48, 70.69, 46.2, 8.78, 70.36, 31.76, 28.24, 74.44, 35.63, 8.15, 73.64, 21.37, 18.2, 1.46, 21.59, 73.47, 19.52, 2.47, 2.35, 2.17, 16.35, 7.44, 9.11, 10.53, 10.53, 11.11, 11.53, 37.6, 8.92, 11.18, 15.57, 8.17, 5.7, 9.4, 8.07, -21.48, -8.28, -9.51, -11.27, -9.03, -30.0, -7.11, -20.32, -36.16, 4.07, 66.98, 70.01, 56.23, 57.4, 60.14, 56.06, -5.85, -7.85, -4.21, -5.88, -4.19, 1.53, 0.89, 6.74, 3.16, 0.53, 0.7, 0.55, 0.47, -1.67, -11.47, -1.35, -1.86, -25.44, -2.03, -46.19, -41.74]}],                        {\"height\": 500, \"template\": {\"data\": {\"bar\": [{\"error_x\": {\"color\": \"#2a3f5f\"}, \"error_y\": {\"color\": \"#2a3f5f\"}, \"marker\": {\"line\": {\"color\": \"#E5ECF6\", \"width\": 0.5}}, \"type\": \"bar\"}], \"barpolar\": [{\"marker\": {\"line\": {\"color\": \"#E5ECF6\", \"width\": 0.5}}, \"type\": \"barpolar\"}], \"carpet\": [{\"aaxis\": {\"endlinecolor\": \"#2a3f5f\", \"gridcolor\": \"white\", \"linecolor\": \"white\", \"minorgridcolor\": \"white\", \"startlinecolor\": \"#2a3f5f\"}, \"baxis\": {\"endlinecolor\": \"#2a3f5f\", \"gridcolor\": \"white\", \"linecolor\": \"white\", \"minorgridcolor\": \"white\", \"startlinecolor\": \"#2a3f5f\"}, \"type\": \"carpet\"}], \"choropleth\": [{\"colorbar\": {\"outlinewidth\": 0, \"ticks\": \"\"}, \"type\": \"choropleth\"}], \"contour\": [{\"colorbar\": {\"outlinewidth\": 0, \"ticks\": \"\"}, \"colorscale\": [[0.0, \"#0d0887\"], [0.1111111111111111, \"#46039f\"], [0.2222222222222222, \"#7201a8\"], [0.3333333333333333, \"#9c179e\"], [0.4444444444444444, \"#bd3786\"], [0.5555555555555556, \"#d8576b\"], [0.6666666666666666, \"#ed7953\"], [0.7777777777777778, \"#fb9f3a\"], [0.8888888888888888, \"#fdca26\"], [1.0, \"#f0f921\"]], \"type\": \"contour\"}], \"contourcarpet\": [{\"colorbar\": {\"outlinewidth\": 0, \"ticks\": \"\"}, \"type\": \"contourcarpet\"}], \"heatmap\": [{\"colorbar\": {\"outlinewidth\": 0, \"ticks\": \"\"}, \"colorscale\": [[0.0, \"#0d0887\"], [0.1111111111111111, \"#46039f\"], [0.2222222222222222, \"#7201a8\"], [0.3333333333333333, \"#9c179e\"], [0.4444444444444444, \"#bd3786\"], [0.5555555555555556, \"#d8576b\"], [0.6666666666666666, \"#ed7953\"], [0.7777777777777778, \"#fb9f3a\"], [0.8888888888888888, \"#fdca26\"], [1.0, \"#f0f921\"]], \"type\": \"heatmap\"}], \"heatmapgl\": [{\"colorbar\": {\"outlinewidth\": 0, \"ticks\": \"\"}, \"colorscale\": [[0.0, \"#0d0887\"], [0.1111111111111111, \"#46039f\"], [0.2222222222222222, \"#7201a8\"], [0.3333333333333333, \"#9c179e\"], [0.4444444444444444, \"#bd3786\"], [0.5555555555555556, \"#d8576b\"], [0.6666666666666666, \"#ed7953\"], [0.7777777777777778, \"#fb9f3a\"], [0.8888888888888888, \"#fdca26\"], [1.0, \"#f0f921\"]], \"type\": \"heatmapgl\"}], \"histogram\": [{\"marker\": {\"colorbar\": {\"outlinewidth\": 0, \"ticks\": \"\"}}, \"type\": \"histogram\"}], \"histogram2d\": [{\"colorbar\": {\"outlinewidth\": 0, \"ticks\": \"\"}, \"colorscale\": [[0.0, \"#0d0887\"], [0.1111111111111111, \"#46039f\"], [0.2222222222222222, \"#7201a8\"], [0.3333333333333333, \"#9c179e\"], [0.4444444444444444, \"#bd3786\"], [0.5555555555555556, \"#d8576b\"], [0.6666666666666666, \"#ed7953\"], [0.7777777777777778, \"#fb9f3a\"], [0.8888888888888888, \"#fdca26\"], [1.0, \"#f0f921\"]], \"type\": \"histogram2d\"}], \"histogram2dcontour\": [{\"colorbar\": {\"outlinewidth\": 0, \"ticks\": \"\"}, \"colorscale\": [[0.0, \"#0d0887\"], [0.1111111111111111, \"#46039f\"], [0.2222222222222222, \"#7201a8\"], [0.3333333333333333, \"#9c179e\"], [0.4444444444444444, \"#bd3786\"], [0.5555555555555556, \"#d8576b\"], [0.6666666666666666, \"#ed7953\"], [0.7777777777777778, \"#fb9f3a\"], [0.8888888888888888, \"#fdca26\"], [1.0, \"#f0f921\"]], \"type\": \"histogram2dcontour\"}], \"mesh3d\": [{\"colorbar\": {\"outlinewidth\": 0, \"ticks\": \"\"}, \"type\": \"mesh3d\"}], \"parcoords\": [{\"line\": {\"colorbar\": {\"outlinewidth\": 0, \"ticks\": \"\"}}, \"type\": \"parcoords\"}], \"pie\": [{\"automargin\": true, \"type\": \"pie\"}], \"scatter\": [{\"marker\": {\"colorbar\": {\"outlinewidth\": 0, \"ticks\": \"\"}}, \"type\": \"scatter\"}], \"scatter3d\": [{\"line\": {\"colorbar\": {\"outlinewidth\": 0, \"ticks\": \"\"}}, \"marker\": {\"colorbar\": {\"outlinewidth\": 0, \"ticks\": \"\"}}, \"type\": \"scatter3d\"}], \"scattercarpet\": [{\"marker\": {\"colorbar\": {\"outlinewidth\": 0, \"ticks\": \"\"}}, \"type\": \"scattercarpet\"}], \"scattergeo\": [{\"marker\": {\"colorbar\": {\"outlinewidth\": 0, \"ticks\": \"\"}}, \"type\": \"scattergeo\"}], \"scattergl\": [{\"marker\": {\"colorbar\": {\"outlinewidth\": 0, \"ticks\": \"\"}}, \"type\": \"scattergl\"}], \"scattermapbox\": [{\"marker\": {\"colorbar\": {\"outlinewidth\": 0, \"ticks\": \"\"}}, \"type\": \"scattermapbox\"}], \"scatterpolar\": [{\"marker\": {\"colorbar\": {\"outlinewidth\": 0, \"ticks\": \"\"}}, \"type\": \"scatterpolar\"}], \"scatterpolargl\": [{\"marker\": {\"colorbar\": {\"outlinewidth\": 0, \"ticks\": \"\"}}, \"type\": \"scatterpolargl\"}], \"scatterternary\": [{\"marker\": {\"colorbar\": {\"outlinewidth\": 0, \"ticks\": \"\"}}, \"type\": \"scatterternary\"}], \"surface\": [{\"colorbar\": {\"outlinewidth\": 0, \"ticks\": \"\"}, \"colorscale\": [[0.0, \"#0d0887\"], [0.1111111111111111, \"#46039f\"], [0.2222222222222222, \"#7201a8\"], [0.3333333333333333, \"#9c179e\"], [0.4444444444444444, \"#bd3786\"], [0.5555555555555556, \"#d8576b\"], [0.6666666666666666, \"#ed7953\"], [0.7777777777777778, \"#fb9f3a\"], [0.8888888888888888, \"#fdca26\"], [1.0, \"#f0f921\"]], \"type\": \"surface\"}], \"table\": [{\"cells\": {\"fill\": {\"color\": \"#EBF0F8\"}, \"line\": {\"color\": \"white\"}}, \"header\": {\"fill\": {\"color\": \"#C8D4E3\"}, \"line\": {\"color\": \"white\"}}, \"type\": \"table\"}]}, \"layout\": {\"annotationdefaults\": {\"arrowcolor\": \"#2a3f5f\", \"arrowhead\": 0, \"arrowwidth\": 1}, \"coloraxis\": {\"colorbar\": {\"outlinewidth\": 0, \"ticks\": \"\"}}, \"colorscale\": {\"diverging\": [[0, \"#8e0152\"], [0.1, \"#c51b7d\"], [0.2, \"#de77ae\"], [0.3, \"#f1b6da\"], [0.4, \"#fde0ef\"], [0.5, \"#f7f7f7\"], [0.6, \"#e6f5d0\"], [0.7, \"#b8e186\"], [0.8, \"#7fbc41\"], [0.9, \"#4d9221\"], [1, \"#276419\"]], \"sequential\": [[0.0, \"#0d0887\"], [0.1111111111111111, \"#46039f\"], [0.2222222222222222, \"#7201a8\"], [0.3333333333333333, \"#9c179e\"], [0.4444444444444444, \"#bd3786\"], [0.5555555555555556, \"#d8576b\"], [0.6666666666666666, \"#ed7953\"], [0.7777777777777778, \"#fb9f3a\"], [0.8888888888888888, \"#fdca26\"], [1.0, \"#f0f921\"]], \"sequentialminus\": [[0.0, \"#0d0887\"], [0.1111111111111111, \"#46039f\"], [0.2222222222222222, \"#7201a8\"], [0.3333333333333333, \"#9c179e\"], [0.4444444444444444, \"#bd3786\"], [0.5555555555555556, \"#d8576b\"], [0.6666666666666666, \"#ed7953\"], [0.7777777777777778, \"#fb9f3a\"], [0.8888888888888888, \"#fdca26\"], [1.0, \"#f0f921\"]]}, \"colorway\": [\"#636efa\", \"#EF553B\", \"#00cc96\", \"#ab63fa\", \"#FFA15A\", \"#19d3f3\", \"#FF6692\", \"#B6E880\", \"#FF97FF\", \"#FECB52\"], \"font\": {\"color\": \"#2a3f5f\"}, \"geo\": {\"bgcolor\": \"white\", \"lakecolor\": \"white\", \"landcolor\": \"#E5ECF6\", \"showlakes\": true, \"showland\": true, \"subunitcolor\": \"white\"}, \"hoverlabel\": {\"align\": \"left\"}, \"hovermode\": \"closest\", \"mapbox\": {\"style\": \"light\"}, \"paper_bgcolor\": \"white\", \"plot_bgcolor\": \"#E5ECF6\", \"polar\": {\"angularaxis\": {\"gridcolor\": \"white\", \"linecolor\": \"white\", \"ticks\": \"\"}, \"bgcolor\": \"#E5ECF6\", \"radialaxis\": {\"gridcolor\": \"white\", \"linecolor\": \"white\", \"ticks\": \"\"}}, \"scene\": {\"xaxis\": {\"backgroundcolor\": \"#E5ECF6\", \"gridcolor\": \"white\", \"gridwidth\": 2, \"linecolor\": \"white\", \"showbackground\": true, \"ticks\": \"\", \"zerolinecolor\": \"white\"}, \"yaxis\": {\"backgroundcolor\": \"#E5ECF6\", \"gridcolor\": \"white\", \"gridwidth\": 2, \"linecolor\": \"white\", \"showbackground\": true, \"ticks\": \"\", \"zerolinecolor\": \"white\"}, \"zaxis\": {\"backgroundcolor\": \"#E5ECF6\", \"gridcolor\": \"white\", \"gridwidth\": 2, \"linecolor\": \"white\", \"showbackground\": true, \"ticks\": \"\", \"zerolinecolor\": \"white\"}}, \"shapedefaults\": {\"line\": {\"color\": \"#2a3f5f\"}}, \"ternary\": {\"aaxis\": {\"gridcolor\": \"white\", \"linecolor\": \"white\", \"ticks\": \"\"}, \"baxis\": {\"gridcolor\": \"white\", \"linecolor\": \"white\", \"ticks\": \"\"}, \"bgcolor\": \"#E5ECF6\", \"caxis\": {\"gridcolor\": \"white\", \"linecolor\": \"white\", \"ticks\": \"\"}}, \"title\": {\"x\": 0.05}, \"xaxis\": {\"automargin\": true, \"gridcolor\": \"white\", \"linecolor\": \"white\", \"ticks\": \"\", \"title\": {\"standoff\": 15}, \"zerolinecolor\": \"white\", \"zerolinewidth\": 2}, \"yaxis\": {\"automargin\": true, \"gridcolor\": \"white\", \"linecolor\": \"white\", \"ticks\": \"\", \"title\": {\"standoff\": 15}, \"zerolinecolor\": \"white\", \"zerolinewidth\": 2}}}, \"title\": {\"text\": \"Correlation between days held and perc gain\"}, \"width\": 1000, \"xaxis\": {\"title\": {\"text\": \"Days held\"}}, \"yaxis\": {\"title\": {\"text\": \"perc gain\"}}},                        {\"responsive\": true}                    ).then(function(){\n",
       "                            \n",
       "var gd = document.getElementById('fc7a9efc-732d-4594-ac38-f122b08c9f5d');\n",
       "var x = new MutationObserver(function (mutations, observer) {{\n",
       "        var display = window.getComputedStyle(gd).display;\n",
       "        if (!display || display === 'none') {{\n",
       "            console.log([gd, 'removed!']);\n",
       "            Plotly.purge(gd);\n",
       "            observer.disconnect();\n",
       "        }}\n",
       "}});\n",
       "\n",
       "// Listen for the removal of the full notebook cells\n",
       "var notebookContainer = gd.closest('#notebook-container');\n",
       "if (notebookContainer) {{\n",
       "    x.observe(notebookContainer, {childList: true});\n",
       "}}\n",
       "\n",
       "// Listen for the clearing of the current output cell\n",
       "var outputEl = gd.closest('.output');\n",
       "if (outputEl) {{\n",
       "    x.observe(outputEl, {childList: true});\n",
       "}}\n",
       "\n",
       "                        })                };                });            </script>        </div>"
      ]
     },
     "metadata": {},
     "output_type": "display_data"
    },
    {
     "data": {
      "text/markdown": [
       "Pearson Correlation: 0.25"
      ],
      "text/plain": [
       "<IPython.core.display.Markdown object>"
      ]
     },
     "metadata": {},
     "output_type": "display_data"
    },
    {
     "name": "stdout",
     "output_type": "stream",
     "text": [
      "\n"
     ]
    }
   ],
   "source": [
    "fig2 = go.Figure()\n",
    "\n",
    "fig2.add_trace(go.Scatter(x = sells['Days Held'], y = sells['Perc gain'], mode = 'markers', text = sells['Symbol']))\n",
    "\n",
    "fig2.update_layout(title = 'Correlation between days held and perc gain', xaxis_title = 'Days held', yaxis_title = 'perc gain', width = 1000, height = 500)\n",
    "\n",
    "\n",
    "\n",
    "fig2.show()\n",
    "\n",
    "printmd(\"Pearson Correlation: \" + str(round(sells['Days Held'].corr(sells['Perc gain']),3)))\n",
    "print()"
   ]
  },
  {
   "cell_type": "markdown",
   "metadata": {},
   "source": [
    "### Options trade history"
   ]
  },
  {
   "cell_type": "code",
   "execution_count": 30,
   "metadata": {},
   "outputs": [
    {
     "name": "stdout",
     "output_type": "stream",
     "text": [
      "Found Additional pages.\n",
      "Loading page 2 ...\n",
      "Loading page 3 ...\n",
      "Loading page 4 ...\n"
     ]
    }
   ],
   "source": [
    "r.export.export_completed_option_orders(dir_path = '.', file_name = 'My_option_orders.csv')\n",
    "options = pd.read_csv('My_option_orders.csv')\n",
    "options['order_created_at'] = options['order_created_at'].replace('T(.*)', '', regex=True)\n",
    "options['order_created_at'] = pd.to_datetime(options['order_created_at'], format = '%Y-%m-%d')\n",
    "options['expiration_date'] = pd.to_datetime(options['expiration_date'], format = '%Y-%m-%d')\n",
    "options = options.iloc[::-1].reset_index(drop=True)\n",
    "\n",
    "#correcting GME order glitch for one contract @ 20.5 strike\n",
    "insert_order = pd.DataFrame(options.iloc[34].copy()).T\n",
    "insert_order['price'], insert_order['processed_quantity'] = 0.09, 1\n",
    "\n",
    "options1 = options.iloc[0:35]\n",
    "options2 = options.iloc[35:]\n",
    "\n",
    "option_orders = pd.concat([options1, insert_order, options2]).reset_index(drop=True)"
   ]
  },
  {
   "cell_type": "markdown",
   "metadata": {},
   "source": [
    "#### Examine option trades"
   ]
  },
  {
   "cell_type": "code",
   "execution_count": 68,
   "metadata": {},
   "outputs": [],
   "source": [
    "options = et.Options(option_orders)\n",
    "\n",
    "options.examine_trades()"
   ]
  },
  {
   "cell_type": "code",
   "execution_count": 71,
   "metadata": {},
   "outputs": [
    {
     "data": {
      "text/html": [
       "<div>\n",
       "<style scoped>\n",
       "    .dataframe tbody tr th:only-of-type {\n",
       "        vertical-align: middle;\n",
       "    }\n",
       "\n",
       "    .dataframe tbody tr th {\n",
       "        vertical-align: top;\n",
       "    }\n",
       "\n",
       "    .dataframe thead th {\n",
       "        text-align: right;\n",
       "    }\n",
       "</style>\n",
       "<table border=\"1\" class=\"dataframe\">\n",
       "  <thead>\n",
       "    <tr style=\"text-align: right;\">\n",
       "      <th></th>\n",
       "      <th>Side</th>\n",
       "      <th>Symbol</th>\n",
       "      <th>Option Type</th>\n",
       "      <th>Strategy</th>\n",
       "      <th>Expiration</th>\n",
       "      <th>Strike</th>\n",
       "      <th>Date</th>\n",
       "      <th>Quantity</th>\n",
       "      <th>Avg_Price</th>\n",
       "      <th>Cur_Avg_Cost</th>\n",
       "      <th>Cur Quantity</th>\n",
       "      <th>Total</th>\n",
       "      <th>Gain</th>\n",
       "      <th>% Gain</th>\n",
       "      <th>Expired</th>\n",
       "      <th>Net Gain/Loss</th>\n",
       "    </tr>\n",
       "  </thead>\n",
       "  <tbody>\n",
       "    <tr>\n",
       "      <th>0</th>\n",
       "      <td>buy</td>\n",
       "      <td>WORK</td>\n",
       "      <td>call</td>\n",
       "      <td>long_call</td>\n",
       "      <td>2020-07-17</td>\n",
       "      <td>48.0</td>\n",
       "      <td>2020-06-09</td>\n",
       "      <td>1.0</td>\n",
       "      <td>0.20</td>\n",
       "      <td>0.20</td>\n",
       "      <td>1.0</td>\n",
       "      <td>20.0</td>\n",
       "      <td>0.0</td>\n",
       "      <td>0</td>\n",
       "      <td></td>\n",
       "      <td>0.0</td>\n",
       "    </tr>\n",
       "    <tr>\n",
       "      <th>1</th>\n",
       "      <td>buy</td>\n",
       "      <td>MA</td>\n",
       "      <td>call</td>\n",
       "      <td>long_call</td>\n",
       "      <td>2020-07-10</td>\n",
       "      <td>332.5</td>\n",
       "      <td>2020-06-11</td>\n",
       "      <td>1.0</td>\n",
       "      <td>2.52</td>\n",
       "      <td>2.52</td>\n",
       "      <td>1.0</td>\n",
       "      <td>252.0</td>\n",
       "      <td>0.0</td>\n",
       "      <td>0</td>\n",
       "      <td></td>\n",
       "      <td>0.0</td>\n",
       "    </tr>\n",
       "    <tr>\n",
       "      <th>2</th>\n",
       "      <td>buy</td>\n",
       "      <td>SOXL</td>\n",
       "      <td>call</td>\n",
       "      <td>long_call</td>\n",
       "      <td>2020-07-17</td>\n",
       "      <td>260.0</td>\n",
       "      <td>2020-06-11</td>\n",
       "      <td>1.0</td>\n",
       "      <td>2.00</td>\n",
       "      <td>2.00</td>\n",
       "      <td>1.0</td>\n",
       "      <td>200.0</td>\n",
       "      <td>0.0</td>\n",
       "      <td>0</td>\n",
       "      <td></td>\n",
       "      <td>0.0</td>\n",
       "    </tr>\n",
       "    <tr>\n",
       "      <th>3</th>\n",
       "      <td>buy</td>\n",
       "      <td>UVXY</td>\n",
       "      <td>put</td>\n",
       "      <td>long_put</td>\n",
       "      <td>2020-06-26</td>\n",
       "      <td>31.5</td>\n",
       "      <td>2020-06-12</td>\n",
       "      <td>1.0</td>\n",
       "      <td>2.20</td>\n",
       "      <td>2.20</td>\n",
       "      <td>1.0</td>\n",
       "      <td>220.0</td>\n",
       "      <td>0.0</td>\n",
       "      <td>0</td>\n",
       "      <td></td>\n",
       "      <td>0.0</td>\n",
       "    </tr>\n",
       "    <tr>\n",
       "      <th>4</th>\n",
       "      <td>buy</td>\n",
       "      <td>WB</td>\n",
       "      <td>put</td>\n",
       "      <td>long_put</td>\n",
       "      <td>2020-07-31</td>\n",
       "      <td>29.0</td>\n",
       "      <td>2020-06-15</td>\n",
       "      <td>1.0</td>\n",
       "      <td>0.95</td>\n",
       "      <td>0.95</td>\n",
       "      <td>1.0</td>\n",
       "      <td>95.0</td>\n",
       "      <td>0.0</td>\n",
       "      <td>0</td>\n",
       "      <td></td>\n",
       "      <td>0.0</td>\n",
       "    </tr>\n",
       "    <tr>\n",
       "      <th>5</th>\n",
       "      <td>buy</td>\n",
       "      <td>DIS</td>\n",
       "      <td>call</td>\n",
       "      <td>long_call</td>\n",
       "      <td>2020-07-24</td>\n",
       "      <td>165.0</td>\n",
       "      <td>2020-06-19</td>\n",
       "      <td>4.0</td>\n",
       "      <td>0.12</td>\n",
       "      <td>0.12</td>\n",
       "      <td>4.0</td>\n",
       "      <td>48.0</td>\n",
       "      <td>0.0</td>\n",
       "      <td>0</td>\n",
       "      <td></td>\n",
       "      <td>0.0</td>\n",
       "    </tr>\n",
       "    <tr>\n",
       "      <th>6</th>\n",
       "      <td>buy</td>\n",
       "      <td>DAL</td>\n",
       "      <td>call</td>\n",
       "      <td>long_call</td>\n",
       "      <td>2020-08-21</td>\n",
       "      <td>55.0</td>\n",
       "      <td>2020-06-19</td>\n",
       "      <td>2.0</td>\n",
       "      <td>0.33</td>\n",
       "      <td>0.33</td>\n",
       "      <td>2.0</td>\n",
       "      <td>66.0</td>\n",
       "      <td>0.0</td>\n",
       "      <td>0</td>\n",
       "      <td></td>\n",
       "      <td>0.0</td>\n",
       "    </tr>\n",
       "    <tr>\n",
       "      <th>7</th>\n",
       "      <td>sell</td>\n",
       "      <td>SOXL</td>\n",
       "      <td>call</td>\n",
       "      <td>long_call</td>\n",
       "      <td>2020-07-17</td>\n",
       "      <td>260.0</td>\n",
       "      <td>2020-06-22</td>\n",
       "      <td>1.0</td>\n",
       "      <td>2.40</td>\n",
       "      <td>2.00</td>\n",
       "      <td>0.0</td>\n",
       "      <td>240.0</td>\n",
       "      <td>40.0</td>\n",
       "      <td>20.0%</td>\n",
       "      <td></td>\n",
       "      <td>40.0</td>\n",
       "    </tr>\n",
       "    <tr>\n",
       "      <th>8</th>\n",
       "      <td>sell</td>\n",
       "      <td>UVXY</td>\n",
       "      <td>put</td>\n",
       "      <td>long_put</td>\n",
       "      <td>2020-06-26</td>\n",
       "      <td>31.5</td>\n",
       "      <td>2020-06-25</td>\n",
       "      <td>1.0</td>\n",
       "      <td>0.24</td>\n",
       "      <td>2.20</td>\n",
       "      <td>0.0</td>\n",
       "      <td>24.0</td>\n",
       "      <td>-196.0</td>\n",
       "      <td>-89.09%</td>\n",
       "      <td></td>\n",
       "      <td>-156.0</td>\n",
       "    </tr>\n",
       "    <tr>\n",
       "      <th>9</th>\n",
       "      <td>buy</td>\n",
       "      <td>AA</td>\n",
       "      <td>put</td>\n",
       "      <td>long_put</td>\n",
       "      <td>2020-07-31</td>\n",
       "      <td>11.0</td>\n",
       "      <td>2020-07-02</td>\n",
       "      <td>1.0</td>\n",
       "      <td>0.94</td>\n",
       "      <td>0.94</td>\n",
       "      <td>1.0</td>\n",
       "      <td>94.0</td>\n",
       "      <td>0.0</td>\n",
       "      <td>0</td>\n",
       "      <td></td>\n",
       "      <td>-156.0</td>\n",
       "    </tr>\n",
       "  </tbody>\n",
       "</table>\n",
       "</div>"
      ],
      "text/plain": [
       "   Side Symbol Option Type   Strategy  Expiration  Strike        Date  \\\n",
       "0   buy   WORK        call  long_call  2020-07-17    48.0  2020-06-09   \n",
       "1   buy     MA        call  long_call  2020-07-10   332.5  2020-06-11   \n",
       "2   buy   SOXL        call  long_call  2020-07-17   260.0  2020-06-11   \n",
       "3   buy   UVXY         put   long_put  2020-06-26    31.5  2020-06-12   \n",
       "4   buy     WB         put   long_put  2020-07-31    29.0  2020-06-15   \n",
       "5   buy    DIS        call  long_call  2020-07-24   165.0  2020-06-19   \n",
       "6   buy    DAL        call  long_call  2020-08-21    55.0  2020-06-19   \n",
       "7  sell   SOXL        call  long_call  2020-07-17   260.0  2020-06-22   \n",
       "8  sell   UVXY         put   long_put  2020-06-26    31.5  2020-06-25   \n",
       "9   buy     AA         put   long_put  2020-07-31    11.0  2020-07-02   \n",
       "\n",
       "   Quantity  Avg_Price  Cur_Avg_Cost  Cur Quantity  Total   Gain   % Gain  \\\n",
       "0       1.0       0.20          0.20           1.0   20.0    0.0        0   \n",
       "1       1.0       2.52          2.52           1.0  252.0    0.0        0   \n",
       "2       1.0       2.00          2.00           1.0  200.0    0.0        0   \n",
       "3       1.0       2.20          2.20           1.0  220.0    0.0        0   \n",
       "4       1.0       0.95          0.95           1.0   95.0    0.0        0   \n",
       "5       4.0       0.12          0.12           4.0   48.0    0.0        0   \n",
       "6       2.0       0.33          0.33           2.0   66.0    0.0        0   \n",
       "7       1.0       2.40          2.00           0.0  240.0   40.0    20.0%   \n",
       "8       1.0       0.24          2.20           0.0   24.0 -196.0  -89.09%   \n",
       "9       1.0       0.94          0.94           1.0   94.0    0.0        0   \n",
       "\n",
       "  Expired  Net Gain/Loss  \n",
       "0                    0.0  \n",
       "1                    0.0  \n",
       "2                    0.0  \n",
       "3                    0.0  \n",
       "4                    0.0  \n",
       "5                    0.0  \n",
       "6                    0.0  \n",
       "7                   40.0  \n",
       "8                 -156.0  \n",
       "9                 -156.0  "
      ]
     },
     "execution_count": 71,
     "metadata": {},
     "output_type": "execute_result"
    }
   ],
   "source": [
    "options.trades_df.head(10)"
   ]
  },
  {
   "cell_type": "markdown",
   "metadata": {},
   "source": [
    "#### Crypto trade history"
   ]
  },
  {
   "cell_type": "code",
   "execution_count": 80,
   "metadata": {},
   "outputs": [
    {
     "name": "stdout",
     "output_type": "stream",
     "text": [
      "Found Additional pages.\n",
      "Loading page 2 ...\n"
     ]
    }
   ],
   "source": [
    "#get all crypto orders\n",
    "crypto_orders = pd.DataFrame(r.orders.get_all_crypto_orders(info=None))[['average_price', 'created_at', 'cumulative_quantity', 'currency_pair_id', 'rounded_executed_notional', 'side', 'state', 'type']]\n",
    "crypto_orders.columns = ['average_price', 'date', 'quantity', 'currency_pair_id', 'total', 'side', 'state', 'type']\n",
    "crypto_orders = crypto_orders[crypto_orders['state'] != 'canceled']\n",
    "\n",
    "crypto_orders['date'] = crypto_orders['date'].replace('T(.*)', '', regex=True)\n",
    "crypto_orders['date'] = pd.to_datetime(crypto_orders['date'], format = '%Y-%m-%d')\n",
    "crypto_orders['average_price'] = crypto_orders['average_price'].astype(float)\n",
    "crypto_orders['quantity'] = crypto_orders['quantity'].astype(float)\n",
    "crypto_orders['total'] = crypto_orders['total'].astype(float)\n",
    "\n",
    "currencies_info = pd.DataFrame(r.markets.get_currency_pairs(info='asset_currency'))[['code', 'id', 'name', 'type']]\n",
    "currency_pair_ids = pd.DataFrame(r.markets.get_currency_pairs(info='id')).rename(columns = {0: 'currency_pair_id'})\n",
    "currencies_info = pd.concat([currencies_info, currency_pair_ids], axis=1)\n",
    "currencies_info = currencies_info[['code', 'currency_pair_id']].rename(columns = {'code':'symbol'})\n",
    "\n",
    "crypto_orders = crypto_orders.merge(currencies_info, how = 'left', on = 'currency_pair_id')\n",
    "\n",
    "crypto_orders = crypto_orders.iloc[::-1].dropna(subset = ['average_price']).reset_index(drop=True)\n",
    "\n",
    "\n",
    "crypto_buyorders, crypto_sellorders = crypto_orders[crypto_orders['side'] == 'buy'], crypto_orders[crypto_orders['side'] == 'sell']"
   ]
  },
  {
   "cell_type": "markdown",
   "metadata": {},
   "source": [
    "#### Examine crypto trades"
   ]
  },
  {
   "cell_type": "code",
   "execution_count": 82,
   "metadata": {},
   "outputs": [],
   "source": [
    "crypto = et.StocksCrypto(crypto_orders, crypto = 'yes')\n",
    "crypto.examine_trades()\n",
    "# crypto.add_price_diff()  "
   ]
  },
  {
   "cell_type": "code",
   "execution_count": 22,
   "metadata": {},
   "outputs": [
    {
     "data": {
      "text/html": [
       "<div>\n",
       "<style scoped>\n",
       "    .dataframe tbody tr th:only-of-type {\n",
       "        vertical-align: middle;\n",
       "    }\n",
       "\n",
       "    .dataframe tbody tr th {\n",
       "        vertical-align: top;\n",
       "    }\n",
       "\n",
       "    .dataframe thead th {\n",
       "        text-align: right;\n",
       "    }\n",
       "</style>\n",
       "<table border=\"1\" class=\"dataframe\">\n",
       "  <thead>\n",
       "    <tr style=\"text-align: right;\">\n",
       "      <th></th>\n",
       "      <th>Side</th>\n",
       "      <th>Symbol</th>\n",
       "      <th>Date</th>\n",
       "      <th>Quantity</th>\n",
       "      <th>Avg_Price</th>\n",
       "      <th>Cur Quantity</th>\n",
       "      <th>Cur_Avg_Cost</th>\n",
       "      <th>Total</th>\n",
       "      <th>Gain</th>\n",
       "      <th>% Gain</th>\n",
       "      <th>Net Gain/Loss</th>\n",
       "      <th>Free/Acquired Stock</th>\n",
       "    </tr>\n",
       "  </thead>\n",
       "  <tbody>\n",
       "    <tr>\n",
       "      <th>0</th>\n",
       "      <td>sell</td>\n",
       "      <td>ETH</td>\n",
       "      <td>2021-01-10</td>\n",
       "      <td>16.71</td>\n",
       "      <td>1216.41</td>\n",
       "      <td>0.00</td>\n",
       "      <td>1023.89</td>\n",
       "      <td>20327.87</td>\n",
       "      <td>3217.36</td>\n",
       "      <td>18.8%</td>\n",
       "      <td>3219.27</td>\n",
       "      <td></td>\n",
       "    </tr>\n",
       "    <tr>\n",
       "      <th>1</th>\n",
       "      <td>sell</td>\n",
       "      <td>LTC</td>\n",
       "      <td>2021-05-04</td>\n",
       "      <td>7.56</td>\n",
       "      <td>335.00</td>\n",
       "      <td>0.00</td>\n",
       "      <td>202.64</td>\n",
       "      <td>2531.57</td>\n",
       "      <td>1000.29</td>\n",
       "      <td>65.32%</td>\n",
       "      <td>4705.15</td>\n",
       "      <td></td>\n",
       "    </tr>\n",
       "    <tr>\n",
       "      <th>2</th>\n",
       "      <td>sell</td>\n",
       "      <td>ETH</td>\n",
       "      <td>2021-01-30</td>\n",
       "      <td>2.00</td>\n",
       "      <td>1369.11</td>\n",
       "      <td>0.00</td>\n",
       "      <td>1231.11</td>\n",
       "      <td>2738.21</td>\n",
       "      <td>276.00</td>\n",
       "      <td>11.21%</td>\n",
       "      <td>3608.98</td>\n",
       "      <td></td>\n",
       "    </tr>\n",
       "    <tr>\n",
       "      <th>3</th>\n",
       "      <td>sell</td>\n",
       "      <td>ETH</td>\n",
       "      <td>2021-01-29</td>\n",
       "      <td>1.00</td>\n",
       "      <td>1357.52</td>\n",
       "      <td>2.05</td>\n",
       "      <td>1231.11</td>\n",
       "      <td>1357.52</td>\n",
       "      <td>126.41</td>\n",
       "      <td>10.27%</td>\n",
       "      <td>3325.74</td>\n",
       "      <td></td>\n",
       "    </tr>\n",
       "    <tr>\n",
       "      <th>4</th>\n",
       "      <td>sell</td>\n",
       "      <td>DOGE</td>\n",
       "      <td>2021-05-04</td>\n",
       "      <td>365.00</td>\n",
       "      <td>0.55</td>\n",
       "      <td>0.00</td>\n",
       "      <td>0.27</td>\n",
       "      <td>202.45</td>\n",
       "      <td>102.75</td>\n",
       "      <td>103.05%</td>\n",
       "      <td>3704.86</td>\n",
       "      <td></td>\n",
       "    </tr>\n",
       "    <tr>\n",
       "      <th>5</th>\n",
       "      <td>sell</td>\n",
       "      <td>DOGE</td>\n",
       "      <td>2021-01-29</td>\n",
       "      <td>15470.00</td>\n",
       "      <td>0.08</td>\n",
       "      <td>0.00</td>\n",
       "      <td>0.07</td>\n",
       "      <td>1160.76</td>\n",
       "      <td>76.10</td>\n",
       "      <td>7.02%</td>\n",
       "      <td>3199.33</td>\n",
       "      <td></td>\n",
       "    </tr>\n",
       "    <tr>\n",
       "      <th>6</th>\n",
       "      <td>sell</td>\n",
       "      <td>ETH</td>\n",
       "      <td>2021-01-29</td>\n",
       "      <td>0.05</td>\n",
       "      <td>1369.08</td>\n",
       "      <td>2.00</td>\n",
       "      <td>1231.11</td>\n",
       "      <td>71.87</td>\n",
       "      <td>7.24</td>\n",
       "      <td>11.21%</td>\n",
       "      <td>3332.98</td>\n",
       "      <td></td>\n",
       "    </tr>\n",
       "    <tr>\n",
       "      <th>7</th>\n",
       "      <td>sell</td>\n",
       "      <td>ETH</td>\n",
       "      <td>2021-01-26</td>\n",
       "      <td>0.08</td>\n",
       "      <td>1317.97</td>\n",
       "      <td>3.05</td>\n",
       "      <td>1231.11</td>\n",
       "      <td>99.95</td>\n",
       "      <td>6.59</td>\n",
       "      <td>7.06%</td>\n",
       "      <td>3123.23</td>\n",
       "      <td></td>\n",
       "    </tr>\n",
       "    <tr>\n",
       "      <th>8</th>\n",
       "      <td>sell</td>\n",
       "      <td>ETH</td>\n",
       "      <td>2021-01-11</td>\n",
       "      <td>1.00</td>\n",
       "      <td>1103.00</td>\n",
       "      <td>0.00</td>\n",
       "      <td>1100.85</td>\n",
       "      <td>1103.00</td>\n",
       "      <td>2.15</td>\n",
       "      <td>0.2%</td>\n",
       "      <td>3221.42</td>\n",
       "      <td></td>\n",
       "    </tr>\n",
       "    <tr>\n",
       "      <th>9</th>\n",
       "      <td>sell</td>\n",
       "      <td>DOGE</td>\n",
       "      <td>2021-02-26</td>\n",
       "      <td>2187.00</td>\n",
       "      <td>0.06</td>\n",
       "      <td>0.00</td>\n",
       "      <td>0.05</td>\n",
       "      <td>120.94</td>\n",
       "      <td>1.24</td>\n",
       "      <td>1.04%</td>\n",
       "      <td>3602.11</td>\n",
       "      <td></td>\n",
       "    </tr>\n",
       "    <tr>\n",
       "      <th>10</th>\n",
       "      <td>sell</td>\n",
       "      <td>BTC</td>\n",
       "      <td>2021-02-11</td>\n",
       "      <td>0.00</td>\n",
       "      <td>47806.37</td>\n",
       "      <td>0.00</td>\n",
       "      <td>39401.35</td>\n",
       "      <td>6.06</td>\n",
       "      <td>1.07</td>\n",
       "      <td>21.33%</td>\n",
       "      <td>3600.54</td>\n",
       "      <td></td>\n",
       "    </tr>\n",
       "    <tr>\n",
       "      <th>11</th>\n",
       "      <td>sell</td>\n",
       "      <td>BTC</td>\n",
       "      <td>2020-12-17</td>\n",
       "      <td>0.00</td>\n",
       "      <td>23199.55</td>\n",
       "      <td>0.00</td>\n",
       "      <td>11746.20</td>\n",
       "      <td>1.97</td>\n",
       "      <td>0.98</td>\n",
       "      <td>97.51%</td>\n",
       "      <td>0.98</td>\n",
       "      <td></td>\n",
       "    </tr>\n",
       "    <tr>\n",
       "      <th>12</th>\n",
       "      <td>sell</td>\n",
       "      <td>ETH</td>\n",
       "      <td>2020-12-17</td>\n",
       "      <td>0.31</td>\n",
       "      <td>653.00</td>\n",
       "      <td>0.00</td>\n",
       "      <td>649.97</td>\n",
       "      <td>200.92</td>\n",
       "      <td>0.93</td>\n",
       "      <td>0.47%</td>\n",
       "      <td>1.91</td>\n",
       "      <td></td>\n",
       "    </tr>\n",
       "    <tr>\n",
       "      <th>13</th>\n",
       "      <td>sell</td>\n",
       "      <td>ETH</td>\n",
       "      <td>2021-02-11</td>\n",
       "      <td>0.00</td>\n",
       "      <td>1785.06</td>\n",
       "      <td>0.00</td>\n",
       "      <td>1674.59</td>\n",
       "      <td>5.33</td>\n",
       "      <td>0.33</td>\n",
       "      <td>6.6%</td>\n",
       "      <td>3600.87</td>\n",
       "      <td></td>\n",
       "    </tr>\n",
       "  </tbody>\n",
       "</table>\n",
       "</div>"
      ],
      "text/plain": [
       "    Side Symbol        Date  Quantity  Avg_Price  Cur Quantity  Cur_Avg_Cost  \\\n",
       "0   sell    ETH  2021-01-10     16.71    1216.41          0.00       1023.89   \n",
       "1   sell    LTC  2021-05-04      7.56     335.00          0.00        202.64   \n",
       "2   sell    ETH  2021-01-30      2.00    1369.11          0.00       1231.11   \n",
       "3   sell    ETH  2021-01-29      1.00    1357.52          2.05       1231.11   \n",
       "4   sell   DOGE  2021-05-04    365.00       0.55          0.00          0.27   \n",
       "5   sell   DOGE  2021-01-29  15470.00       0.08          0.00          0.07   \n",
       "6   sell    ETH  2021-01-29      0.05    1369.08          2.00       1231.11   \n",
       "7   sell    ETH  2021-01-26      0.08    1317.97          3.05       1231.11   \n",
       "8   sell    ETH  2021-01-11      1.00    1103.00          0.00       1100.85   \n",
       "9   sell   DOGE  2021-02-26   2187.00       0.06          0.00          0.05   \n",
       "10  sell    BTC  2021-02-11      0.00   47806.37          0.00      39401.35   \n",
       "11  sell    BTC  2020-12-17      0.00   23199.55          0.00      11746.20   \n",
       "12  sell    ETH  2020-12-17      0.31     653.00          0.00        649.97   \n",
       "13  sell    ETH  2021-02-11      0.00    1785.06          0.00       1674.59   \n",
       "\n",
       "       Total     Gain   % Gain  Net Gain/Loss Free/Acquired Stock  \n",
       "0   20327.87  3217.36    18.8%        3219.27                      \n",
       "1    2531.57  1000.29   65.32%        4705.15                      \n",
       "2    2738.21   276.00   11.21%        3608.98                      \n",
       "3    1357.52   126.41   10.27%        3325.74                      \n",
       "4     202.45   102.75  103.05%        3704.86                      \n",
       "5    1160.76    76.10    7.02%        3199.33                      \n",
       "6      71.87     7.24   11.21%        3332.98                      \n",
       "7      99.95     6.59    7.06%        3123.23                      \n",
       "8    1103.00     2.15     0.2%        3221.42                      \n",
       "9     120.94     1.24    1.04%        3602.11                      \n",
       "10      6.06     1.07   21.33%        3600.54                      \n",
       "11      1.97     0.98   97.51%           0.98                      \n",
       "12    200.92     0.93    0.47%           1.91                      \n",
       "13      5.33     0.33     6.6%        3600.87                      "
      ]
     },
     "execution_count": 22,
     "metadata": {},
     "output_type": "execute_result"
    }
   ],
   "source": [
    "crypto.gains_df"
   ]
  },
  {
   "cell_type": "markdown",
   "metadata": {},
   "source": [
    "### Total Gain/Loss"
   ]
  },
  {
   "cell_type": "code",
   "execution_count": 36,
   "metadata": {},
   "outputs": [
    {
     "name": "stdout",
     "output_type": "stream",
     "text": [
      "Total stock gain, loss: $ 27749.08, $ -9661.97\n",
      "Total crypto gain, loss: $ 3819.15, $ -114.29\n",
      "Total option gain, loss: $ 9434.0, $ -14606.0\n",
      "Total gain: $ 41002.23\n",
      "Total loss: $ -24382.26\n",
      "Net Gain/Loss: $ 16619.97\n",
      "\n"
     ]
    }
   ],
   "source": [
    "\n",
    "total_gain = round(stocks.total_gain + crypto.total_gain + options.total_optionsgain, 2)\n",
    "total_loss = round(stocks.total_loss + crypto.total_loss + options.total_optionsloss, 2)\n",
    "net_gain_loss = round(total_gain + total_loss,2)\n",
    "\n",
    "print(f'Total stock gain, loss: $ {round(stocks.total_gain,2)}, $ {round(stocks.total_loss,2)}')\n",
    "print(f'Total crypto gain, loss: $ {round(crypto.total_gain,2)}, $ {round(crypto.total_loss,2)}')\n",
    "print(f'Total option gain, loss: $ {round(options.total_optionsgain,2)}, $ {round(options.total_optionsloss,2)}')\n",
    "print(f'Total gain: $ {total_gain}')\n",
    "print(f'Total loss: $ {total_loss}')\n",
    "print(f'Net Gain/Loss: $ {net_gain_loss}')\n",
    "print()"
   ]
  },
  {
   "cell_type": "markdown",
   "metadata": {},
   "source": [
    "## Schwab"
   ]
  },
  {
   "cell_type": "code",
   "execution_count": 111,
   "metadata": {},
   "outputs": [],
   "source": [
    "#parents1\n",
    "parents1_schwaborders = pd.read_csv('Parents1_Schwab.csv', header=1, skipfooter=1, engine = 'python').drop('Unnamed: 8', axis=1)\n",
    "parents1_schwaborders['Date'] = pd.to_datetime(parents1_schwaborders['Date'], format = '%m/%d/%Y')\n",
    "parents1_schwaborders['Price'] = parents1_schwaborders['Price'].apply(lambda x: x.strip()[1:].replace(',', '')).astype(float)\n",
    "parents1_schwaborders['Action'] = parents1_schwaborders['Action'].apply(lambda x: x.replace('Buy', 'buy') if x == 'Buy' else 'sell')\n",
    "parents1_schwaborders.columns = ['date', 'side', 'symbol', 'description', 'quantity', 'average_price', 'fees & comm', 'amount']\n",
    "parents1_schwaborders['amount'] = parents1_schwaborders['amount'].str.replace('[$,()]', '', regex = True).astype('float64')\n",
    "parents1_schwaborders = parents1_schwaborders.rename(columns = {'amount':'total'}).iloc[::-1].reset_index(drop=True)\n",
    "\n",
    "\n",
    "\n",
    "parents1_stocks = et.StocksCrypto(parents1_schwaborders)\n",
    "\n",
    "parents1_stocks.examine_trades()\n",
    "parents1_stocks.add_price_diff()\n",
    "\n",
    "\n",
    "\n",
    "# parents1_stocks.trades_df.drop(columns = 'Free/Acquired Stock').to_excel('Parents1 Schwab Trades.xlsx')\n",
    "# parents1_stocks.gains_df.to_excel('Parents1 Schwab Trades Gainers.xlsx')\n",
    "# parents1_stocks.losses_df.to_excel('Parents1 Schwab Trades Losers.xlsx')"
   ]
  },
  {
   "cell_type": "code",
   "execution_count": 586,
   "metadata": {},
   "outputs": [],
   "source": [
    "df = parents1_stocks.trades_df_with_price_diff.copy()\n",
    "\n",
    "\n",
    "for i in range(len(df)):\n",
    "\n",
    "    transac_date = pd.to_datetime(df.loc[i, 'Date'])\n",
    "    symbol = df.loc[i, 'Symbol']\n",
    "\n",
    "    if symbol == 'SOXL' and transac_date < pd.to_datetime('2021-03-02'):\n",
    "        df.loc[i, 'Avg_Price'] /= 15\n",
    "\n",
    "    if symbol == 'TECL' and transac_date < pd.to_datetime('2021-03-02'):\n",
    "        df.loc[i, 'Avg_Price'] /= 10\n",
    "\n",
    "    if symbol == 'AAPL' and transac_date < pd.to_datetime('2020-08-28'):\n",
    "        df.loc[i, 'Avg_Price'] /= 4\n",
    "\n",
    "    if symbol == 'TSLA' and transac_date < pd.to_datetime('2020-08-31'):\n",
    "        df.loc[i, 'Avg_Price'] /= 5"
   ]
  },
  {
   "cell_type": "code",
   "execution_count": 78,
   "metadata": {
    "collapsed": true,
    "jupyter": {
     "outputs_hidden": true
    }
   },
   "outputs": [
    {
     "name": "stdout",
     "output_type": "stream",
     "text": [
      "Sell GME on 2021-01-29, Quantity: 6, Avg Price: $260.95, Current Avg Cost: 335.0, Total: $1565.67\n",
      "Gain: $-444.3, % Gain: -22.1%, LOSS\n",
      "Net Gain/Loss: $-444.3\n",
      "\n",
      "\n",
      "Sell GME on 2021-01-29, Quantity: 5, Avg Price: $260.95, Current Avg Cost: 335.0, Total: $1304.72\n",
      "Gain: $-370.25, % Gain: -22.1%, LOSS\n",
      "Net Gain/Loss: $-814.55\n",
      "\n",
      "\n",
      "Sell NCLH on 2021-02-05, Quantity: 21, Avg Price: $24.733, Current Avg Cost: 22.39, Total: $519.38\n",
      "Gain: $49.29, % Gain: 10.49%\n",
      "Net Gain/Loss: $-765.26\n",
      "\n",
      "\n",
      "Sell RCL on 2021-02-08, Quantity: 16, Avg Price: $70.802, Current Avg Cost: 65.65, Total: $1132.8\n",
      "Gain: $82.43, % Gain: 7.85%\n",
      "Net Gain/Loss: $-682.83\n",
      "\n",
      "\n",
      "Sell UAL on 2021-02-08, Quantity: 21, Avg Price: $44.2711, Current Avg Cost: 40.04, Total: $929.67\n",
      "Gain: $88.94, % Gain: 10.58%\n",
      "Net Gain/Loss: $-593.89\n",
      "\n",
      "\n",
      "Sell NCLH on 2021-02-12, Quantity: 46, Avg Price: $23.4519, Current Avg Cost: 22.39, Total: $1078.77\n",
      "Gain: $49.05, % Gain: 4.76%\n",
      "Net Gain/Loss: $-544.84\n",
      "\n",
      "\n",
      "Sell PLUG on 2021-02-19, Quantity: 23, Avg Price: $55.38, Current Avg Cost: 70.52, Total: $1273.71\n",
      "Gain: $-348.18, % Gain: -21.47%, LOSS\n",
      "Net Gain/Loss: $-893.02\n",
      "\n",
      "\n",
      "Sell JBLU on 2021-02-23, Quantity: 88, Avg Price: $19.1, Current Avg Cost: 14.89, Total: $1680.79\n",
      "Gain: $370.82, % Gain: 28.31%\n",
      "Net Gain/Loss: $-522.2\n",
      "\n",
      "\n",
      "Sell SAVE on 2021-02-23, Quantity: 2, Avg Price: $38.12, Current Avg Cost: 30.35, Total: $76.24\n",
      "Gain: $15.54, % Gain: 25.61%\n",
      "Net Gain/Loss: $-506.66\n",
      "\n",
      "\n",
      "Sell SAVE on 2021-02-23, Quantity: 5, Avg Price: $38.12, Current Avg Cost: 30.35, Total: $190.6\n",
      "Gain: $38.86, % Gain: 25.61%\n",
      "Net Gain/Loss: $-467.8\n",
      "\n",
      "\n",
      "Sell SAVE on 2021-02-23, Quantity: 21, Avg Price: $38.12, Current Avg Cost: 30.35, Total: $800.52\n",
      "Gain: $163.2, % Gain: 25.61%\n",
      "Net Gain/Loss: $-304.6\n",
      "\n",
      "\n",
      "Sell AAL on 2021-02-25, Quantity: 135, Avg Price: $21.0114, Current Avg Cost: 17.16, Total: $2836.53\n",
      "Gain: $519.26, % Gain: 22.41%\n",
      "Net Gain/Loss: $214.66\n",
      "\n",
      "\n",
      "Sell UAL on 2021-02-26, Quantity: 16, Avg Price: $53.06, Current Avg Cost: 40.04, Total: $848.96\n",
      "Gain: $208.39, % Gain: 32.53%\n",
      "Net Gain/Loss: $423.05\n",
      "\n",
      "\n",
      "Sell UPST on 2021-03-18, Quantity: 46, Avg Price: $89.1201, Current Avg Cost: 81.01, Total: $4099.5\n",
      "Gain: $372.96, % Gain: 10.01%\n",
      "Net Gain/Loss: $796.01\n",
      "\n",
      "\n",
      "\n",
      "Total Stock Gain: $1958.7399999999998\n",
      "Total Stock Loss: $-1162.73\n"
     ]
    },
    {
     "data": {
      "text/html": [
       "<div>\n",
       "<style scoped>\n",
       "    .dataframe tbody tr th:only-of-type {\n",
       "        vertical-align: middle;\n",
       "    }\n",
       "\n",
       "    .dataframe tbody tr th {\n",
       "        vertical-align: top;\n",
       "    }\n",
       "\n",
       "    .dataframe thead th {\n",
       "        text-align: right;\n",
       "    }\n",
       "</style>\n",
       "<table border=\"1\" class=\"dataframe\">\n",
       "  <thead>\n",
       "    <tr style=\"text-align: right;\">\n",
       "      <th></th>\n",
       "      <th>Side</th>\n",
       "      <th>Symbol</th>\n",
       "      <th>Date</th>\n",
       "      <th>Quantity</th>\n",
       "      <th>Avg_Price</th>\n",
       "      <th>Cur_Avg_Cost</th>\n",
       "      <th>Total</th>\n",
       "      <th>Gain</th>\n",
       "      <th>% Gain</th>\n",
       "      <th>Net Gain/Loss</th>\n",
       "      <th>Free/Acquired Stock</th>\n",
       "    </tr>\n",
       "  </thead>\n",
       "  <tbody>\n",
       "    <tr>\n",
       "      <th>0</th>\n",
       "      <td>buy</td>\n",
       "      <td>PLUG</td>\n",
       "      <td>2021-01-26</td>\n",
       "      <td>16</td>\n",
       "      <td>73.59</td>\n",
       "      <td>73.59</td>\n",
       "      <td>-1177.44</td>\n",
       "      <td>0.00</td>\n",
       "      <td>0%</td>\n",
       "      <td>0.00</td>\n",
       "      <td></td>\n",
       "    </tr>\n",
       "    <tr>\n",
       "      <th>1</th>\n",
       "      <td>buy</td>\n",
       "      <td>GME</td>\n",
       "      <td>2021-01-28</td>\n",
       "      <td>11</td>\n",
       "      <td>335.00</td>\n",
       "      <td>335.00</td>\n",
       "      <td>-3685.00</td>\n",
       "      <td>0.00</td>\n",
       "      <td>0%</td>\n",
       "      <td>0.00</td>\n",
       "      <td></td>\n",
       "    </tr>\n",
       "    <tr>\n",
       "      <th>2</th>\n",
       "      <td>sell</td>\n",
       "      <td>GME</td>\n",
       "      <td>2021-01-29</td>\n",
       "      <td>6</td>\n",
       "      <td>260.95</td>\n",
       "      <td>335.00</td>\n",
       "      <td>1565.67</td>\n",
       "      <td>-444.30</td>\n",
       "      <td>-22.1%</td>\n",
       "      <td>-444.30</td>\n",
       "      <td></td>\n",
       "    </tr>\n",
       "    <tr>\n",
       "      <th>3</th>\n",
       "      <td>sell</td>\n",
       "      <td>GME</td>\n",
       "      <td>2021-01-29</td>\n",
       "      <td>5</td>\n",
       "      <td>260.95</td>\n",
       "      <td>335.00</td>\n",
       "      <td>1304.72</td>\n",
       "      <td>-370.25</td>\n",
       "      <td>-22.1%</td>\n",
       "      <td>-814.55</td>\n",
       "      <td></td>\n",
       "    </tr>\n",
       "    <tr>\n",
       "      <th>4</th>\n",
       "      <td>buy</td>\n",
       "      <td>AAL</td>\n",
       "      <td>2021-02-01</td>\n",
       "      <td>65</td>\n",
       "      <td>16.92</td>\n",
       "      <td>16.92</td>\n",
       "      <td>-1099.80</td>\n",
       "      <td>0.00</td>\n",
       "      <td>0%</td>\n",
       "      <td>-814.55</td>\n",
       "      <td></td>\n",
       "    </tr>\n",
       "    <tr>\n",
       "      <th>5</th>\n",
       "      <td>buy</td>\n",
       "      <td>NCLH</td>\n",
       "      <td>2021-02-01</td>\n",
       "      <td>67</td>\n",
       "      <td>22.39</td>\n",
       "      <td>22.39</td>\n",
       "      <td>-1499.84</td>\n",
       "      <td>0.00</td>\n",
       "      <td>0%</td>\n",
       "      <td>-814.55</td>\n",
       "      <td></td>\n",
       "    </tr>\n",
       "    <tr>\n",
       "      <th>6</th>\n",
       "      <td>buy</td>\n",
       "      <td>UAL</td>\n",
       "      <td>2021-02-01</td>\n",
       "      <td>37</td>\n",
       "      <td>40.04</td>\n",
       "      <td>40.04</td>\n",
       "      <td>-1481.32</td>\n",
       "      <td>0.00</td>\n",
       "      <td>0%</td>\n",
       "      <td>-814.55</td>\n",
       "      <td></td>\n",
       "    </tr>\n",
       "    <tr>\n",
       "      <th>7</th>\n",
       "      <td>buy</td>\n",
       "      <td>JBLU</td>\n",
       "      <td>2021-02-01</td>\n",
       "      <td>70</td>\n",
       "      <td>14.41</td>\n",
       "      <td>14.41</td>\n",
       "      <td>-1008.41</td>\n",
       "      <td>0.00</td>\n",
       "      <td>0%</td>\n",
       "      <td>-814.55</td>\n",
       "      <td></td>\n",
       "    </tr>\n",
       "    <tr>\n",
       "      <th>8</th>\n",
       "      <td>buy</td>\n",
       "      <td>RCL</td>\n",
       "      <td>2021-02-01</td>\n",
       "      <td>16</td>\n",
       "      <td>65.65</td>\n",
       "      <td>65.65</td>\n",
       "      <td>-1050.40</td>\n",
       "      <td>0.00</td>\n",
       "      <td>0%</td>\n",
       "      <td>-814.55</td>\n",
       "      <td></td>\n",
       "    </tr>\n",
       "    <tr>\n",
       "      <th>9</th>\n",
       "      <td>buy</td>\n",
       "      <td>PLUG</td>\n",
       "      <td>2021-02-01</td>\n",
       "      <td>2</td>\n",
       "      <td>63.52</td>\n",
       "      <td>72.47</td>\n",
       "      <td>-127.03</td>\n",
       "      <td>0.00</td>\n",
       "      <td>0%</td>\n",
       "      <td>-814.55</td>\n",
       "      <td></td>\n",
       "    </tr>\n",
       "    <tr>\n",
       "      <th>10</th>\n",
       "      <td>buy</td>\n",
       "      <td>PLUG</td>\n",
       "      <td>2021-02-01</td>\n",
       "      <td>5</td>\n",
       "      <td>63.49</td>\n",
       "      <td>70.52</td>\n",
       "      <td>-317.45</td>\n",
       "      <td>0.00</td>\n",
       "      <td>0%</td>\n",
       "      <td>-814.55</td>\n",
       "      <td></td>\n",
       "    </tr>\n",
       "    <tr>\n",
       "      <th>11</th>\n",
       "      <td>buy</td>\n",
       "      <td>SAVE</td>\n",
       "      <td>2021-02-04</td>\n",
       "      <td>6</td>\n",
       "      <td>30.25</td>\n",
       "      <td>30.25</td>\n",
       "      <td>-181.52</td>\n",
       "      <td>0.00</td>\n",
       "      <td>0%</td>\n",
       "      <td>-814.55</td>\n",
       "      <td></td>\n",
       "    </tr>\n",
       "    <tr>\n",
       "      <th>12</th>\n",
       "      <td>sell</td>\n",
       "      <td>NCLH</td>\n",
       "      <td>2021-02-05</td>\n",
       "      <td>21</td>\n",
       "      <td>24.73</td>\n",
       "      <td>22.39</td>\n",
       "      <td>519.38</td>\n",
       "      <td>49.29</td>\n",
       "      <td>10.49%</td>\n",
       "      <td>-765.26</td>\n",
       "      <td></td>\n",
       "    </tr>\n",
       "    <tr>\n",
       "      <th>13</th>\n",
       "      <td>sell</td>\n",
       "      <td>RCL</td>\n",
       "      <td>2021-02-08</td>\n",
       "      <td>16</td>\n",
       "      <td>70.80</td>\n",
       "      <td>65.65</td>\n",
       "      <td>1132.80</td>\n",
       "      <td>82.43</td>\n",
       "      <td>7.85%</td>\n",
       "      <td>-682.83</td>\n",
       "      <td></td>\n",
       "    </tr>\n",
       "    <tr>\n",
       "      <th>14</th>\n",
       "      <td>sell</td>\n",
       "      <td>UAL</td>\n",
       "      <td>2021-02-08</td>\n",
       "      <td>21</td>\n",
       "      <td>44.27</td>\n",
       "      <td>40.04</td>\n",
       "      <td>929.67</td>\n",
       "      <td>88.94</td>\n",
       "      <td>10.58%</td>\n",
       "      <td>-593.89</td>\n",
       "      <td></td>\n",
       "    </tr>\n",
       "    <tr>\n",
       "      <th>15</th>\n",
       "      <td>buy</td>\n",
       "      <td>AAL</td>\n",
       "      <td>2021-02-09</td>\n",
       "      <td>20</td>\n",
       "      <td>17.48</td>\n",
       "      <td>17.05</td>\n",
       "      <td>-349.60</td>\n",
       "      <td>0.00</td>\n",
       "      <td>0%</td>\n",
       "      <td>-593.89</td>\n",
       "      <td></td>\n",
       "    </tr>\n",
       "    <tr>\n",
       "      <th>16</th>\n",
       "      <td>buy</td>\n",
       "      <td>SAVE</td>\n",
       "      <td>2021-02-09</td>\n",
       "      <td>6</td>\n",
       "      <td>31.51</td>\n",
       "      <td>30.88</td>\n",
       "      <td>-189.05</td>\n",
       "      <td>0.00</td>\n",
       "      <td>0%</td>\n",
       "      <td>-593.89</td>\n",
       "      <td></td>\n",
       "    </tr>\n",
       "    <tr>\n",
       "      <th>17</th>\n",
       "      <td>buy</td>\n",
       "      <td>QCOM</td>\n",
       "      <td>2021-02-09</td>\n",
       "      <td>10</td>\n",
       "      <td>146.91</td>\n",
       "      <td>146.91</td>\n",
       "      <td>-1469.10</td>\n",
       "      <td>0.00</td>\n",
       "      <td>0%</td>\n",
       "      <td>-593.89</td>\n",
       "      <td></td>\n",
       "    </tr>\n",
       "    <tr>\n",
       "      <th>18</th>\n",
       "      <td>buy</td>\n",
       "      <td>NIO</td>\n",
       "      <td>2021-02-09</td>\n",
       "      <td>9</td>\n",
       "      <td>62.80</td>\n",
       "      <td>62.80</td>\n",
       "      <td>-565.20</td>\n",
       "      <td>0.00</td>\n",
       "      <td>0%</td>\n",
       "      <td>-593.89</td>\n",
       "      <td></td>\n",
       "    </tr>\n",
       "    <tr>\n",
       "      <th>19</th>\n",
       "      <td>buy</td>\n",
       "      <td>UPST</td>\n",
       "      <td>2021-02-09</td>\n",
       "      <td>8</td>\n",
       "      <td>80.53</td>\n",
       "      <td>80.53</td>\n",
       "      <td>-644.26</td>\n",
       "      <td>0.00</td>\n",
       "      <td>0%</td>\n",
       "      <td>-593.89</td>\n",
       "      <td></td>\n",
       "    </tr>\n",
       "    <tr>\n",
       "      <th>20</th>\n",
       "      <td>buy</td>\n",
       "      <td>SAVE</td>\n",
       "      <td>2021-02-09</td>\n",
       "      <td>3</td>\n",
       "      <td>31.21</td>\n",
       "      <td>30.95</td>\n",
       "      <td>-93.63</td>\n",
       "      <td>0.00</td>\n",
       "      <td>0%</td>\n",
       "      <td>-593.89</td>\n",
       "      <td></td>\n",
       "    </tr>\n",
       "    <tr>\n",
       "      <th>21</th>\n",
       "      <td>buy</td>\n",
       "      <td>LI</td>\n",
       "      <td>2021-02-09</td>\n",
       "      <td>21</td>\n",
       "      <td>31.84</td>\n",
       "      <td>31.84</td>\n",
       "      <td>-668.62</td>\n",
       "      <td>0.00</td>\n",
       "      <td>0%</td>\n",
       "      <td>-593.89</td>\n",
       "      <td></td>\n",
       "    </tr>\n",
       "    <tr>\n",
       "      <th>22</th>\n",
       "      <td>buy</td>\n",
       "      <td>XPEV</td>\n",
       "      <td>2021-02-09</td>\n",
       "      <td>16</td>\n",
       "      <td>48.91</td>\n",
       "      <td>48.91</td>\n",
       "      <td>-782.56</td>\n",
       "      <td>0.00</td>\n",
       "      <td>0%</td>\n",
       "      <td>-593.89</td>\n",
       "      <td></td>\n",
       "    </tr>\n",
       "    <tr>\n",
       "      <th>23</th>\n",
       "      <td>buy</td>\n",
       "      <td>SAVE</td>\n",
       "      <td>2021-02-11</td>\n",
       "      <td>13</td>\n",
       "      <td>29.66</td>\n",
       "      <td>30.35</td>\n",
       "      <td>-385.57</td>\n",
       "      <td>0.00</td>\n",
       "      <td>0%</td>\n",
       "      <td>-593.89</td>\n",
       "      <td></td>\n",
       "    </tr>\n",
       "    <tr>\n",
       "      <th>24</th>\n",
       "      <td>buy</td>\n",
       "      <td>AAL</td>\n",
       "      <td>2021-02-11</td>\n",
       "      <td>20</td>\n",
       "      <td>16.86</td>\n",
       "      <td>17.02</td>\n",
       "      <td>-337.20</td>\n",
       "      <td>0.00</td>\n",
       "      <td>0%</td>\n",
       "      <td>-593.89</td>\n",
       "      <td></td>\n",
       "    </tr>\n",
       "    <tr>\n",
       "      <th>25</th>\n",
       "      <td>sell</td>\n",
       "      <td>NCLH</td>\n",
       "      <td>2021-02-12</td>\n",
       "      <td>46</td>\n",
       "      <td>23.45</td>\n",
       "      <td>22.39</td>\n",
       "      <td>1078.77</td>\n",
       "      <td>49.05</td>\n",
       "      <td>4.76%</td>\n",
       "      <td>-544.84</td>\n",
       "      <td></td>\n",
       "    </tr>\n",
       "    <tr>\n",
       "      <th>26</th>\n",
       "      <td>buy</td>\n",
       "      <td>AAL</td>\n",
       "      <td>2021-02-18</td>\n",
       "      <td>20</td>\n",
       "      <td>17.68</td>\n",
       "      <td>17.12</td>\n",
       "      <td>-353.58</td>\n",
       "      <td>0.00</td>\n",
       "      <td>0%</td>\n",
       "      <td>-544.84</td>\n",
       "      <td></td>\n",
       "    </tr>\n",
       "    <tr>\n",
       "      <th>27</th>\n",
       "      <td>buy</td>\n",
       "      <td>JBLU</td>\n",
       "      <td>2021-02-18</td>\n",
       "      <td>18</td>\n",
       "      <td>16.75</td>\n",
       "      <td>14.89</td>\n",
       "      <td>-301.57</td>\n",
       "      <td>0.00</td>\n",
       "      <td>0%</td>\n",
       "      <td>-544.84</td>\n",
       "      <td></td>\n",
       "    </tr>\n",
       "    <tr>\n",
       "      <th>28</th>\n",
       "      <td>buy</td>\n",
       "      <td>NIO</td>\n",
       "      <td>2021-02-18</td>\n",
       "      <td>3</td>\n",
       "      <td>54.80</td>\n",
       "      <td>60.80</td>\n",
       "      <td>-164.40</td>\n",
       "      <td>0.00</td>\n",
       "      <td>0%</td>\n",
       "      <td>-544.84</td>\n",
       "      <td></td>\n",
       "    </tr>\n",
       "    <tr>\n",
       "      <th>29</th>\n",
       "      <td>buy</td>\n",
       "      <td>UPST</td>\n",
       "      <td>2021-02-18</td>\n",
       "      <td>1</td>\n",
       "      <td>83.98</td>\n",
       "      <td>80.92</td>\n",
       "      <td>-83.98</td>\n",
       "      <td>0.00</td>\n",
       "      <td>0%</td>\n",
       "      <td>-544.84</td>\n",
       "      <td></td>\n",
       "    </tr>\n",
       "    <tr>\n",
       "      <th>30</th>\n",
       "      <td>buy</td>\n",
       "      <td>UPST</td>\n",
       "      <td>2021-02-18</td>\n",
       "      <td>1</td>\n",
       "      <td>83.98</td>\n",
       "      <td>81.22</td>\n",
       "      <td>-83.98</td>\n",
       "      <td>0.00</td>\n",
       "      <td>0%</td>\n",
       "      <td>-544.84</td>\n",
       "      <td></td>\n",
       "    </tr>\n",
       "    <tr>\n",
       "      <th>31</th>\n",
       "      <td>buy</td>\n",
       "      <td>UPST</td>\n",
       "      <td>2021-02-18</td>\n",
       "      <td>18</td>\n",
       "      <td>84.11</td>\n",
       "      <td>83.08</td>\n",
       "      <td>-1513.98</td>\n",
       "      <td>0.00</td>\n",
       "      <td>0%</td>\n",
       "      <td>-544.84</td>\n",
       "      <td></td>\n",
       "    </tr>\n",
       "    <tr>\n",
       "      <th>32</th>\n",
       "      <td>buy</td>\n",
       "      <td>AAL</td>\n",
       "      <td>2021-02-18</td>\n",
       "      <td>10</td>\n",
       "      <td>17.71</td>\n",
       "      <td>17.16</td>\n",
       "      <td>-177.10</td>\n",
       "      <td>0.00</td>\n",
       "      <td>0%</td>\n",
       "      <td>-544.84</td>\n",
       "      <td></td>\n",
       "    </tr>\n",
       "    <tr>\n",
       "      <th>33</th>\n",
       "      <td>sell</td>\n",
       "      <td>PLUG</td>\n",
       "      <td>2021-02-19</td>\n",
       "      <td>23</td>\n",
       "      <td>55.38</td>\n",
       "      <td>70.52</td>\n",
       "      <td>1273.71</td>\n",
       "      <td>-348.18</td>\n",
       "      <td>-21.47%</td>\n",
       "      <td>-893.02</td>\n",
       "      <td></td>\n",
       "    </tr>\n",
       "    <tr>\n",
       "      <th>34</th>\n",
       "      <td>buy</td>\n",
       "      <td>UPST</td>\n",
       "      <td>2021-02-19</td>\n",
       "      <td>5</td>\n",
       "      <td>89.30</td>\n",
       "      <td>84.02</td>\n",
       "      <td>-446.50</td>\n",
       "      <td>0.00</td>\n",
       "      <td>0%</td>\n",
       "      <td>-893.02</td>\n",
       "      <td></td>\n",
       "    </tr>\n",
       "    <tr>\n",
       "      <th>35</th>\n",
       "      <td>buy</td>\n",
       "      <td>BA</td>\n",
       "      <td>2021-02-22</td>\n",
       "      <td>3</td>\n",
       "      <td>214.03</td>\n",
       "      <td>214.03</td>\n",
       "      <td>-642.09</td>\n",
       "      <td>0.00</td>\n",
       "      <td>0%</td>\n",
       "      <td>-893.02</td>\n",
       "      <td></td>\n",
       "    </tr>\n",
       "    <tr>\n",
       "      <th>36</th>\n",
       "      <td>buy</td>\n",
       "      <td>UPST</td>\n",
       "      <td>2021-02-22</td>\n",
       "      <td>6</td>\n",
       "      <td>77.79</td>\n",
       "      <td>83.06</td>\n",
       "      <td>-466.74</td>\n",
       "      <td>0.00</td>\n",
       "      <td>0%</td>\n",
       "      <td>-893.02</td>\n",
       "      <td></td>\n",
       "    </tr>\n",
       "    <tr>\n",
       "      <th>37</th>\n",
       "      <td>buy</td>\n",
       "      <td>BA</td>\n",
       "      <td>2021-02-23</td>\n",
       "      <td>1</td>\n",
       "      <td>212.45</td>\n",
       "      <td>213.63</td>\n",
       "      <td>-212.45</td>\n",
       "      <td>0.00</td>\n",
       "      <td>0%</td>\n",
       "      <td>-893.02</td>\n",
       "      <td></td>\n",
       "    </tr>\n",
       "    <tr>\n",
       "      <th>38</th>\n",
       "      <td>buy</td>\n",
       "      <td>UPST</td>\n",
       "      <td>2021-02-23</td>\n",
       "      <td>7</td>\n",
       "      <td>69.59</td>\n",
       "      <td>81.01</td>\n",
       "      <td>-487.13</td>\n",
       "      <td>0.00</td>\n",
       "      <td>0%</td>\n",
       "      <td>-893.02</td>\n",
       "      <td></td>\n",
       "    </tr>\n",
       "    <tr>\n",
       "      <th>39</th>\n",
       "      <td>sell</td>\n",
       "      <td>JBLU</td>\n",
       "      <td>2021-02-23</td>\n",
       "      <td>88</td>\n",
       "      <td>19.10</td>\n",
       "      <td>14.89</td>\n",
       "      <td>1680.79</td>\n",
       "      <td>370.82</td>\n",
       "      <td>28.31%</td>\n",
       "      <td>-522.20</td>\n",
       "      <td></td>\n",
       "    </tr>\n",
       "    <tr>\n",
       "      <th>40</th>\n",
       "      <td>sell</td>\n",
       "      <td>SAVE</td>\n",
       "      <td>2021-02-23</td>\n",
       "      <td>2</td>\n",
       "      <td>38.12</td>\n",
       "      <td>30.35</td>\n",
       "      <td>76.24</td>\n",
       "      <td>15.54</td>\n",
       "      <td>25.61%</td>\n",
       "      <td>-506.66</td>\n",
       "      <td></td>\n",
       "    </tr>\n",
       "    <tr>\n",
       "      <th>41</th>\n",
       "      <td>sell</td>\n",
       "      <td>SAVE</td>\n",
       "      <td>2021-02-23</td>\n",
       "      <td>5</td>\n",
       "      <td>38.12</td>\n",
       "      <td>30.35</td>\n",
       "      <td>190.60</td>\n",
       "      <td>38.86</td>\n",
       "      <td>25.61%</td>\n",
       "      <td>-467.80</td>\n",
       "      <td></td>\n",
       "    </tr>\n",
       "    <tr>\n",
       "      <th>42</th>\n",
       "      <td>sell</td>\n",
       "      <td>SAVE</td>\n",
       "      <td>2021-02-23</td>\n",
       "      <td>21</td>\n",
       "      <td>38.12</td>\n",
       "      <td>30.35</td>\n",
       "      <td>800.52</td>\n",
       "      <td>163.20</td>\n",
       "      <td>25.61%</td>\n",
       "      <td>-304.60</td>\n",
       "      <td></td>\n",
       "    </tr>\n",
       "    <tr>\n",
       "      <th>43</th>\n",
       "      <td>buy</td>\n",
       "      <td>SAVE</td>\n",
       "      <td>2021-02-24</td>\n",
       "      <td>20</td>\n",
       "      <td>36.85</td>\n",
       "      <td>36.85</td>\n",
       "      <td>-737.00</td>\n",
       "      <td>0.00</td>\n",
       "      <td>0%</td>\n",
       "      <td>-304.60</td>\n",
       "      <td></td>\n",
       "    </tr>\n",
       "    <tr>\n",
       "      <th>44</th>\n",
       "      <td>buy</td>\n",
       "      <td>LI</td>\n",
       "      <td>2021-02-25</td>\n",
       "      <td>25</td>\n",
       "      <td>27.73</td>\n",
       "      <td>29.61</td>\n",
       "      <td>-693.35</td>\n",
       "      <td>0.00</td>\n",
       "      <td>0%</td>\n",
       "      <td>-304.60</td>\n",
       "      <td></td>\n",
       "    </tr>\n",
       "    <tr>\n",
       "      <th>45</th>\n",
       "      <td>buy</td>\n",
       "      <td>NIO</td>\n",
       "      <td>2021-02-25</td>\n",
       "      <td>20</td>\n",
       "      <td>49.83</td>\n",
       "      <td>53.94</td>\n",
       "      <td>-996.60</td>\n",
       "      <td>0.00</td>\n",
       "      <td>0%</td>\n",
       "      <td>-304.60</td>\n",
       "      <td></td>\n",
       "    </tr>\n",
       "    <tr>\n",
       "      <th>46</th>\n",
       "      <td>buy</td>\n",
       "      <td>XPEV</td>\n",
       "      <td>2021-02-25</td>\n",
       "      <td>20</td>\n",
       "      <td>36.79</td>\n",
       "      <td>42.17</td>\n",
       "      <td>-735.73</td>\n",
       "      <td>0.00</td>\n",
       "      <td>0%</td>\n",
       "      <td>-304.60</td>\n",
       "      <td></td>\n",
       "    </tr>\n",
       "    <tr>\n",
       "      <th>47</th>\n",
       "      <td>buy</td>\n",
       "      <td>BA</td>\n",
       "      <td>2021-02-25</td>\n",
       "      <td>1</td>\n",
       "      <td>224.56</td>\n",
       "      <td>215.82</td>\n",
       "      <td>-224.57</td>\n",
       "      <td>0.00</td>\n",
       "      <td>0%</td>\n",
       "      <td>-304.60</td>\n",
       "      <td></td>\n",
       "    </tr>\n",
       "    <tr>\n",
       "      <th>48</th>\n",
       "      <td>sell</td>\n",
       "      <td>AAL</td>\n",
       "      <td>2021-02-25</td>\n",
       "      <td>135</td>\n",
       "      <td>21.01</td>\n",
       "      <td>17.16</td>\n",
       "      <td>2836.53</td>\n",
       "      <td>519.26</td>\n",
       "      <td>22.41%</td>\n",
       "      <td>214.66</td>\n",
       "      <td></td>\n",
       "    </tr>\n",
       "    <tr>\n",
       "      <th>49</th>\n",
       "      <td>buy</td>\n",
       "      <td>BA</td>\n",
       "      <td>2021-02-25</td>\n",
       "      <td>1</td>\n",
       "      <td>215.90</td>\n",
       "      <td>215.83</td>\n",
       "      <td>-215.90</td>\n",
       "      <td>0.00</td>\n",
       "      <td>0%</td>\n",
       "      <td>214.66</td>\n",
       "      <td></td>\n",
       "    </tr>\n",
       "    <tr>\n",
       "      <th>50</th>\n",
       "      <td>sell</td>\n",
       "      <td>UAL</td>\n",
       "      <td>2021-02-26</td>\n",
       "      <td>16</td>\n",
       "      <td>53.06</td>\n",
       "      <td>40.04</td>\n",
       "      <td>848.96</td>\n",
       "      <td>208.39</td>\n",
       "      <td>32.53%</td>\n",
       "      <td>423.05</td>\n",
       "      <td></td>\n",
       "    </tr>\n",
       "    <tr>\n",
       "      <th>51</th>\n",
       "      <td>buy</td>\n",
       "      <td>XPEV</td>\n",
       "      <td>2021-02-26</td>\n",
       "      <td>11</td>\n",
       "      <td>34.22</td>\n",
       "      <td>40.31</td>\n",
       "      <td>-376.38</td>\n",
       "      <td>0.00</td>\n",
       "      <td>0%</td>\n",
       "      <td>423.05</td>\n",
       "      <td></td>\n",
       "    </tr>\n",
       "    <tr>\n",
       "      <th>52</th>\n",
       "      <td>buy</td>\n",
       "      <td>QCOM</td>\n",
       "      <td>2021-03-01</td>\n",
       "      <td>5</td>\n",
       "      <td>139.04</td>\n",
       "      <td>144.29</td>\n",
       "      <td>-695.20</td>\n",
       "      <td>0.00</td>\n",
       "      <td>0%</td>\n",
       "      <td>423.05</td>\n",
       "      <td></td>\n",
       "    </tr>\n",
       "    <tr>\n",
       "      <th>53</th>\n",
       "      <td>buy</td>\n",
       "      <td>AI</td>\n",
       "      <td>2021-03-12</td>\n",
       "      <td>100</td>\n",
       "      <td>83.40</td>\n",
       "      <td>83.40</td>\n",
       "      <td>-8340.00</td>\n",
       "      <td>0.00</td>\n",
       "      <td>0%</td>\n",
       "      <td>423.05</td>\n",
       "      <td></td>\n",
       "    </tr>\n",
       "    <tr>\n",
       "      <th>54</th>\n",
       "      <td>sell</td>\n",
       "      <td>UPST</td>\n",
       "      <td>2021-03-18</td>\n",
       "      <td>46</td>\n",
       "      <td>89.12</td>\n",
       "      <td>81.01</td>\n",
       "      <td>4099.50</td>\n",
       "      <td>372.96</td>\n",
       "      <td>10.01%</td>\n",
       "      <td>796.01</td>\n",
       "      <td></td>\n",
       "    </tr>\n",
       "    <tr>\n",
       "      <th>55</th>\n",
       "      <td>buy</td>\n",
       "      <td>BA</td>\n",
       "      <td>2021-03-18</td>\n",
       "      <td>8</td>\n",
       "      <td>258.36</td>\n",
       "      <td>240.13</td>\n",
       "      <td>-2066.86</td>\n",
       "      <td>0.00</td>\n",
       "      <td>0%</td>\n",
       "      <td>796.01</td>\n",
       "      <td></td>\n",
       "    </tr>\n",
       "    <tr>\n",
       "      <th>56</th>\n",
       "      <td>buy</td>\n",
       "      <td>BA</td>\n",
       "      <td>2021-03-31</td>\n",
       "      <td>8</td>\n",
       "      <td>255.11</td>\n",
       "      <td>245.58</td>\n",
       "      <td>-2040.91</td>\n",
       "      <td>0.00</td>\n",
       "      <td>0%</td>\n",
       "      <td>796.01</td>\n",
       "      <td></td>\n",
       "    </tr>\n",
       "  </tbody>\n",
       "</table>\n",
       "</div>"
      ],
      "text/plain": [
       "    Side Symbol        Date  Quantity  Avg_Price  Cur_Avg_Cost    Total  \\\n",
       "0    buy   PLUG  2021-01-26        16      73.59         73.59 -1177.44   \n",
       "1    buy    GME  2021-01-28        11     335.00        335.00 -3685.00   \n",
       "2   sell    GME  2021-01-29         6     260.95        335.00  1565.67   \n",
       "3   sell    GME  2021-01-29         5     260.95        335.00  1304.72   \n",
       "4    buy    AAL  2021-02-01        65      16.92         16.92 -1099.80   \n",
       "5    buy   NCLH  2021-02-01        67      22.39         22.39 -1499.84   \n",
       "6    buy    UAL  2021-02-01        37      40.04         40.04 -1481.32   \n",
       "7    buy   JBLU  2021-02-01        70      14.41         14.41 -1008.41   \n",
       "8    buy    RCL  2021-02-01        16      65.65         65.65 -1050.40   \n",
       "9    buy   PLUG  2021-02-01         2      63.52         72.47  -127.03   \n",
       "10   buy   PLUG  2021-02-01         5      63.49         70.52  -317.45   \n",
       "11   buy   SAVE  2021-02-04         6      30.25         30.25  -181.52   \n",
       "12  sell   NCLH  2021-02-05        21      24.73         22.39   519.38   \n",
       "13  sell    RCL  2021-02-08        16      70.80         65.65  1132.80   \n",
       "14  sell    UAL  2021-02-08        21      44.27         40.04   929.67   \n",
       "15   buy    AAL  2021-02-09        20      17.48         17.05  -349.60   \n",
       "16   buy   SAVE  2021-02-09         6      31.51         30.88  -189.05   \n",
       "17   buy   QCOM  2021-02-09        10     146.91        146.91 -1469.10   \n",
       "18   buy    NIO  2021-02-09         9      62.80         62.80  -565.20   \n",
       "19   buy   UPST  2021-02-09         8      80.53         80.53  -644.26   \n",
       "20   buy   SAVE  2021-02-09         3      31.21         30.95   -93.63   \n",
       "21   buy     LI  2021-02-09        21      31.84         31.84  -668.62   \n",
       "22   buy   XPEV  2021-02-09        16      48.91         48.91  -782.56   \n",
       "23   buy   SAVE  2021-02-11        13      29.66         30.35  -385.57   \n",
       "24   buy    AAL  2021-02-11        20      16.86         17.02  -337.20   \n",
       "25  sell   NCLH  2021-02-12        46      23.45         22.39  1078.77   \n",
       "26   buy    AAL  2021-02-18        20      17.68         17.12  -353.58   \n",
       "27   buy   JBLU  2021-02-18        18      16.75         14.89  -301.57   \n",
       "28   buy    NIO  2021-02-18         3      54.80         60.80  -164.40   \n",
       "29   buy   UPST  2021-02-18         1      83.98         80.92   -83.98   \n",
       "30   buy   UPST  2021-02-18         1      83.98         81.22   -83.98   \n",
       "31   buy   UPST  2021-02-18        18      84.11         83.08 -1513.98   \n",
       "32   buy    AAL  2021-02-18        10      17.71         17.16  -177.10   \n",
       "33  sell   PLUG  2021-02-19        23      55.38         70.52  1273.71   \n",
       "34   buy   UPST  2021-02-19         5      89.30         84.02  -446.50   \n",
       "35   buy     BA  2021-02-22         3     214.03        214.03  -642.09   \n",
       "36   buy   UPST  2021-02-22         6      77.79         83.06  -466.74   \n",
       "37   buy     BA  2021-02-23         1     212.45        213.63  -212.45   \n",
       "38   buy   UPST  2021-02-23         7      69.59         81.01  -487.13   \n",
       "39  sell   JBLU  2021-02-23        88      19.10         14.89  1680.79   \n",
       "40  sell   SAVE  2021-02-23         2      38.12         30.35    76.24   \n",
       "41  sell   SAVE  2021-02-23         5      38.12         30.35   190.60   \n",
       "42  sell   SAVE  2021-02-23        21      38.12         30.35   800.52   \n",
       "43   buy   SAVE  2021-02-24        20      36.85         36.85  -737.00   \n",
       "44   buy     LI  2021-02-25        25      27.73         29.61  -693.35   \n",
       "45   buy    NIO  2021-02-25        20      49.83         53.94  -996.60   \n",
       "46   buy   XPEV  2021-02-25        20      36.79         42.17  -735.73   \n",
       "47   buy     BA  2021-02-25         1     224.56        215.82  -224.57   \n",
       "48  sell    AAL  2021-02-25       135      21.01         17.16  2836.53   \n",
       "49   buy     BA  2021-02-25         1     215.90        215.83  -215.90   \n",
       "50  sell    UAL  2021-02-26        16      53.06         40.04   848.96   \n",
       "51   buy   XPEV  2021-02-26        11      34.22         40.31  -376.38   \n",
       "52   buy   QCOM  2021-03-01         5     139.04        144.29  -695.20   \n",
       "53   buy     AI  2021-03-12       100      83.40         83.40 -8340.00   \n",
       "54  sell   UPST  2021-03-18        46      89.12         81.01  4099.50   \n",
       "55   buy     BA  2021-03-18         8     258.36        240.13 -2066.86   \n",
       "56   buy     BA  2021-03-31         8     255.11        245.58 -2040.91   \n",
       "\n",
       "      Gain   % Gain  Net Gain/Loss Free/Acquired Stock  \n",
       "0     0.00       0%           0.00                      \n",
       "1     0.00       0%           0.00                      \n",
       "2  -444.30   -22.1%        -444.30                      \n",
       "3  -370.25   -22.1%        -814.55                      \n",
       "4     0.00       0%        -814.55                      \n",
       "5     0.00       0%        -814.55                      \n",
       "6     0.00       0%        -814.55                      \n",
       "7     0.00       0%        -814.55                      \n",
       "8     0.00       0%        -814.55                      \n",
       "9     0.00       0%        -814.55                      \n",
       "10    0.00       0%        -814.55                      \n",
       "11    0.00       0%        -814.55                      \n",
       "12   49.29   10.49%        -765.26                      \n",
       "13   82.43    7.85%        -682.83                      \n",
       "14   88.94   10.58%        -593.89                      \n",
       "15    0.00       0%        -593.89                      \n",
       "16    0.00       0%        -593.89                      \n",
       "17    0.00       0%        -593.89                      \n",
       "18    0.00       0%        -593.89                      \n",
       "19    0.00       0%        -593.89                      \n",
       "20    0.00       0%        -593.89                      \n",
       "21    0.00       0%        -593.89                      \n",
       "22    0.00       0%        -593.89                      \n",
       "23    0.00       0%        -593.89                      \n",
       "24    0.00       0%        -593.89                      \n",
       "25   49.05    4.76%        -544.84                      \n",
       "26    0.00       0%        -544.84                      \n",
       "27    0.00       0%        -544.84                      \n",
       "28    0.00       0%        -544.84                      \n",
       "29    0.00       0%        -544.84                      \n",
       "30    0.00       0%        -544.84                      \n",
       "31    0.00       0%        -544.84                      \n",
       "32    0.00       0%        -544.84                      \n",
       "33 -348.18  -21.47%        -893.02                      \n",
       "34    0.00       0%        -893.02                      \n",
       "35    0.00       0%        -893.02                      \n",
       "36    0.00       0%        -893.02                      \n",
       "37    0.00       0%        -893.02                      \n",
       "38    0.00       0%        -893.02                      \n",
       "39  370.82   28.31%        -522.20                      \n",
       "40   15.54   25.61%        -506.66                      \n",
       "41   38.86   25.61%        -467.80                      \n",
       "42  163.20   25.61%        -304.60                      \n",
       "43    0.00       0%        -304.60                      \n",
       "44    0.00       0%        -304.60                      \n",
       "45    0.00       0%        -304.60                      \n",
       "46    0.00       0%        -304.60                      \n",
       "47    0.00       0%        -304.60                      \n",
       "48  519.26   22.41%         214.66                      \n",
       "49    0.00       0%         214.66                      \n",
       "50  208.39   32.53%         423.05                      \n",
       "51    0.00       0%         423.05                      \n",
       "52    0.00       0%         423.05                      \n",
       "53    0.00       0%         423.05                      \n",
       "54  372.96   10.01%         796.01                      \n",
       "55    0.00       0%         796.01                      \n",
       "56    0.00       0%         796.01                      "
      ]
     },
     "metadata": {},
     "output_type": "display_data"
    },
    {
     "data": {
      "text/html": [
       "<div>\n",
       "<style scoped>\n",
       "    .dataframe tbody tr th:only-of-type {\n",
       "        vertical-align: middle;\n",
       "    }\n",
       "\n",
       "    .dataframe tbody tr th {\n",
       "        vertical-align: top;\n",
       "    }\n",
       "\n",
       "    .dataframe thead th {\n",
       "        text-align: right;\n",
       "    }\n",
       "</style>\n",
       "<table border=\"1\" class=\"dataframe\">\n",
       "  <thead>\n",
       "    <tr style=\"text-align: right;\">\n",
       "      <th></th>\n",
       "      <th>Symbol</th>\n",
       "      <th>Date</th>\n",
       "      <th>Quantity</th>\n",
       "      <th>Avg_Price</th>\n",
       "      <th>Gain</th>\n",
       "      <th>% Gain</th>\n",
       "    </tr>\n",
       "  </thead>\n",
       "  <tbody>\n",
       "    <tr>\n",
       "      <th>0</th>\n",
       "      <td>AAL</td>\n",
       "      <td>2021-02-25</td>\n",
       "      <td>135</td>\n",
       "      <td>21.0114</td>\n",
       "      <td>519.26</td>\n",
       "      <td>22.41%</td>\n",
       "    </tr>\n",
       "    <tr>\n",
       "      <th>1</th>\n",
       "      <td>UPST</td>\n",
       "      <td>2021-03-18</td>\n",
       "      <td>46</td>\n",
       "      <td>89.1201</td>\n",
       "      <td>372.96</td>\n",
       "      <td>10.01%</td>\n",
       "    </tr>\n",
       "    <tr>\n",
       "      <th>2</th>\n",
       "      <td>JBLU</td>\n",
       "      <td>2021-02-23</td>\n",
       "      <td>88</td>\n",
       "      <td>19.1000</td>\n",
       "      <td>370.82</td>\n",
       "      <td>28.31%</td>\n",
       "    </tr>\n",
       "    <tr>\n",
       "      <th>3</th>\n",
       "      <td>UAL</td>\n",
       "      <td>2021-02-26</td>\n",
       "      <td>16</td>\n",
       "      <td>53.0600</td>\n",
       "      <td>208.39</td>\n",
       "      <td>32.53%</td>\n",
       "    </tr>\n",
       "    <tr>\n",
       "      <th>4</th>\n",
       "      <td>SAVE</td>\n",
       "      <td>2021-02-23</td>\n",
       "      <td>21</td>\n",
       "      <td>38.1200</td>\n",
       "      <td>163.20</td>\n",
       "      <td>25.61%</td>\n",
       "    </tr>\n",
       "    <tr>\n",
       "      <th>5</th>\n",
       "      <td>UAL</td>\n",
       "      <td>2021-02-08</td>\n",
       "      <td>21</td>\n",
       "      <td>44.2711</td>\n",
       "      <td>88.94</td>\n",
       "      <td>10.58%</td>\n",
       "    </tr>\n",
       "    <tr>\n",
       "      <th>6</th>\n",
       "      <td>RCL</td>\n",
       "      <td>2021-02-08</td>\n",
       "      <td>16</td>\n",
       "      <td>70.8020</td>\n",
       "      <td>82.43</td>\n",
       "      <td>7.85%</td>\n",
       "    </tr>\n",
       "    <tr>\n",
       "      <th>7</th>\n",
       "      <td>NCLH</td>\n",
       "      <td>2021-02-05</td>\n",
       "      <td>21</td>\n",
       "      <td>24.7330</td>\n",
       "      <td>49.29</td>\n",
       "      <td>10.49%</td>\n",
       "    </tr>\n",
       "    <tr>\n",
       "      <th>8</th>\n",
       "      <td>NCLH</td>\n",
       "      <td>2021-02-12</td>\n",
       "      <td>46</td>\n",
       "      <td>23.4519</td>\n",
       "      <td>49.05</td>\n",
       "      <td>4.76%</td>\n",
       "    </tr>\n",
       "    <tr>\n",
       "      <th>9</th>\n",
       "      <td>SAVE</td>\n",
       "      <td>2021-02-23</td>\n",
       "      <td>5</td>\n",
       "      <td>38.1200</td>\n",
       "      <td>38.86</td>\n",
       "      <td>25.61%</td>\n",
       "    </tr>\n",
       "    <tr>\n",
       "      <th>10</th>\n",
       "      <td>SAVE</td>\n",
       "      <td>2021-02-23</td>\n",
       "      <td>2</td>\n",
       "      <td>38.1200</td>\n",
       "      <td>15.54</td>\n",
       "      <td>25.61%</td>\n",
       "    </tr>\n",
       "  </tbody>\n",
       "</table>\n",
       "</div>"
      ],
      "text/plain": [
       "   Symbol        Date  Quantity  Avg_Price    Gain  % Gain\n",
       "0     AAL  2021-02-25       135    21.0114  519.26  22.41%\n",
       "1    UPST  2021-03-18        46    89.1201  372.96  10.01%\n",
       "2    JBLU  2021-02-23        88    19.1000  370.82  28.31%\n",
       "3     UAL  2021-02-26        16    53.0600  208.39  32.53%\n",
       "4    SAVE  2021-02-23        21    38.1200  163.20  25.61%\n",
       "5     UAL  2021-02-08        21    44.2711   88.94  10.58%\n",
       "6     RCL  2021-02-08        16    70.8020   82.43   7.85%\n",
       "7    NCLH  2021-02-05        21    24.7330   49.29  10.49%\n",
       "8    NCLH  2021-02-12        46    23.4519   49.05   4.76%\n",
       "9    SAVE  2021-02-23         5    38.1200   38.86  25.61%\n",
       "10   SAVE  2021-02-23         2    38.1200   15.54  25.61%"
      ]
     },
     "metadata": {},
     "output_type": "display_data"
    },
    {
     "data": {
      "text/html": [
       "<div>\n",
       "<style scoped>\n",
       "    .dataframe tbody tr th:only-of-type {\n",
       "        vertical-align: middle;\n",
       "    }\n",
       "\n",
       "    .dataframe tbody tr th {\n",
       "        vertical-align: top;\n",
       "    }\n",
       "\n",
       "    .dataframe thead th {\n",
       "        text-align: right;\n",
       "    }\n",
       "</style>\n",
       "<table border=\"1\" class=\"dataframe\">\n",
       "  <thead>\n",
       "    <tr style=\"text-align: right;\">\n",
       "      <th></th>\n",
       "      <th>Symbol</th>\n",
       "      <th>Date</th>\n",
       "      <th>Quantity</th>\n",
       "      <th>Avg_Price</th>\n",
       "      <th>Gain</th>\n",
       "      <th>% Gain</th>\n",
       "    </tr>\n",
       "  </thead>\n",
       "  <tbody>\n",
       "    <tr>\n",
       "      <th>0</th>\n",
       "      <td>GME</td>\n",
       "      <td>2021-01-29</td>\n",
       "      <td>6</td>\n",
       "      <td>260.95</td>\n",
       "      <td>-444.30</td>\n",
       "      <td>-22.1%</td>\n",
       "    </tr>\n",
       "    <tr>\n",
       "      <th>1</th>\n",
       "      <td>GME</td>\n",
       "      <td>2021-01-29</td>\n",
       "      <td>5</td>\n",
       "      <td>260.95</td>\n",
       "      <td>-370.25</td>\n",
       "      <td>-22.1%</td>\n",
       "    </tr>\n",
       "    <tr>\n",
       "      <th>2</th>\n",
       "      <td>PLUG</td>\n",
       "      <td>2021-02-19</td>\n",
       "      <td>23</td>\n",
       "      <td>55.38</td>\n",
       "      <td>-348.18</td>\n",
       "      <td>-21.47%</td>\n",
       "    </tr>\n",
       "  </tbody>\n",
       "</table>\n",
       "</div>"
      ],
      "text/plain": [
       "  Symbol        Date  Quantity  Avg_Price    Gain   % Gain\n",
       "0    GME  2021-01-29         6     260.95 -444.30   -22.1%\n",
       "1    GME  2021-01-29         5     260.95 -370.25   -22.1%\n",
       "2   PLUG  2021-02-19        23      55.38 -348.18  -21.47%"
      ]
     },
     "metadata": {},
     "output_type": "display_data"
    }
   ],
   "source": [
    "#parents2\n",
    "parents2_schwaborders = pd.read_csv('Parents2_Schwab.csv', header=1, skipfooter=1, engine = 'python').drop('Unnamed: 8', axis=1)\n",
    "parents2_schwaborders['Date'] = pd.to_datetime(parents2_schwaborders['Date'], format = '%m/%d/%Y')\n",
    "parents2_schwaborders['Price'] = parents2_schwaborders['Price'].apply(lambda x: x.strip()[1:].replace(',', '')).astype(float)\n",
    "parents2_schwaborders['Action'] = parents2_schwaborders['Action'].apply(lambda x: x.replace('Buy', 'buy') if x == 'Buy' else 'sell')\n",
    "parents2_schwaborders.columns = ['date', 'side', 'symbol', 'description', 'quantity', 'average_price', 'fees & comm', 'amount']\n",
    "parents2_schwaborders['amount'] = parents2_schwaborders['amount'].str.replace('[$,()]', '').astype('float64')\n",
    "parents2_schwaborders = parents2_schwaborders.rename(columns = {'amount':'total'}).iloc[::-1].reset_index(drop=True)\n",
    "\n",
    "\n",
    "\n",
    "\n",
    "parents2_stocks = StocksCrypto(parents2_schwaborders)\n",
    "\n",
    "parents2_stocks.examine_trades()\n",
    "parents2_stocks.get_gainers_losers()\n",
    "parents2_stocks.get_examined_trades_df()\n",
    "\n",
    "display(parents2_stocks.trades_df)\n",
    "display(parents2_stocks.gains_df)\n",
    "display(parents2_stocks.losses_df)\n",
    "\n",
    "# parents2_stocks.trades_df.drop(columns = 'Free/Acquired Stock').to_excel('Parents1 Schwab Trades.xlsx')\n",
    "# parents2_stocks.gains_df.to_excel('Parents1 Schwab Trades Gainers.xlsx')\n",
    "# parents2_stocks.losses_df.to_excel('Parents1 Schwab Trades Losers.xlsx')"
   ]
  },
  {
   "cell_type": "code",
   "execution_count": 105,
   "metadata": {},
   "outputs": [],
   "source": [
    "#grandpa\n",
    "\n",
    "grandpa_schwab = pd.read_csv('Grandpa_Schwab.csv', header=1, skipfooter=1, engine = 'python').drop('Unnamed: 8', axis=1)\n",
    "grandpa_schwab['Date'] = pd.to_datetime(grandpa_schwab['Date'], format = '%m/%d/%Y')\n",
    "grandpa_schwab['Price'] = grandpa_schwab['Price'].apply(lambda x: x.strip()[1:].replace(',', '')).astype(float)\n",
    "grandpa_schwab.columns = ['date', 'side', 'symbol', 'description', 'quantity', 'average_price', 'fees & comm', 'amount']\n",
    "grandpa_schwab['amount'] = grandpa_schwab['amount'].str.replace('[$,()]', '').astype('float64')\n",
    "grandpa_schwab = grandpa_schwab.rename(columns = {'amount':'total'}).iloc[::-1].reset_index(drop=True)\n",
    "\n",
    "\n",
    "grandpa_schwab_stocks = grandpa_schwab[~grandpa_schwab['description'].str.contains('PUT') & ~grandpa_schwab['description'].str.contains('CALL')].reset_index(drop=True)\n",
    "grandpa_schwab_stocks['side'] = grandpa_schwab_stocks['side'].apply(lambda x: 'buy' if x == 'Buy' else 'sell')\n",
    "\n",
    "\n",
    "grandpa_schwab_options = grandpa_schwab[grandpa_schwab['description'].str.contains('PUT') | grandpa_schwab['description'].str.contains('CALL')].reset_index(drop=True)\n",
    "\n",
    "def replace_action(item):\n",
    "    if item == 'Buy to Open':\n",
    "        return 'buy'\n",
    "        \n",
    "    elif item == 'Sell to Close':\n",
    "        return 'sell'\n",
    "        \n",
    "    elif item == 'Sell to Open':\n",
    "        return 'sell'\n",
    "    \n",
    "    elif item == 'Buy to Close':\n",
    "        return 'buy'\n",
    "\n",
    "\n",
    "grandpa_schwab_options['side'] = grandpa_schwab_options['side'].apply(replace_action)\n",
    "\n",
    "\n",
    "grandpa_schwab_options[['symbol', 'expiration_date', 'strike_price','option_type']] = grandpa_schwab_options['symbol'].str.split(expand=True) \n",
    "grandpa_schwab_options['expiration_date'] = pd.to_datetime(grandpa_schwab_options['expiration_date'], format = '%m/%d/%Y')\n",
    "grandpa_schwab_options['option_type'] = grandpa_schwab_options['option_type'].apply(lambda x: 'Put' if x == 'P' else 'Call')\n",
    "grandpa_schwab_options.rename(columns = {'date':'order_created_at', 'symbol':'chain_symbol', 'quantity':'processed_quantity', 'average_price':'price'}, inplace=True)\n",
    "grandpa_schwab_options.drop('description', axis=1, inplace=True)"
   ]
  },
  {
   "cell_type": "code",
   "execution_count": 115,
   "metadata": {
    "collapsed": true,
    "jupyter": {
     "outputs_hidden": true
    }
   },
   "outputs": [
    {
     "name": "stdout",
     "output_type": "stream",
     "text": [
      "Sell V on 2020-04-28, Quantity: 6.0, Avg Price: $173.1421, Current Avg Cost: 169.88, Total: $1038.83\n",
      "Gain: $19.57, % Gain: 1.92%\n",
      "Net Gain/Loss: $19.57\n",
      "\n",
      "\n",
      "Sell SPY on 2020-06-01, Quantity: 2.0, Avg Price: $305.765, Current Avg Cost: 294.25, Total: $611.52\n",
      "Gain: $23.03, % Gain: 3.91%\n",
      "Net Gain/Loss: $42.6\n",
      "\n",
      "\n",
      "Sell BRKB on 2020-06-11, Quantity: 20.0, Avg Price: $179.695, Current Avg Cost: 180.06, Total: $3593.82\n",
      "Gain: $-7.4, % Gain: -0.21%, LOSS\n",
      "Net Gain/Loss: $35.2\n",
      "\n",
      "\n",
      "Sell MAR on 2020-06-11, Quantity: 39.0, Avg Price: $91.68, Current Avg Cost: 84.34, Total: $3575.44\n",
      "Gain: $286.19, % Gain: 8.7%\n",
      "Net Gain/Loss: $321.39\n",
      "\n",
      "\n",
      "Sell HLT on 2020-06-11, Quantity: 50.0, Avg Price: $78.058, Current Avg Cost: 76.31, Total: $3902.81\n",
      "Gain: $87.48, % Gain: 2.29%\n",
      "Net Gain/Loss: $408.87\n",
      "\n",
      "\n",
      "Sell MA on 2020-06-11, Quantity: 8.0, Avg Price: $293.6253, Current Avg Cost: 258.65, Total: $2348.95\n",
      "Gain: $279.81, % Gain: 13.52%\n",
      "Net Gain/Loss: $688.68\n",
      "\n",
      "\n",
      "Sell V on 2020-06-11, Quantity: 6.0, Avg Price: $189.935, Current Avg Cost: 169.88, Total: $1139.58\n",
      "Gain: $120.33, % Gain: 11.81%\n",
      "Net Gain/Loss: $809.01\n",
      "\n",
      "\n",
      "Sell V on 2020-06-11, Quantity: 0.0091, Avg Price: $189.935, Total: $1.73\n",
      "Free/Acquired Stock Gain: $1.73\n",
      "\n",
      "\n",
      "Sell SPY on 2020-06-12, Quantity: 3.0, Avg Price: $300.1833, Current Avg Cost: 294.25, Total: $900.53\n",
      "Gain: $17.8, % Gain: 2.02%\n",
      "Net Gain/Loss: $828.54\n",
      "\n",
      "\n",
      "Sell HLT on 2020-06-22, Quantity: 30.0, Avg Price: $76.345, Current Avg Cost: 77.92, Total: $2290.3\n",
      "Gain: $-47.1, % Gain: -2.02%, LOSS\n",
      "Net Gain/Loss: $781.44\n",
      "\n",
      "\n",
      "Sell AMZN on 2020-06-23, Quantity: 3.0, Avg Price: $2761.7897, Current Avg Cost: 2703.48, Total: $8285.19\n",
      "Gain: $174.92, % Gain: 2.16%\n",
      "Net Gain/Loss: $956.36\n",
      "\n",
      "\n",
      "Sell SOXL on 2020-07-30, Quantity: 1.0, Avg Price: $229.98, Current Avg Cost: 184.88, Total: $229.97\n",
      "Gain: $45.1, % Gain: 24.39%\n",
      "Net Gain/Loss: $1001.46\n",
      "\n",
      "\n",
      "Sell MSFT on 2020-08-07, Quantity: 5.0, Avg Price: $212.3693, Current Avg Cost: 202.1, Total: $1061.83\n",
      "Gain: $51.35, % Gain: 5.08%\n",
      "Net Gain/Loss: $1052.81\n",
      "\n",
      "\n",
      "Sell MSFT on 2020-08-25, Quantity: 1.0, Avg Price: $216.1647, Current Avg Cost: 202.1, Total: $216.16\n",
      "Gain: $14.06, % Gain: 6.96%\n",
      "Net Gain/Loss: $1066.87\n",
      "\n",
      "\n",
      "Sell MSFT on 2020-09-03, Quantity: 15.0, Avg Price: $220.0254, Current Avg Cost: 203.35, Total: $3300.31\n",
      "Gain: $250.19, % Gain: 8.2%\n",
      "Net Gain/Loss: $1317.06\n",
      "\n",
      "\n",
      "Sell NIO on 2020-09-03, Quantity: 325.0, Avg Price: $18.8042, Current Avg Cost: 13.07, Total: $6111.23\n",
      "Gain: $1863.75, % Gain: 43.88%\n",
      "Net Gain/Loss: $3180.81\n",
      "\n",
      "\n",
      "Sell SOXL on 2020-09-03, Quantity: 18.0, Avg Price: $261.2038, Current Avg Cost: 184.88, Total: $4701.57\n",
      "Gain: $1373.78, % Gain: 41.28%\n",
      "Net Gain/Loss: $4554.59\n",
      "\n",
      "\n",
      "Sell EVBG on 2020-09-08, Quantity: 30.0, Avg Price: $121.8133, Current Avg Cost: 140.7, Total: $3654.32\n",
      "Gain: $-566.7, % Gain: -13.43%, LOSS\n",
      "Net Gain/Loss: $3987.89\n",
      "\n",
      "\n",
      "Sell BA on 2020-09-08, Quantity: 12.0, Avg Price: $162.106, Current Avg Cost: 181.03, Total: $1945.23\n",
      "Gain: $-227.05, % Gain: -10.45%, LOSS\n",
      "Net Gain/Loss: $3760.84\n",
      "\n",
      "\n",
      "Sell DFS on 2020-10-09, Quantity: 46.0, Avg Price: $64.895, Current Avg Cost: 54.83, Total: $2985.1\n",
      "Gain: $463.06, % Gain: 18.36%\n",
      "Net Gain/Loss: $4223.9\n",
      "\n",
      "\n",
      "Sell WORK on 2020-11-25, Quantity: 115.0, Avg Price: $36.815, Current Avg Cost: 30.02, Total: $4233.64\n",
      "Gain: $780.93, % Gain: 22.62%\n",
      "Net Gain/Loss: $5004.83\n",
      "\n",
      "\n",
      "Sell DAL on 2021-01-07, Quantity: 12.0, Avg Price: $40.4019, Current Avg Cost: 42.34, Total: $484.81\n",
      "Gain: $-23.26, % Gain: -4.58%, LOSS\n",
      "Net Gain/Loss: $4981.57\n",
      "\n",
      "\n",
      "Sell NIO on 2021-01-29, Quantity: 35.0, Avg Price: $58.4501, Current Avg Cost: 35.75, Total: $2045.7\n",
      "Gain: $794.63, % Gain: 63.51%\n",
      "Net Gain/Loss: $5776.2\n",
      "\n",
      "\n",
      "Sell NIO on 2021-02-05, Quantity: 10.0, Avg Price: $56.5816, Current Avg Cost: 35.75, Total: $565.81\n",
      "Gain: $208.35, % Gain: 58.29%\n",
      "Net Gain/Loss: $5984.55\n",
      "\n",
      "\n",
      "Sell SQ on 2021-02-05, Quantity: 4.0, Avg Price: $240.1433, Current Avg Cost: 188.14, Total: $960.55\n",
      "Gain: $208.0, % Gain: 27.64%\n",
      "Net Gain/Loss: $6192.55\n",
      "\n",
      "\n",
      "Sell SQ on 2021-02-08, Quantity: 8.0, Avg Price: $257.6001, Current Avg Cost: 188.14, Total: $2060.75\n",
      "Gain: $555.65, % Gain: 36.92%\n",
      "Net Gain/Loss: $6748.2\n",
      "\n",
      "\n",
      "Sell SQ on 2021-02-19, Quantity: 5.0, Avg Price: $276.3111, Current Avg Cost: 188.14, Total: $1381.53\n",
      "Gain: $440.84, % Gain: 46.86%\n",
      "Net Gain/Loss: $7189.04\n",
      "\n",
      "\n",
      "Sell SQ on 2021-02-19, Quantity: 1.0, Avg Price: $276.28, Current Avg Cost: 188.14, Total: $276.27\n",
      "Gain: $88.14, % Gain: 46.84%\n",
      "Net Gain/Loss: $7277.18\n",
      "\n",
      "\n",
      "Sell DFS on 2021-02-25, Quantity: 50.0, Avg Price: $95.469, Current Avg Cost: 77.77, Total: $4773.43\n",
      "Gain: $884.95, % Gain: 22.76%\n",
      "Net Gain/Loss: $8162.13\n",
      "\n",
      "\n",
      "Sell NCLH on 2021-03-01, Quantity: 100.0, Avg Price: $29.845, Current Avg Cost: 26.4, Total: $2984.48\n",
      "Gain: $344.92, % Gain: 13.07%\n",
      "Net Gain/Loss: $8507.05\n",
      "\n",
      "\n",
      "\n",
      "Total Stock Gain: $9378.560000000001\n",
      "Total Stock Loss: $-871.51\n"
     ]
    },
    {
     "data": {
      "text/html": [
       "<div>\n",
       "<style scoped>\n",
       "    .dataframe tbody tr th:only-of-type {\n",
       "        vertical-align: middle;\n",
       "    }\n",
       "\n",
       "    .dataframe tbody tr th {\n",
       "        vertical-align: top;\n",
       "    }\n",
       "\n",
       "    .dataframe thead th {\n",
       "        text-align: right;\n",
       "    }\n",
       "</style>\n",
       "<table border=\"1\" class=\"dataframe\">\n",
       "  <thead>\n",
       "    <tr style=\"text-align: right;\">\n",
       "      <th></th>\n",
       "      <th>Side</th>\n",
       "      <th>Symbol</th>\n",
       "      <th>Date</th>\n",
       "      <th>Quantity</th>\n",
       "      <th>Avg_Price</th>\n",
       "      <th>Cur_Avg_Cost</th>\n",
       "      <th>Total</th>\n",
       "      <th>Gain</th>\n",
       "      <th>% Gain</th>\n",
       "      <th>Net Gain/Loss</th>\n",
       "      <th>Free/Acquired Stock</th>\n",
       "    </tr>\n",
       "  </thead>\n",
       "  <tbody>\n",
       "    <tr>\n",
       "      <th>0</th>\n",
       "      <td>buy</td>\n",
       "      <td>MAR</td>\n",
       "      <td>2020-04-23</td>\n",
       "      <td>14.00</td>\n",
       "      <td>80.98</td>\n",
       "      <td>80.98</td>\n",
       "      <td>-1133.72</td>\n",
       "      <td>0.00</td>\n",
       "      <td>0%</td>\n",
       "      <td>0.00</td>\n",
       "      <td></td>\n",
       "    </tr>\n",
       "    <tr>\n",
       "      <th>1</th>\n",
       "      <td>buy</td>\n",
       "      <td>MA</td>\n",
       "      <td>2020-04-23</td>\n",
       "      <td>6.00</td>\n",
       "      <td>256.65</td>\n",
       "      <td>256.65</td>\n",
       "      <td>-1539.88</td>\n",
       "      <td>0.00</td>\n",
       "      <td>0%</td>\n",
       "      <td>0.00</td>\n",
       "      <td></td>\n",
       "    </tr>\n",
       "    <tr>\n",
       "      <th>2</th>\n",
       "      <td>buy</td>\n",
       "      <td>V</td>\n",
       "      <td>2020-04-23</td>\n",
       "      <td>6.00</td>\n",
       "      <td>166.57</td>\n",
       "      <td>166.57</td>\n",
       "      <td>-999.42</td>\n",
       "      <td>0.00</td>\n",
       "      <td>0%</td>\n",
       "      <td>0.00</td>\n",
       "      <td></td>\n",
       "    </tr>\n",
       "    <tr>\n",
       "      <th>3</th>\n",
       "      <td>buy</td>\n",
       "      <td>V</td>\n",
       "      <td>2020-04-28</td>\n",
       "      <td>6.00</td>\n",
       "      <td>173.19</td>\n",
       "      <td>169.88</td>\n",
       "      <td>-1039.14</td>\n",
       "      <td>0.00</td>\n",
       "      <td>0%</td>\n",
       "      <td>0.00</td>\n",
       "      <td></td>\n",
       "    </tr>\n",
       "    <tr>\n",
       "      <th>4</th>\n",
       "      <td>sell</td>\n",
       "      <td>V</td>\n",
       "      <td>2020-04-28</td>\n",
       "      <td>6.00</td>\n",
       "      <td>173.14</td>\n",
       "      <td>169.88</td>\n",
       "      <td>1038.83</td>\n",
       "      <td>19.57</td>\n",
       "      <td>1.92%</td>\n",
       "      <td>19.57</td>\n",
       "      <td></td>\n",
       "    </tr>\n",
       "    <tr>\n",
       "      <th>5</th>\n",
       "      <td>buy</td>\n",
       "      <td>HLT</td>\n",
       "      <td>2020-04-28</td>\n",
       "      <td>20.00</td>\n",
       "      <td>75.49</td>\n",
       "      <td>75.49</td>\n",
       "      <td>-1509.79</td>\n",
       "      <td>0.00</td>\n",
       "      <td>0%</td>\n",
       "      <td>19.57</td>\n",
       "      <td></td>\n",
       "    </tr>\n",
       "    <tr>\n",
       "      <th>6</th>\n",
       "      <td>buy</td>\n",
       "      <td>MA</td>\n",
       "      <td>2020-04-28</td>\n",
       "      <td>2.00</td>\n",
       "      <td>264.65</td>\n",
       "      <td>258.65</td>\n",
       "      <td>-529.31</td>\n",
       "      <td>0.00</td>\n",
       "      <td>0%</td>\n",
       "      <td>19.57</td>\n",
       "      <td></td>\n",
       "    </tr>\n",
       "    <tr>\n",
       "      <th>7</th>\n",
       "      <td>buy</td>\n",
       "      <td>HLT</td>\n",
       "      <td>2020-05-01</td>\n",
       "      <td>15.00</td>\n",
       "      <td>71.84</td>\n",
       "      <td>73.93</td>\n",
       "      <td>-1077.68</td>\n",
       "      <td>0.00</td>\n",
       "      <td>0%</td>\n",
       "      <td>19.57</td>\n",
       "      <td></td>\n",
       "    </tr>\n",
       "    <tr>\n",
       "      <th>8</th>\n",
       "      <td>buy</td>\n",
       "      <td>MAR</td>\n",
       "      <td>2020-05-01</td>\n",
       "      <td>22.00</td>\n",
       "      <td>84.65</td>\n",
       "      <td>83.22</td>\n",
       "      <td>-1862.30</td>\n",
       "      <td>0.00</td>\n",
       "      <td>0%</td>\n",
       "      <td>19.57</td>\n",
       "      <td></td>\n",
       "    </tr>\n",
       "    <tr>\n",
       "      <th>9</th>\n",
       "      <td>buy</td>\n",
       "      <td>SPY</td>\n",
       "      <td>2020-05-06</td>\n",
       "      <td>3.00</td>\n",
       "      <td>286.50</td>\n",
       "      <td>286.50</td>\n",
       "      <td>-859.50</td>\n",
       "      <td>0.00</td>\n",
       "      <td>0%</td>\n",
       "      <td>19.57</td>\n",
       "      <td></td>\n",
       "    </tr>\n",
       "    <tr>\n",
       "      <th>10</th>\n",
       "      <td>buy</td>\n",
       "      <td>HLT</td>\n",
       "      <td>2020-05-26</td>\n",
       "      <td>14.00</td>\n",
       "      <td>81.84</td>\n",
       "      <td>76.19</td>\n",
       "      <td>-1145.76</td>\n",
       "      <td>0.00</td>\n",
       "      <td>0%</td>\n",
       "      <td>19.57</td>\n",
       "      <td></td>\n",
       "    </tr>\n",
       "    <tr>\n",
       "      <th>11</th>\n",
       "      <td>buy</td>\n",
       "      <td>HLT</td>\n",
       "      <td>2020-05-26</td>\n",
       "      <td>1.00</td>\n",
       "      <td>82.20</td>\n",
       "      <td>76.31</td>\n",
       "      <td>-82.20</td>\n",
       "      <td>0.00</td>\n",
       "      <td>0%</td>\n",
       "      <td>19.57</td>\n",
       "      <td></td>\n",
       "    </tr>\n",
       "    <tr>\n",
       "      <th>12</th>\n",
       "      <td>buy</td>\n",
       "      <td>BRKB</td>\n",
       "      <td>2020-05-26</td>\n",
       "      <td>20.00</td>\n",
       "      <td>180.06</td>\n",
       "      <td>180.06</td>\n",
       "      <td>-3601.30</td>\n",
       "      <td>0.00</td>\n",
       "      <td>0%</td>\n",
       "      <td>19.57</td>\n",
       "      <td></td>\n",
       "    </tr>\n",
       "    <tr>\n",
       "      <th>13</th>\n",
       "      <td>buy</td>\n",
       "      <td>MAR</td>\n",
       "      <td>2020-05-27</td>\n",
       "      <td>3.00</td>\n",
       "      <td>97.77</td>\n",
       "      <td>84.34</td>\n",
       "      <td>-293.31</td>\n",
       "      <td>0.00</td>\n",
       "      <td>0%</td>\n",
       "      <td>19.57</td>\n",
       "      <td></td>\n",
       "    </tr>\n",
       "    <tr>\n",
       "      <th>14</th>\n",
       "      <td>buy</td>\n",
       "      <td>SPY</td>\n",
       "      <td>2020-06-01</td>\n",
       "      <td>2.00</td>\n",
       "      <td>305.88</td>\n",
       "      <td>294.25</td>\n",
       "      <td>-611.75</td>\n",
       "      <td>0.00</td>\n",
       "      <td>0%</td>\n",
       "      <td>19.57</td>\n",
       "      <td></td>\n",
       "    </tr>\n",
       "    <tr>\n",
       "      <th>15</th>\n",
       "      <td>sell</td>\n",
       "      <td>SPY</td>\n",
       "      <td>2020-06-01</td>\n",
       "      <td>2.00</td>\n",
       "      <td>305.76</td>\n",
       "      <td>294.25</td>\n",
       "      <td>611.52</td>\n",
       "      <td>23.03</td>\n",
       "      <td>3.91%</td>\n",
       "      <td>42.60</td>\n",
       "      <td></td>\n",
       "    </tr>\n",
       "    <tr>\n",
       "      <th>16</th>\n",
       "      <td>sell</td>\n",
       "      <td>BRKB</td>\n",
       "      <td>2020-06-11</td>\n",
       "      <td>20.00</td>\n",
       "      <td>179.70</td>\n",
       "      <td>180.06</td>\n",
       "      <td>3593.82</td>\n",
       "      <td>-7.40</td>\n",
       "      <td>-0.21%</td>\n",
       "      <td>35.20</td>\n",
       "      <td></td>\n",
       "    </tr>\n",
       "    <tr>\n",
       "      <th>17</th>\n",
       "      <td>sell</td>\n",
       "      <td>MAR</td>\n",
       "      <td>2020-06-11</td>\n",
       "      <td>39.00</td>\n",
       "      <td>91.68</td>\n",
       "      <td>84.34</td>\n",
       "      <td>3575.44</td>\n",
       "      <td>286.19</td>\n",
       "      <td>8.7%</td>\n",
       "      <td>321.39</td>\n",
       "      <td></td>\n",
       "    </tr>\n",
       "    <tr>\n",
       "      <th>18</th>\n",
       "      <td>sell</td>\n",
       "      <td>HLT</td>\n",
       "      <td>2020-06-11</td>\n",
       "      <td>50.00</td>\n",
       "      <td>78.06</td>\n",
       "      <td>76.31</td>\n",
       "      <td>3902.81</td>\n",
       "      <td>87.48</td>\n",
       "      <td>2.29%</td>\n",
       "      <td>408.87</td>\n",
       "      <td></td>\n",
       "    </tr>\n",
       "    <tr>\n",
       "      <th>19</th>\n",
       "      <td>sell</td>\n",
       "      <td>MA</td>\n",
       "      <td>2020-06-11</td>\n",
       "      <td>8.00</td>\n",
       "      <td>293.63</td>\n",
       "      <td>258.65</td>\n",
       "      <td>2348.95</td>\n",
       "      <td>279.81</td>\n",
       "      <td>13.52%</td>\n",
       "      <td>688.68</td>\n",
       "      <td></td>\n",
       "    </tr>\n",
       "    <tr>\n",
       "      <th>20</th>\n",
       "      <td>sell</td>\n",
       "      <td>V</td>\n",
       "      <td>2020-06-11</td>\n",
       "      <td>6.00</td>\n",
       "      <td>189.94</td>\n",
       "      <td>169.88</td>\n",
       "      <td>1139.58</td>\n",
       "      <td>120.33</td>\n",
       "      <td>11.81%</td>\n",
       "      <td>809.01</td>\n",
       "      <td></td>\n",
       "    </tr>\n",
       "    <tr>\n",
       "      <th>21</th>\n",
       "      <td>sell</td>\n",
       "      <td>V</td>\n",
       "      <td>2020-06-11</td>\n",
       "      <td>0.01</td>\n",
       "      <td>189.94</td>\n",
       "      <td>169.88</td>\n",
       "      <td>1.73</td>\n",
       "      <td>1.73</td>\n",
       "      <td>0%</td>\n",
       "      <td>810.74</td>\n",
       "      <td>Yes</td>\n",
       "    </tr>\n",
       "    <tr>\n",
       "      <th>22</th>\n",
       "      <td>sell</td>\n",
       "      <td>SPY</td>\n",
       "      <td>2020-06-12</td>\n",
       "      <td>3.00</td>\n",
       "      <td>300.18</td>\n",
       "      <td>294.25</td>\n",
       "      <td>900.53</td>\n",
       "      <td>17.80</td>\n",
       "      <td>2.02%</td>\n",
       "      <td>828.54</td>\n",
       "      <td></td>\n",
       "    </tr>\n",
       "    <tr>\n",
       "      <th>23</th>\n",
       "      <td>buy</td>\n",
       "      <td>HLT</td>\n",
       "      <td>2020-06-15</td>\n",
       "      <td>30.00</td>\n",
       "      <td>77.92</td>\n",
       "      <td>77.92</td>\n",
       "      <td>-2337.45</td>\n",
       "      <td>0.00</td>\n",
       "      <td>0%</td>\n",
       "      <td>828.54</td>\n",
       "      <td></td>\n",
       "    </tr>\n",
       "    <tr>\n",
       "      <th>24</th>\n",
       "      <td>sell</td>\n",
       "      <td>HLT</td>\n",
       "      <td>2020-06-22</td>\n",
       "      <td>30.00</td>\n",
       "      <td>76.34</td>\n",
       "      <td>77.92</td>\n",
       "      <td>2290.30</td>\n",
       "      <td>-47.10</td>\n",
       "      <td>-2.02%</td>\n",
       "      <td>781.44</td>\n",
       "      <td></td>\n",
       "    </tr>\n",
       "    <tr>\n",
       "      <th>25</th>\n",
       "      <td>buy</td>\n",
       "      <td>AMZN</td>\n",
       "      <td>2020-06-22</td>\n",
       "      <td>2.00</td>\n",
       "      <td>2703.10</td>\n",
       "      <td>2703.10</td>\n",
       "      <td>-5406.20</td>\n",
       "      <td>0.00</td>\n",
       "      <td>0%</td>\n",
       "      <td>781.44</td>\n",
       "      <td></td>\n",
       "    </tr>\n",
       "    <tr>\n",
       "      <th>26</th>\n",
       "      <td>buy</td>\n",
       "      <td>AMZN</td>\n",
       "      <td>2020-06-22</td>\n",
       "      <td>1.00</td>\n",
       "      <td>2704.25</td>\n",
       "      <td>2703.48</td>\n",
       "      <td>-2704.25</td>\n",
       "      <td>0.00</td>\n",
       "      <td>0%</td>\n",
       "      <td>781.44</td>\n",
       "      <td></td>\n",
       "    </tr>\n",
       "    <tr>\n",
       "      <th>27</th>\n",
       "      <td>buy</td>\n",
       "      <td>SOXL</td>\n",
       "      <td>2020-06-22</td>\n",
       "      <td>19.00</td>\n",
       "      <td>184.88</td>\n",
       "      <td>184.88</td>\n",
       "      <td>-3512.77</td>\n",
       "      <td>0.00</td>\n",
       "      <td>0%</td>\n",
       "      <td>781.44</td>\n",
       "      <td></td>\n",
       "    </tr>\n",
       "    <tr>\n",
       "      <th>28</th>\n",
       "      <td>buy</td>\n",
       "      <td>WORK</td>\n",
       "      <td>2020-06-22</td>\n",
       "      <td>65.00</td>\n",
       "      <td>34.12</td>\n",
       "      <td>34.12</td>\n",
       "      <td>-2217.80</td>\n",
       "      <td>0.00</td>\n",
       "      <td>0%</td>\n",
       "      <td>781.44</td>\n",
       "      <td></td>\n",
       "    </tr>\n",
       "    <tr>\n",
       "      <th>29</th>\n",
       "      <td>buy</td>\n",
       "      <td>DFS</td>\n",
       "      <td>2020-06-23</td>\n",
       "      <td>46.00</td>\n",
       "      <td>54.83</td>\n",
       "      <td>54.83</td>\n",
       "      <td>-2522.11</td>\n",
       "      <td>0.00</td>\n",
       "      <td>0%</td>\n",
       "      <td>781.44</td>\n",
       "      <td></td>\n",
       "    </tr>\n",
       "    <tr>\n",
       "      <th>30</th>\n",
       "      <td>sell</td>\n",
       "      <td>AMZN</td>\n",
       "      <td>2020-06-23</td>\n",
       "      <td>3.00</td>\n",
       "      <td>2761.79</td>\n",
       "      <td>2703.48</td>\n",
       "      <td>8285.19</td>\n",
       "      <td>174.92</td>\n",
       "      <td>2.16%</td>\n",
       "      <td>956.36</td>\n",
       "      <td></td>\n",
       "    </tr>\n",
       "    <tr>\n",
       "      <th>31</th>\n",
       "      <td>buy</td>\n",
       "      <td>MSFT</td>\n",
       "      <td>2020-06-23</td>\n",
       "      <td>20.00</td>\n",
       "      <td>202.10</td>\n",
       "      <td>202.10</td>\n",
       "      <td>-4042.00</td>\n",
       "      <td>0.00</td>\n",
       "      <td>0%</td>\n",
       "      <td>956.36</td>\n",
       "      <td></td>\n",
       "    </tr>\n",
       "    <tr>\n",
       "      <th>32</th>\n",
       "      <td>buy</td>\n",
       "      <td>BA</td>\n",
       "      <td>2020-07-02</td>\n",
       "      <td>12.00</td>\n",
       "      <td>181.03</td>\n",
       "      <td>181.03</td>\n",
       "      <td>-2172.32</td>\n",
       "      <td>0.00</td>\n",
       "      <td>0%</td>\n",
       "      <td>956.36</td>\n",
       "      <td></td>\n",
       "    </tr>\n",
       "    <tr>\n",
       "      <th>33</th>\n",
       "      <td>buy</td>\n",
       "      <td>EVBG</td>\n",
       "      <td>2020-07-06</td>\n",
       "      <td>20.00</td>\n",
       "      <td>147.57</td>\n",
       "      <td>147.57</td>\n",
       "      <td>-2951.40</td>\n",
       "      <td>0.00</td>\n",
       "      <td>0%</td>\n",
       "      <td>956.36</td>\n",
       "      <td></td>\n",
       "    </tr>\n",
       "    <tr>\n",
       "      <th>34</th>\n",
       "      <td>buy</td>\n",
       "      <td>NIO</td>\n",
       "      <td>2020-07-08</td>\n",
       "      <td>250.00</td>\n",
       "      <td>12.97</td>\n",
       "      <td>12.97</td>\n",
       "      <td>-3241.55</td>\n",
       "      <td>0.00</td>\n",
       "      <td>0%</td>\n",
       "      <td>956.36</td>\n",
       "      <td></td>\n",
       "    </tr>\n",
       "    <tr>\n",
       "      <th>35</th>\n",
       "      <td>sell</td>\n",
       "      <td>SOXL</td>\n",
       "      <td>2020-07-30</td>\n",
       "      <td>1.00</td>\n",
       "      <td>229.98</td>\n",
       "      <td>184.88</td>\n",
       "      <td>229.97</td>\n",
       "      <td>45.10</td>\n",
       "      <td>24.39%</td>\n",
       "      <td>1001.46</td>\n",
       "      <td></td>\n",
       "    </tr>\n",
       "    <tr>\n",
       "      <th>36</th>\n",
       "      <td>sell</td>\n",
       "      <td>MSFT</td>\n",
       "      <td>2020-08-07</td>\n",
       "      <td>5.00</td>\n",
       "      <td>212.37</td>\n",
       "      <td>202.10</td>\n",
       "      <td>1061.83</td>\n",
       "      <td>51.35</td>\n",
       "      <td>5.08%</td>\n",
       "      <td>1052.81</td>\n",
       "      <td></td>\n",
       "    </tr>\n",
       "    <tr>\n",
       "      <th>37</th>\n",
       "      <td>buy</td>\n",
       "      <td>NIO</td>\n",
       "      <td>2020-08-07</td>\n",
       "      <td>75.00</td>\n",
       "      <td>13.41</td>\n",
       "      <td>13.07</td>\n",
       "      <td>-1006.07</td>\n",
       "      <td>0.00</td>\n",
       "      <td>0%</td>\n",
       "      <td>1052.81</td>\n",
       "      <td></td>\n",
       "    </tr>\n",
       "    <tr>\n",
       "      <th>38</th>\n",
       "      <td>sell</td>\n",
       "      <td>MSFT</td>\n",
       "      <td>2020-08-25</td>\n",
       "      <td>1.00</td>\n",
       "      <td>216.16</td>\n",
       "      <td>202.10</td>\n",
       "      <td>216.16</td>\n",
       "      <td>14.06</td>\n",
       "      <td>6.96%</td>\n",
       "      <td>1066.87</td>\n",
       "      <td></td>\n",
       "    </tr>\n",
       "    <tr>\n",
       "      <th>39</th>\n",
       "      <td>buy</td>\n",
       "      <td>MSFT</td>\n",
       "      <td>2020-08-26</td>\n",
       "      <td>1.00</td>\n",
       "      <td>220.79</td>\n",
       "      <td>203.35</td>\n",
       "      <td>-220.79</td>\n",
       "      <td>0.00</td>\n",
       "      <td>0%</td>\n",
       "      <td>1066.87</td>\n",
       "      <td></td>\n",
       "    </tr>\n",
       "    <tr>\n",
       "      <th>40</th>\n",
       "      <td>sell</td>\n",
       "      <td>MSFT</td>\n",
       "      <td>2020-09-03</td>\n",
       "      <td>15.00</td>\n",
       "      <td>220.03</td>\n",
       "      <td>203.35</td>\n",
       "      <td>3300.31</td>\n",
       "      <td>250.19</td>\n",
       "      <td>8.2%</td>\n",
       "      <td>1317.06</td>\n",
       "      <td></td>\n",
       "    </tr>\n",
       "    <tr>\n",
       "      <th>41</th>\n",
       "      <td>sell</td>\n",
       "      <td>NIO</td>\n",
       "      <td>2020-09-03</td>\n",
       "      <td>325.00</td>\n",
       "      <td>18.80</td>\n",
       "      <td>13.07</td>\n",
       "      <td>6111.23</td>\n",
       "      <td>1863.75</td>\n",
       "      <td>43.88%</td>\n",
       "      <td>3180.81</td>\n",
       "      <td></td>\n",
       "    </tr>\n",
       "    <tr>\n",
       "      <th>42</th>\n",
       "      <td>sell</td>\n",
       "      <td>SOXL</td>\n",
       "      <td>2020-09-03</td>\n",
       "      <td>18.00</td>\n",
       "      <td>261.20</td>\n",
       "      <td>184.88</td>\n",
       "      <td>4701.57</td>\n",
       "      <td>1373.78</td>\n",
       "      <td>41.28%</td>\n",
       "      <td>4554.59</td>\n",
       "      <td></td>\n",
       "    </tr>\n",
       "    <tr>\n",
       "      <th>43</th>\n",
       "      <td>buy</td>\n",
       "      <td>EVBG</td>\n",
       "      <td>2020-09-04</td>\n",
       "      <td>10.00</td>\n",
       "      <td>126.97</td>\n",
       "      <td>140.70</td>\n",
       "      <td>-1269.70</td>\n",
       "      <td>0.00</td>\n",
       "      <td>0%</td>\n",
       "      <td>4554.59</td>\n",
       "      <td></td>\n",
       "    </tr>\n",
       "    <tr>\n",
       "      <th>44</th>\n",
       "      <td>sell</td>\n",
       "      <td>EVBG</td>\n",
       "      <td>2020-09-08</td>\n",
       "      <td>30.00</td>\n",
       "      <td>121.81</td>\n",
       "      <td>140.70</td>\n",
       "      <td>3654.32</td>\n",
       "      <td>-566.70</td>\n",
       "      <td>-13.43%</td>\n",
       "      <td>3987.89</td>\n",
       "      <td></td>\n",
       "    </tr>\n",
       "    <tr>\n",
       "      <th>45</th>\n",
       "      <td>sell</td>\n",
       "      <td>BA</td>\n",
       "      <td>2020-09-08</td>\n",
       "      <td>12.00</td>\n",
       "      <td>162.11</td>\n",
       "      <td>181.03</td>\n",
       "      <td>1945.23</td>\n",
       "      <td>-227.05</td>\n",
       "      <td>-10.45%</td>\n",
       "      <td>3760.84</td>\n",
       "      <td></td>\n",
       "    </tr>\n",
       "    <tr>\n",
       "      <th>46</th>\n",
       "      <td>buy</td>\n",
       "      <td>WORK</td>\n",
       "      <td>2020-09-09</td>\n",
       "      <td>50.00</td>\n",
       "      <td>24.70</td>\n",
       "      <td>30.02</td>\n",
       "      <td>-1235.00</td>\n",
       "      <td>0.00</td>\n",
       "      <td>0%</td>\n",
       "      <td>3760.84</td>\n",
       "      <td></td>\n",
       "    </tr>\n",
       "    <tr>\n",
       "      <th>47</th>\n",
       "      <td>sell</td>\n",
       "      <td>DFS</td>\n",
       "      <td>2020-10-09</td>\n",
       "      <td>46.00</td>\n",
       "      <td>64.90</td>\n",
       "      <td>54.83</td>\n",
       "      <td>2985.10</td>\n",
       "      <td>463.06</td>\n",
       "      <td>18.36%</td>\n",
       "      <td>4223.90</td>\n",
       "      <td></td>\n",
       "    </tr>\n",
       "    <tr>\n",
       "      <th>48</th>\n",
       "      <td>buy</td>\n",
       "      <td>NIO</td>\n",
       "      <td>2020-10-14</td>\n",
       "      <td>90.00</td>\n",
       "      <td>26.59</td>\n",
       "      <td>26.59</td>\n",
       "      <td>-2393.32</td>\n",
       "      <td>0.00</td>\n",
       "      <td>0%</td>\n",
       "      <td>4223.90</td>\n",
       "      <td></td>\n",
       "    </tr>\n",
       "    <tr>\n",
       "      <th>49</th>\n",
       "      <td>buy</td>\n",
       "      <td>NIO</td>\n",
       "      <td>2020-11-03</td>\n",
       "      <td>70.00</td>\n",
       "      <td>34.97</td>\n",
       "      <td>30.26</td>\n",
       "      <td>-2447.90</td>\n",
       "      <td>0.00</td>\n",
       "      <td>0%</td>\n",
       "      <td>4223.90</td>\n",
       "      <td></td>\n",
       "    </tr>\n",
       "    <tr>\n",
       "      <th>50</th>\n",
       "      <td>buy</td>\n",
       "      <td>SQ</td>\n",
       "      <td>2020-11-11</td>\n",
       "      <td>20.00</td>\n",
       "      <td>183.60</td>\n",
       "      <td>183.60</td>\n",
       "      <td>-3672.00</td>\n",
       "      <td>0.00</td>\n",
       "      <td>0%</td>\n",
       "      <td>4223.90</td>\n",
       "      <td></td>\n",
       "    </tr>\n",
       "    <tr>\n",
       "      <th>51</th>\n",
       "      <td>buy</td>\n",
       "      <td>NIO</td>\n",
       "      <td>2020-11-13</td>\n",
       "      <td>30.00</td>\n",
       "      <td>44.57</td>\n",
       "      <td>32.52</td>\n",
       "      <td>-1337.10</td>\n",
       "      <td>0.00</td>\n",
       "      <td>0%</td>\n",
       "      <td>4223.90</td>\n",
       "      <td></td>\n",
       "    </tr>\n",
       "    <tr>\n",
       "      <th>52</th>\n",
       "      <td>buy</td>\n",
       "      <td>NIO</td>\n",
       "      <td>2020-11-13</td>\n",
       "      <td>7.00</td>\n",
       "      <td>44.56</td>\n",
       "      <td>32.95</td>\n",
       "      <td>-311.92</td>\n",
       "      <td>0.00</td>\n",
       "      <td>0%</td>\n",
       "      <td>4223.90</td>\n",
       "      <td></td>\n",
       "    </tr>\n",
       "    <tr>\n",
       "      <th>53</th>\n",
       "      <td>buy</td>\n",
       "      <td>NIO</td>\n",
       "      <td>2020-11-16</td>\n",
       "      <td>25.00</td>\n",
       "      <td>44.28</td>\n",
       "      <td>34.22</td>\n",
       "      <td>-1106.88</td>\n",
       "      <td>0.00</td>\n",
       "      <td>0%</td>\n",
       "      <td>4223.90</td>\n",
       "      <td></td>\n",
       "    </tr>\n",
       "    <tr>\n",
       "      <th>54</th>\n",
       "      <td>buy</td>\n",
       "      <td>DFS</td>\n",
       "      <td>2020-11-16</td>\n",
       "      <td>50.00</td>\n",
       "      <td>77.77</td>\n",
       "      <td>77.77</td>\n",
       "      <td>-3888.50</td>\n",
       "      <td>0.00</td>\n",
       "      <td>0%</td>\n",
       "      <td>4223.90</td>\n",
       "      <td></td>\n",
       "    </tr>\n",
       "    <tr>\n",
       "      <th>55</th>\n",
       "      <td>buy</td>\n",
       "      <td>SQ</td>\n",
       "      <td>2020-11-23</td>\n",
       "      <td>5.00</td>\n",
       "      <td>206.32</td>\n",
       "      <td>188.14</td>\n",
       "      <td>-1031.60</td>\n",
       "      <td>0.00</td>\n",
       "      <td>0%</td>\n",
       "      <td>4223.90</td>\n",
       "      <td></td>\n",
       "    </tr>\n",
       "    <tr>\n",
       "      <th>56</th>\n",
       "      <td>buy</td>\n",
       "      <td>LI</td>\n",
       "      <td>2020-11-24</td>\n",
       "      <td>100.00</td>\n",
       "      <td>43.50</td>\n",
       "      <td>43.50</td>\n",
       "      <td>-4350.00</td>\n",
       "      <td>0.00</td>\n",
       "      <td>0%</td>\n",
       "      <td>4223.90</td>\n",
       "      <td></td>\n",
       "    </tr>\n",
       "    <tr>\n",
       "      <th>57</th>\n",
       "      <td>sell</td>\n",
       "      <td>WORK</td>\n",
       "      <td>2020-11-25</td>\n",
       "      <td>115.00</td>\n",
       "      <td>36.82</td>\n",
       "      <td>30.02</td>\n",
       "      <td>4233.64</td>\n",
       "      <td>780.93</td>\n",
       "      <td>22.62%</td>\n",
       "      <td>5004.83</td>\n",
       "      <td></td>\n",
       "    </tr>\n",
       "    <tr>\n",
       "      <th>58</th>\n",
       "      <td>buy</td>\n",
       "      <td>LI</td>\n",
       "      <td>2020-11-30</td>\n",
       "      <td>15.00</td>\n",
       "      <td>36.04</td>\n",
       "      <td>42.53</td>\n",
       "      <td>-540.58</td>\n",
       "      <td>0.00</td>\n",
       "      <td>0%</td>\n",
       "      <td>5004.83</td>\n",
       "      <td></td>\n",
       "    </tr>\n",
       "    <tr>\n",
       "      <th>59</th>\n",
       "      <td>buy</td>\n",
       "      <td>DAL</td>\n",
       "      <td>2020-12-04</td>\n",
       "      <td>12.00</td>\n",
       "      <td>42.34</td>\n",
       "      <td>42.34</td>\n",
       "      <td>-508.08</td>\n",
       "      <td>0.00</td>\n",
       "      <td>0%</td>\n",
       "      <td>5004.83</td>\n",
       "      <td></td>\n",
       "    </tr>\n",
       "    <tr>\n",
       "      <th>60</th>\n",
       "      <td>buy</td>\n",
       "      <td>NCLH</td>\n",
       "      <td>2020-12-07</td>\n",
       "      <td>100.00</td>\n",
       "      <td>26.40</td>\n",
       "      <td>26.40</td>\n",
       "      <td>-2639.58</td>\n",
       "      <td>0.00</td>\n",
       "      <td>0%</td>\n",
       "      <td>5004.83</td>\n",
       "      <td></td>\n",
       "    </tr>\n",
       "    <tr>\n",
       "      <th>61</th>\n",
       "      <td>buy</td>\n",
       "      <td>NIO</td>\n",
       "      <td>2020-12-29</td>\n",
       "      <td>6.00</td>\n",
       "      <td>46.14</td>\n",
       "      <td>34.53</td>\n",
       "      <td>-276.84</td>\n",
       "      <td>0.00</td>\n",
       "      <td>0%</td>\n",
       "      <td>5004.83</td>\n",
       "      <td></td>\n",
       "    </tr>\n",
       "    <tr>\n",
       "      <th>62</th>\n",
       "      <td>buy</td>\n",
       "      <td>NIO</td>\n",
       "      <td>2020-12-30</td>\n",
       "      <td>2.00</td>\n",
       "      <td>48.29</td>\n",
       "      <td>34.65</td>\n",
       "      <td>-96.58</td>\n",
       "      <td>0.00</td>\n",
       "      <td>0%</td>\n",
       "      <td>5004.83</td>\n",
       "      <td></td>\n",
       "    </tr>\n",
       "    <tr>\n",
       "      <th>63</th>\n",
       "      <td>buy</td>\n",
       "      <td>NIO</td>\n",
       "      <td>2021-01-04</td>\n",
       "      <td>4.00</td>\n",
       "      <td>53.35</td>\n",
       "      <td>34.97</td>\n",
       "      <td>-213.40</td>\n",
       "      <td>0.00</td>\n",
       "      <td>0%</td>\n",
       "      <td>5004.83</td>\n",
       "      <td></td>\n",
       "    </tr>\n",
       "    <tr>\n",
       "      <th>64</th>\n",
       "      <td>sell</td>\n",
       "      <td>DAL</td>\n",
       "      <td>2021-01-07</td>\n",
       "      <td>12.00</td>\n",
       "      <td>40.40</td>\n",
       "      <td>42.34</td>\n",
       "      <td>484.81</td>\n",
       "      <td>-23.26</td>\n",
       "      <td>-4.58%</td>\n",
       "      <td>4981.57</td>\n",
       "      <td></td>\n",
       "    </tr>\n",
       "    <tr>\n",
       "      <th>65</th>\n",
       "      <td>buy</td>\n",
       "      <td>NIO</td>\n",
       "      <td>2021-01-08</td>\n",
       "      <td>8.00</td>\n",
       "      <td>58.34</td>\n",
       "      <td>35.75</td>\n",
       "      <td>-466.72</td>\n",
       "      <td>0.00</td>\n",
       "      <td>0%</td>\n",
       "      <td>4981.57</td>\n",
       "      <td></td>\n",
       "    </tr>\n",
       "    <tr>\n",
       "      <th>66</th>\n",
       "      <td>sell</td>\n",
       "      <td>NIO</td>\n",
       "      <td>2021-01-29</td>\n",
       "      <td>35.00</td>\n",
       "      <td>58.45</td>\n",
       "      <td>35.75</td>\n",
       "      <td>2045.70</td>\n",
       "      <td>794.63</td>\n",
       "      <td>63.51%</td>\n",
       "      <td>5776.20</td>\n",
       "      <td></td>\n",
       "    </tr>\n",
       "    <tr>\n",
       "      <th>67</th>\n",
       "      <td>sell</td>\n",
       "      <td>NIO</td>\n",
       "      <td>2021-02-05</td>\n",
       "      <td>10.00</td>\n",
       "      <td>56.58</td>\n",
       "      <td>35.75</td>\n",
       "      <td>565.81</td>\n",
       "      <td>208.35</td>\n",
       "      <td>58.29%</td>\n",
       "      <td>5984.55</td>\n",
       "      <td></td>\n",
       "    </tr>\n",
       "    <tr>\n",
       "      <th>68</th>\n",
       "      <td>sell</td>\n",
       "      <td>SQ</td>\n",
       "      <td>2021-02-05</td>\n",
       "      <td>4.00</td>\n",
       "      <td>240.14</td>\n",
       "      <td>188.14</td>\n",
       "      <td>960.55</td>\n",
       "      <td>208.00</td>\n",
       "      <td>27.64%</td>\n",
       "      <td>6192.55</td>\n",
       "      <td></td>\n",
       "    </tr>\n",
       "    <tr>\n",
       "      <th>69</th>\n",
       "      <td>sell</td>\n",
       "      <td>SQ</td>\n",
       "      <td>2021-02-08</td>\n",
       "      <td>8.00</td>\n",
       "      <td>257.60</td>\n",
       "      <td>188.14</td>\n",
       "      <td>2060.75</td>\n",
       "      <td>555.65</td>\n",
       "      <td>36.92%</td>\n",
       "      <td>6748.20</td>\n",
       "      <td></td>\n",
       "    </tr>\n",
       "    <tr>\n",
       "      <th>70</th>\n",
       "      <td>sell</td>\n",
       "      <td>SQ</td>\n",
       "      <td>2021-02-19</td>\n",
       "      <td>5.00</td>\n",
       "      <td>276.31</td>\n",
       "      <td>188.14</td>\n",
       "      <td>1381.53</td>\n",
       "      <td>440.84</td>\n",
       "      <td>46.86%</td>\n",
       "      <td>7189.04</td>\n",
       "      <td></td>\n",
       "    </tr>\n",
       "    <tr>\n",
       "      <th>71</th>\n",
       "      <td>sell</td>\n",
       "      <td>SQ</td>\n",
       "      <td>2021-02-19</td>\n",
       "      <td>1.00</td>\n",
       "      <td>276.28</td>\n",
       "      <td>188.14</td>\n",
       "      <td>276.27</td>\n",
       "      <td>88.14</td>\n",
       "      <td>46.84%</td>\n",
       "      <td>7277.18</td>\n",
       "      <td></td>\n",
       "    </tr>\n",
       "    <tr>\n",
       "      <th>72</th>\n",
       "      <td>buy</td>\n",
       "      <td>NIO</td>\n",
       "      <td>2021-02-24</td>\n",
       "      <td>11.00</td>\n",
       "      <td>51.89</td>\n",
       "      <td>36.60</td>\n",
       "      <td>-570.79</td>\n",
       "      <td>0.00</td>\n",
       "      <td>0%</td>\n",
       "      <td>7277.18</td>\n",
       "      <td></td>\n",
       "    </tr>\n",
       "    <tr>\n",
       "      <th>73</th>\n",
       "      <td>buy</td>\n",
       "      <td>LI</td>\n",
       "      <td>2021-02-25</td>\n",
       "      <td>25.00</td>\n",
       "      <td>27.80</td>\n",
       "      <td>39.90</td>\n",
       "      <td>-695.00</td>\n",
       "      <td>0.00</td>\n",
       "      <td>0%</td>\n",
       "      <td>7277.18</td>\n",
       "      <td></td>\n",
       "    </tr>\n",
       "    <tr>\n",
       "      <th>74</th>\n",
       "      <td>sell</td>\n",
       "      <td>DFS</td>\n",
       "      <td>2021-02-25</td>\n",
       "      <td>50.00</td>\n",
       "      <td>95.47</td>\n",
       "      <td>77.77</td>\n",
       "      <td>4773.43</td>\n",
       "      <td>884.95</td>\n",
       "      <td>22.76%</td>\n",
       "      <td>8162.13</td>\n",
       "      <td></td>\n",
       "    </tr>\n",
       "    <tr>\n",
       "      <th>75</th>\n",
       "      <td>buy</td>\n",
       "      <td>NIO</td>\n",
       "      <td>2021-02-25</td>\n",
       "      <td>34.00</td>\n",
       "      <td>46.20</td>\n",
       "      <td>37.95</td>\n",
       "      <td>-1570.80</td>\n",
       "      <td>0.00</td>\n",
       "      <td>0%</td>\n",
       "      <td>8162.13</td>\n",
       "      <td></td>\n",
       "    </tr>\n",
       "    <tr>\n",
       "      <th>76</th>\n",
       "      <td>sell</td>\n",
       "      <td>NCLH</td>\n",
       "      <td>2021-03-01</td>\n",
       "      <td>100.00</td>\n",
       "      <td>29.84</td>\n",
       "      <td>26.40</td>\n",
       "      <td>2984.48</td>\n",
       "      <td>344.92</td>\n",
       "      <td>13.07%</td>\n",
       "      <td>8507.05</td>\n",
       "      <td></td>\n",
       "    </tr>\n",
       "    <tr>\n",
       "      <th>77</th>\n",
       "      <td>buy</td>\n",
       "      <td>CHWY</td>\n",
       "      <td>2021-03-11</td>\n",
       "      <td>13.00</td>\n",
       "      <td>87.49</td>\n",
       "      <td>87.49</td>\n",
       "      <td>-1137.37</td>\n",
       "      <td>0.00</td>\n",
       "      <td>0%</td>\n",
       "      <td>8507.05</td>\n",
       "      <td></td>\n",
       "    </tr>\n",
       "    <tr>\n",
       "      <th>78</th>\n",
       "      <td>buy</td>\n",
       "      <td>CHWY</td>\n",
       "      <td>2021-03-17</td>\n",
       "      <td>9.00</td>\n",
       "      <td>81.22</td>\n",
       "      <td>84.92</td>\n",
       "      <td>-730.95</td>\n",
       "      <td>0.00</td>\n",
       "      <td>0%</td>\n",
       "      <td>8507.05</td>\n",
       "      <td></td>\n",
       "    </tr>\n",
       "    <tr>\n",
       "      <th>79</th>\n",
       "      <td>buy</td>\n",
       "      <td>CHWY</td>\n",
       "      <td>2021-03-18</td>\n",
       "      <td>12.00</td>\n",
       "      <td>77.80</td>\n",
       "      <td>82.41</td>\n",
       "      <td>-933.62</td>\n",
       "      <td>0.00</td>\n",
       "      <td>0%</td>\n",
       "      <td>8507.05</td>\n",
       "      <td></td>\n",
       "    </tr>\n",
       "    <tr>\n",
       "      <th>80</th>\n",
       "      <td>buy</td>\n",
       "      <td>CHWY</td>\n",
       "      <td>2021-03-29</td>\n",
       "      <td>10.00</td>\n",
       "      <td>79.21</td>\n",
       "      <td>81.68</td>\n",
       "      <td>-792.12</td>\n",
       "      <td>0.00</td>\n",
       "      <td>0%</td>\n",
       "      <td>8507.05</td>\n",
       "      <td></td>\n",
       "    </tr>\n",
       "  </tbody>\n",
       "</table>\n",
       "</div>"
      ],
      "text/plain": [
       "    Side Symbol        Date  Quantity  Avg_Price  Cur_Avg_Cost    Total  \\\n",
       "0    buy    MAR  2020-04-23     14.00      80.98         80.98 -1133.72   \n",
       "1    buy     MA  2020-04-23      6.00     256.65        256.65 -1539.88   \n",
       "2    buy      V  2020-04-23      6.00     166.57        166.57  -999.42   \n",
       "3    buy      V  2020-04-28      6.00     173.19        169.88 -1039.14   \n",
       "4   sell      V  2020-04-28      6.00     173.14        169.88  1038.83   \n",
       "5    buy    HLT  2020-04-28     20.00      75.49         75.49 -1509.79   \n",
       "6    buy     MA  2020-04-28      2.00     264.65        258.65  -529.31   \n",
       "7    buy    HLT  2020-05-01     15.00      71.84         73.93 -1077.68   \n",
       "8    buy    MAR  2020-05-01     22.00      84.65         83.22 -1862.30   \n",
       "9    buy    SPY  2020-05-06      3.00     286.50        286.50  -859.50   \n",
       "10   buy    HLT  2020-05-26     14.00      81.84         76.19 -1145.76   \n",
       "11   buy    HLT  2020-05-26      1.00      82.20         76.31   -82.20   \n",
       "12   buy   BRKB  2020-05-26     20.00     180.06        180.06 -3601.30   \n",
       "13   buy    MAR  2020-05-27      3.00      97.77         84.34  -293.31   \n",
       "14   buy    SPY  2020-06-01      2.00     305.88        294.25  -611.75   \n",
       "15  sell    SPY  2020-06-01      2.00     305.76        294.25   611.52   \n",
       "16  sell   BRKB  2020-06-11     20.00     179.70        180.06  3593.82   \n",
       "17  sell    MAR  2020-06-11     39.00      91.68         84.34  3575.44   \n",
       "18  sell    HLT  2020-06-11     50.00      78.06         76.31  3902.81   \n",
       "19  sell     MA  2020-06-11      8.00     293.63        258.65  2348.95   \n",
       "20  sell      V  2020-06-11      6.00     189.94        169.88  1139.58   \n",
       "21  sell      V  2020-06-11      0.01     189.94        169.88     1.73   \n",
       "22  sell    SPY  2020-06-12      3.00     300.18        294.25   900.53   \n",
       "23   buy    HLT  2020-06-15     30.00      77.92         77.92 -2337.45   \n",
       "24  sell    HLT  2020-06-22     30.00      76.34         77.92  2290.30   \n",
       "25   buy   AMZN  2020-06-22      2.00    2703.10       2703.10 -5406.20   \n",
       "26   buy   AMZN  2020-06-22      1.00    2704.25       2703.48 -2704.25   \n",
       "27   buy   SOXL  2020-06-22     19.00     184.88        184.88 -3512.77   \n",
       "28   buy   WORK  2020-06-22     65.00      34.12         34.12 -2217.80   \n",
       "29   buy    DFS  2020-06-23     46.00      54.83         54.83 -2522.11   \n",
       "30  sell   AMZN  2020-06-23      3.00    2761.79       2703.48  8285.19   \n",
       "31   buy   MSFT  2020-06-23     20.00     202.10        202.10 -4042.00   \n",
       "32   buy     BA  2020-07-02     12.00     181.03        181.03 -2172.32   \n",
       "33   buy   EVBG  2020-07-06     20.00     147.57        147.57 -2951.40   \n",
       "34   buy    NIO  2020-07-08    250.00      12.97         12.97 -3241.55   \n",
       "35  sell   SOXL  2020-07-30      1.00     229.98        184.88   229.97   \n",
       "36  sell   MSFT  2020-08-07      5.00     212.37        202.10  1061.83   \n",
       "37   buy    NIO  2020-08-07     75.00      13.41         13.07 -1006.07   \n",
       "38  sell   MSFT  2020-08-25      1.00     216.16        202.10   216.16   \n",
       "39   buy   MSFT  2020-08-26      1.00     220.79        203.35  -220.79   \n",
       "40  sell   MSFT  2020-09-03     15.00     220.03        203.35  3300.31   \n",
       "41  sell    NIO  2020-09-03    325.00      18.80         13.07  6111.23   \n",
       "42  sell   SOXL  2020-09-03     18.00     261.20        184.88  4701.57   \n",
       "43   buy   EVBG  2020-09-04     10.00     126.97        140.70 -1269.70   \n",
       "44  sell   EVBG  2020-09-08     30.00     121.81        140.70  3654.32   \n",
       "45  sell     BA  2020-09-08     12.00     162.11        181.03  1945.23   \n",
       "46   buy   WORK  2020-09-09     50.00      24.70         30.02 -1235.00   \n",
       "47  sell    DFS  2020-10-09     46.00      64.90         54.83  2985.10   \n",
       "48   buy    NIO  2020-10-14     90.00      26.59         26.59 -2393.32   \n",
       "49   buy    NIO  2020-11-03     70.00      34.97         30.26 -2447.90   \n",
       "50   buy     SQ  2020-11-11     20.00     183.60        183.60 -3672.00   \n",
       "51   buy    NIO  2020-11-13     30.00      44.57         32.52 -1337.10   \n",
       "52   buy    NIO  2020-11-13      7.00      44.56         32.95  -311.92   \n",
       "53   buy    NIO  2020-11-16     25.00      44.28         34.22 -1106.88   \n",
       "54   buy    DFS  2020-11-16     50.00      77.77         77.77 -3888.50   \n",
       "55   buy     SQ  2020-11-23      5.00     206.32        188.14 -1031.60   \n",
       "56   buy     LI  2020-11-24    100.00      43.50         43.50 -4350.00   \n",
       "57  sell   WORK  2020-11-25    115.00      36.82         30.02  4233.64   \n",
       "58   buy     LI  2020-11-30     15.00      36.04         42.53  -540.58   \n",
       "59   buy    DAL  2020-12-04     12.00      42.34         42.34  -508.08   \n",
       "60   buy   NCLH  2020-12-07    100.00      26.40         26.40 -2639.58   \n",
       "61   buy    NIO  2020-12-29      6.00      46.14         34.53  -276.84   \n",
       "62   buy    NIO  2020-12-30      2.00      48.29         34.65   -96.58   \n",
       "63   buy    NIO  2021-01-04      4.00      53.35         34.97  -213.40   \n",
       "64  sell    DAL  2021-01-07     12.00      40.40         42.34   484.81   \n",
       "65   buy    NIO  2021-01-08      8.00      58.34         35.75  -466.72   \n",
       "66  sell    NIO  2021-01-29     35.00      58.45         35.75  2045.70   \n",
       "67  sell    NIO  2021-02-05     10.00      56.58         35.75   565.81   \n",
       "68  sell     SQ  2021-02-05      4.00     240.14        188.14   960.55   \n",
       "69  sell     SQ  2021-02-08      8.00     257.60        188.14  2060.75   \n",
       "70  sell     SQ  2021-02-19      5.00     276.31        188.14  1381.53   \n",
       "71  sell     SQ  2021-02-19      1.00     276.28        188.14   276.27   \n",
       "72   buy    NIO  2021-02-24     11.00      51.89         36.60  -570.79   \n",
       "73   buy     LI  2021-02-25     25.00      27.80         39.90  -695.00   \n",
       "74  sell    DFS  2021-02-25     50.00      95.47         77.77  4773.43   \n",
       "75   buy    NIO  2021-02-25     34.00      46.20         37.95 -1570.80   \n",
       "76  sell   NCLH  2021-03-01    100.00      29.84         26.40  2984.48   \n",
       "77   buy   CHWY  2021-03-11     13.00      87.49         87.49 -1137.37   \n",
       "78   buy   CHWY  2021-03-17      9.00      81.22         84.92  -730.95   \n",
       "79   buy   CHWY  2021-03-18     12.00      77.80         82.41  -933.62   \n",
       "80   buy   CHWY  2021-03-29     10.00      79.21         81.68  -792.12   \n",
       "\n",
       "       Gain   % Gain  Net Gain/Loss Free/Acquired Stock  \n",
       "0      0.00       0%           0.00                      \n",
       "1      0.00       0%           0.00                      \n",
       "2      0.00       0%           0.00                      \n",
       "3      0.00       0%           0.00                      \n",
       "4     19.57    1.92%          19.57                      \n",
       "5      0.00       0%          19.57                      \n",
       "6      0.00       0%          19.57                      \n",
       "7      0.00       0%          19.57                      \n",
       "8      0.00       0%          19.57                      \n",
       "9      0.00       0%          19.57                      \n",
       "10     0.00       0%          19.57                      \n",
       "11     0.00       0%          19.57                      \n",
       "12     0.00       0%          19.57                      \n",
       "13     0.00       0%          19.57                      \n",
       "14     0.00       0%          19.57                      \n",
       "15    23.03    3.91%          42.60                      \n",
       "16    -7.40   -0.21%          35.20                      \n",
       "17   286.19     8.7%         321.39                      \n",
       "18    87.48    2.29%         408.87                      \n",
       "19   279.81   13.52%         688.68                      \n",
       "20   120.33   11.81%         809.01                      \n",
       "21     1.73       0%         810.74                 Yes  \n",
       "22    17.80    2.02%         828.54                      \n",
       "23     0.00       0%         828.54                      \n",
       "24   -47.10   -2.02%         781.44                      \n",
       "25     0.00       0%         781.44                      \n",
       "26     0.00       0%         781.44                      \n",
       "27     0.00       0%         781.44                      \n",
       "28     0.00       0%         781.44                      \n",
       "29     0.00       0%         781.44                      \n",
       "30   174.92    2.16%         956.36                      \n",
       "31     0.00       0%         956.36                      \n",
       "32     0.00       0%         956.36                      \n",
       "33     0.00       0%         956.36                      \n",
       "34     0.00       0%         956.36                      \n",
       "35    45.10   24.39%        1001.46                      \n",
       "36    51.35    5.08%        1052.81                      \n",
       "37     0.00       0%        1052.81                      \n",
       "38    14.06    6.96%        1066.87                      \n",
       "39     0.00       0%        1066.87                      \n",
       "40   250.19     8.2%        1317.06                      \n",
       "41  1863.75   43.88%        3180.81                      \n",
       "42  1373.78   41.28%        4554.59                      \n",
       "43     0.00       0%        4554.59                      \n",
       "44  -566.70  -13.43%        3987.89                      \n",
       "45  -227.05  -10.45%        3760.84                      \n",
       "46     0.00       0%        3760.84                      \n",
       "47   463.06   18.36%        4223.90                      \n",
       "48     0.00       0%        4223.90                      \n",
       "49     0.00       0%        4223.90                      \n",
       "50     0.00       0%        4223.90                      \n",
       "51     0.00       0%        4223.90                      \n",
       "52     0.00       0%        4223.90                      \n",
       "53     0.00       0%        4223.90                      \n",
       "54     0.00       0%        4223.90                      \n",
       "55     0.00       0%        4223.90                      \n",
       "56     0.00       0%        4223.90                      \n",
       "57   780.93   22.62%        5004.83                      \n",
       "58     0.00       0%        5004.83                      \n",
       "59     0.00       0%        5004.83                      \n",
       "60     0.00       0%        5004.83                      \n",
       "61     0.00       0%        5004.83                      \n",
       "62     0.00       0%        5004.83                      \n",
       "63     0.00       0%        5004.83                      \n",
       "64   -23.26   -4.58%        4981.57                      \n",
       "65     0.00       0%        4981.57                      \n",
       "66   794.63   63.51%        5776.20                      \n",
       "67   208.35   58.29%        5984.55                      \n",
       "68   208.00   27.64%        6192.55                      \n",
       "69   555.65   36.92%        6748.20                      \n",
       "70   440.84   46.86%        7189.04                      \n",
       "71    88.14   46.84%        7277.18                      \n",
       "72     0.00       0%        7277.18                      \n",
       "73     0.00       0%        7277.18                      \n",
       "74   884.95   22.76%        8162.13                      \n",
       "75     0.00       0%        8162.13                      \n",
       "76   344.92   13.07%        8507.05                      \n",
       "77     0.00       0%        8507.05                      \n",
       "78     0.00       0%        8507.05                      \n",
       "79     0.00       0%        8507.05                      \n",
       "80     0.00       0%        8507.05                      "
      ]
     },
     "metadata": {},
     "output_type": "display_data"
    },
    {
     "data": {
      "text/html": [
       "<div>\n",
       "<style scoped>\n",
       "    .dataframe tbody tr th:only-of-type {\n",
       "        vertical-align: middle;\n",
       "    }\n",
       "\n",
       "    .dataframe tbody tr th {\n",
       "        vertical-align: top;\n",
       "    }\n",
       "\n",
       "    .dataframe thead th {\n",
       "        text-align: right;\n",
       "    }\n",
       "</style>\n",
       "<table border=\"1\" class=\"dataframe\">\n",
       "  <thead>\n",
       "    <tr style=\"text-align: right;\">\n",
       "      <th></th>\n",
       "      <th>Symbol</th>\n",
       "      <th>Date</th>\n",
       "      <th>Quantity</th>\n",
       "      <th>Avg_Price</th>\n",
       "      <th>Gain</th>\n",
       "      <th>% Gain</th>\n",
       "    </tr>\n",
       "  </thead>\n",
       "  <tbody>\n",
       "    <tr>\n",
       "      <th>0</th>\n",
       "      <td>NIO</td>\n",
       "      <td>2020-09-03</td>\n",
       "      <td>325.0000</td>\n",
       "      <td>18.8042</td>\n",
       "      <td>1863.75</td>\n",
       "      <td>43.88%</td>\n",
       "    </tr>\n",
       "    <tr>\n",
       "      <th>1</th>\n",
       "      <td>SOXL</td>\n",
       "      <td>2020-09-03</td>\n",
       "      <td>18.0000</td>\n",
       "      <td>261.2038</td>\n",
       "      <td>1373.78</td>\n",
       "      <td>41.28%</td>\n",
       "    </tr>\n",
       "    <tr>\n",
       "      <th>2</th>\n",
       "      <td>DFS</td>\n",
       "      <td>2021-02-25</td>\n",
       "      <td>50.0000</td>\n",
       "      <td>95.4690</td>\n",
       "      <td>884.95</td>\n",
       "      <td>22.76%</td>\n",
       "    </tr>\n",
       "    <tr>\n",
       "      <th>3</th>\n",
       "      <td>NIO</td>\n",
       "      <td>2021-01-29</td>\n",
       "      <td>35.0000</td>\n",
       "      <td>58.4501</td>\n",
       "      <td>794.63</td>\n",
       "      <td>63.51%</td>\n",
       "    </tr>\n",
       "    <tr>\n",
       "      <th>4</th>\n",
       "      <td>WORK</td>\n",
       "      <td>2020-11-25</td>\n",
       "      <td>115.0000</td>\n",
       "      <td>36.8150</td>\n",
       "      <td>780.93</td>\n",
       "      <td>22.62%</td>\n",
       "    </tr>\n",
       "    <tr>\n",
       "      <th>5</th>\n",
       "      <td>SQ</td>\n",
       "      <td>2021-02-08</td>\n",
       "      <td>8.0000</td>\n",
       "      <td>257.6001</td>\n",
       "      <td>555.65</td>\n",
       "      <td>36.92%</td>\n",
       "    </tr>\n",
       "    <tr>\n",
       "      <th>6</th>\n",
       "      <td>DFS</td>\n",
       "      <td>2020-10-09</td>\n",
       "      <td>46.0000</td>\n",
       "      <td>64.8950</td>\n",
       "      <td>463.06</td>\n",
       "      <td>18.36%</td>\n",
       "    </tr>\n",
       "    <tr>\n",
       "      <th>7</th>\n",
       "      <td>SQ</td>\n",
       "      <td>2021-02-19</td>\n",
       "      <td>5.0000</td>\n",
       "      <td>276.3111</td>\n",
       "      <td>440.84</td>\n",
       "      <td>46.86%</td>\n",
       "    </tr>\n",
       "    <tr>\n",
       "      <th>8</th>\n",
       "      <td>NCLH</td>\n",
       "      <td>2021-03-01</td>\n",
       "      <td>100.0000</td>\n",
       "      <td>29.8450</td>\n",
       "      <td>344.92</td>\n",
       "      <td>13.07%</td>\n",
       "    </tr>\n",
       "    <tr>\n",
       "      <th>9</th>\n",
       "      <td>MAR</td>\n",
       "      <td>2020-06-11</td>\n",
       "      <td>39.0000</td>\n",
       "      <td>91.6800</td>\n",
       "      <td>286.19</td>\n",
       "      <td>8.7%</td>\n",
       "    </tr>\n",
       "    <tr>\n",
       "      <th>10</th>\n",
       "      <td>MA</td>\n",
       "      <td>2020-06-11</td>\n",
       "      <td>8.0000</td>\n",
       "      <td>293.6253</td>\n",
       "      <td>279.81</td>\n",
       "      <td>13.52%</td>\n",
       "    </tr>\n",
       "    <tr>\n",
       "      <th>11</th>\n",
       "      <td>MSFT</td>\n",
       "      <td>2020-09-03</td>\n",
       "      <td>15.0000</td>\n",
       "      <td>220.0254</td>\n",
       "      <td>250.19</td>\n",
       "      <td>8.2%</td>\n",
       "    </tr>\n",
       "    <tr>\n",
       "      <th>12</th>\n",
       "      <td>NIO</td>\n",
       "      <td>2021-02-05</td>\n",
       "      <td>10.0000</td>\n",
       "      <td>56.5816</td>\n",
       "      <td>208.35</td>\n",
       "      <td>58.29%</td>\n",
       "    </tr>\n",
       "    <tr>\n",
       "      <th>13</th>\n",
       "      <td>SQ</td>\n",
       "      <td>2021-02-05</td>\n",
       "      <td>4.0000</td>\n",
       "      <td>240.1433</td>\n",
       "      <td>208.00</td>\n",
       "      <td>27.64%</td>\n",
       "    </tr>\n",
       "    <tr>\n",
       "      <th>14</th>\n",
       "      <td>AMZN</td>\n",
       "      <td>2020-06-23</td>\n",
       "      <td>3.0000</td>\n",
       "      <td>2761.7897</td>\n",
       "      <td>174.92</td>\n",
       "      <td>2.16%</td>\n",
       "    </tr>\n",
       "    <tr>\n",
       "      <th>15</th>\n",
       "      <td>V</td>\n",
       "      <td>2020-06-11</td>\n",
       "      <td>6.0000</td>\n",
       "      <td>189.9350</td>\n",
       "      <td>120.33</td>\n",
       "      <td>11.81%</td>\n",
       "    </tr>\n",
       "    <tr>\n",
       "      <th>16</th>\n",
       "      <td>SQ</td>\n",
       "      <td>2021-02-19</td>\n",
       "      <td>1.0000</td>\n",
       "      <td>276.2800</td>\n",
       "      <td>88.14</td>\n",
       "      <td>46.84%</td>\n",
       "    </tr>\n",
       "    <tr>\n",
       "      <th>17</th>\n",
       "      <td>HLT</td>\n",
       "      <td>2020-06-11</td>\n",
       "      <td>50.0000</td>\n",
       "      <td>78.0580</td>\n",
       "      <td>87.48</td>\n",
       "      <td>2.29%</td>\n",
       "    </tr>\n",
       "    <tr>\n",
       "      <th>18</th>\n",
       "      <td>MSFT</td>\n",
       "      <td>2020-08-07</td>\n",
       "      <td>5.0000</td>\n",
       "      <td>212.3693</td>\n",
       "      <td>51.35</td>\n",
       "      <td>5.08%</td>\n",
       "    </tr>\n",
       "    <tr>\n",
       "      <th>19</th>\n",
       "      <td>SOXL</td>\n",
       "      <td>2020-07-30</td>\n",
       "      <td>1.0000</td>\n",
       "      <td>229.9800</td>\n",
       "      <td>45.10</td>\n",
       "      <td>24.39%</td>\n",
       "    </tr>\n",
       "    <tr>\n",
       "      <th>20</th>\n",
       "      <td>SPY</td>\n",
       "      <td>2020-06-01</td>\n",
       "      <td>2.0000</td>\n",
       "      <td>305.7650</td>\n",
       "      <td>23.03</td>\n",
       "      <td>3.91%</td>\n",
       "    </tr>\n",
       "    <tr>\n",
       "      <th>21</th>\n",
       "      <td>V</td>\n",
       "      <td>2020-04-28</td>\n",
       "      <td>6.0000</td>\n",
       "      <td>173.1421</td>\n",
       "      <td>19.57</td>\n",
       "      <td>1.92%</td>\n",
       "    </tr>\n",
       "    <tr>\n",
       "      <th>22</th>\n",
       "      <td>SPY</td>\n",
       "      <td>2020-06-12</td>\n",
       "      <td>3.0000</td>\n",
       "      <td>300.1833</td>\n",
       "      <td>17.80</td>\n",
       "      <td>2.02%</td>\n",
       "    </tr>\n",
       "    <tr>\n",
       "      <th>23</th>\n",
       "      <td>MSFT</td>\n",
       "      <td>2020-08-25</td>\n",
       "      <td>1.0000</td>\n",
       "      <td>216.1647</td>\n",
       "      <td>14.06</td>\n",
       "      <td>6.96%</td>\n",
       "    </tr>\n",
       "    <tr>\n",
       "      <th>24</th>\n",
       "      <td>V</td>\n",
       "      <td>2020-06-11</td>\n",
       "      <td>0.0091</td>\n",
       "      <td>189.9350</td>\n",
       "      <td>1.73</td>\n",
       "      <td>Free/Acquired Stock</td>\n",
       "    </tr>\n",
       "  </tbody>\n",
       "</table>\n",
       "</div>"
      ],
      "text/plain": [
       "   Symbol        Date  Quantity  Avg_Price     Gain               % Gain\n",
       "0     NIO  2020-09-03  325.0000    18.8042  1863.75               43.88%\n",
       "1    SOXL  2020-09-03   18.0000   261.2038  1373.78               41.28%\n",
       "2     DFS  2021-02-25   50.0000    95.4690   884.95               22.76%\n",
       "3     NIO  2021-01-29   35.0000    58.4501   794.63               63.51%\n",
       "4    WORK  2020-11-25  115.0000    36.8150   780.93               22.62%\n",
       "5      SQ  2021-02-08    8.0000   257.6001   555.65               36.92%\n",
       "6     DFS  2020-10-09   46.0000    64.8950   463.06               18.36%\n",
       "7      SQ  2021-02-19    5.0000   276.3111   440.84               46.86%\n",
       "8    NCLH  2021-03-01  100.0000    29.8450   344.92               13.07%\n",
       "9     MAR  2020-06-11   39.0000    91.6800   286.19                 8.7%\n",
       "10     MA  2020-06-11    8.0000   293.6253   279.81               13.52%\n",
       "11   MSFT  2020-09-03   15.0000   220.0254   250.19                 8.2%\n",
       "12    NIO  2021-02-05   10.0000    56.5816   208.35               58.29%\n",
       "13     SQ  2021-02-05    4.0000   240.1433   208.00               27.64%\n",
       "14   AMZN  2020-06-23    3.0000  2761.7897   174.92                2.16%\n",
       "15      V  2020-06-11    6.0000   189.9350   120.33               11.81%\n",
       "16     SQ  2021-02-19    1.0000   276.2800    88.14               46.84%\n",
       "17    HLT  2020-06-11   50.0000    78.0580    87.48                2.29%\n",
       "18   MSFT  2020-08-07    5.0000   212.3693    51.35                5.08%\n",
       "19   SOXL  2020-07-30    1.0000   229.9800    45.10               24.39%\n",
       "20    SPY  2020-06-01    2.0000   305.7650    23.03                3.91%\n",
       "21      V  2020-04-28    6.0000   173.1421    19.57                1.92%\n",
       "22    SPY  2020-06-12    3.0000   300.1833    17.80                2.02%\n",
       "23   MSFT  2020-08-25    1.0000   216.1647    14.06                6.96%\n",
       "24      V  2020-06-11    0.0091   189.9350     1.73  Free/Acquired Stock"
      ]
     },
     "metadata": {},
     "output_type": "display_data"
    },
    {
     "data": {
      "text/html": [
       "<div>\n",
       "<style scoped>\n",
       "    .dataframe tbody tr th:only-of-type {\n",
       "        vertical-align: middle;\n",
       "    }\n",
       "\n",
       "    .dataframe tbody tr th {\n",
       "        vertical-align: top;\n",
       "    }\n",
       "\n",
       "    .dataframe thead th {\n",
       "        text-align: right;\n",
       "    }\n",
       "</style>\n",
       "<table border=\"1\" class=\"dataframe\">\n",
       "  <thead>\n",
       "    <tr style=\"text-align: right;\">\n",
       "      <th></th>\n",
       "      <th>Symbol</th>\n",
       "      <th>Date</th>\n",
       "      <th>Quantity</th>\n",
       "      <th>Avg_Price</th>\n",
       "      <th>Gain</th>\n",
       "      <th>% Gain</th>\n",
       "    </tr>\n",
       "  </thead>\n",
       "  <tbody>\n",
       "    <tr>\n",
       "      <th>0</th>\n",
       "      <td>EVBG</td>\n",
       "      <td>2020-09-08</td>\n",
       "      <td>30.0</td>\n",
       "      <td>121.8133</td>\n",
       "      <td>-566.70</td>\n",
       "      <td>-13.43%</td>\n",
       "    </tr>\n",
       "    <tr>\n",
       "      <th>1</th>\n",
       "      <td>BA</td>\n",
       "      <td>2020-09-08</td>\n",
       "      <td>12.0</td>\n",
       "      <td>162.1060</td>\n",
       "      <td>-227.05</td>\n",
       "      <td>-10.45%</td>\n",
       "    </tr>\n",
       "    <tr>\n",
       "      <th>2</th>\n",
       "      <td>HLT</td>\n",
       "      <td>2020-06-22</td>\n",
       "      <td>30.0</td>\n",
       "      <td>76.3450</td>\n",
       "      <td>-47.10</td>\n",
       "      <td>-2.02%</td>\n",
       "    </tr>\n",
       "    <tr>\n",
       "      <th>3</th>\n",
       "      <td>DAL</td>\n",
       "      <td>2021-01-07</td>\n",
       "      <td>12.0</td>\n",
       "      <td>40.4019</td>\n",
       "      <td>-23.26</td>\n",
       "      <td>-4.58%</td>\n",
       "    </tr>\n",
       "    <tr>\n",
       "      <th>4</th>\n",
       "      <td>BRKB</td>\n",
       "      <td>2020-06-11</td>\n",
       "      <td>20.0</td>\n",
       "      <td>179.6950</td>\n",
       "      <td>-7.40</td>\n",
       "      <td>-0.21%</td>\n",
       "    </tr>\n",
       "  </tbody>\n",
       "</table>\n",
       "</div>"
      ],
      "text/plain": [
       "  Symbol        Date  Quantity  Avg_Price    Gain   % Gain\n",
       "0   EVBG  2020-09-08      30.0   121.8133 -566.70  -13.43%\n",
       "1     BA  2020-09-08      12.0   162.1060 -227.05  -10.45%\n",
       "2    HLT  2020-06-22      30.0    76.3450  -47.10   -2.02%\n",
       "3    DAL  2021-01-07      12.0    40.4019  -23.26   -4.58%\n",
       "4   BRKB  2020-06-11      20.0   179.6950   -7.40   -0.21%"
      ]
     },
     "metadata": {},
     "output_type": "display_data"
    }
   ],
   "source": [
    "grandpa_stocks = StocksCrypto(grandpa_schwab_stocks)\n",
    "\n",
    "grandpa_stocks.examine_trades()\n",
    "grandpa_stocks.add_price_diff()\n",
    "\n",
    "\n",
    "# grandpa_stocks.trades_df.drop(columns = 'Free/Acquired Stock').to_excel('Parents1 Schwab Trades.xlsx')\n",
    "# grandpa_stocks.gains_df.to_excel('Parents1 Schwab Trades Gainers.xlsx')\n",
    "# grandpa_stocks.losses_df.to_excel('Parents1 Schwab Trades Losers.xlsx')\n",
    "\n",
    "\n",
    "# grandpa_options = Options(grandpa_schwab_options)\n",
    "\n",
    "# grandpa_options.examine_trades()\n",
    "# grandpa_options.get_gains_losses()\n",
    "\n",
    "# display(grandpa_options.gains_df)\n",
    "# display(grandpa_options.losses_df)"
   ]
  },
  {
   "cell_type": "code",
   "execution_count": 9,
   "metadata": {},
   "outputs": [
    {
     "name": "stdout",
     "output_type": "stream",
     "text": [
      "- SWSXX: No data found for this date range, symbol may be delisted\n",
      "- GNC: No data found, symbol may be delisted\n",
      "- WFC+P: No data found, symbol may be delisted\n"
     ]
    }
   ],
   "source": [
    "#Jeff IRA\n",
    "jeff_ira_schwab = pd.read_csv('Jeff_IRA_Schwab.csv', header=1, skipfooter=1, engine = 'python').drop('Unnamed: 8', axis=1)\n",
    "jeff_ira_schwab['Date'] = pd.to_datetime(jeff_ira_schwab['Date'], format = '%m/%d/%Y')\n",
    "jeff_ira_schwab = jeff_ira_schwab.iloc[::-1].reset_index(drop=True)\n",
    "jeff_ira_schwab['Price'] = jeff_ira_schwab['Price'].apply(lambda x: x.strip()[1:].replace(',', '') if x is not np.nan else '0').astype(float)\n",
    "\n",
    "#correcting WFC+P\n",
    "insert_order = pd.DataFrame(jeff_ira_schwab.iloc[261].copy()).T\n",
    "insert_order['Action'], insert_order['Price'], insert_order['Quantity'] = 'Sell', 25, 1200\n",
    "\n",
    "jeff_ira_schwab1, jeff_ira_schwab2 = jeff_ira_schwab.iloc[0:261], jeff_ira_schwab.iloc[263:]\n",
    "\n",
    "\n",
    "jeff_ira_schwab = pd.concat([jeff_ira_schwab1, insert_order, jeff_ira_schwab2]).reset_index(drop=True)\n",
    "\n",
    "jeff_ira_schwab['Action'] = jeff_ira_schwab['Action'].apply(lambda x: 'buy' if x == 'Buy' else 'sell')\n",
    "jeff_ira_schwab.columns = ['date', 'side', 'symbol', 'description', 'quantity', 'average_price', 'fees & comm', 'amount']\n",
    "jeff_ira_schwab['amount'] = jeff_ira_schwab['amount'].str.replace('[$,()]', '', regex=True).astype('float64')\n",
    "jeff_ira_schwab.rename(columns = {'amount':'total'}, inplace=True)\n",
    "\n",
    "\n",
    "jeff_ira_stocks = et.StocksCrypto(jeff_ira_schwab)\n",
    "\n",
    "jeff_ira_stocks.examine_trades()\n",
    "jeff_ira_stocks.add_price_diff()\n",
    "\n",
    "# display(jeff_ira_stocks.trades_df_with_price_diff)\n",
    "# display(jeff_ira_stocks.gains_df_with_price_diff)\n",
    "# display(jeff_ira_stocks.losses_df_with_price_diff)\n",
    "\n",
    "\n",
    "\n",
    "# jeff_ira_stocks.trades_df.drop(columns = 'Free/Acquired Stock').to_excel('Jeff IRA Trades.xlsx')\n",
    "# jeff_ira_stocks.gains_df.to_excel('Jeff IRA Trades Gainers.xlsx')\n",
    "# jeff_ira_stocks.losses_df.to_excel('Jeff IRA Trades Losers.xlsx')"
   ]
  },
  {
   "cell_type": "code",
   "execution_count": 576,
   "metadata": {},
   "outputs": [],
   "source": [
    "df = jeff_ira_stocks.trades_df_with_price_diff.copy()\n",
    "\n",
    "\n",
    "for i in range(len(df)):\n",
    "\n",
    "    transac_date = pd.to_datetime(df.loc[i, 'Date'])\n",
    "    symbol = df.loc[i, 'Symbol']\n",
    "\n",
    "    if symbol == 'SOXL' and transac_date < pd.to_datetime('2021-03-02'):\n",
    "        df.loc[i, 'Avg_Price'] /= 15\n",
    "\n",
    "    if symbol == 'TECL' and transac_date < pd.to_datetime('2021-03-02'):\n",
    "        df.loc[i, 'Avg_Price'] /= 10\n",
    "\n",
    "    if symbol == 'AAPL' and transac_date < pd.to_datetime('2020-08-28'):\n",
    "        df.loc[i, 'Avg_Price'] /= 4\n",
    "\n",
    "    if symbol == 'TSLA' and transac_date < pd.to_datetime('2020-08-31'):\n",
    "        df.loc[i, 'Avg_Price'] /= 5"
   ]
  },
  {
   "cell_type": "code",
   "execution_count": 569,
   "metadata": {},
   "outputs": [
    {
     "data": {
      "application/vnd.plotly.v1+json": {
       "config": {
        "plotlyServerURL": "https://plot.ly"
       },
       "data": [
        {
         "mode": "lines",
         "name": "Close",
         "type": "scatter",
         "x": [
          "2021-03-02T09:30:00-05:00",
          "2021-03-02T09:35:00-05:00",
          "2021-03-02T09:40:00-05:00",
          "2021-03-02T09:45:00-05:00",
          "2021-03-02T09:50:00-05:00",
          "2021-03-02T09:55:00-05:00",
          "2021-03-02T10:00:00-05:00",
          "2021-03-02T10:05:00-05:00",
          "2021-03-02T10:10:00-05:00",
          "2021-03-02T10:15:00-05:00",
          "2021-03-02T10:20:00-05:00",
          "2021-03-02T10:25:00-05:00",
          "2021-03-02T10:30:00-05:00",
          "2021-03-02T10:35:00-05:00",
          "2021-03-02T10:40:00-05:00",
          "2021-03-02T10:45:00-05:00",
          "2021-03-02T10:50:00-05:00",
          "2021-03-02T10:55:00-05:00",
          "2021-03-02T11:00:00-05:00",
          "2021-03-02T11:05:00-05:00",
          "2021-03-02T11:10:00-05:00",
          "2021-03-02T11:15:00-05:00",
          "2021-03-02T11:20:00-05:00",
          "2021-03-02T11:25:00-05:00",
          "2021-03-02T11:30:00-05:00",
          "2021-03-02T11:35:00-05:00",
          "2021-03-02T11:40:00-05:00",
          "2021-03-02T11:45:00-05:00",
          "2021-03-02T11:50:00-05:00",
          "2021-03-02T11:55:00-05:00",
          "2021-03-02T12:00:00-05:00",
          "2021-03-02T12:05:00-05:00",
          "2021-03-02T12:10:00-05:00",
          "2021-03-02T12:15:00-05:00",
          "2021-03-02T12:20:00-05:00",
          "2021-03-02T12:25:00-05:00",
          "2021-03-02T12:30:00-05:00",
          "2021-03-02T12:35:00-05:00",
          "2021-03-02T12:40:00-05:00",
          "2021-03-02T12:45:00-05:00",
          "2021-03-02T12:50:00-05:00",
          "2021-03-02T12:55:00-05:00",
          "2021-03-02T13:00:00-05:00",
          "2021-03-02T13:05:00-05:00",
          "2021-03-02T13:10:00-05:00",
          "2021-03-02T13:15:00-05:00",
          "2021-03-02T13:20:00-05:00",
          "2021-03-02T13:25:00-05:00",
          "2021-03-02T13:30:00-05:00",
          "2021-03-02T13:35:00-05:00",
          "2021-03-02T13:40:00-05:00",
          "2021-03-02T13:45:00-05:00",
          "2021-03-02T13:50:00-05:00",
          "2021-03-02T13:55:00-05:00",
          "2021-03-02T14:00:00-05:00",
          "2021-03-02T14:05:00-05:00",
          "2021-03-02T14:10:00-05:00",
          "2021-03-02T14:15:00-05:00",
          "2021-03-02T14:20:00-05:00",
          "2021-03-02T14:25:00-05:00",
          "2021-03-02T14:30:00-05:00",
          "2021-03-02T14:35:00-05:00",
          "2021-03-02T14:40:00-05:00",
          "2021-03-02T14:45:00-05:00",
          "2021-03-02T14:50:00-05:00",
          "2021-03-02T14:55:00-05:00",
          "2021-03-02T15:00:00-05:00",
          "2021-03-02T15:05:00-05:00",
          "2021-03-02T15:10:00-05:00",
          "2021-03-02T15:15:00-05:00",
          "2021-03-02T15:20:00-05:00",
          "2021-03-02T15:25:00-05:00",
          "2021-03-02T15:30:00-05:00",
          "2021-03-02T15:35:00-05:00",
          "2021-03-02T15:40:00-05:00",
          "2021-03-02T15:45:00-05:00",
          "2021-03-02T15:50:00-05:00",
          "2021-03-02T15:55:00-05:00"
         ],
         "y": [
          29,
          28.200000762939453,
          28.200000762939453,
          28.420000076293945,
          28.700000762939453,
          29.600000381469727,
          29.700000762939453,
          30.034500122070312,
          29.600000381469727,
          30.02989959716797,
          30.41010093688965,
          30.32990074157715,
          30.13010025024414,
          30.18000030517578,
          30.10759925842285,
          30.04010009765625,
          29.989999771118164,
          30.389999389648438,
          30.079999923706055,
          30.389999389648438,
          30.701000213623047,
          30.889999389648438,
          30.420000076293945,
          30.780099868774414,
          31.100000381469727,
          31.350000381469727,
          31.542200088500977,
          31.854999542236328,
          31.750099182128906,
          31.359899520874023,
          31.500099182128906,
          31.170000076293945,
          30.985000610351562,
          31.149900436401367,
          30.799999237060547,
          30.610000610351562,
          30.66010093688965,
          31.152999877929688,
          31.170000076293945,
          31.281099319458008,
          30.709699630737305,
          30.84000015258789,
          30.770000457763672,
          30.8700008392334,
          30.6200008392334,
          30.090099334716797,
          30.239999771118164,
          29.81049919128418,
          29.777999877929688,
          29.89299964904785,
          29.9950008392334,
          29.850099563598633,
          29.540000915527344,
          29.360000610351562,
          29.100000381469727,
          28.920000076293945,
          28.649900436401367,
          28.679899215698242,
          28.850099563598633,
          28.430099487304688,
          28.54990005493164,
          28.600000381469727,
          28.646499633789062,
          28.649999618530273,
          29,
          28.709999084472656,
          28.924999237060547,
          29.20009994506836,
          28.959999084472656,
          28.510099411010742,
          27.92060089111328,
          28.100099563598633,
          28.190000534057617,
          28.144899368286133,
          28.2810001373291,
          28.469999313354492,
          28.23419952392578,
          28.149999618530273
         ]
        }
       ],
       "layout": {
        "autosize": true,
        "template": {
         "data": {
          "bar": [
           {
            "error_x": {
             "color": "#2a3f5f"
            },
            "error_y": {
             "color": "#2a3f5f"
            },
            "marker": {
             "line": {
              "color": "#E5ECF6",
              "width": 0.5
             }
            },
            "type": "bar"
           }
          ],
          "barpolar": [
           {
            "marker": {
             "line": {
              "color": "#E5ECF6",
              "width": 0.5
             }
            },
            "type": "barpolar"
           }
          ],
          "carpet": [
           {
            "aaxis": {
             "endlinecolor": "#2a3f5f",
             "gridcolor": "white",
             "linecolor": "white",
             "minorgridcolor": "white",
             "startlinecolor": "#2a3f5f"
            },
            "baxis": {
             "endlinecolor": "#2a3f5f",
             "gridcolor": "white",
             "linecolor": "white",
             "minorgridcolor": "white",
             "startlinecolor": "#2a3f5f"
            },
            "type": "carpet"
           }
          ],
          "choropleth": [
           {
            "colorbar": {
             "outlinewidth": 0,
             "ticks": ""
            },
            "type": "choropleth"
           }
          ],
          "contour": [
           {
            "colorbar": {
             "outlinewidth": 0,
             "ticks": ""
            },
            "colorscale": [
             [
              0,
              "#0d0887"
             ],
             [
              0.1111111111111111,
              "#46039f"
             ],
             [
              0.2222222222222222,
              "#7201a8"
             ],
             [
              0.3333333333333333,
              "#9c179e"
             ],
             [
              0.4444444444444444,
              "#bd3786"
             ],
             [
              0.5555555555555556,
              "#d8576b"
             ],
             [
              0.6666666666666666,
              "#ed7953"
             ],
             [
              0.7777777777777778,
              "#fb9f3a"
             ],
             [
              0.8888888888888888,
              "#fdca26"
             ],
             [
              1,
              "#f0f921"
             ]
            ],
            "type": "contour"
           }
          ],
          "contourcarpet": [
           {
            "colorbar": {
             "outlinewidth": 0,
             "ticks": ""
            },
            "type": "contourcarpet"
           }
          ],
          "heatmap": [
           {
            "colorbar": {
             "outlinewidth": 0,
             "ticks": ""
            },
            "colorscale": [
             [
              0,
              "#0d0887"
             ],
             [
              0.1111111111111111,
              "#46039f"
             ],
             [
              0.2222222222222222,
              "#7201a8"
             ],
             [
              0.3333333333333333,
              "#9c179e"
             ],
             [
              0.4444444444444444,
              "#bd3786"
             ],
             [
              0.5555555555555556,
              "#d8576b"
             ],
             [
              0.6666666666666666,
              "#ed7953"
             ],
             [
              0.7777777777777778,
              "#fb9f3a"
             ],
             [
              0.8888888888888888,
              "#fdca26"
             ],
             [
              1,
              "#f0f921"
             ]
            ],
            "type": "heatmap"
           }
          ],
          "heatmapgl": [
           {
            "colorbar": {
             "outlinewidth": 0,
             "ticks": ""
            },
            "colorscale": [
             [
              0,
              "#0d0887"
             ],
             [
              0.1111111111111111,
              "#46039f"
             ],
             [
              0.2222222222222222,
              "#7201a8"
             ],
             [
              0.3333333333333333,
              "#9c179e"
             ],
             [
              0.4444444444444444,
              "#bd3786"
             ],
             [
              0.5555555555555556,
              "#d8576b"
             ],
             [
              0.6666666666666666,
              "#ed7953"
             ],
             [
              0.7777777777777778,
              "#fb9f3a"
             ],
             [
              0.8888888888888888,
              "#fdca26"
             ],
             [
              1,
              "#f0f921"
             ]
            ],
            "type": "heatmapgl"
           }
          ],
          "histogram": [
           {
            "marker": {
             "colorbar": {
              "outlinewidth": 0,
              "ticks": ""
             }
            },
            "type": "histogram"
           }
          ],
          "histogram2d": [
           {
            "colorbar": {
             "outlinewidth": 0,
             "ticks": ""
            },
            "colorscale": [
             [
              0,
              "#0d0887"
             ],
             [
              0.1111111111111111,
              "#46039f"
             ],
             [
              0.2222222222222222,
              "#7201a8"
             ],
             [
              0.3333333333333333,
              "#9c179e"
             ],
             [
              0.4444444444444444,
              "#bd3786"
             ],
             [
              0.5555555555555556,
              "#d8576b"
             ],
             [
              0.6666666666666666,
              "#ed7953"
             ],
             [
              0.7777777777777778,
              "#fb9f3a"
             ],
             [
              0.8888888888888888,
              "#fdca26"
             ],
             [
              1,
              "#f0f921"
             ]
            ],
            "type": "histogram2d"
           }
          ],
          "histogram2dcontour": [
           {
            "colorbar": {
             "outlinewidth": 0,
             "ticks": ""
            },
            "colorscale": [
             [
              0,
              "#0d0887"
             ],
             [
              0.1111111111111111,
              "#46039f"
             ],
             [
              0.2222222222222222,
              "#7201a8"
             ],
             [
              0.3333333333333333,
              "#9c179e"
             ],
             [
              0.4444444444444444,
              "#bd3786"
             ],
             [
              0.5555555555555556,
              "#d8576b"
             ],
             [
              0.6666666666666666,
              "#ed7953"
             ],
             [
              0.7777777777777778,
              "#fb9f3a"
             ],
             [
              0.8888888888888888,
              "#fdca26"
             ],
             [
              1,
              "#f0f921"
             ]
            ],
            "type": "histogram2dcontour"
           }
          ],
          "mesh3d": [
           {
            "colorbar": {
             "outlinewidth": 0,
             "ticks": ""
            },
            "type": "mesh3d"
           }
          ],
          "parcoords": [
           {
            "line": {
             "colorbar": {
              "outlinewidth": 0,
              "ticks": ""
             }
            },
            "type": "parcoords"
           }
          ],
          "pie": [
           {
            "automargin": true,
            "type": "pie"
           }
          ],
          "scatter": [
           {
            "marker": {
             "colorbar": {
              "outlinewidth": 0,
              "ticks": ""
             }
            },
            "type": "scatter"
           }
          ],
          "scatter3d": [
           {
            "line": {
             "colorbar": {
              "outlinewidth": 0,
              "ticks": ""
             }
            },
            "marker": {
             "colorbar": {
              "outlinewidth": 0,
              "ticks": ""
             }
            },
            "type": "scatter3d"
           }
          ],
          "scattercarpet": [
           {
            "marker": {
             "colorbar": {
              "outlinewidth": 0,
              "ticks": ""
             }
            },
            "type": "scattercarpet"
           }
          ],
          "scattergeo": [
           {
            "marker": {
             "colorbar": {
              "outlinewidth": 0,
              "ticks": ""
             }
            },
            "type": "scattergeo"
           }
          ],
          "scattergl": [
           {
            "marker": {
             "colorbar": {
              "outlinewidth": 0,
              "ticks": ""
             }
            },
            "type": "scattergl"
           }
          ],
          "scattermapbox": [
           {
            "marker": {
             "colorbar": {
              "outlinewidth": 0,
              "ticks": ""
             }
            },
            "type": "scattermapbox"
           }
          ],
          "scatterpolar": [
           {
            "marker": {
             "colorbar": {
              "outlinewidth": 0,
              "ticks": ""
             }
            },
            "type": "scatterpolar"
           }
          ],
          "scatterpolargl": [
           {
            "marker": {
             "colorbar": {
              "outlinewidth": 0,
              "ticks": ""
             }
            },
            "type": "scatterpolargl"
           }
          ],
          "scatterternary": [
           {
            "marker": {
             "colorbar": {
              "outlinewidth": 0,
              "ticks": ""
             }
            },
            "type": "scatterternary"
           }
          ],
          "surface": [
           {
            "colorbar": {
             "outlinewidth": 0,
             "ticks": ""
            },
            "colorscale": [
             [
              0,
              "#0d0887"
             ],
             [
              0.1111111111111111,
              "#46039f"
             ],
             [
              0.2222222222222222,
              "#7201a8"
             ],
             [
              0.3333333333333333,
              "#9c179e"
             ],
             [
              0.4444444444444444,
              "#bd3786"
             ],
             [
              0.5555555555555556,
              "#d8576b"
             ],
             [
              0.6666666666666666,
              "#ed7953"
             ],
             [
              0.7777777777777778,
              "#fb9f3a"
             ],
             [
              0.8888888888888888,
              "#fdca26"
             ],
             [
              1,
              "#f0f921"
             ]
            ],
            "type": "surface"
           }
          ],
          "table": [
           {
            "cells": {
             "fill": {
              "color": "#EBF0F8"
             },
             "line": {
              "color": "white"
             }
            },
            "header": {
             "fill": {
              "color": "#C8D4E3"
             },
             "line": {
              "color": "white"
             }
            },
            "type": "table"
           }
          ]
         },
         "layout": {
          "annotationdefaults": {
           "arrowcolor": "#2a3f5f",
           "arrowhead": 0,
           "arrowwidth": 1
          },
          "coloraxis": {
           "colorbar": {
            "outlinewidth": 0,
            "ticks": ""
           }
          },
          "colorscale": {
           "diverging": [
            [
             0,
             "#8e0152"
            ],
            [
             0.1,
             "#c51b7d"
            ],
            [
             0.2,
             "#de77ae"
            ],
            [
             0.3,
             "#f1b6da"
            ],
            [
             0.4,
             "#fde0ef"
            ],
            [
             0.5,
             "#f7f7f7"
            ],
            [
             0.6,
             "#e6f5d0"
            ],
            [
             0.7,
             "#b8e186"
            ],
            [
             0.8,
             "#7fbc41"
            ],
            [
             0.9,
             "#4d9221"
            ],
            [
             1,
             "#276419"
            ]
           ],
           "sequential": [
            [
             0,
             "#0d0887"
            ],
            [
             0.1111111111111111,
             "#46039f"
            ],
            [
             0.2222222222222222,
             "#7201a8"
            ],
            [
             0.3333333333333333,
             "#9c179e"
            ],
            [
             0.4444444444444444,
             "#bd3786"
            ],
            [
             0.5555555555555556,
             "#d8576b"
            ],
            [
             0.6666666666666666,
             "#ed7953"
            ],
            [
             0.7777777777777778,
             "#fb9f3a"
            ],
            [
             0.8888888888888888,
             "#fdca26"
            ],
            [
             1,
             "#f0f921"
            ]
           ],
           "sequentialminus": [
            [
             0,
             "#0d0887"
            ],
            [
             0.1111111111111111,
             "#46039f"
            ],
            [
             0.2222222222222222,
             "#7201a8"
            ],
            [
             0.3333333333333333,
             "#9c179e"
            ],
            [
             0.4444444444444444,
             "#bd3786"
            ],
            [
             0.5555555555555556,
             "#d8576b"
            ],
            [
             0.6666666666666666,
             "#ed7953"
            ],
            [
             0.7777777777777778,
             "#fb9f3a"
            ],
            [
             0.8888888888888888,
             "#fdca26"
            ],
            [
             1,
             "#f0f921"
            ]
           ]
          },
          "colorway": [
           "#636efa",
           "#EF553B",
           "#00cc96",
           "#ab63fa",
           "#FFA15A",
           "#19d3f3",
           "#FF6692",
           "#B6E880",
           "#FF97FF",
           "#FECB52"
          ],
          "font": {
           "color": "#2a3f5f"
          },
          "geo": {
           "bgcolor": "white",
           "lakecolor": "white",
           "landcolor": "#E5ECF6",
           "showlakes": true,
           "showland": true,
           "subunitcolor": "white"
          },
          "hoverlabel": {
           "align": "left"
          },
          "hovermode": "closest",
          "mapbox": {
           "style": "light"
          },
          "paper_bgcolor": "white",
          "plot_bgcolor": "#E5ECF6",
          "polar": {
           "angularaxis": {
            "gridcolor": "white",
            "linecolor": "white",
            "ticks": ""
           },
           "bgcolor": "#E5ECF6",
           "radialaxis": {
            "gridcolor": "white",
            "linecolor": "white",
            "ticks": ""
           }
          },
          "scene": {
           "xaxis": {
            "backgroundcolor": "#E5ECF6",
            "gridcolor": "white",
            "gridwidth": 2,
            "linecolor": "white",
            "showbackground": true,
            "ticks": "",
            "zerolinecolor": "white"
           },
           "yaxis": {
            "backgroundcolor": "#E5ECF6",
            "gridcolor": "white",
            "gridwidth": 2,
            "linecolor": "white",
            "showbackground": true,
            "ticks": "",
            "zerolinecolor": "white"
           },
           "zaxis": {
            "backgroundcolor": "#E5ECF6",
            "gridcolor": "white",
            "gridwidth": 2,
            "linecolor": "white",
            "showbackground": true,
            "ticks": "",
            "zerolinecolor": "white"
           }
          },
          "shapedefaults": {
           "line": {
            "color": "#2a3f5f"
           }
          },
          "ternary": {
           "aaxis": {
            "gridcolor": "white",
            "linecolor": "white",
            "ticks": ""
           },
           "baxis": {
            "gridcolor": "white",
            "linecolor": "white",
            "ticks": ""
           },
           "bgcolor": "#E5ECF6",
           "caxis": {
            "gridcolor": "white",
            "linecolor": "white",
            "ticks": ""
           }
          },
          "title": {
           "x": 0.05
          },
          "xaxis": {
           "automargin": true,
           "gridcolor": "white",
           "linecolor": "white",
           "ticks": "",
           "title": {
            "standoff": 15
           },
           "zerolinecolor": "white",
           "zerolinewidth": 2
          },
          "yaxis": {
           "automargin": true,
           "gridcolor": "white",
           "linecolor": "white",
           "ticks": "",
           "title": {
            "standoff": 15
           },
           "zerolinecolor": "white",
           "zerolinewidth": 2
          }
         }
        },
        "title": {
         "text": "FSR"
        },
        "xaxis": {
         "autorange": true,
         "range": [
          "2021-03-02 09:30",
          "2021-03-02 15:55"
         ],
         "type": "date"
        },
        "yaxis": {
         "autorange": true,
         "range": [
          27.702023188273113,
          32.0735772450765
         ],
         "title": {
          "text": "Price"
         },
         "type": "linear"
        }
       }
      },
      "image/png": "[encoded data removed]",
      "text/html": [
       "<div>                            <div id=\"11b6e1cb-3246-4e68-8869-50f153fee4cd\" class=\"plotly-graph-div\" style=\"height:525px; width:100%;\"></div>            <script type=\"text/javascript\">                require([\"plotly\"], function(Plotly) {                    window.PLOTLYENV=window.PLOTLYENV || {};                                    if (document.getElementById(\"11b6e1cb-3246-4e68-8869-50f153fee4cd\")) {                    Plotly.newPlot(                        \"11b6e1cb-3246-4e68-8869-50f153fee4cd\",                        [{\"mode\": \"lines\", \"name\": \"Close\", \"type\": \"scatter\", \"x\": [\"2021-03-02T09:30:00-05:00\", \"2021-03-02T09:35:00-05:00\", \"2021-03-02T09:40:00-05:00\", \"2021-03-02T09:45:00-05:00\", \"2021-03-02T09:50:00-05:00\", \"2021-03-02T09:55:00-05:00\", \"2021-03-02T10:00:00-05:00\", \"2021-03-02T10:05:00-05:00\", \"2021-03-02T10:10:00-05:00\", \"2021-03-02T10:15:00-05:00\", \"2021-03-02T10:20:00-05:00\", \"2021-03-02T10:25:00-05:00\", \"2021-03-02T10:30:00-05:00\", \"2021-03-02T10:35:00-05:00\", \"2021-03-02T10:40:00-05:00\", \"2021-03-02T10:45:00-05:00\", \"2021-03-02T10:50:00-05:00\", \"2021-03-02T10:55:00-05:00\", \"2021-03-02T11:00:00-05:00\", \"2021-03-02T11:05:00-05:00\", \"2021-03-02T11:10:00-05:00\", \"2021-03-02T11:15:00-05:00\", \"2021-03-02T11:20:00-05:00\", \"2021-03-02T11:25:00-05:00\", \"2021-03-02T11:30:00-05:00\", \"2021-03-02T11:35:00-05:00\", \"2021-03-02T11:40:00-05:00\", \"2021-03-02T11:45:00-05:00\", \"2021-03-02T11:50:00-05:00\", \"2021-03-02T11:55:00-05:00\", \"2021-03-02T12:00:00-05:00\", \"2021-03-02T12:05:00-05:00\", \"2021-03-02T12:10:00-05:00\", \"2021-03-02T12:15:00-05:00\", \"2021-03-02T12:20:00-05:00\", \"2021-03-02T12:25:00-05:00\", \"2021-03-02T12:30:00-05:00\", \"2021-03-02T12:35:00-05:00\", \"2021-03-02T12:40:00-05:00\", \"2021-03-02T12:45:00-05:00\", \"2021-03-02T12:50:00-05:00\", \"2021-03-02T12:55:00-05:00\", \"2021-03-02T13:00:00-05:00\", \"2021-03-02T13:05:00-05:00\", \"2021-03-02T13:10:00-05:00\", \"2021-03-02T13:15:00-05:00\", \"2021-03-02T13:20:00-05:00\", \"2021-03-02T13:25:00-05:00\", \"2021-03-02T13:30:00-05:00\", \"2021-03-02T13:35:00-05:00\", \"2021-03-02T13:40:00-05:00\", \"2021-03-02T13:45:00-05:00\", \"2021-03-02T13:50:00-05:00\", \"2021-03-02T13:55:00-05:00\", \"2021-03-02T14:00:00-05:00\", \"2021-03-02T14:05:00-05:00\", \"2021-03-02T14:10:00-05:00\", \"2021-03-02T14:15:00-05:00\", \"2021-03-02T14:20:00-05:00\", \"2021-03-02T14:25:00-05:00\", \"2021-03-02T14:30:00-05:00\", \"2021-03-02T14:35:00-05:00\", \"2021-03-02T14:40:00-05:00\", \"2021-03-02T14:45:00-05:00\", \"2021-03-02T14:50:00-05:00\", \"2021-03-02T14:55:00-05:00\", \"2021-03-02T15:00:00-05:00\", \"2021-03-02T15:05:00-05:00\", \"2021-03-02T15:10:00-05:00\", \"2021-03-02T15:15:00-05:00\", \"2021-03-02T15:20:00-05:00\", \"2021-03-02T15:25:00-05:00\", \"2021-03-02T15:30:00-05:00\", \"2021-03-02T15:35:00-05:00\", \"2021-03-02T15:40:00-05:00\", \"2021-03-02T15:45:00-05:00\", \"2021-03-02T15:50:00-05:00\", \"2021-03-02T15:55:00-05:00\"], \"y\": [29.0, 28.200000762939453, 28.200000762939453, 28.420000076293945, 28.700000762939453, 29.600000381469727, 29.700000762939453, 30.034500122070312, 29.600000381469727, 30.02989959716797, 30.41010093688965, 30.32990074157715, 30.13010025024414, 30.18000030517578, 30.10759925842285, 30.04010009765625, 29.989999771118164, 30.389999389648438, 30.079999923706055, 30.389999389648438, 30.701000213623047, 30.889999389648438, 30.420000076293945, 30.780099868774414, 31.100000381469727, 31.350000381469727, 31.542200088500977, 31.854999542236328, 31.750099182128906, 31.359899520874023, 31.500099182128906, 31.170000076293945, 30.985000610351562, 31.149900436401367, 30.799999237060547, 30.610000610351562, 30.66010093688965, 31.152999877929688, 31.170000076293945, 31.281099319458008, 30.709699630737305, 30.84000015258789, 30.770000457763672, 30.8700008392334, 30.6200008392334, 30.090099334716797, 30.239999771118164, 29.81049919128418, 29.777999877929688, 29.89299964904785, 29.9950008392334, 29.850099563598633, 29.540000915527344, 29.360000610351562, 29.100000381469727, 28.920000076293945, 28.649900436401367, 28.679899215698242, 28.850099563598633, 28.430099487304688, 28.54990005493164, 28.600000381469727, 28.646499633789062, 28.649999618530273, 29.0, 28.709999084472656, 28.924999237060547, 29.20009994506836, 28.959999084472656, 28.510099411010742, 27.92060089111328, 28.100099563598633, 28.190000534057617, 28.144899368286133, 28.2810001373291, 28.469999313354492, 28.23419952392578, 28.149999618530273]}],                        {\"template\": {\"data\": {\"bar\": [{\"error_x\": {\"color\": \"#2a3f5f\"}, \"error_y\": {\"color\": \"#2a3f5f\"}, \"marker\": {\"line\": {\"color\": \"#E5ECF6\", \"width\": 0.5}}, \"type\": \"bar\"}], \"barpolar\": [{\"marker\": {\"line\": {\"color\": \"#E5ECF6\", \"width\": 0.5}}, \"type\": \"barpolar\"}], \"carpet\": [{\"aaxis\": {\"endlinecolor\": \"#2a3f5f\", \"gridcolor\": \"white\", \"linecolor\": \"white\", \"minorgridcolor\": \"white\", \"startlinecolor\": \"#2a3f5f\"}, \"baxis\": {\"endlinecolor\": \"#2a3f5f\", \"gridcolor\": \"white\", \"linecolor\": \"white\", \"minorgridcolor\": \"white\", \"startlinecolor\": \"#2a3f5f\"}, \"type\": \"carpet\"}], \"choropleth\": [{\"colorbar\": {\"outlinewidth\": 0, \"ticks\": \"\"}, \"type\": \"choropleth\"}], \"contour\": [{\"colorbar\": {\"outlinewidth\": 0, \"ticks\": \"\"}, \"colorscale\": [[0.0, \"#0d0887\"], [0.1111111111111111, \"#46039f\"], [0.2222222222222222, \"#7201a8\"], [0.3333333333333333, \"#9c179e\"], [0.4444444444444444, \"#bd3786\"], [0.5555555555555556, \"#d8576b\"], [0.6666666666666666, \"#ed7953\"], [0.7777777777777778, \"#fb9f3a\"], [0.8888888888888888, \"#fdca26\"], [1.0, \"#f0f921\"]], \"type\": \"contour\"}], \"contourcarpet\": [{\"colorbar\": {\"outlinewidth\": 0, \"ticks\": \"\"}, \"type\": \"contourcarpet\"}], \"heatmap\": [{\"colorbar\": {\"outlinewidth\": 0, \"ticks\": \"\"}, \"colorscale\": [[0.0, \"#0d0887\"], [0.1111111111111111, \"#46039f\"], [0.2222222222222222, \"#7201a8\"], [0.3333333333333333, \"#9c179e\"], [0.4444444444444444, \"#bd3786\"], [0.5555555555555556, \"#d8576b\"], [0.6666666666666666, \"#ed7953\"], [0.7777777777777778, \"#fb9f3a\"], [0.8888888888888888, \"#fdca26\"], [1.0, \"#f0f921\"]], \"type\": \"heatmap\"}], \"heatmapgl\": [{\"colorbar\": {\"outlinewidth\": 0, \"ticks\": \"\"}, \"colorscale\": [[0.0, \"#0d0887\"], [0.1111111111111111, \"#46039f\"], [0.2222222222222222, \"#7201a8\"], [0.3333333333333333, \"#9c179e\"], [0.4444444444444444, \"#bd3786\"], [0.5555555555555556, \"#d8576b\"], [0.6666666666666666, \"#ed7953\"], [0.7777777777777778, \"#fb9f3a\"], [0.8888888888888888, \"#fdca26\"], [1.0, \"#f0f921\"]], \"type\": \"heatmapgl\"}], \"histogram\": [{\"marker\": {\"colorbar\": {\"outlinewidth\": 0, \"ticks\": \"\"}}, \"type\": \"histogram\"}], \"histogram2d\": [{\"colorbar\": {\"outlinewidth\": 0, \"ticks\": \"\"}, \"colorscale\": [[0.0, \"#0d0887\"], [0.1111111111111111, \"#46039f\"], [0.2222222222222222, \"#7201a8\"], [0.3333333333333333, \"#9c179e\"], [0.4444444444444444, \"#bd3786\"], [0.5555555555555556, \"#d8576b\"], [0.6666666666666666, \"#ed7953\"], [0.7777777777777778, \"#fb9f3a\"], [0.8888888888888888, \"#fdca26\"], [1.0, \"#f0f921\"]], \"type\": \"histogram2d\"}], \"histogram2dcontour\": [{\"colorbar\": {\"outlinewidth\": 0, \"ticks\": \"\"}, \"colorscale\": [[0.0, \"#0d0887\"], [0.1111111111111111, \"#46039f\"], [0.2222222222222222, \"#7201a8\"], [0.3333333333333333, \"#9c179e\"], [0.4444444444444444, \"#bd3786\"], [0.5555555555555556, \"#d8576b\"], [0.6666666666666666, \"#ed7953\"], [0.7777777777777778, \"#fb9f3a\"], [0.8888888888888888, \"#fdca26\"], [1.0, \"#f0f921\"]], \"type\": \"histogram2dcontour\"}], \"mesh3d\": [{\"colorbar\": {\"outlinewidth\": 0, \"ticks\": \"\"}, \"type\": \"mesh3d\"}], \"parcoords\": [{\"line\": {\"colorbar\": {\"outlinewidth\": 0, \"ticks\": \"\"}}, \"type\": \"parcoords\"}], \"pie\": [{\"automargin\": true, \"type\": \"pie\"}], \"scatter\": [{\"marker\": {\"colorbar\": {\"outlinewidth\": 0, \"ticks\": \"\"}}, \"type\": \"scatter\"}], \"scatter3d\": [{\"line\": {\"colorbar\": {\"outlinewidth\": 0, \"ticks\": \"\"}}, \"marker\": {\"colorbar\": {\"outlinewidth\": 0, \"ticks\": \"\"}}, \"type\": \"scatter3d\"}], \"scattercarpet\": [{\"marker\": {\"colorbar\": {\"outlinewidth\": 0, \"ticks\": \"\"}}, \"type\": \"scattercarpet\"}], \"scattergeo\": [{\"marker\": {\"colorbar\": {\"outlinewidth\": 0, \"ticks\": \"\"}}, \"type\": \"scattergeo\"}], \"scattergl\": [{\"marker\": {\"colorbar\": {\"outlinewidth\": 0, \"ticks\": \"\"}}, \"type\": \"scattergl\"}], \"scattermapbox\": [{\"marker\": {\"colorbar\": {\"outlinewidth\": 0, \"ticks\": \"\"}}, \"type\": \"scattermapbox\"}], \"scatterpolar\": [{\"marker\": {\"colorbar\": {\"outlinewidth\": 0, \"ticks\": \"\"}}, \"type\": \"scatterpolar\"}], \"scatterpolargl\": [{\"marker\": {\"colorbar\": {\"outlinewidth\": 0, \"ticks\": \"\"}}, \"type\": \"scatterpolargl\"}], \"scatterternary\": [{\"marker\": {\"colorbar\": {\"outlinewidth\": 0, \"ticks\": \"\"}}, \"type\": \"scatterternary\"}], \"surface\": [{\"colorbar\": {\"outlinewidth\": 0, \"ticks\": \"\"}, \"colorscale\": [[0.0, \"#0d0887\"], [0.1111111111111111, \"#46039f\"], [0.2222222222222222, \"#7201a8\"], [0.3333333333333333, \"#9c179e\"], [0.4444444444444444, \"#bd3786\"], [0.5555555555555556, \"#d8576b\"], [0.6666666666666666, \"#ed7953\"], [0.7777777777777778, \"#fb9f3a\"], [0.8888888888888888, \"#fdca26\"], [1.0, \"#f0f921\"]], \"type\": \"surface\"}], \"table\": [{\"cells\": {\"fill\": {\"color\": \"#EBF0F8\"}, \"line\": {\"color\": \"white\"}}, \"header\": {\"fill\": {\"color\": \"#C8D4E3\"}, \"line\": {\"color\": \"white\"}}, \"type\": \"table\"}]}, \"layout\": {\"annotationdefaults\": {\"arrowcolor\": \"#2a3f5f\", \"arrowhead\": 0, \"arrowwidth\": 1}, \"coloraxis\": {\"colorbar\": {\"outlinewidth\": 0, \"ticks\": \"\"}}, \"colorscale\": {\"diverging\": [[0, \"#8e0152\"], [0.1, \"#c51b7d\"], [0.2, \"#de77ae\"], [0.3, \"#f1b6da\"], [0.4, \"#fde0ef\"], [0.5, \"#f7f7f7\"], [0.6, \"#e6f5d0\"], [0.7, \"#b8e186\"], [0.8, \"#7fbc41\"], [0.9, \"#4d9221\"], [1, \"#276419\"]], \"sequential\": [[0.0, \"#0d0887\"], [0.1111111111111111, \"#46039f\"], [0.2222222222222222, \"#7201a8\"], [0.3333333333333333, \"#9c179e\"], [0.4444444444444444, \"#bd3786\"], [0.5555555555555556, \"#d8576b\"], [0.6666666666666666, \"#ed7953\"], [0.7777777777777778, \"#fb9f3a\"], [0.8888888888888888, \"#fdca26\"], [1.0, \"#f0f921\"]], \"sequentialminus\": [[0.0, \"#0d0887\"], [0.1111111111111111, \"#46039f\"], [0.2222222222222222, \"#7201a8\"], [0.3333333333333333, \"#9c179e\"], [0.4444444444444444, \"#bd3786\"], [0.5555555555555556, \"#d8576b\"], [0.6666666666666666, \"#ed7953\"], [0.7777777777777778, \"#fb9f3a\"], [0.8888888888888888, \"#fdca26\"], [1.0, \"#f0f921\"]]}, \"colorway\": [\"#636efa\", \"#EF553B\", \"#00cc96\", \"#ab63fa\", \"#FFA15A\", \"#19d3f3\", \"#FF6692\", \"#B6E880\", \"#FF97FF\", \"#FECB52\"], \"font\": {\"color\": \"#2a3f5f\"}, \"geo\": {\"bgcolor\": \"white\", \"lakecolor\": \"white\", \"landcolor\": \"#E5ECF6\", \"showlakes\": true, \"showland\": true, \"subunitcolor\": \"white\"}, \"hoverlabel\": {\"align\": \"left\"}, \"hovermode\": \"closest\", \"mapbox\": {\"style\": \"light\"}, \"paper_bgcolor\": \"white\", \"plot_bgcolor\": \"#E5ECF6\", \"polar\": {\"angularaxis\": {\"gridcolor\": \"white\", \"linecolor\": \"white\", \"ticks\": \"\"}, \"bgcolor\": \"#E5ECF6\", \"radialaxis\": {\"gridcolor\": \"white\", \"linecolor\": \"white\", \"ticks\": \"\"}}, \"scene\": {\"xaxis\": {\"backgroundcolor\": \"#E5ECF6\", \"gridcolor\": \"white\", \"gridwidth\": 2, \"linecolor\": \"white\", \"showbackground\": true, \"ticks\": \"\", \"zerolinecolor\": \"white\"}, \"yaxis\": {\"backgroundcolor\": \"#E5ECF6\", \"gridcolor\": \"white\", \"gridwidth\": 2, \"linecolor\": \"white\", \"showbackground\": true, \"ticks\": \"\", \"zerolinecolor\": \"white\"}, \"zaxis\": {\"backgroundcolor\": \"#E5ECF6\", \"gridcolor\": \"white\", \"gridwidth\": 2, \"linecolor\": \"white\", \"showbackground\": true, \"ticks\": \"\", \"zerolinecolor\": \"white\"}}, \"shapedefaults\": {\"line\": {\"color\": \"#2a3f5f\"}}, \"ternary\": {\"aaxis\": {\"gridcolor\": \"white\", \"linecolor\": \"white\", \"ticks\": \"\"}, \"baxis\": {\"gridcolor\": \"white\", \"linecolor\": \"white\", \"ticks\": \"\"}, \"bgcolor\": \"#E5ECF6\", \"caxis\": {\"gridcolor\": \"white\", \"linecolor\": \"white\", \"ticks\": \"\"}}, \"title\": {\"x\": 0.05}, \"xaxis\": {\"automargin\": true, \"gridcolor\": \"white\", \"linecolor\": \"white\", \"ticks\": \"\", \"title\": {\"standoff\": 15}, \"zerolinecolor\": \"white\", \"zerolinewidth\": 2}, \"yaxis\": {\"automargin\": true, \"gridcolor\": \"white\", \"linecolor\": \"white\", \"ticks\": \"\", \"title\": {\"standoff\": 15}, \"zerolinecolor\": \"white\", \"zerolinewidth\": 2}}}, \"title\": {\"text\": \"FSR\"}, \"yaxis\": {\"title\": {\"text\": \"Price\"}}},                        {\"responsive\": true}                    ).then(function(){\n",
       "                            \n",
       "var gd = document.getElementById('11b6e1cb-3246-4e68-8869-50f153fee4cd');\n",
       "var x = new MutationObserver(function (mutations, observer) {{\n",
       "        var display = window.getComputedStyle(gd).display;\n",
       "        if (!display || display === 'none') {{\n",
       "            console.log([gd, 'removed!']);\n",
       "            Plotly.purge(gd);\n",
       "            observer.disconnect();\n",
       "        }}\n",
       "}});\n",
       "\n",
       "// Listen for the removal of the full notebook cells\n",
       "var notebookContainer = gd.closest('#notebook-container');\n",
       "if (notebookContainer) {{\n",
       "    x.observe(notebookContainer, {childList: true});\n",
       "}}\n",
       "\n",
       "// Listen for the clearing of the current output cell\n",
       "var outputEl = gd.closest('.output');\n",
       "if (outputEl) {{\n",
       "    x.observe(outputEl, {childList: true});\n",
       "}}\n",
       "\n",
       "                        })                };                });            </script>        </div>"
      ]
     },
     "metadata": {},
     "output_type": "display_data"
    }
   ],
   "source": [
    "ticker_obj = yf.Ticker('FSR')\n",
    "ticker_hist = ticker_obj.history(start = '2021-03-02', end = '2021-03-03', interval = '5m')\n",
    "\n",
    "closing_prices = ticker_hist['Close']\n",
    "\n",
    "fig = go.Figure()\n",
    "fig.add_trace(go.Scatter(x = ticker_hist.index, y = closing_prices, mode = 'lines', name = 'Close'))\n",
    "\n",
    "\n",
    "\n",
    "fig.update_layout(title = 'FSR', yaxis_title = 'Price')\n",
    "\n",
    "\n",
    "fig.show()"
   ]
  },
  {
   "cell_type": "code",
   "execution_count": 173,
   "metadata": {},
   "outputs": [],
   "source": [
    "#Jeff Individual\n",
    "\n",
    "jeff_individual = pd.read_csv('Jeff_Individual_Schwab.csv', header=1, skipfooter=1, engine = 'python').drop('Unnamed: 8', axis=1)\n",
    "jeff_individual['Date'] = pd.to_datetime(jeff_individual['Date'], format = '%m/%d/%Y')\n",
    "jeff_individual['Price'] = jeff_individual['Price'].apply(lambda x: x.strip()[1:].replace(',', '')).astype(float)\n",
    "jeff_individual['Action'] = jeff_individual['Action'].apply(lambda x: 'buy' if x == 'Buy' else 'sell')\n",
    "jeff_individual.columns = ['date', 'side', 'symbol', 'description', 'quantity', 'average_price', 'fees & comm', 'amount']\n",
    "jeff_individual['amount'] = jeff_individual['amount'].str.replace('[$,()]', '', regex=True).astype('float64')\n",
    "jeff_individual = jeff_individual.rename(columns = {'amount':'total'}).iloc[::-1].reset_index(drop=True)\n",
    "\n",
    "jeff_individual.loc[25, 'quantity'], jeff_individual.loc[25, 'average_price'] =  jeff_individual.loc[25, 'quantity']*10, jeff_individual.loc[25, 'average_price']/10\n",
    "\n",
    "jeff_individual_stocks = et.StocksCrypto(jeff_individual)\n",
    "\n",
    "jeff_individual_stocks.examine_trades()\n",
    "jeff_individual_stocks.add_price_diff()\n"
   ]
  },
  {
   "cell_type": "markdown",
   "metadata": {},
   "source": [
    "### Short intervals"
   ]
  },
  {
   "cell_type": "code",
   "execution_count": 16,
   "metadata": {},
   "outputs": [
    {
     "data": {
      "application/vnd.plotly.v1+json": {
       "config": {
        "plotlyServerURL": "https://plot.ly"
       },
       "data": [
        {
         "mode": "lines",
         "name": "Close",
         "type": "scatter",
         "x": [
          "2021-04-15T05:00:00+00:00",
          "2021-04-15T06:00:00+00:00",
          "2021-04-15T07:00:00+00:00",
          "2021-04-15T08:00:00+00:00",
          "2021-04-15T09:00:00+00:00",
          "2021-04-15T10:00:00+00:00",
          "2021-04-15T11:00:00+00:00",
          "2021-04-15T12:00:00+00:00",
          "2021-04-15T13:00:00+00:00",
          "2021-04-15T14:00:00+00:00",
          "2021-04-15T15:00:00+00:00",
          "2021-04-15T16:00:00+00:00",
          "2021-04-15T17:00:00+00:00",
          "2021-04-15T18:00:00+00:00",
          "2021-04-15T19:00:00+00:00",
          "2021-04-15T20:00:00+00:00",
          "2021-04-15T21:00:00+00:00",
          "2021-04-15T22:00:00+00:00",
          "2021-04-16T00:00:00+00:00",
          "2021-04-16T01:00:00+00:00",
          "2021-04-16T02:00:00+00:00",
          "2021-04-16T03:00:00+00:00",
          "2021-04-16T04:00:00+00:00",
          "2021-04-16T05:00:00+00:00",
          "2021-04-16T06:00:00+00:00",
          "2021-04-16T07:00:00+00:00",
          "2021-04-16T08:00:00+00:00",
          "2021-04-16T09:00:00+00:00",
          "2021-04-16T10:00:00+00:00",
          "2021-04-16T11:00:00+00:00",
          "2021-04-16T12:00:00+00:00",
          "2021-04-16T13:00:00+00:00",
          "2021-04-16T14:00:00+00:00",
          "2021-04-16T15:00:00+00:00",
          "2021-04-16T16:00:00+00:00",
          "2021-04-16T17:00:00+00:00",
          "2021-04-16T18:00:00+00:00",
          "2021-04-16T19:00:00+00:00",
          "2021-04-16T20:00:00+00:00",
          "2021-04-16T21:00:00+00:00",
          "2021-04-16T22:00:00+00:00",
          "2021-04-17T00:00:00+00:00",
          "2021-04-17T01:00:00+00:00",
          "2021-04-17T02:00:00+00:00",
          "2021-04-17T03:00:00+00:00",
          "2021-04-17T04:00:00+00:00",
          "2021-04-17T05:00:00+00:00",
          "2021-04-17T06:00:00+00:00",
          "2021-04-17T07:00:00+00:00",
          "2021-04-17T08:00:00+00:00",
          "2021-04-17T09:00:00+00:00",
          "2021-04-17T10:00:00+00:00",
          "2021-04-17T11:00:00+00:00",
          "2021-04-17T12:00:00+00:00",
          "2021-04-17T13:00:00+00:00",
          "2021-04-17T14:00:00+00:00",
          "2021-04-17T15:00:00+00:00",
          "2021-04-17T16:00:00+00:00",
          "2021-04-17T17:00:00+00:00",
          "2021-04-17T18:00:00+00:00",
          "2021-04-17T19:00:00+00:00",
          "2021-04-17T20:00:00+00:00",
          "2021-04-17T21:00:00+00:00",
          "2021-04-17T22:00:00+00:00",
          "2021-04-18T00:00:00+00:00",
          "2021-04-18T01:00:00+00:00",
          "2021-04-18T02:00:00+00:00",
          "2021-04-18T03:00:00+00:00",
          "2021-04-18T04:00:00+00:00",
          "2021-04-18T05:00:00+00:00",
          "2021-04-18T06:00:00+00:00",
          "2021-04-18T07:00:00+00:00",
          "2021-04-18T08:00:00+00:00",
          "2021-04-18T09:00:00+00:00",
          "2021-04-18T10:00:00+00:00",
          "2021-04-18T11:00:00+00:00",
          "2021-04-18T12:00:00+00:00",
          "2021-04-18T13:00:00+00:00",
          "2021-04-18T14:00:00+00:00",
          "2021-04-18T15:00:00+00:00",
          "2021-04-18T16:00:00+00:00",
          "2021-04-18T17:00:00+00:00",
          "2021-04-18T18:00:00+00:00",
          "2021-04-18T19:00:00+00:00",
          "2021-04-18T20:00:00+00:00",
          "2021-04-18T21:00:00+00:00",
          "2021-04-18T22:00:00+00:00",
          "2021-04-19T00:00:00+00:00",
          "2021-04-19T01:00:00+00:00",
          "2021-04-19T02:00:00+00:00",
          "2021-04-19T03:00:00+00:00",
          "2021-04-19T04:00:00+00:00",
          "2021-04-19T05:00:00+00:00",
          "2021-04-19T06:00:00+00:00",
          "2021-04-19T07:00:00+00:00",
          "2021-04-19T08:00:00+00:00",
          "2021-04-19T09:00:00+00:00",
          "2021-04-19T10:00:00+00:00",
          "2021-04-19T11:00:00+00:00",
          "2021-04-19T12:00:00+00:00",
          "2021-04-19T13:00:00+00:00",
          "2021-04-19T14:00:00+00:00",
          "2021-04-19T15:00:00+00:00",
          "2021-04-19T16:00:00+00:00",
          "2021-04-19T17:00:00+00:00",
          "2021-04-19T18:00:00+00:00",
          "2021-04-19T19:00:00+00:00",
          "2021-04-19T20:00:00+00:00",
          "2021-04-19T21:00:00+00:00",
          "2021-04-19T22:00:00+00:00",
          "2021-04-20T00:00:00+00:00",
          "2021-04-20T01:00:00+00:00",
          "2021-04-20T02:00:00+00:00",
          "2021-04-20T03:00:00+00:00",
          "2021-04-20T04:00:00+00:00"
         ],
         "y": [
          274.50042724609375,
          273.8922424316406,
          274.6807556152344,
          272.85064697265625,
          273.19671630859375,
          267.83392333984375,
          270.9383239746094,
          271.1979064941406,
          273.7054443359375,
          275.56365966796875,
          280.1932678222656,
          280.24786376953125,
          279.0899658203125,
          281.17327880859375,
          287.01275634765625,
          288.4809875488281,
          285.2793884277344,
          290.0823974609375,
          287.39154052734375,
          284.703857421875,
          291.6361389160156,
          295.63543701171875,
          283.9256896972656,
          289.544189453125,
          286.0999755859375,
          288.0447692871094,
          285.3583679199219,
          279.39495849609375,
          273.0761413574219,
          278.7464294433594,
          276.3965759277344,
          269.2849426269531,
          278.5762023925781,
          298.7972412109375,
          311.2716979980469,
          304.88604736328125,
          309.39080810546875,
          314.18829345703125,
          309.7927551269531,
          311.8739929199219,
          307.3162536621094,
          323.722900390625,
          323.7924499511719,
          330.43865966796875,
          323.0909118652344,
          322.27789306640625,
          324.8004455566406,
          325.0878601074219,
          328.3994445800781,
          330.949462890625,
          318.3367614746094,
          314.54180908203125,
          311.4784851074219,
          318.8939514160156,
          325.09246826171875,
          317.1352233886719,
          308.7086486816406,
          314.43145751953125,
          306.15252685546875,
          312.0473327636719,
          315.8861389160156,
          317.69232177734375,
          318.26641845703125,
          315.4032287597656,
          290.95648193359375,
          293.8315124511719,
          288.55072021484375,
          267.4237976074219,
          257.7053527832031,
          264.5337219238281,
          266.68408203125,
          274.6678161621094,
          258.41363525390625,
          256.9637451171875,
          257.96356201171875,
          248.76829528808594,
          259.794921875,
          263.13958740234375,
          261.09429931640625,
          266.0401916503906,
          265.751220703125,
          262.2319641113281,
          264.66162109375,
          269.2113952636719,
          273.3623962402344,
          268.5502014160156,
          276.9486083984375,
          278.4670715332031,
          276.30010986328125,
          278.3714599609375,
          279.7960205078125,
          276.1022033691406,
          272.52783203125,
          277.6395263671875,
          276.4370422363281,
          268.69287109375,
          266.9220886230469,
          265.8332824707031,
          272.4999084472656,
          268.4209289550781,
          269.2907409667969,
          258.2465515136719,
          253.63345336914062,
          255.64695739746094,
          260.62969970703125,
          266.6336669921875,
          269.79833984375,
          269.74566650390625,
          266.32916259765625,
          269.0367126464844,
          244.91456604003906,
          246.99581909179688,
          242.22218322753906,
          247.38653564453125,
          254.29541015625
         ]
        }
       ],
       "layout": {
        "autosize": true,
        "template": {
         "data": {
          "bar": [
           {
            "error_x": {
             "color": "#2a3f5f"
            },
            "error_y": {
             "color": "#2a3f5f"
            },
            "marker": {
             "line": {
              "color": "#E5ECF6",
              "width": 0.5
             }
            },
            "type": "bar"
           }
          ],
          "barpolar": [
           {
            "marker": {
             "line": {
              "color": "#E5ECF6",
              "width": 0.5
             }
            },
            "type": "barpolar"
           }
          ],
          "carpet": [
           {
            "aaxis": {
             "endlinecolor": "#2a3f5f",
             "gridcolor": "white",
             "linecolor": "white",
             "minorgridcolor": "white",
             "startlinecolor": "#2a3f5f"
            },
            "baxis": {
             "endlinecolor": "#2a3f5f",
             "gridcolor": "white",
             "linecolor": "white",
             "minorgridcolor": "white",
             "startlinecolor": "#2a3f5f"
            },
            "type": "carpet"
           }
          ],
          "choropleth": [
           {
            "colorbar": {
             "outlinewidth": 0,
             "ticks": ""
            },
            "type": "choropleth"
           }
          ],
          "contour": [
           {
            "colorbar": {
             "outlinewidth": 0,
             "ticks": ""
            },
            "colorscale": [
             [
              0,
              "#0d0887"
             ],
             [
              0.1111111111111111,
              "#46039f"
             ],
             [
              0.2222222222222222,
              "#7201a8"
             ],
             [
              0.3333333333333333,
              "#9c179e"
             ],
             [
              0.4444444444444444,
              "#bd3786"
             ],
             [
              0.5555555555555556,
              "#d8576b"
             ],
             [
              0.6666666666666666,
              "#ed7953"
             ],
             [
              0.7777777777777778,
              "#fb9f3a"
             ],
             [
              0.8888888888888888,
              "#fdca26"
             ],
             [
              1,
              "#f0f921"
             ]
            ],
            "type": "contour"
           }
          ],
          "contourcarpet": [
           {
            "colorbar": {
             "outlinewidth": 0,
             "ticks": ""
            },
            "type": "contourcarpet"
           }
          ],
          "heatmap": [
           {
            "colorbar": {
             "outlinewidth": 0,
             "ticks": ""
            },
            "colorscale": [
             [
              0,
              "#0d0887"
             ],
             [
              0.1111111111111111,
              "#46039f"
             ],
             [
              0.2222222222222222,
              "#7201a8"
             ],
             [
              0.3333333333333333,
              "#9c179e"
             ],
             [
              0.4444444444444444,
              "#bd3786"
             ],
             [
              0.5555555555555556,
              "#d8576b"
             ],
             [
              0.6666666666666666,
              "#ed7953"
             ],
             [
              0.7777777777777778,
              "#fb9f3a"
             ],
             [
              0.8888888888888888,
              "#fdca26"
             ],
             [
              1,
              "#f0f921"
             ]
            ],
            "type": "heatmap"
           }
          ],
          "heatmapgl": [
           {
            "colorbar": {
             "outlinewidth": 0,
             "ticks": ""
            },
            "colorscale": [
             [
              0,
              "#0d0887"
             ],
             [
              0.1111111111111111,
              "#46039f"
             ],
             [
              0.2222222222222222,
              "#7201a8"
             ],
             [
              0.3333333333333333,
              "#9c179e"
             ],
             [
              0.4444444444444444,
              "#bd3786"
             ],
             [
              0.5555555555555556,
              "#d8576b"
             ],
             [
              0.6666666666666666,
              "#ed7953"
             ],
             [
              0.7777777777777778,
              "#fb9f3a"
             ],
             [
              0.8888888888888888,
              "#fdca26"
             ],
             [
              1,
              "#f0f921"
             ]
            ],
            "type": "heatmapgl"
           }
          ],
          "histogram": [
           {
            "marker": {
             "colorbar": {
              "outlinewidth": 0,
              "ticks": ""
             }
            },
            "type": "histogram"
           }
          ],
          "histogram2d": [
           {
            "colorbar": {
             "outlinewidth": 0,
             "ticks": ""
            },
            "colorscale": [
             [
              0,
              "#0d0887"
             ],
             [
              0.1111111111111111,
              "#46039f"
             ],
             [
              0.2222222222222222,
              "#7201a8"
             ],
             [
              0.3333333333333333,
              "#9c179e"
             ],
             [
              0.4444444444444444,
              "#bd3786"
             ],
             [
              0.5555555555555556,
              "#d8576b"
             ],
             [
              0.6666666666666666,
              "#ed7953"
             ],
             [
              0.7777777777777778,
              "#fb9f3a"
             ],
             [
              0.8888888888888888,
              "#fdca26"
             ],
             [
              1,
              "#f0f921"
             ]
            ],
            "type": "histogram2d"
           }
          ],
          "histogram2dcontour": [
           {
            "colorbar": {
             "outlinewidth": 0,
             "ticks": ""
            },
            "colorscale": [
             [
              0,
              "#0d0887"
             ],
             [
              0.1111111111111111,
              "#46039f"
             ],
             [
              0.2222222222222222,
              "#7201a8"
             ],
             [
              0.3333333333333333,
              "#9c179e"
             ],
             [
              0.4444444444444444,
              "#bd3786"
             ],
             [
              0.5555555555555556,
              "#d8576b"
             ],
             [
              0.6666666666666666,
              "#ed7953"
             ],
             [
              0.7777777777777778,
              "#fb9f3a"
             ],
             [
              0.8888888888888888,
              "#fdca26"
             ],
             [
              1,
              "#f0f921"
             ]
            ],
            "type": "histogram2dcontour"
           }
          ],
          "mesh3d": [
           {
            "colorbar": {
             "outlinewidth": 0,
             "ticks": ""
            },
            "type": "mesh3d"
           }
          ],
          "parcoords": [
           {
            "line": {
             "colorbar": {
              "outlinewidth": 0,
              "ticks": ""
             }
            },
            "type": "parcoords"
           }
          ],
          "pie": [
           {
            "automargin": true,
            "type": "pie"
           }
          ],
          "scatter": [
           {
            "marker": {
             "colorbar": {
              "outlinewidth": 0,
              "ticks": ""
             }
            },
            "type": "scatter"
           }
          ],
          "scatter3d": [
           {
            "line": {
             "colorbar": {
              "outlinewidth": 0,
              "ticks": ""
             }
            },
            "marker": {
             "colorbar": {
              "outlinewidth": 0,
              "ticks": ""
             }
            },
            "type": "scatter3d"
           }
          ],
          "scattercarpet": [
           {
            "marker": {
             "colorbar": {
              "outlinewidth": 0,
              "ticks": ""
             }
            },
            "type": "scattercarpet"
           }
          ],
          "scattergeo": [
           {
            "marker": {
             "colorbar": {
              "outlinewidth": 0,
              "ticks": ""
             }
            },
            "type": "scattergeo"
           }
          ],
          "scattergl": [
           {
            "marker": {
             "colorbar": {
              "outlinewidth": 0,
              "ticks": ""
             }
            },
            "type": "scattergl"
           }
          ],
          "scattermapbox": [
           {
            "marker": {
             "colorbar": {
              "outlinewidth": 0,
              "ticks": ""
             }
            },
            "type": "scattermapbox"
           }
          ],
          "scatterpolar": [
           {
            "marker": {
             "colorbar": {
              "outlinewidth": 0,
              "ticks": ""
             }
            },
            "type": "scatterpolar"
           }
          ],
          "scatterpolargl": [
           {
            "marker": {
             "colorbar": {
              "outlinewidth": 0,
              "ticks": ""
             }
            },
            "type": "scatterpolargl"
           }
          ],
          "scatterternary": [
           {
            "marker": {
             "colorbar": {
              "outlinewidth": 0,
              "ticks": ""
             }
            },
            "type": "scatterternary"
           }
          ],
          "surface": [
           {
            "colorbar": {
             "outlinewidth": 0,
             "ticks": ""
            },
            "colorscale": [
             [
              0,
              "#0d0887"
             ],
             [
              0.1111111111111111,
              "#46039f"
             ],
             [
              0.2222222222222222,
              "#7201a8"
             ],
             [
              0.3333333333333333,
              "#9c179e"
             ],
             [
              0.4444444444444444,
              "#bd3786"
             ],
             [
              0.5555555555555556,
              "#d8576b"
             ],
             [
              0.6666666666666666,
              "#ed7953"
             ],
             [
              0.7777777777777778,
              "#fb9f3a"
             ],
             [
              0.8888888888888888,
              "#fdca26"
             ],
             [
              1,
              "#f0f921"
             ]
            ],
            "type": "surface"
           }
          ],
          "table": [
           {
            "cells": {
             "fill": {
              "color": "#EBF0F8"
             },
             "line": {
              "color": "white"
             }
            },
            "header": {
             "fill": {
              "color": "#C8D4E3"
             },
             "line": {
              "color": "white"
             }
            },
            "type": "table"
           }
          ]
         },
         "layout": {
          "annotationdefaults": {
           "arrowcolor": "#2a3f5f",
           "arrowhead": 0,
           "arrowwidth": 1
          },
          "autotypenumbers": "strict",
          "coloraxis": {
           "colorbar": {
            "outlinewidth": 0,
            "ticks": ""
           }
          },
          "colorscale": {
           "diverging": [
            [
             0,
             "#8e0152"
            ],
            [
             0.1,
             "#c51b7d"
            ],
            [
             0.2,
             "#de77ae"
            ],
            [
             0.3,
             "#f1b6da"
            ],
            [
             0.4,
             "#fde0ef"
            ],
            [
             0.5,
             "#f7f7f7"
            ],
            [
             0.6,
             "#e6f5d0"
            ],
            [
             0.7,
             "#b8e186"
            ],
            [
             0.8,
             "#7fbc41"
            ],
            [
             0.9,
             "#4d9221"
            ],
            [
             1,
             "#276419"
            ]
           ],
           "sequential": [
            [
             0,
             "#0d0887"
            ],
            [
             0.1111111111111111,
             "#46039f"
            ],
            [
             0.2222222222222222,
             "#7201a8"
            ],
            [
             0.3333333333333333,
             "#9c179e"
            ],
            [
             0.4444444444444444,
             "#bd3786"
            ],
            [
             0.5555555555555556,
             "#d8576b"
            ],
            [
             0.6666666666666666,
             "#ed7953"
            ],
            [
             0.7777777777777778,
             "#fb9f3a"
            ],
            [
             0.8888888888888888,
             "#fdca26"
            ],
            [
             1,
             "#f0f921"
            ]
           ],
           "sequentialminus": [
            [
             0,
             "#0d0887"
            ],
            [
             0.1111111111111111,
             "#46039f"
            ],
            [
             0.2222222222222222,
             "#7201a8"
            ],
            [
             0.3333333333333333,
             "#9c179e"
            ],
            [
             0.4444444444444444,
             "#bd3786"
            ],
            [
             0.5555555555555556,
             "#d8576b"
            ],
            [
             0.6666666666666666,
             "#ed7953"
            ],
            [
             0.7777777777777778,
             "#fb9f3a"
            ],
            [
             0.8888888888888888,
             "#fdca26"
            ],
            [
             1,
             "#f0f921"
            ]
           ]
          },
          "colorway": [
           "#636efa",
           "#EF553B",
           "#00cc96",
           "#ab63fa",
           "#FFA15A",
           "#19d3f3",
           "#FF6692",
           "#B6E880",
           "#FF97FF",
           "#FECB52"
          ],
          "font": {
           "color": "#2a3f5f"
          },
          "geo": {
           "bgcolor": "white",
           "lakecolor": "white",
           "landcolor": "#E5ECF6",
           "showlakes": true,
           "showland": true,
           "subunitcolor": "white"
          },
          "hoverlabel": {
           "align": "left"
          },
          "hovermode": "closest",
          "mapbox": {
           "style": "light"
          },
          "paper_bgcolor": "white",
          "plot_bgcolor": "#E5ECF6",
          "polar": {
           "angularaxis": {
            "gridcolor": "white",
            "linecolor": "white",
            "ticks": ""
           },
           "bgcolor": "#E5ECF6",
           "radialaxis": {
            "gridcolor": "white",
            "linecolor": "white",
            "ticks": ""
           }
          },
          "scene": {
           "xaxis": {
            "backgroundcolor": "#E5ECF6",
            "gridcolor": "white",
            "gridwidth": 2,
            "linecolor": "white",
            "showbackground": true,
            "ticks": "",
            "zerolinecolor": "white"
           },
           "yaxis": {
            "backgroundcolor": "#E5ECF6",
            "gridcolor": "white",
            "gridwidth": 2,
            "linecolor": "white",
            "showbackground": true,
            "ticks": "",
            "zerolinecolor": "white"
           },
           "zaxis": {
            "backgroundcolor": "#E5ECF6",
            "gridcolor": "white",
            "gridwidth": 2,
            "linecolor": "white",
            "showbackground": true,
            "ticks": "",
            "zerolinecolor": "white"
           }
          },
          "shapedefaults": {
           "line": {
            "color": "#2a3f5f"
           }
          },
          "ternary": {
           "aaxis": {
            "gridcolor": "white",
            "linecolor": "white",
            "ticks": ""
           },
           "baxis": {
            "gridcolor": "white",
            "linecolor": "white",
            "ticks": ""
           },
           "bgcolor": "#E5ECF6",
           "caxis": {
            "gridcolor": "white",
            "linecolor": "white",
            "ticks": ""
           }
          },
          "title": {
           "x": 0.05
          },
          "xaxis": {
           "automargin": true,
           "gridcolor": "white",
           "linecolor": "white",
           "ticks": "",
           "title": {
            "standoff": 15
           },
           "zerolinecolor": "white",
           "zerolinewidth": 2
          },
          "yaxis": {
           "automargin": true,
           "gridcolor": "white",
           "linecolor": "white",
           "ticks": "",
           "title": {
            "standoff": 15
           },
           "zerolinecolor": "white",
           "zerolinewidth": 2
          }
         }
        },
        "title": {
         "text": "LTC-USD"
        },
        "xaxis": {
         "autorange": true,
         "range": [
          "2021-04-15 05:00",
          "2021-04-20 04:00"
         ],
         "type": "date"
        },
        "yaxis": {
         "autorange": true,
         "range": [
          237.2928899129232,
          335.8787562052409
         ],
         "title": {
          "text": "Price"
         },
         "type": "linear"
        }
       }
      },
      "image/png": "[encoded data removed]",
      "text/html": [
       "<div>                            <div id=\"8fc4198b-b5c2-4f79-837a-873ece09ce66\" class=\"plotly-graph-div\" style=\"height:525px; width:100%;\"></div>            <script type=\"text/javascript\">                require([\"plotly\"], function(Plotly) {                    window.PLOTLYENV=window.PLOTLYENV || {};                                    if (document.getElementById(\"8fc4198b-b5c2-4f79-837a-873ece09ce66\")) {                    Plotly.newPlot(                        \"8fc4198b-b5c2-4f79-837a-873ece09ce66\",                        [{\"mode\": \"lines\", \"name\": \"Close\", \"type\": \"scatter\", \"x\": [\"2021-04-15T05:00:00+00:00\", \"2021-04-15T06:00:00+00:00\", \"2021-04-15T07:00:00+00:00\", \"2021-04-15T08:00:00+00:00\", \"2021-04-15T09:00:00+00:00\", \"2021-04-15T10:00:00+00:00\", \"2021-04-15T11:00:00+00:00\", \"2021-04-15T12:00:00+00:00\", \"2021-04-15T13:00:00+00:00\", \"2021-04-15T14:00:00+00:00\", \"2021-04-15T15:00:00+00:00\", \"2021-04-15T16:00:00+00:00\", \"2021-04-15T17:00:00+00:00\", \"2021-04-15T18:00:00+00:00\", \"2021-04-15T19:00:00+00:00\", \"2021-04-15T20:00:00+00:00\", \"2021-04-15T21:00:00+00:00\", \"2021-04-15T22:00:00+00:00\", \"2021-04-16T00:00:00+00:00\", \"2021-04-16T01:00:00+00:00\", \"2021-04-16T02:00:00+00:00\", \"2021-04-16T03:00:00+00:00\", \"2021-04-16T04:00:00+00:00\", \"2021-04-16T05:00:00+00:00\", \"2021-04-16T06:00:00+00:00\", \"2021-04-16T07:00:00+00:00\", \"2021-04-16T08:00:00+00:00\", \"2021-04-16T09:00:00+00:00\", \"2021-04-16T10:00:00+00:00\", \"2021-04-16T11:00:00+00:00\", \"2021-04-16T12:00:00+00:00\", \"2021-04-16T13:00:00+00:00\", \"2021-04-16T14:00:00+00:00\", \"2021-04-16T15:00:00+00:00\", \"2021-04-16T16:00:00+00:00\", \"2021-04-16T17:00:00+00:00\", \"2021-04-16T18:00:00+00:00\", \"2021-04-16T19:00:00+00:00\", \"2021-04-16T20:00:00+00:00\", \"2021-04-16T21:00:00+00:00\", \"2021-04-16T22:00:00+00:00\", \"2021-04-17T00:00:00+00:00\", \"2021-04-17T01:00:00+00:00\", \"2021-04-17T02:00:00+00:00\", \"2021-04-17T03:00:00+00:00\", \"2021-04-17T04:00:00+00:00\", \"2021-04-17T05:00:00+00:00\", \"2021-04-17T06:00:00+00:00\", \"2021-04-17T07:00:00+00:00\", \"2021-04-17T08:00:00+00:00\", \"2021-04-17T09:00:00+00:00\", \"2021-04-17T10:00:00+00:00\", \"2021-04-17T11:00:00+00:00\", \"2021-04-17T12:00:00+00:00\", \"2021-04-17T13:00:00+00:00\", \"2021-04-17T14:00:00+00:00\", \"2021-04-17T15:00:00+00:00\", \"2021-04-17T16:00:00+00:00\", \"2021-04-17T17:00:00+00:00\", \"2021-04-17T18:00:00+00:00\", \"2021-04-17T19:00:00+00:00\", \"2021-04-17T20:00:00+00:00\", \"2021-04-17T21:00:00+00:00\", \"2021-04-17T22:00:00+00:00\", \"2021-04-18T00:00:00+00:00\", \"2021-04-18T01:00:00+00:00\", \"2021-04-18T02:00:00+00:00\", \"2021-04-18T03:00:00+00:00\", \"2021-04-18T04:00:00+00:00\", \"2021-04-18T05:00:00+00:00\", \"2021-04-18T06:00:00+00:00\", \"2021-04-18T07:00:00+00:00\", \"2021-04-18T08:00:00+00:00\", \"2021-04-18T09:00:00+00:00\", \"2021-04-18T10:00:00+00:00\", \"2021-04-18T11:00:00+00:00\", \"2021-04-18T12:00:00+00:00\", \"2021-04-18T13:00:00+00:00\", \"2021-04-18T14:00:00+00:00\", \"2021-04-18T15:00:00+00:00\", \"2021-04-18T16:00:00+00:00\", \"2021-04-18T17:00:00+00:00\", \"2021-04-18T18:00:00+00:00\", \"2021-04-18T19:00:00+00:00\", \"2021-04-18T20:00:00+00:00\", \"2021-04-18T21:00:00+00:00\", \"2021-04-18T22:00:00+00:00\", \"2021-04-19T00:00:00+00:00\", \"2021-04-19T01:00:00+00:00\", \"2021-04-19T02:00:00+00:00\", \"2021-04-19T03:00:00+00:00\", \"2021-04-19T04:00:00+00:00\", \"2021-04-19T05:00:00+00:00\", \"2021-04-19T06:00:00+00:00\", \"2021-04-19T07:00:00+00:00\", \"2021-04-19T08:00:00+00:00\", \"2021-04-19T09:00:00+00:00\", \"2021-04-19T10:00:00+00:00\", \"2021-04-19T11:00:00+00:00\", \"2021-04-19T12:00:00+00:00\", \"2021-04-19T13:00:00+00:00\", \"2021-04-19T14:00:00+00:00\", \"2021-04-19T15:00:00+00:00\", \"2021-04-19T16:00:00+00:00\", \"2021-04-19T17:00:00+00:00\", \"2021-04-19T18:00:00+00:00\", \"2021-04-19T19:00:00+00:00\", \"2021-04-19T20:00:00+00:00\", \"2021-04-19T21:00:00+00:00\", \"2021-04-19T22:00:00+00:00\", \"2021-04-20T00:00:00+00:00\", \"2021-04-20T01:00:00+00:00\", \"2021-04-20T02:00:00+00:00\", \"2021-04-20T03:00:00+00:00\", \"2021-04-20T04:00:00+00:00\"], \"y\": [274.50042724609375, 273.8922424316406, 274.6807556152344, 272.85064697265625, 273.19671630859375, 267.83392333984375, 270.9383239746094, 271.1979064941406, 273.7054443359375, 275.56365966796875, 280.1932678222656, 280.24786376953125, 279.0899658203125, 281.17327880859375, 287.01275634765625, 288.4809875488281, 285.2793884277344, 290.0823974609375, 287.39154052734375, 284.703857421875, 291.6361389160156, 295.63543701171875, 283.9256896972656, 289.544189453125, 286.0999755859375, 288.0447692871094, 285.3583679199219, 279.39495849609375, 273.0761413574219, 278.7464294433594, 276.3965759277344, 269.2849426269531, 278.5762023925781, 298.7972412109375, 311.2716979980469, 304.88604736328125, 309.39080810546875, 314.18829345703125, 309.7927551269531, 311.8739929199219, 307.3162536621094, 323.722900390625, 323.7924499511719, 330.43865966796875, 323.0909118652344, 322.27789306640625, 324.8004455566406, 325.0878601074219, 328.3994445800781, 330.949462890625, 318.3367614746094, 314.54180908203125, 311.4784851074219, 318.8939514160156, 325.09246826171875, 317.1352233886719, 308.7086486816406, 314.43145751953125, 306.15252685546875, 312.0473327636719, 315.8861389160156, 317.69232177734375, 318.26641845703125, 315.4032287597656, 290.95648193359375, 293.8315124511719, 288.55072021484375, 267.4237976074219, 257.7053527832031, 264.5337219238281, 266.68408203125, 274.6678161621094, 258.41363525390625, 256.9637451171875, 257.96356201171875, 248.76829528808594, 259.794921875, 263.13958740234375, 261.09429931640625, 266.0401916503906, 265.751220703125, 262.2319641113281, 264.66162109375, 269.2113952636719, 273.3623962402344, 268.5502014160156, 276.9486083984375, 278.4670715332031, 276.30010986328125, 278.3714599609375, 279.7960205078125, 276.1022033691406, 272.52783203125, 277.6395263671875, 276.4370422363281, 268.69287109375, 266.9220886230469, 265.8332824707031, 272.4999084472656, 268.4209289550781, 269.2907409667969, 258.2465515136719, 253.63345336914062, 255.64695739746094, 260.62969970703125, 266.6336669921875, 269.79833984375, 269.74566650390625, 266.32916259765625, 269.0367126464844, 244.91456604003906, 246.99581909179688, 242.22218322753906, 247.38653564453125, 254.29541015625]}],                        {\"template\": {\"data\": {\"bar\": [{\"error_x\": {\"color\": \"#2a3f5f\"}, \"error_y\": {\"color\": \"#2a3f5f\"}, \"marker\": {\"line\": {\"color\": \"#E5ECF6\", \"width\": 0.5}}, \"type\": \"bar\"}], \"barpolar\": [{\"marker\": {\"line\": {\"color\": \"#E5ECF6\", \"width\": 0.5}}, \"type\": \"barpolar\"}], \"carpet\": [{\"aaxis\": {\"endlinecolor\": \"#2a3f5f\", \"gridcolor\": \"white\", \"linecolor\": \"white\", \"minorgridcolor\": \"white\", \"startlinecolor\": \"#2a3f5f\"}, \"baxis\": {\"endlinecolor\": \"#2a3f5f\", \"gridcolor\": \"white\", \"linecolor\": \"white\", \"minorgridcolor\": \"white\", \"startlinecolor\": \"#2a3f5f\"}, \"type\": \"carpet\"}], \"choropleth\": [{\"colorbar\": {\"outlinewidth\": 0, \"ticks\": \"\"}, \"type\": \"choropleth\"}], \"contour\": [{\"colorbar\": {\"outlinewidth\": 0, \"ticks\": \"\"}, \"colorscale\": [[0.0, \"#0d0887\"], [0.1111111111111111, \"#46039f\"], [0.2222222222222222, \"#7201a8\"], [0.3333333333333333, \"#9c179e\"], [0.4444444444444444, \"#bd3786\"], [0.5555555555555556, \"#d8576b\"], [0.6666666666666666, \"#ed7953\"], [0.7777777777777778, \"#fb9f3a\"], [0.8888888888888888, \"#fdca26\"], [1.0, \"#f0f921\"]], \"type\": \"contour\"}], \"contourcarpet\": [{\"colorbar\": {\"outlinewidth\": 0, \"ticks\": \"\"}, \"type\": \"contourcarpet\"}], \"heatmap\": [{\"colorbar\": {\"outlinewidth\": 0, \"ticks\": \"\"}, \"colorscale\": [[0.0, \"#0d0887\"], [0.1111111111111111, \"#46039f\"], [0.2222222222222222, \"#7201a8\"], [0.3333333333333333, \"#9c179e\"], [0.4444444444444444, \"#bd3786\"], [0.5555555555555556, \"#d8576b\"], [0.6666666666666666, \"#ed7953\"], [0.7777777777777778, \"#fb9f3a\"], [0.8888888888888888, \"#fdca26\"], [1.0, \"#f0f921\"]], \"type\": \"heatmap\"}], \"heatmapgl\": [{\"colorbar\": {\"outlinewidth\": 0, \"ticks\": \"\"}, \"colorscale\": [[0.0, \"#0d0887\"], [0.1111111111111111, \"#46039f\"], [0.2222222222222222, \"#7201a8\"], [0.3333333333333333, \"#9c179e\"], [0.4444444444444444, \"#bd3786\"], [0.5555555555555556, \"#d8576b\"], [0.6666666666666666, \"#ed7953\"], [0.7777777777777778, \"#fb9f3a\"], [0.8888888888888888, \"#fdca26\"], [1.0, \"#f0f921\"]], \"type\": \"heatmapgl\"}], \"histogram\": [{\"marker\": {\"colorbar\": {\"outlinewidth\": 0, \"ticks\": \"\"}}, \"type\": \"histogram\"}], \"histogram2d\": [{\"colorbar\": {\"outlinewidth\": 0, \"ticks\": \"\"}, \"colorscale\": [[0.0, \"#0d0887\"], [0.1111111111111111, \"#46039f\"], [0.2222222222222222, \"#7201a8\"], [0.3333333333333333, \"#9c179e\"], [0.4444444444444444, \"#bd3786\"], [0.5555555555555556, \"#d8576b\"], [0.6666666666666666, \"#ed7953\"], [0.7777777777777778, \"#fb9f3a\"], [0.8888888888888888, \"#fdca26\"], [1.0, \"#f0f921\"]], \"type\": \"histogram2d\"}], \"histogram2dcontour\": [{\"colorbar\": {\"outlinewidth\": 0, \"ticks\": \"\"}, \"colorscale\": [[0.0, \"#0d0887\"], [0.1111111111111111, \"#46039f\"], [0.2222222222222222, \"#7201a8\"], [0.3333333333333333, \"#9c179e\"], [0.4444444444444444, \"#bd3786\"], [0.5555555555555556, \"#d8576b\"], [0.6666666666666666, \"#ed7953\"], [0.7777777777777778, \"#fb9f3a\"], [0.8888888888888888, \"#fdca26\"], [1.0, \"#f0f921\"]], \"type\": \"histogram2dcontour\"}], \"mesh3d\": [{\"colorbar\": {\"outlinewidth\": 0, \"ticks\": \"\"}, \"type\": \"mesh3d\"}], \"parcoords\": [{\"line\": {\"colorbar\": {\"outlinewidth\": 0, \"ticks\": \"\"}}, \"type\": \"parcoords\"}], \"pie\": [{\"automargin\": true, \"type\": \"pie\"}], \"scatter\": [{\"marker\": {\"colorbar\": {\"outlinewidth\": 0, \"ticks\": \"\"}}, \"type\": \"scatter\"}], \"scatter3d\": [{\"line\": {\"colorbar\": {\"outlinewidth\": 0, \"ticks\": \"\"}}, \"marker\": {\"colorbar\": {\"outlinewidth\": 0, \"ticks\": \"\"}}, \"type\": \"scatter3d\"}], \"scattercarpet\": [{\"marker\": {\"colorbar\": {\"outlinewidth\": 0, \"ticks\": \"\"}}, \"type\": \"scattercarpet\"}], \"scattergeo\": [{\"marker\": {\"colorbar\": {\"outlinewidth\": 0, \"ticks\": \"\"}}, \"type\": \"scattergeo\"}], \"scattergl\": [{\"marker\": {\"colorbar\": {\"outlinewidth\": 0, \"ticks\": \"\"}}, \"type\": \"scattergl\"}], \"scattermapbox\": [{\"marker\": {\"colorbar\": {\"outlinewidth\": 0, \"ticks\": \"\"}}, \"type\": \"scattermapbox\"}], \"scatterpolar\": [{\"marker\": {\"colorbar\": {\"outlinewidth\": 0, \"ticks\": \"\"}}, \"type\": \"scatterpolar\"}], \"scatterpolargl\": [{\"marker\": {\"colorbar\": {\"outlinewidth\": 0, \"ticks\": \"\"}}, \"type\": \"scatterpolargl\"}], \"scatterternary\": [{\"marker\": {\"colorbar\": {\"outlinewidth\": 0, \"ticks\": \"\"}}, \"type\": \"scatterternary\"}], \"surface\": [{\"colorbar\": {\"outlinewidth\": 0, \"ticks\": \"\"}, \"colorscale\": [[0.0, \"#0d0887\"], [0.1111111111111111, \"#46039f\"], [0.2222222222222222, \"#7201a8\"], [0.3333333333333333, \"#9c179e\"], [0.4444444444444444, \"#bd3786\"], [0.5555555555555556, \"#d8576b\"], [0.6666666666666666, \"#ed7953\"], [0.7777777777777778, \"#fb9f3a\"], [0.8888888888888888, \"#fdca26\"], [1.0, \"#f0f921\"]], \"type\": \"surface\"}], \"table\": [{\"cells\": {\"fill\": {\"color\": \"#EBF0F8\"}, \"line\": {\"color\": \"white\"}}, \"header\": {\"fill\": {\"color\": \"#C8D4E3\"}, \"line\": {\"color\": \"white\"}}, \"type\": \"table\"}]}, \"layout\": {\"annotationdefaults\": {\"arrowcolor\": \"#2a3f5f\", \"arrowhead\": 0, \"arrowwidth\": 1}, \"autotypenumbers\": \"strict\", \"coloraxis\": {\"colorbar\": {\"outlinewidth\": 0, \"ticks\": \"\"}}, \"colorscale\": {\"diverging\": [[0, \"#8e0152\"], [0.1, \"#c51b7d\"], [0.2, \"#de77ae\"], [0.3, \"#f1b6da\"], [0.4, \"#fde0ef\"], [0.5, \"#f7f7f7\"], [0.6, \"#e6f5d0\"], [0.7, \"#b8e186\"], [0.8, \"#7fbc41\"], [0.9, \"#4d9221\"], [1, \"#276419\"]], \"sequential\": [[0.0, \"#0d0887\"], [0.1111111111111111, \"#46039f\"], [0.2222222222222222, \"#7201a8\"], [0.3333333333333333, \"#9c179e\"], [0.4444444444444444, \"#bd3786\"], [0.5555555555555556, \"#d8576b\"], [0.6666666666666666, \"#ed7953\"], [0.7777777777777778, \"#fb9f3a\"], [0.8888888888888888, \"#fdca26\"], [1.0, \"#f0f921\"]], \"sequentialminus\": [[0.0, \"#0d0887\"], [0.1111111111111111, \"#46039f\"], [0.2222222222222222, \"#7201a8\"], [0.3333333333333333, \"#9c179e\"], [0.4444444444444444, \"#bd3786\"], [0.5555555555555556, \"#d8576b\"], [0.6666666666666666, \"#ed7953\"], [0.7777777777777778, \"#fb9f3a\"], [0.8888888888888888, \"#fdca26\"], [1.0, \"#f0f921\"]]}, \"colorway\": [\"#636efa\", \"#EF553B\", \"#00cc96\", \"#ab63fa\", \"#FFA15A\", \"#19d3f3\", \"#FF6692\", \"#B6E880\", \"#FF97FF\", \"#FECB52\"], \"font\": {\"color\": \"#2a3f5f\"}, \"geo\": {\"bgcolor\": \"white\", \"lakecolor\": \"white\", \"landcolor\": \"#E5ECF6\", \"showlakes\": true, \"showland\": true, \"subunitcolor\": \"white\"}, \"hoverlabel\": {\"align\": \"left\"}, \"hovermode\": \"closest\", \"mapbox\": {\"style\": \"light\"}, \"paper_bgcolor\": \"white\", \"plot_bgcolor\": \"#E5ECF6\", \"polar\": {\"angularaxis\": {\"gridcolor\": \"white\", \"linecolor\": \"white\", \"ticks\": \"\"}, \"bgcolor\": \"#E5ECF6\", \"radialaxis\": {\"gridcolor\": \"white\", \"linecolor\": \"white\", \"ticks\": \"\"}}, \"scene\": {\"xaxis\": {\"backgroundcolor\": \"#E5ECF6\", \"gridcolor\": \"white\", \"gridwidth\": 2, \"linecolor\": \"white\", \"showbackground\": true, \"ticks\": \"\", \"zerolinecolor\": \"white\"}, \"yaxis\": {\"backgroundcolor\": \"#E5ECF6\", \"gridcolor\": \"white\", \"gridwidth\": 2, \"linecolor\": \"white\", \"showbackground\": true, \"ticks\": \"\", \"zerolinecolor\": \"white\"}, \"zaxis\": {\"backgroundcolor\": \"#E5ECF6\", \"gridcolor\": \"white\", \"gridwidth\": 2, \"linecolor\": \"white\", \"showbackground\": true, \"ticks\": \"\", \"zerolinecolor\": \"white\"}}, \"shapedefaults\": {\"line\": {\"color\": \"#2a3f5f\"}}, \"ternary\": {\"aaxis\": {\"gridcolor\": \"white\", \"linecolor\": \"white\", \"ticks\": \"\"}, \"baxis\": {\"gridcolor\": \"white\", \"linecolor\": \"white\", \"ticks\": \"\"}, \"bgcolor\": \"#E5ECF6\", \"caxis\": {\"gridcolor\": \"white\", \"linecolor\": \"white\", \"ticks\": \"\"}}, \"title\": {\"x\": 0.05}, \"xaxis\": {\"automargin\": true, \"gridcolor\": \"white\", \"linecolor\": \"white\", \"ticks\": \"\", \"title\": {\"standoff\": 15}, \"zerolinecolor\": \"white\", \"zerolinewidth\": 2}, \"yaxis\": {\"automargin\": true, \"gridcolor\": \"white\", \"linecolor\": \"white\", \"ticks\": \"\", \"title\": {\"standoff\": 15}, \"zerolinecolor\": \"white\", \"zerolinewidth\": 2}}}, \"title\": {\"text\": \"LTC-USD\"}, \"yaxis\": {\"title\": {\"text\": \"Price\"}}},                        {\"responsive\": true}                    ).then(function(){\n",
       "                            \n",
       "var gd = document.getElementById('8fc4198b-b5c2-4f79-837a-873ece09ce66');\n",
       "var x = new MutationObserver(function (mutations, observer) {{\n",
       "        var display = window.getComputedStyle(gd).display;\n",
       "        if (!display || display === 'none') {{\n",
       "            console.log([gd, 'removed!']);\n",
       "            Plotly.purge(gd);\n",
       "            observer.disconnect();\n",
       "        }}\n",
       "}});\n",
       "\n",
       "// Listen for the removal of the full notebook cells\n",
       "var notebookContainer = gd.closest('#notebook-container');\n",
       "if (notebookContainer) {{\n",
       "    x.observe(notebookContainer, {childList: true});\n",
       "}}\n",
       "\n",
       "// Listen for the clearing of the current output cell\n",
       "var outputEl = gd.closest('.output');\n",
       "if (outputEl) {{\n",
       "    x.observe(outputEl, {childList: true});\n",
       "}}\n",
       "\n",
       "                        })                };                });            </script>        </div>"
      ]
     },
     "metadata": {},
     "output_type": "display_data"
    }
   ],
   "source": [
    "ticker = 'LTC-USD'\n",
    "ticker_obj = yf.Ticker(ticker)\n",
    "ticker_hist = ticker_obj.history(start = '2021-04-15', end = '2021-04-20', interval = '1h')\n",
    "\n",
    "closing_prices = ticker_hist['Close']\n",
    "\n",
    "fig = go.Figure()\n",
    "fig.add_trace(go.Scatter(x = ticker_hist.index, y = closing_prices, mode = 'lines', name = 'Close'))\n",
    "\n",
    "\n",
    "\n",
    "fig.update_layout(title = ticker, yaxis_title = 'Price')\n",
    "\n",
    "\n",
    "fig.show()"
   ]
  }
 ],
 "metadata": {
  "kernelspec": {
   "display_name": "Python 3 (ipykernel)",
   "language": "python",
   "name": "python3"
  },
  "language_info": {
   "codemirror_mode": {
    "name": "ipython",
    "version": 3
   },
   "file_extension": ".py",
   "mimetype": "text/x-python",
   "name": "python",
   "nbconvert_exporter": "python",
   "pygments_lexer": "ipython3",
   "version": "3.9.7"
  }
 },
 "nbformat": 4,
 "nbformat_minor": 4
}
