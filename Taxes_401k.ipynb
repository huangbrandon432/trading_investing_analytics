{
 "cells": [
  {
   "cell_type": "markdown",
   "metadata": {},
   "source": [
    "#1. Don't contribute to 401k above 5%:\n",
    "\n",
    "125000 AGI Taxed at 24% + 6.33% brackets = ~30%\n",
    "\n",
    "200000 AGI Taxed at 32% + 6.33% brackets = ~31.52%\n",
    "\n",
    "#2. Contribute to 401k above 5% and withdraw on lower AGI year:\n",
    "Taxable income after deduction - 125000 - 19500 = 105000\n",
    "\n",
    "Same tax bracket after deduction\n",
    "\n",
    "\n",
    "Assume AGI that year 20k + ~20k withdrawal-\n",
    "Fed tax = 12%\n",
    "State tax = 5.9%\n",
    "Penalty = 10%\n",
    "Total tax ~ 27.78%\n",
    "\n",
    "Assume AGI that year 40k + ~20k withdrawal -\n",
    "Fed tax = 22%\n",
    "State tax = 5.97%\n",
    "Penalty = 10%\n",
    "Total tax ~ 31.14%\n",
    "\n",
    "\n",
    "Depending on AGI at year of withdrawal, can be slightly more worth it, or not worth it. Due to unpredictability, for now will not contribute above employer match. "
   ]
  },
  {
   "cell_type": "code",
   "execution_count": 1,
   "metadata": {},
   "outputs": [
    {
     "data": {
      "text/plain": [
       "13454.999999999998"
      ]
     },
     "execution_count": 1,
     "metadata": {},
     "output_type": "execute_result"
    }
   ],
   "source": [
    "19500 * (1 - 0.31)"
   ]
  },
  {
   "cell_type": "code",
   "execution_count": 2,
   "metadata": {},
   "outputs": [
    {
     "data": {
      "text/plain": [
       "14040.0"
      ]
     },
     "execution_count": 2,
     "metadata": {},
     "output_type": "execute_result"
    }
   ],
   "source": [
    "19500 * (1 - 0.28)"
   ]
  },
  {
   "cell_type": "code",
   "execution_count": 3,
   "metadata": {},
   "outputs": [
    {
     "data": {
      "text/plain": [
       "-585.0000000000018"
      ]
     },
     "execution_count": 3,
     "metadata": {},
     "output_type": "execute_result"
    }
   ],
   "source": [
    "19500 * (1 - 0.31) - 19500 * (1 - 0.28)"
   ]
  },
  {
   "cell_type": "code",
   "execution_count": null,
   "metadata": {},
   "outputs": [],
   "source": []
  }
 ],
 "metadata": {
  "kernelspec": {
   "display_name": "Python 3",
   "language": "python",
   "name": "python3"
  },
  "language_info": {
   "codemirror_mode": {
    "name": "ipython",
    "version": 3
   },
   "file_extension": ".py",
   "mimetype": "text/x-python",
   "name": "python",
   "nbconvert_exporter": "python",
   "pygments_lexer": "ipython3",
   "version": "3.8.3"
  }
 },
 "nbformat": 4,
 "nbformat_minor": 5
}
